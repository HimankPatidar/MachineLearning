{
 "cells": [
  {
   "cell_type": "code",
   "execution_count": 1,
   "id": "42e10608",
   "metadata": {
    "_cell_guid": "b1076dfc-b9ad-4769-8c92-a6c4dae69d19",
    "_uuid": "8f2839f25d086af736a60e9eeb907d3b93b6e0e5",
    "execution": {
     "iopub.execute_input": "2024-07-27T06:32:58.244238Z",
     "iopub.status.busy": "2024-07-27T06:32:58.243602Z",
     "iopub.status.idle": "2024-07-27T06:33:00.425771Z",
     "shell.execute_reply": "2024-07-27T06:33:00.424593Z"
    },
    "papermill": {
     "duration": 2.196841,
     "end_time": "2024-07-27T06:33:00.428361",
     "exception": false,
     "start_time": "2024-07-27T06:32:58.231520",
     "status": "completed"
    },
    "tags": []
   },
   "outputs": [
    {
     "name": "stdout",
     "output_type": "stream",
     "text": [
      "/kaggle/input/titanic/train.csv\n",
      "/kaggle/input/titanic/test.csv\n",
      "/kaggle/input/titanic/gender_submission.csv\n"
     ]
    }
   ],
   "source": [
    "# This Python 3 environment comes with many helpful analytics libraries installed\n",
    "# It is defined by the kaggle/python Docker image: https://github.com/kaggle/docker-python\n",
    "# For example, here's several helpful packages to load\n",
    "\n",
    "import numpy as np # linear algebra\n",
    "import pandas as pd # data processing, CSV file I/O (e.g. pd.read_csv)\n",
    "import matplotlib.pyplot as plt\n",
    "import seaborn as sns\n",
    "# Input data files are available in the read-only \"../input/\" directory\n",
    "# For example, running this (by clicking run or pressing Shift+Enter) will list all files under the input directory\n",
    "\n",
    "import os\n",
    "for dirname, _, filenames in os.walk('/kaggle/input'):\n",
    "    for filename in filenames:\n",
    "        print(os.path.join(dirname, filename))\n",
    "\n",
    "# You can write up to 20GB to the current directory (/kaggle/working/) that gets preserved as output when you create a version using \"Save & Run All\" \n",
    "# You can also write temporary files to /kaggle/temp/, but they won't be saved outside of the current session"
   ]
  },
  {
   "cell_type": "code",
   "execution_count": 2,
   "id": "60bf730a",
   "metadata": {
    "execution": {
     "iopub.execute_input": "2024-07-27T06:33:00.450418Z",
     "iopub.status.busy": "2024-07-27T06:33:00.449948Z",
     "iopub.status.idle": "2024-07-27T06:33:00.479755Z",
     "shell.execute_reply": "2024-07-27T06:33:00.478663Z"
    },
    "papermill": {
     "duration": 0.043928,
     "end_time": "2024-07-27T06:33:00.482551",
     "exception": false,
     "start_time": "2024-07-27T06:33:00.438623",
     "status": "completed"
    },
    "tags": []
   },
   "outputs": [],
   "source": [
    "df1 = pd.read_csv(\"/kaggle/input/titanic/train.csv\")\n",
    "df2 = pd.read_csv(\"/kaggle/input/titanic/test.csv\")"
   ]
  },
  {
   "cell_type": "code",
   "execution_count": 3,
   "id": "123096e7",
   "metadata": {
    "execution": {
     "iopub.execute_input": "2024-07-27T06:33:00.504747Z",
     "iopub.status.busy": "2024-07-27T06:33:00.504351Z",
     "iopub.status.idle": "2024-07-27T06:33:00.531868Z",
     "shell.execute_reply": "2024-07-27T06:33:00.530719Z"
    },
    "papermill": {
     "duration": 0.041283,
     "end_time": "2024-07-27T06:33:00.534227",
     "exception": false,
     "start_time": "2024-07-27T06:33:00.492944",
     "status": "completed"
    },
    "tags": []
   },
   "outputs": [
    {
     "data": {
      "text/html": [
       "<div>\n",
       "<style scoped>\n",
       "    .dataframe tbody tr th:only-of-type {\n",
       "        vertical-align: middle;\n",
       "    }\n",
       "\n",
       "    .dataframe tbody tr th {\n",
       "        vertical-align: top;\n",
       "    }\n",
       "\n",
       "    .dataframe thead th {\n",
       "        text-align: right;\n",
       "    }\n",
       "</style>\n",
       "<table border=\"1\" class=\"dataframe\">\n",
       "  <thead>\n",
       "    <tr style=\"text-align: right;\">\n",
       "      <th></th>\n",
       "      <th>PassengerId</th>\n",
       "      <th>Survived</th>\n",
       "      <th>Pclass</th>\n",
       "      <th>Name</th>\n",
       "      <th>Sex</th>\n",
       "      <th>Age</th>\n",
       "      <th>SibSp</th>\n",
       "      <th>Parch</th>\n",
       "      <th>Ticket</th>\n",
       "      <th>Fare</th>\n",
       "      <th>Cabin</th>\n",
       "      <th>Embarked</th>\n",
       "    </tr>\n",
       "  </thead>\n",
       "  <tbody>\n",
       "    <tr>\n",
       "      <th>0</th>\n",
       "      <td>1</td>\n",
       "      <td>0</td>\n",
       "      <td>3</td>\n",
       "      <td>Braund, Mr. Owen Harris</td>\n",
       "      <td>male</td>\n",
       "      <td>22.0</td>\n",
       "      <td>1</td>\n",
       "      <td>0</td>\n",
       "      <td>A/5 21171</td>\n",
       "      <td>7.2500</td>\n",
       "      <td>NaN</td>\n",
       "      <td>S</td>\n",
       "    </tr>\n",
       "    <tr>\n",
       "      <th>1</th>\n",
       "      <td>2</td>\n",
       "      <td>1</td>\n",
       "      <td>1</td>\n",
       "      <td>Cumings, Mrs. John Bradley (Florence Briggs Th...</td>\n",
       "      <td>female</td>\n",
       "      <td>38.0</td>\n",
       "      <td>1</td>\n",
       "      <td>0</td>\n",
       "      <td>PC 17599</td>\n",
       "      <td>71.2833</td>\n",
       "      <td>C85</td>\n",
       "      <td>C</td>\n",
       "    </tr>\n",
       "    <tr>\n",
       "      <th>2</th>\n",
       "      <td>3</td>\n",
       "      <td>1</td>\n",
       "      <td>3</td>\n",
       "      <td>Heikkinen, Miss. Laina</td>\n",
       "      <td>female</td>\n",
       "      <td>26.0</td>\n",
       "      <td>0</td>\n",
       "      <td>0</td>\n",
       "      <td>STON/O2. 3101282</td>\n",
       "      <td>7.9250</td>\n",
       "      <td>NaN</td>\n",
       "      <td>S</td>\n",
       "    </tr>\n",
       "    <tr>\n",
       "      <th>3</th>\n",
       "      <td>4</td>\n",
       "      <td>1</td>\n",
       "      <td>1</td>\n",
       "      <td>Futrelle, Mrs. Jacques Heath (Lily May Peel)</td>\n",
       "      <td>female</td>\n",
       "      <td>35.0</td>\n",
       "      <td>1</td>\n",
       "      <td>0</td>\n",
       "      <td>113803</td>\n",
       "      <td>53.1000</td>\n",
       "      <td>C123</td>\n",
       "      <td>S</td>\n",
       "    </tr>\n",
       "    <tr>\n",
       "      <th>4</th>\n",
       "      <td>5</td>\n",
       "      <td>0</td>\n",
       "      <td>3</td>\n",
       "      <td>Allen, Mr. William Henry</td>\n",
       "      <td>male</td>\n",
       "      <td>35.0</td>\n",
       "      <td>0</td>\n",
       "      <td>0</td>\n",
       "      <td>373450</td>\n",
       "      <td>8.0500</td>\n",
       "      <td>NaN</td>\n",
       "      <td>S</td>\n",
       "    </tr>\n",
       "  </tbody>\n",
       "</table>\n",
       "</div>"
      ],
      "text/plain": [
       "   PassengerId  Survived  Pclass  \\\n",
       "0            1         0       3   \n",
       "1            2         1       1   \n",
       "2            3         1       3   \n",
       "3            4         1       1   \n",
       "4            5         0       3   \n",
       "\n",
       "                                                Name     Sex   Age  SibSp  \\\n",
       "0                            Braund, Mr. Owen Harris    male  22.0      1   \n",
       "1  Cumings, Mrs. John Bradley (Florence Briggs Th...  female  38.0      1   \n",
       "2                             Heikkinen, Miss. Laina  female  26.0      0   \n",
       "3       Futrelle, Mrs. Jacques Heath (Lily May Peel)  female  35.0      1   \n",
       "4                           Allen, Mr. William Henry    male  35.0      0   \n",
       "\n",
       "   Parch            Ticket     Fare Cabin Embarked  \n",
       "0      0         A/5 21171   7.2500   NaN        S  \n",
       "1      0          PC 17599  71.2833   C85        C  \n",
       "2      0  STON/O2. 3101282   7.9250   NaN        S  \n",
       "3      0            113803  53.1000  C123        S  \n",
       "4      0            373450   8.0500   NaN        S  "
      ]
     },
     "execution_count": 3,
     "metadata": {},
     "output_type": "execute_result"
    }
   ],
   "source": [
    "df1.head()\n"
   ]
  },
  {
   "cell_type": "code",
   "execution_count": 4,
   "id": "0e2c627e",
   "metadata": {
    "execution": {
     "iopub.execute_input": "2024-07-27T06:33:00.556648Z",
     "iopub.status.busy": "2024-07-27T06:33:00.556249Z",
     "iopub.status.idle": "2024-07-27T06:33:00.571490Z",
     "shell.execute_reply": "2024-07-27T06:33:00.570344Z"
    },
    "papermill": {
     "duration": 0.028891,
     "end_time": "2024-07-27T06:33:00.573691",
     "exception": false,
     "start_time": "2024-07-27T06:33:00.544800",
     "status": "completed"
    },
    "tags": []
   },
   "outputs": [
    {
     "data": {
      "text/html": [
       "<div>\n",
       "<style scoped>\n",
       "    .dataframe tbody tr th:only-of-type {\n",
       "        vertical-align: middle;\n",
       "    }\n",
       "\n",
       "    .dataframe tbody tr th {\n",
       "        vertical-align: top;\n",
       "    }\n",
       "\n",
       "    .dataframe thead th {\n",
       "        text-align: right;\n",
       "    }\n",
       "</style>\n",
       "<table border=\"1\" class=\"dataframe\">\n",
       "  <thead>\n",
       "    <tr style=\"text-align: right;\">\n",
       "      <th></th>\n",
       "      <th>PassengerId</th>\n",
       "      <th>Pclass</th>\n",
       "      <th>Name</th>\n",
       "      <th>Sex</th>\n",
       "      <th>Age</th>\n",
       "      <th>SibSp</th>\n",
       "      <th>Parch</th>\n",
       "      <th>Ticket</th>\n",
       "      <th>Fare</th>\n",
       "      <th>Cabin</th>\n",
       "      <th>Embarked</th>\n",
       "    </tr>\n",
       "  </thead>\n",
       "  <tbody>\n",
       "    <tr>\n",
       "      <th>0</th>\n",
       "      <td>892</td>\n",
       "      <td>3</td>\n",
       "      <td>Kelly, Mr. James</td>\n",
       "      <td>male</td>\n",
       "      <td>34.5</td>\n",
       "      <td>0</td>\n",
       "      <td>0</td>\n",
       "      <td>330911</td>\n",
       "      <td>7.8292</td>\n",
       "      <td>NaN</td>\n",
       "      <td>Q</td>\n",
       "    </tr>\n",
       "    <tr>\n",
       "      <th>1</th>\n",
       "      <td>893</td>\n",
       "      <td>3</td>\n",
       "      <td>Wilkes, Mrs. James (Ellen Needs)</td>\n",
       "      <td>female</td>\n",
       "      <td>47.0</td>\n",
       "      <td>1</td>\n",
       "      <td>0</td>\n",
       "      <td>363272</td>\n",
       "      <td>7.0000</td>\n",
       "      <td>NaN</td>\n",
       "      <td>S</td>\n",
       "    </tr>\n",
       "    <tr>\n",
       "      <th>2</th>\n",
       "      <td>894</td>\n",
       "      <td>2</td>\n",
       "      <td>Myles, Mr. Thomas Francis</td>\n",
       "      <td>male</td>\n",
       "      <td>62.0</td>\n",
       "      <td>0</td>\n",
       "      <td>0</td>\n",
       "      <td>240276</td>\n",
       "      <td>9.6875</td>\n",
       "      <td>NaN</td>\n",
       "      <td>Q</td>\n",
       "    </tr>\n",
       "    <tr>\n",
       "      <th>3</th>\n",
       "      <td>895</td>\n",
       "      <td>3</td>\n",
       "      <td>Wirz, Mr. Albert</td>\n",
       "      <td>male</td>\n",
       "      <td>27.0</td>\n",
       "      <td>0</td>\n",
       "      <td>0</td>\n",
       "      <td>315154</td>\n",
       "      <td>8.6625</td>\n",
       "      <td>NaN</td>\n",
       "      <td>S</td>\n",
       "    </tr>\n",
       "    <tr>\n",
       "      <th>4</th>\n",
       "      <td>896</td>\n",
       "      <td>3</td>\n",
       "      <td>Hirvonen, Mrs. Alexander (Helga E Lindqvist)</td>\n",
       "      <td>female</td>\n",
       "      <td>22.0</td>\n",
       "      <td>1</td>\n",
       "      <td>1</td>\n",
       "      <td>3101298</td>\n",
       "      <td>12.2875</td>\n",
       "      <td>NaN</td>\n",
       "      <td>S</td>\n",
       "    </tr>\n",
       "  </tbody>\n",
       "</table>\n",
       "</div>"
      ],
      "text/plain": [
       "   PassengerId  Pclass                                          Name     Sex  \\\n",
       "0          892       3                              Kelly, Mr. James    male   \n",
       "1          893       3              Wilkes, Mrs. James (Ellen Needs)  female   \n",
       "2          894       2                     Myles, Mr. Thomas Francis    male   \n",
       "3          895       3                              Wirz, Mr. Albert    male   \n",
       "4          896       3  Hirvonen, Mrs. Alexander (Helga E Lindqvist)  female   \n",
       "\n",
       "    Age  SibSp  Parch   Ticket     Fare Cabin Embarked  \n",
       "0  34.5      0      0   330911   7.8292   NaN        Q  \n",
       "1  47.0      1      0   363272   7.0000   NaN        S  \n",
       "2  62.0      0      0   240276   9.6875   NaN        Q  \n",
       "3  27.0      0      0   315154   8.6625   NaN        S  \n",
       "4  22.0      1      1  3101298  12.2875   NaN        S  "
      ]
     },
     "execution_count": 4,
     "metadata": {},
     "output_type": "execute_result"
    }
   ],
   "source": [
    "df2.head()"
   ]
  },
  {
   "cell_type": "code",
   "execution_count": 5,
   "id": "a1077e4d",
   "metadata": {
    "execution": {
     "iopub.execute_input": "2024-07-27T06:33:00.598118Z",
     "iopub.status.busy": "2024-07-27T06:33:00.597263Z",
     "iopub.status.idle": "2024-07-27T06:33:00.603859Z",
     "shell.execute_reply": "2024-07-27T06:33:00.602793Z"
    },
    "papermill": {
     "duration": 0.021276,
     "end_time": "2024-07-27T06:33:00.606401",
     "exception": false,
     "start_time": "2024-07-27T06:33:00.585125",
     "status": "completed"
    },
    "tags": []
   },
   "outputs": [
    {
     "data": {
      "text/plain": [
       "(891, 12)"
      ]
     },
     "execution_count": 5,
     "metadata": {},
     "output_type": "execute_result"
    }
   ],
   "source": [
    "df1.shape"
   ]
  },
  {
   "cell_type": "code",
   "execution_count": 6,
   "id": "134dc781",
   "metadata": {
    "execution": {
     "iopub.execute_input": "2024-07-27T06:33:00.630042Z",
     "iopub.status.busy": "2024-07-27T06:33:00.629693Z",
     "iopub.status.idle": "2024-07-27T06:33:00.636643Z",
     "shell.execute_reply": "2024-07-27T06:33:00.635479Z"
    },
    "papermill": {
     "duration": 0.021805,
     "end_time": "2024-07-27T06:33:00.638772",
     "exception": false,
     "start_time": "2024-07-27T06:33:00.616967",
     "status": "completed"
    },
    "tags": []
   },
   "outputs": [
    {
     "data": {
      "text/plain": [
       "(418, 11)"
      ]
     },
     "execution_count": 6,
     "metadata": {},
     "output_type": "execute_result"
    }
   ],
   "source": [
    "df2.shape"
   ]
  },
  {
   "cell_type": "markdown",
   "id": "56a74d07",
   "metadata": {
    "papermill": {
     "duration": 0.010625,
     "end_time": "2024-07-27T06:33:00.660335",
     "exception": false,
     "start_time": "2024-07-27T06:33:00.649710",
     "status": "completed"
    },
    "tags": []
   },
   "source": [
    "# EDA"
   ]
  },
  {
   "cell_type": "code",
   "execution_count": 7,
   "id": "a66454ce",
   "metadata": {
    "execution": {
     "iopub.execute_input": "2024-07-27T06:33:00.684368Z",
     "iopub.status.busy": "2024-07-27T06:33:00.684010Z",
     "iopub.status.idle": "2024-07-27T06:33:00.711396Z",
     "shell.execute_reply": "2024-07-27T06:33:00.710079Z"
    },
    "papermill": {
     "duration": 0.042508,
     "end_time": "2024-07-27T06:33:00.713871",
     "exception": false,
     "start_time": "2024-07-27T06:33:00.671363",
     "status": "completed"
    },
    "tags": []
   },
   "outputs": [
    {
     "name": "stdout",
     "output_type": "stream",
     "text": [
      "       PassengerId    Survived      Pclass         Age       SibSp  \\\n",
      "count   891.000000  891.000000  891.000000  714.000000  891.000000   \n",
      "mean    446.000000    0.383838    2.308642   29.699118    0.523008   \n",
      "std     257.353842    0.486592    0.836071   14.526497    1.102743   \n",
      "min       1.000000    0.000000    1.000000    0.420000    0.000000   \n",
      "25%     223.500000    0.000000    2.000000   20.125000    0.000000   \n",
      "50%     446.000000    0.000000    3.000000   28.000000    0.000000   \n",
      "75%     668.500000    1.000000    3.000000   38.000000    1.000000   \n",
      "max     891.000000    1.000000    3.000000   80.000000    8.000000   \n",
      "\n",
      "            Parch        Fare  \n",
      "count  891.000000  891.000000  \n",
      "mean     0.381594   32.204208  \n",
      "std      0.806057   49.693429  \n",
      "min      0.000000    0.000000  \n",
      "25%      0.000000    7.910400  \n",
      "50%      0.000000   14.454200  \n",
      "75%      0.000000   31.000000  \n",
      "max      6.000000  512.329200  \n"
     ]
    }
   ],
   "source": [
    "print(df1.describe())\n",
    "\n"
   ]
  },
  {
   "cell_type": "code",
   "execution_count": 8,
   "id": "636392fc",
   "metadata": {
    "execution": {
     "iopub.execute_input": "2024-07-27T06:33:00.737773Z",
     "iopub.status.busy": "2024-07-27T06:33:00.737372Z",
     "iopub.status.idle": "2024-07-27T06:33:00.759379Z",
     "shell.execute_reply": "2024-07-27T06:33:00.758217Z"
    },
    "papermill": {
     "duration": 0.036584,
     "end_time": "2024-07-27T06:33:00.761733",
     "exception": false,
     "start_time": "2024-07-27T06:33:00.725149",
     "status": "completed"
    },
    "tags": []
   },
   "outputs": [
    {
     "name": "stdout",
     "output_type": "stream",
     "text": [
      "       PassengerId      Pclass         Age       SibSp       Parch        Fare\n",
      "count   418.000000  418.000000  332.000000  418.000000  418.000000  417.000000\n",
      "mean   1100.500000    2.265550   30.272590    0.447368    0.392344   35.627188\n",
      "std     120.810458    0.841838   14.181209    0.896760    0.981429   55.907576\n",
      "min     892.000000    1.000000    0.170000    0.000000    0.000000    0.000000\n",
      "25%     996.250000    1.000000   21.000000    0.000000    0.000000    7.895800\n",
      "50%    1100.500000    3.000000   27.000000    0.000000    0.000000   14.454200\n",
      "75%    1204.750000    3.000000   39.000000    1.000000    0.000000   31.500000\n",
      "max    1309.000000    3.000000   76.000000    8.000000    9.000000  512.329200\n"
     ]
    }
   ],
   "source": [
    "\n",
    "print(df2.describe())\n",
    "\n"
   ]
  },
  {
   "cell_type": "code",
   "execution_count": 9,
   "id": "c918539f",
   "metadata": {
    "execution": {
     "iopub.execute_input": "2024-07-27T06:33:00.785752Z",
     "iopub.status.busy": "2024-07-27T06:33:00.785040Z",
     "iopub.status.idle": "2024-07-27T06:33:00.931486Z",
     "shell.execute_reply": "2024-07-27T06:33:00.930380Z"
    },
    "papermill": {
     "duration": 0.162155,
     "end_time": "2024-07-27T06:33:00.934870",
     "exception": false,
     "start_time": "2024-07-27T06:33:00.772715",
     "status": "completed"
    },
    "tags": []
   },
   "outputs": [
    {
     "data": {
      "image/png": "[encoded data removed]",
      "text/plain": [
       "<Figure size 640x480 with 1 Axes>"
      ]
     },
     "metadata": {},
     "output_type": "display_data"
    }
   ],
   "source": [
    "survived_counts = df1['Survived'].value_counts()\n",
    "plt.pie(survived_counts, labels = ['Not Survived', 'Survived'], autopct='%1.1f%%', startangle=90, colors=['red', 'green'])\n",
    "plt.title('Survival Rate')\n",
    "plt.show()"
   ]
  },
  {
   "cell_type": "code",
   "execution_count": 10,
   "id": "dfe769db",
   "metadata": {
    "execution": {
     "iopub.execute_input": "2024-07-27T06:33:00.974786Z",
     "iopub.status.busy": "2024-07-27T06:33:00.973755Z",
     "iopub.status.idle": "2024-07-27T06:33:01.400409Z",
     "shell.execute_reply": "2024-07-27T06:33:01.399364Z"
    },
    "papermill": {
     "duration": 0.449275,
     "end_time": "2024-07-27T06:33:01.402847",
     "exception": false,
     "start_time": "2024-07-27T06:33:00.953572",
     "status": "completed"
    },
    "tags": []
   },
   "outputs": [
    {
     "name": "stderr",
     "output_type": "stream",
     "text": [
      "/opt/conda/lib/python3.10/site-packages/seaborn/_oldcore.py:1119: FutureWarning: use_inf_as_na option is deprecated and will be removed in a future version. Convert inf values to NaN before operating instead.\n",
      "  with pd.option_context('mode.use_inf_as_na', True):\n"
     ]
    },
    {
     "data": {
      "image/png": "[encoded data removed]",
      "text/plain": [
       "<Figure size 640x480 with 1 Axes>"
      ]
     },
     "metadata": {},
     "output_type": "display_data"
    }
   ],
   "source": [
    "sns.histplot(df1['Age'].dropna(), kde=True)\n",
    "plt.title(\"Age Distribution\")\n",
    "plt.show()"
   ]
  },
  {
   "cell_type": "code",
   "execution_count": 11,
   "id": "aceb3861",
   "metadata": {
    "execution": {
     "iopub.execute_input": "2024-07-27T06:33:01.428792Z",
     "iopub.status.busy": "2024-07-27T06:33:01.427835Z",
     "iopub.status.idle": "2024-07-27T06:33:01.889928Z",
     "shell.execute_reply": "2024-07-27T06:33:01.888871Z"
    },
    "papermill": {
     "duration": 0.477697,
     "end_time": "2024-07-27T06:33:01.892378",
     "exception": false,
     "start_time": "2024-07-27T06:33:01.414681",
     "status": "completed"
    },
    "tags": []
   },
   "outputs": [
    {
     "name": "stderr",
     "output_type": "stream",
     "text": [
      "/opt/conda/lib/python3.10/site-packages/seaborn/_oldcore.py:1119: FutureWarning: use_inf_as_na option is deprecated and will be removed in a future version. Convert inf values to NaN before operating instead.\n",
      "  with pd.option_context('mode.use_inf_as_na', True):\n"
     ]
    },
    {
     "data": {
      "image/png": "[encoded data removed]",
      "text/plain": [
       "<Figure size 640x480 with 1 Axes>"
      ]
     },
     "metadata": {},
     "output_type": "display_data"
    }
   ],
   "source": [
    "sns.histplot(df1['Fare'].dropna(), kde=True)\n",
    "plt.title('Fare Distribution')\n",
    "plt.show()"
   ]
  },
  {
   "cell_type": "code",
   "execution_count": 12,
   "id": "f5e6e745",
   "metadata": {
    "execution": {
     "iopub.execute_input": "2024-07-27T06:33:01.919393Z",
     "iopub.status.busy": "2024-07-27T06:33:01.918293Z",
     "iopub.status.idle": "2024-07-27T06:33:02.177530Z",
     "shell.execute_reply": "2024-07-27T06:33:02.176351Z"
    },
    "papermill": {
     "duration": 0.275191,
     "end_time": "2024-07-27T06:33:02.179968",
     "exception": false,
     "start_time": "2024-07-27T06:33:01.904777",
     "status": "completed"
    },
    "tags": []
   },
   "outputs": [
    {
     "data": {
      "image/png": "[encoded data removed]",
      "text/plain": [
       "<Figure size 640x480 with 1 Axes>"
      ]
     },
     "metadata": {},
     "output_type": "display_data"
    }
   ],
   "source": [
    "sns.countplot(x='Pclass', hue='Survived', data = df1)\n",
    "plt.title(\"Survival Count by class\")\n",
    "plt.show()"
   ]
  },
  {
   "cell_type": "code",
   "execution_count": 13,
   "id": "8a1314a1",
   "metadata": {
    "execution": {
     "iopub.execute_input": "2024-07-27T06:33:02.207964Z",
     "iopub.status.busy": "2024-07-27T06:33:02.207012Z",
     "iopub.status.idle": "2024-07-27T06:33:02.435595Z",
     "shell.execute_reply": "2024-07-27T06:33:02.434604Z"
    },
    "papermill": {
     "duration": 0.245436,
     "end_time": "2024-07-27T06:33:02.437994",
     "exception": false,
     "start_time": "2024-07-27T06:33:02.192558",
     "status": "completed"
    },
    "tags": []
   },
   "outputs": [
    {
     "data": {
      "image/png": "[encoded data removed]",
      "text/plain": [
       "<Figure size 640x480 with 1 Axes>"
      ]
     },
     "metadata": {},
     "output_type": "display_data"
    }
   ],
   "source": [
    "sns.countplot(x='Sex', hue='Survived', data=df1)\n",
    "plt.title('Survival Count by Sex')\n",
    "plt.show()"
   ]
  },
  {
   "cell_type": "code",
   "execution_count": 14,
   "id": "afd746cb",
   "metadata": {
    "execution": {
     "iopub.execute_input": "2024-07-27T06:33:02.466766Z",
     "iopub.status.busy": "2024-07-27T06:33:02.465759Z",
     "iopub.status.idle": "2024-07-27T06:33:02.688627Z",
     "shell.execute_reply": "2024-07-27T06:33:02.687487Z"
    },
    "papermill": {
     "duration": 0.239645,
     "end_time": "2024-07-27T06:33:02.690813",
     "exception": false,
     "start_time": "2024-07-27T06:33:02.451168",
     "status": "completed"
    },
    "tags": []
   },
   "outputs": [
    {
     "data": {
      "image/png": "[encoded data removed]",
      "text/plain": [
       "<Figure size 640x480 with 1 Axes>"
      ]
     },
     "metadata": {},
     "output_type": "display_data"
    }
   ],
   "source": [
    "sns.countplot(x='Embarked', hue='Survived', data=df1)\n",
    "plt.title('Survival Count by Embarked Point')\n",
    "plt.show()\n"
   ]
  },
  {
   "cell_type": "markdown",
   "id": "d3b5aa5c",
   "metadata": {
    "papermill": {
     "duration": 0.012988,
     "end_time": "2024-07-27T06:33:02.717157",
     "exception": false,
     "start_time": "2024-07-27T06:33:02.704169",
     "status": "completed"
    },
    "tags": []
   },
   "source": [
    "## Handle the Missing data"
   ]
  },
  {
   "cell_type": "code",
   "execution_count": 15,
   "id": "91262f7e",
   "metadata": {
    "execution": {
     "iopub.execute_input": "2024-07-27T06:33:02.746132Z",
     "iopub.status.busy": "2024-07-27T06:33:02.745082Z",
     "iopub.status.idle": "2024-07-27T06:33:02.754002Z",
     "shell.execute_reply": "2024-07-27T06:33:02.752942Z"
    },
    "papermill": {
     "duration": 0.025761,
     "end_time": "2024-07-27T06:33:02.756243",
     "exception": false,
     "start_time": "2024-07-27T06:33:02.730482",
     "status": "completed"
    },
    "tags": []
   },
   "outputs": [
    {
     "data": {
      "text/plain": [
       "PassengerId      0\n",
       "Survived         0\n",
       "Pclass           0\n",
       "Name             0\n",
       "Sex              0\n",
       "Age            177\n",
       "SibSp            0\n",
       "Parch            0\n",
       "Ticket           0\n",
       "Fare             0\n",
       "Cabin          687\n",
       "Embarked         2\n",
       "dtype: int64"
      ]
     },
     "execution_count": 15,
     "metadata": {},
     "output_type": "execute_result"
    }
   ],
   "source": [
    "df1.isnull().sum()"
   ]
  },
  {
   "cell_type": "code",
   "execution_count": 16,
   "id": "4df113b1",
   "metadata": {
    "execution": {
     "iopub.execute_input": "2024-07-27T06:33:02.785747Z",
     "iopub.status.busy": "2024-07-27T06:33:02.784912Z",
     "iopub.status.idle": "2024-07-27T06:33:02.793443Z",
     "shell.execute_reply": "2024-07-27T06:33:02.792440Z"
    },
    "papermill": {
     "duration": 0.025604,
     "end_time": "2024-07-27T06:33:02.795570",
     "exception": false,
     "start_time": "2024-07-27T06:33:02.769966",
     "status": "completed"
    },
    "tags": []
   },
   "outputs": [],
   "source": [
    "df1.drop('Cabin', inplace=True, axis=1)"
   ]
  },
  {
   "cell_type": "code",
   "execution_count": 17,
   "id": "90d9f76f",
   "metadata": {
    "execution": {
     "iopub.execute_input": "2024-07-27T06:33:02.824891Z",
     "iopub.status.busy": "2024-07-27T06:33:02.823998Z",
     "iopub.status.idle": "2024-07-27T06:33:02.832650Z",
     "shell.execute_reply": "2024-07-27T06:33:02.831635Z"
    },
    "papermill": {
     "duration": 0.025829,
     "end_time": "2024-07-27T06:33:02.834945",
     "exception": false,
     "start_time": "2024-07-27T06:33:02.809116",
     "status": "completed"
    },
    "tags": []
   },
   "outputs": [
    {
     "data": {
      "text/plain": [
       "PassengerId      0\n",
       "Survived         0\n",
       "Pclass           0\n",
       "Name             0\n",
       "Sex              0\n",
       "Age            177\n",
       "SibSp            0\n",
       "Parch            0\n",
       "Ticket           0\n",
       "Fare             0\n",
       "Embarked         2\n",
       "dtype: int64"
      ]
     },
     "execution_count": 17,
     "metadata": {},
     "output_type": "execute_result"
    }
   ],
   "source": [
    "df1.isnull().sum()"
   ]
  },
  {
   "cell_type": "code",
   "execution_count": 18,
   "id": "ab5f2b82",
   "metadata": {
    "execution": {
     "iopub.execute_input": "2024-07-27T06:33:02.864106Z",
     "iopub.status.busy": "2024-07-27T06:33:02.863715Z",
     "iopub.status.idle": "2024-07-27T06:33:02.876449Z",
     "shell.execute_reply": "2024-07-27T06:33:02.875322Z"
    },
    "papermill": {
     "duration": 0.030352,
     "end_time": "2024-07-27T06:33:02.879104",
     "exception": false,
     "start_time": "2024-07-27T06:33:02.848752",
     "status": "completed"
    },
    "tags": []
   },
   "outputs": [
    {
     "name": "stderr",
     "output_type": "stream",
     "text": [
      "/tmp/ipykernel_18/667545679.py:1: FutureWarning: A value is trying to be set on a copy of a DataFrame or Series through chained assignment using an inplace method.\n",
      "The behavior will change in pandas 3.0. This inplace method will never work because the intermediate object on which we are setting values always behaves as a copy.\n",
      "\n",
      "For example, when doing 'df[col].method(value, inplace=True)', try using 'df.method({col: value}, inplace=True)' or df[col] = df[col].method(value) instead, to perform the operation inplace on the original object.\n",
      "\n",
      "\n",
      "  df1['Age'].fillna(df1['Age'].median(), inplace=True)\n",
      "/tmp/ipykernel_18/667545679.py:2: FutureWarning: A value is trying to be set on a copy of a DataFrame or Series through chained assignment using an inplace method.\n",
      "The behavior will change in pandas 3.0. This inplace method will never work because the intermediate object on which we are setting values always behaves as a copy.\n",
      "\n",
      "For example, when doing 'df[col].method(value, inplace=True)', try using 'df.method({col: value}, inplace=True)' or df[col] = df[col].method(value) instead, to perform the operation inplace on the original object.\n",
      "\n",
      "\n",
      "  df1['Embarked'].fillna(df1['Embarked'].mode()[0], inplace=True)\n",
      "/tmp/ipykernel_18/667545679.py:3: FutureWarning: A value is trying to be set on a copy of a DataFrame or Series through chained assignment using an inplace method.\n",
      "The behavior will change in pandas 3.0. This inplace method will never work because the intermediate object on which we are setting values always behaves as a copy.\n",
      "\n",
      "For example, when doing 'df[col].method(value, inplace=True)', try using 'df.method({col: value}, inplace=True)' or df[col] = df[col].method(value) instead, to perform the operation inplace on the original object.\n",
      "\n",
      "\n",
      "  df2['Age'].fillna(df2['Age'].median(), inplace=True)\n",
      "/tmp/ipykernel_18/667545679.py:4: FutureWarning: A value is trying to be set on a copy of a DataFrame or Series through chained assignment using an inplace method.\n",
      "The behavior will change in pandas 3.0. This inplace method will never work because the intermediate object on which we are setting values always behaves as a copy.\n",
      "\n",
      "For example, when doing 'df[col].method(value, inplace=True)', try using 'df.method({col: value}, inplace=True)' or df[col] = df[col].method(value) instead, to perform the operation inplace on the original object.\n",
      "\n",
      "\n",
      "  df2['Embarked'].fillna(df2['Embarked'].mode()[0], inplace=True)\n",
      "/tmp/ipykernel_18/667545679.py:5: FutureWarning: A value is trying to be set on a copy of a DataFrame or Series through chained assignment using an inplace method.\n",
      "The behavior will change in pandas 3.0. This inplace method will never work because the intermediate object on which we are setting values always behaves as a copy.\n",
      "\n",
      "For example, when doing 'df[col].method(value, inplace=True)', try using 'df.method({col: value}, inplace=True)' or df[col] = df[col].method(value) instead, to perform the operation inplace on the original object.\n",
      "\n",
      "\n",
      "  df2['Fare'].fillna(df2['Fare'].median(), inplace=True)\n"
     ]
    }
   ],
   "source": [
    "df1['Age'].fillna(df1['Age'].median(), inplace=True)\n",
    "df1['Embarked'].fillna(df1['Embarked'].mode()[0], inplace=True)\n",
    "df2['Age'].fillna(df2['Age'].median(), inplace=True)\n",
    "df2['Embarked'].fillna(df2['Embarked'].mode()[0], inplace=True)\n",
    "df2['Fare'].fillna(df2['Fare'].median(), inplace=True)\n"
   ]
  },
  {
   "cell_type": "code",
   "execution_count": 19,
   "id": "ad35f4aa",
   "metadata": {
    "execution": {
     "iopub.execute_input": "2024-07-27T06:33:02.909326Z",
     "iopub.status.busy": "2024-07-27T06:33:02.908945Z",
     "iopub.status.idle": "2024-07-27T06:33:03.071646Z",
     "shell.execute_reply": "2024-07-27T06:33:03.070587Z"
    },
    "papermill": {
     "duration": 0.18064,
     "end_time": "2024-07-27T06:33:03.074183",
     "exception": false,
     "start_time": "2024-07-27T06:33:02.893543",
     "status": "completed"
    },
    "tags": []
   },
   "outputs": [],
   "source": [
    "from sklearn.preprocessing import LabelEncoder\n"
   ]
  },
  {
   "cell_type": "code",
   "execution_count": 20,
   "id": "48a47d69",
   "metadata": {
    "execution": {
     "iopub.execute_input": "2024-07-27T06:33:03.105173Z",
     "iopub.status.busy": "2024-07-27T06:33:03.104779Z",
     "iopub.status.idle": "2024-07-27T06:33:03.113885Z",
     "shell.execute_reply": "2024-07-27T06:33:03.112968Z"
    },
    "papermill": {
     "duration": 0.027525,
     "end_time": "2024-07-27T06:33:03.116054",
     "exception": false,
     "start_time": "2024-07-27T06:33:03.088529",
     "status": "completed"
    },
    "tags": []
   },
   "outputs": [],
   "source": [
    "label_encoder = LabelEncoder()\n",
    "df1['Sex'] = label_encoder.fit_transform(df1['Sex'])\n",
    "df1['Embarked'] = label_encoder.fit_transform(df1['Embarked'])\n",
    "df2['Sex'] = label_encoder.fit_transform(df2['Sex'])\n",
    "df2['Embarked'] = label_encoder.fit_transform(df2['Embarked'])\n",
    "\n"
   ]
  },
  {
   "cell_type": "markdown",
   "id": "bb48a1d8",
   "metadata": {
    "papermill": {
     "duration": 0.07127,
     "end_time": "2024-07-27T06:33:03.201291",
     "exception": false,
     "start_time": "2024-07-27T06:33:03.130021",
     "status": "completed"
    },
    "tags": []
   },
   "source": [
    "# Train the Model"
   ]
  },
  {
   "cell_type": "code",
   "execution_count": 21,
   "id": "974e3ce5",
   "metadata": {
    "execution": {
     "iopub.execute_input": "2024-07-27T06:33:03.231756Z",
     "iopub.status.busy": "2024-07-27T06:33:03.231314Z",
     "iopub.status.idle": "2024-07-27T06:33:03.609093Z",
     "shell.execute_reply": "2024-07-27T06:33:03.607971Z"
    },
    "papermill": {
     "duration": 0.396577,
     "end_time": "2024-07-27T06:33:03.611792",
     "exception": false,
     "start_time": "2024-07-27T06:33:03.215215",
     "status": "completed"
    },
    "tags": []
   },
   "outputs": [],
   "source": [
    "from sklearn.ensemble import RandomForestClassifier\n",
    "from sklearn.model_selection import train_test_split, cross_val_score\n"
   ]
  },
  {
   "cell_type": "code",
   "execution_count": 22,
   "id": "3fde5d17",
   "metadata": {
    "execution": {
     "iopub.execute_input": "2024-07-27T06:33:03.641802Z",
     "iopub.status.busy": "2024-07-27T06:33:03.641325Z",
     "iopub.status.idle": "2024-07-27T06:33:03.649871Z",
     "shell.execute_reply": "2024-07-27T06:33:03.648869Z"
    },
    "papermill": {
     "duration": 0.026172,
     "end_time": "2024-07-27T06:33:03.652194",
     "exception": false,
     "start_time": "2024-07-27T06:33:03.626022",
     "status": "completed"
    },
    "tags": []
   },
   "outputs": [],
   "source": [
    "feature = ['Pclass', 'Sex', 'Age', 'SibSp', 'Parch', 'Fare', 'Embarked']\n",
    "X = df1[feature]\n",
    "y= df1['Survived']\n"
   ]
  },
  {
   "cell_type": "code",
   "execution_count": 23,
   "id": "382e8915",
   "metadata": {
    "execution": {
     "iopub.execute_input": "2024-07-27T06:33:03.682937Z",
     "iopub.status.busy": "2024-07-27T06:33:03.681845Z",
     "iopub.status.idle": "2024-07-27T06:33:03.696999Z",
     "shell.execute_reply": "2024-07-27T06:33:03.695853Z"
    },
    "papermill": {
     "duration": 0.032785,
     "end_time": "2024-07-27T06:33:03.699168",
     "exception": false,
     "start_time": "2024-07-27T06:33:03.666383",
     "status": "completed"
    },
    "tags": []
   },
   "outputs": [
    {
     "data": {
      "text/html": [
       "<div>\n",
       "<style scoped>\n",
       "    .dataframe tbody tr th:only-of-type {\n",
       "        vertical-align: middle;\n",
       "    }\n",
       "\n",
       "    .dataframe tbody tr th {\n",
       "        vertical-align: top;\n",
       "    }\n",
       "\n",
       "    .dataframe thead th {\n",
       "        text-align: right;\n",
       "    }\n",
       "</style>\n",
       "<table border=\"1\" class=\"dataframe\">\n",
       "  <thead>\n",
       "    <tr style=\"text-align: right;\">\n",
       "      <th></th>\n",
       "      <th>Pclass</th>\n",
       "      <th>Sex</th>\n",
       "      <th>Age</th>\n",
       "      <th>SibSp</th>\n",
       "      <th>Parch</th>\n",
       "      <th>Fare</th>\n",
       "      <th>Embarked</th>\n",
       "    </tr>\n",
       "  </thead>\n",
       "  <tbody>\n",
       "    <tr>\n",
       "      <th>0</th>\n",
       "      <td>3</td>\n",
       "      <td>1</td>\n",
       "      <td>22.0</td>\n",
       "      <td>1</td>\n",
       "      <td>0</td>\n",
       "      <td>7.2500</td>\n",
       "      <td>2</td>\n",
       "    </tr>\n",
       "    <tr>\n",
       "      <th>1</th>\n",
       "      <td>1</td>\n",
       "      <td>0</td>\n",
       "      <td>38.0</td>\n",
       "      <td>1</td>\n",
       "      <td>0</td>\n",
       "      <td>71.2833</td>\n",
       "      <td>0</td>\n",
       "    </tr>\n",
       "    <tr>\n",
       "      <th>2</th>\n",
       "      <td>3</td>\n",
       "      <td>0</td>\n",
       "      <td>26.0</td>\n",
       "      <td>0</td>\n",
       "      <td>0</td>\n",
       "      <td>7.9250</td>\n",
       "      <td>2</td>\n",
       "    </tr>\n",
       "    <tr>\n",
       "      <th>3</th>\n",
       "      <td>1</td>\n",
       "      <td>0</td>\n",
       "      <td>35.0</td>\n",
       "      <td>1</td>\n",
       "      <td>0</td>\n",
       "      <td>53.1000</td>\n",
       "      <td>2</td>\n",
       "    </tr>\n",
       "    <tr>\n",
       "      <th>4</th>\n",
       "      <td>3</td>\n",
       "      <td>1</td>\n",
       "      <td>35.0</td>\n",
       "      <td>0</td>\n",
       "      <td>0</td>\n",
       "      <td>8.0500</td>\n",
       "      <td>2</td>\n",
       "    </tr>\n",
       "    <tr>\n",
       "      <th>...</th>\n",
       "      <td>...</td>\n",
       "      <td>...</td>\n",
       "      <td>...</td>\n",
       "      <td>...</td>\n",
       "      <td>...</td>\n",
       "      <td>...</td>\n",
       "      <td>...</td>\n",
       "    </tr>\n",
       "    <tr>\n",
       "      <th>886</th>\n",
       "      <td>2</td>\n",
       "      <td>1</td>\n",
       "      <td>27.0</td>\n",
       "      <td>0</td>\n",
       "      <td>0</td>\n",
       "      <td>13.0000</td>\n",
       "      <td>2</td>\n",
       "    </tr>\n",
       "    <tr>\n",
       "      <th>887</th>\n",
       "      <td>1</td>\n",
       "      <td>0</td>\n",
       "      <td>19.0</td>\n",
       "      <td>0</td>\n",
       "      <td>0</td>\n",
       "      <td>30.0000</td>\n",
       "      <td>2</td>\n",
       "    </tr>\n",
       "    <tr>\n",
       "      <th>888</th>\n",
       "      <td>3</td>\n",
       "      <td>0</td>\n",
       "      <td>28.0</td>\n",
       "      <td>1</td>\n",
       "      <td>2</td>\n",
       "      <td>23.4500</td>\n",
       "      <td>2</td>\n",
       "    </tr>\n",
       "    <tr>\n",
       "      <th>889</th>\n",
       "      <td>1</td>\n",
       "      <td>1</td>\n",
       "      <td>26.0</td>\n",
       "      <td>0</td>\n",
       "      <td>0</td>\n",
       "      <td>30.0000</td>\n",
       "      <td>0</td>\n",
       "    </tr>\n",
       "    <tr>\n",
       "      <th>890</th>\n",
       "      <td>3</td>\n",
       "      <td>1</td>\n",
       "      <td>32.0</td>\n",
       "      <td>0</td>\n",
       "      <td>0</td>\n",
       "      <td>7.7500</td>\n",
       "      <td>1</td>\n",
       "    </tr>\n",
       "  </tbody>\n",
       "</table>\n",
       "<p>891 rows × 7 columns</p>\n",
       "</div>"
      ],
      "text/plain": [
       "     Pclass  Sex   Age  SibSp  Parch     Fare  Embarked\n",
       "0         3    1  22.0      1      0   7.2500         2\n",
       "1         1    0  38.0      1      0  71.2833         0\n",
       "2         3    0  26.0      0      0   7.9250         2\n",
       "3         1    0  35.0      1      0  53.1000         2\n",
       "4         3    1  35.0      0      0   8.0500         2\n",
       "..      ...  ...   ...    ...    ...      ...       ...\n",
       "886       2    1  27.0      0      0  13.0000         2\n",
       "887       1    0  19.0      0      0  30.0000         2\n",
       "888       3    0  28.0      1      2  23.4500         2\n",
       "889       1    1  26.0      0      0  30.0000         0\n",
       "890       3    1  32.0      0      0   7.7500         1\n",
       "\n",
       "[891 rows x 7 columns]"
      ]
     },
     "execution_count": 23,
     "metadata": {},
     "output_type": "execute_result"
    }
   ],
   "source": [
    "X"
   ]
  },
  {
   "cell_type": "code",
   "execution_count": 24,
   "id": "ff416c57",
   "metadata": {
    "execution": {
     "iopub.execute_input": "2024-07-27T06:33:03.730399Z",
     "iopub.status.busy": "2024-07-27T06:33:03.729407Z",
     "iopub.status.idle": "2024-07-27T06:33:03.737211Z",
     "shell.execute_reply": "2024-07-27T06:33:03.736221Z"
    },
    "papermill": {
     "duration": 0.025829,
     "end_time": "2024-07-27T06:33:03.739478",
     "exception": false,
     "start_time": "2024-07-27T06:33:03.713649",
     "status": "completed"
    },
    "tags": []
   },
   "outputs": [
    {
     "data": {
      "text/plain": [
       "0      0\n",
       "1      1\n",
       "2      1\n",
       "3      1\n",
       "4      0\n",
       "      ..\n",
       "886    0\n",
       "887    1\n",
       "888    0\n",
       "889    1\n",
       "890    0\n",
       "Name: Survived, Length: 891, dtype: int64"
      ]
     },
     "execution_count": 24,
     "metadata": {},
     "output_type": "execute_result"
    }
   ],
   "source": [
    "y"
   ]
  },
  {
   "cell_type": "code",
   "execution_count": 25,
   "id": "ffc2f5ef",
   "metadata": {
    "execution": {
     "iopub.execute_input": "2024-07-27T06:33:03.770240Z",
     "iopub.status.busy": "2024-07-27T06:33:03.769848Z",
     "iopub.status.idle": "2024-07-27T06:33:03.779230Z",
     "shell.execute_reply": "2024-07-27T06:33:03.778143Z"
    },
    "papermill": {
     "duration": 0.027825,
     "end_time": "2024-07-27T06:33:03.781841",
     "exception": false,
     "start_time": "2024-07-27T06:33:03.754016",
     "status": "completed"
    },
    "tags": []
   },
   "outputs": [],
   "source": [
    "X_train, X_test, y_train, y_test = train_test_split(X,y, test_size=0.2, random_state=42)\n"
   ]
  },
  {
   "cell_type": "code",
   "execution_count": 26,
   "id": "6e59b8c4",
   "metadata": {
    "execution": {
     "iopub.execute_input": "2024-07-27T06:33:03.812136Z",
     "iopub.status.busy": "2024-07-27T06:33:03.811790Z",
     "iopub.status.idle": "2024-07-27T06:33:05.993784Z",
     "shell.execute_reply": "2024-07-27T06:33:05.992666Z"
    },
    "papermill": {
     "duration": 2.199697,
     "end_time": "2024-07-27T06:33:05.995987",
     "exception": false,
     "start_time": "2024-07-27T06:33:03.796290",
     "status": "completed"
    },
    "tags": []
   },
   "outputs": [
    {
     "data": {
      "text/html": [
       "<style>#sk-container-id-1 {color: black;background-color: white;}#sk-container-id-1 pre{padding: 0;}#sk-container-id-1 div.sk-toggleable {background-color: white;}#sk-container-id-1 label.sk-toggleable__label {cursor: pointer;display: block;width: 100%;margin-bottom: 0;padding: 0.3em;box-sizing: border-box;text-align: center;}#sk-container-id-1 label.sk-toggleable__label-arrow:before {content: \"▸\";float: left;margin-right: 0.25em;color: #696969;}#sk-container-id-1 label.sk-toggleable__label-arrow:hover:before {color: black;}#sk-container-id-1 div.sk-estimator:hover label.sk-toggleable__label-arrow:before {color: black;}#sk-container-id-1 div.sk-toggleable__content {max-height: 0;max-width: 0;overflow: hidden;text-align: left;background-color: #f0f8ff;}#sk-container-id-1 div.sk-toggleable__content pre {margin: 0.2em;color: black;border-radius: 0.25em;background-color: #f0f8ff;}#sk-container-id-1 input.sk-toggleable__control:checked~div.sk-toggleable__content {max-height: 200px;max-width: 100%;overflow: auto;}#sk-container-id-1 input.sk-toggleable__control:checked~label.sk-toggleable__label-arrow:before {content: \"▾\";}#sk-container-id-1 div.sk-estimator input.sk-toggleable__control:checked~label.sk-toggleable__label {background-color: #d4ebff;}#sk-container-id-1 div.sk-label input.sk-toggleable__control:checked~label.sk-toggleable__label {background-color: #d4ebff;}#sk-container-id-1 input.sk-hidden--visually {border: 0;clip: rect(1px 1px 1px 1px);clip: rect(1px, 1px, 1px, 1px);height: 1px;margin: -1px;overflow: hidden;padding: 0;position: absolute;width: 1px;}#sk-container-id-1 div.sk-estimator {font-family: monospace;background-color: #f0f8ff;border: 1px dotted black;border-radius: 0.25em;box-sizing: border-box;margin-bottom: 0.5em;}#sk-container-id-1 div.sk-estimator:hover {background-color: #d4ebff;}#sk-container-id-1 div.sk-parallel-item::after {content: \"\";width: 100%;border-bottom: 1px solid gray;flex-grow: 1;}#sk-container-id-1 div.sk-label:hover label.sk-toggleable__label {background-color: #d4ebff;}#sk-container-id-1 div.sk-serial::before {content: \"\";position: absolute;border-left: 1px solid gray;box-sizing: border-box;top: 0;bottom: 0;left: 50%;z-index: 0;}#sk-container-id-1 div.sk-serial {display: flex;flex-direction: column;align-items: center;background-color: white;padding-right: 0.2em;padding-left: 0.2em;position: relative;}#sk-container-id-1 div.sk-item {position: relative;z-index: 1;}#sk-container-id-1 div.sk-parallel {display: flex;align-items: stretch;justify-content: center;background-color: white;position: relative;}#sk-container-id-1 div.sk-item::before, #sk-container-id-1 div.sk-parallel-item::before {content: \"\";position: absolute;border-left: 1px solid gray;box-sizing: border-box;top: 0;bottom: 0;left: 50%;z-index: -1;}#sk-container-id-1 div.sk-parallel-item {display: flex;flex-direction: column;z-index: 1;position: relative;background-color: white;}#sk-container-id-1 div.sk-parallel-item:first-child::after {align-self: flex-end;width: 50%;}#sk-container-id-1 div.sk-parallel-item:last-child::after {align-self: flex-start;width: 50%;}#sk-container-id-1 div.sk-parallel-item:only-child::after {width: 0;}#sk-container-id-1 div.sk-dashed-wrapped {border: 1px dashed gray;margin: 0 0.4em 0.5em 0.4em;box-sizing: border-box;padding-bottom: 0.4em;background-color: white;}#sk-container-id-1 div.sk-label label {font-family: monospace;font-weight: bold;display: inline-block;line-height: 1.2em;}#sk-container-id-1 div.sk-label-container {text-align: center;}#sk-container-id-1 div.sk-container {/* jupyter's `normalize.less` sets `[hidden] { display: none; }` but bootstrap.min.css set `[hidden] { display: none !important; }` so we also need the `!important` here to be able to override the default hidden behavior on the sphinx rendered scikit-learn.org. See: https://github.com/scikit-learn/scikit-learn/issues/21755 */display: inline-block !important;position: relative;}#sk-container-id-1 div.sk-text-repr-fallback {display: none;}</style><div id=\"sk-container-id-1\" class=\"sk-top-container\"><div class=\"sk-text-repr-fallback\"><pre>RandomForestClassifier(n_estimators=1000, random_state=42)</pre><b>In a Jupyter environment, please rerun this cell to show the HTML representation or trust the notebook. <br />On GitHub, the HTML representation is unable to render, please try loading this page with nbviewer.org.</b></div><div class=\"sk-container\" hidden><div class=\"sk-item\"><div class=\"sk-estimator sk-toggleable\"><input class=\"sk-toggleable__control sk-hidden--visually\" id=\"sk-estimator-id-1\" type=\"checkbox\" checked><label for=\"sk-estimator-id-1\" class=\"sk-toggleable__label sk-toggleable__label-arrow\">RandomForestClassifier</label><div class=\"sk-toggleable__content\"><pre>RandomForestClassifier(n_estimators=1000, random_state=42)</pre></div></div></div></div></div>"
      ],
      "text/plain": [
       "RandomForestClassifier(n_estimators=1000, random_state=42)"
      ]
     },
     "execution_count": 26,
     "metadata": {},
     "output_type": "execute_result"
    }
   ],
   "source": [
    "model = RandomForestClassifier(n_estimators=1000, random_state=42)\n",
    "model.fit(X_train, y_train)"
   ]
  },
  {
   "cell_type": "code",
   "execution_count": 27,
   "id": "5caa134e",
   "metadata": {
    "execution": {
     "iopub.execute_input": "2024-07-27T06:33:06.028435Z",
     "iopub.status.busy": "2024-07-27T06:33:06.028043Z",
     "iopub.status.idle": "2024-07-27T06:33:06.111497Z",
     "shell.execute_reply": "2024-07-27T06:33:06.110463Z"
    },
    "papermill": {
     "duration": 0.103189,
     "end_time": "2024-07-27T06:33:06.114493",
     "exception": false,
     "start_time": "2024-07-27T06:33:06.011304",
     "status": "completed"
    },
    "tags": []
   },
   "outputs": [],
   "source": [
    "# Predict the data\n",
    "\n",
    "y_pred = model.predict(X_test)"
   ]
  },
  {
   "cell_type": "code",
   "execution_count": 28,
   "id": "911da75b",
   "metadata": {
    "execution": {
     "iopub.execute_input": "2024-07-27T06:33:06.147303Z",
     "iopub.status.busy": "2024-07-27T06:33:06.146943Z",
     "iopub.status.idle": "2024-07-27T06:33:06.154087Z",
     "shell.execute_reply": "2024-07-27T06:33:06.152938Z"
    },
    "papermill": {
     "duration": 0.025685,
     "end_time": "2024-07-27T06:33:06.156337",
     "exception": false,
     "start_time": "2024-07-27T06:33:06.130652",
     "status": "completed"
    },
    "tags": []
   },
   "outputs": [
    {
     "data": {
      "text/plain": [
       "array([0, 0, 0, 1, 0, 1, 1, 0, 1, 1, 0, 0, 0, 0, 0, 1, 0, 1, 0, 0, 0, 1,\n",
       "       0, 0, 0, 0, 0, 0, 0, 1, 0, 1, 1, 1, 0, 0, 1, 1, 1, 0, 0, 0, 0, 0,\n",
       "       0, 0, 0, 0, 0, 0, 1, 1, 0, 1, 0, 1, 0, 1, 1, 0, 0, 1, 1, 0, 0, 1,\n",
       "       0, 0, 0, 1, 1, 1, 1, 1, 0, 0, 1, 1, 1, 1, 0, 1, 1, 0, 1, 0, 1, 1,\n",
       "       0, 0, 0, 0, 0, 0, 0, 0, 0, 0, 1, 0, 0, 0, 1, 0, 0, 1, 1, 0, 0, 0,\n",
       "       1, 0, 1, 1, 0, 0, 1, 0, 1, 0, 0, 1, 1, 1, 0, 0, 1, 0, 0, 0, 1, 0,\n",
       "       0, 1, 1, 0, 1, 0, 0, 0, 0, 1, 1, 0, 0, 1, 0, 1, 1, 0, 0, 0, 0, 1,\n",
       "       0, 0, 0, 1, 1, 1, 0, 1, 0, 1, 0, 0, 0, 1, 0, 0, 0, 1, 1, 1, 0, 0,\n",
       "       0, 1, 1])"
      ]
     },
     "execution_count": 28,
     "metadata": {},
     "output_type": "execute_result"
    }
   ],
   "source": [
    "y_pred"
   ]
  },
  {
   "cell_type": "markdown",
   "id": "35a3e5af",
   "metadata": {
    "papermill": {
     "duration": 0.015478,
     "end_time": "2024-07-27T06:33:06.186730",
     "exception": false,
     "start_time": "2024-07-27T06:33:06.171252",
     "status": "completed"
    },
    "tags": []
   },
   "source": [
    "## Evaluate the Model"
   ]
  },
  {
   "cell_type": "code",
   "execution_count": 29,
   "id": "5f1c9c7b",
   "metadata": {
    "execution": {
     "iopub.execute_input": "2024-07-27T06:33:06.218453Z",
     "iopub.status.busy": "2024-07-27T06:33:06.218067Z",
     "iopub.status.idle": "2024-07-27T06:33:16.865097Z",
     "shell.execute_reply": "2024-07-27T06:33:16.864058Z"
    },
    "papermill": {
     "duration": 10.665682,
     "end_time": "2024-07-27T06:33:16.867423",
     "exception": false,
     "start_time": "2024-07-27T06:33:06.201741",
     "status": "completed"
    },
    "tags": []
   },
   "outputs": [
    {
     "name": "stdout",
     "output_type": "stream",
     "text": [
      "Average Accuracy: 0.81\n"
     ]
    }
   ],
   "source": [
    "scores = cross_val_score(model, X,y, cv=5, scoring='accuracy')\n",
    "\n",
    "print(f'Average Accuracy: {scores.mean():.2f}')\n"
   ]
  },
  {
   "cell_type": "code",
   "execution_count": 30,
   "id": "60a30501",
   "metadata": {
    "execution": {
     "iopub.execute_input": "2024-07-27T06:33:16.898725Z",
     "iopub.status.busy": "2024-07-27T06:33:16.898339Z",
     "iopub.status.idle": "2024-07-27T06:33:16.903261Z",
     "shell.execute_reply": "2024-07-27T06:33:16.902259Z"
    },
    "papermill": {
     "duration": 0.023237,
     "end_time": "2024-07-27T06:33:16.905522",
     "exception": false,
     "start_time": "2024-07-27T06:33:16.882285",
     "status": "completed"
    },
    "tags": []
   },
   "outputs": [],
   "source": [
    "from sklearn.metrics import accuracy_score"
   ]
  },
  {
   "cell_type": "code",
   "execution_count": 31,
   "id": "4921cf81",
   "metadata": {
    "execution": {
     "iopub.execute_input": "2024-07-27T06:33:16.937452Z",
     "iopub.status.busy": "2024-07-27T06:33:16.936816Z",
     "iopub.status.idle": "2024-07-27T06:33:16.943704Z",
     "shell.execute_reply": "2024-07-27T06:33:16.942642Z"
    },
    "papermill": {
     "duration": 0.025766,
     "end_time": "2024-07-27T06:33:16.946330",
     "exception": false,
     "start_time": "2024-07-27T06:33:16.920564",
     "status": "completed"
    },
    "tags": []
   },
   "outputs": [
    {
     "name": "stdout",
     "output_type": "stream",
     "text": [
      "Test Accuracy: 0.81\n"
     ]
    }
   ],
   "source": [
    "accuracy = accuracy_score(y_test, y_pred)\n",
    "print(f'Test Accuracy: {accuracy:.2f}')\n"
   ]
  },
  {
   "cell_type": "code",
   "execution_count": 32,
   "id": "cc9b3f18",
   "metadata": {
    "execution": {
     "iopub.execute_input": "2024-07-27T06:33:16.978303Z",
     "iopub.status.busy": "2024-07-27T06:33:16.977952Z",
     "iopub.status.idle": "2024-07-27T06:33:16.983699Z",
     "shell.execute_reply": "2024-07-27T06:33:16.982656Z"
    },
    "papermill": {
     "duration": 0.024363,
     "end_time": "2024-07-27T06:33:16.985912",
     "exception": false,
     "start_time": "2024-07-27T06:33:16.961549",
     "status": "completed"
    },
    "tags": []
   },
   "outputs": [],
   "source": [
    "X_test = df2[feature]"
   ]
  },
  {
   "cell_type": "code",
   "execution_count": 33,
   "id": "bd0b5165",
   "metadata": {
    "execution": {
     "iopub.execute_input": "2024-07-27T06:33:17.018018Z",
     "iopub.status.busy": "2024-07-27T06:33:17.017656Z",
     "iopub.status.idle": "2024-07-27T06:33:17.024396Z",
     "shell.execute_reply": "2024-07-27T06:33:17.023330Z"
    },
    "papermill": {
     "duration": 0.025534,
     "end_time": "2024-07-27T06:33:17.026836",
     "exception": false,
     "start_time": "2024-07-27T06:33:17.001302",
     "status": "completed"
    },
    "tags": []
   },
   "outputs": [
    {
     "name": "stdout",
     "output_type": "stream",
     "text": [
      "Pclass      0\n",
      "Sex         0\n",
      "Age         0\n",
      "SibSp       0\n",
      "Parch       0\n",
      "Fare        0\n",
      "Embarked    0\n",
      "dtype: int64\n"
     ]
    }
   ],
   "source": [
    "print(X_test.isnull().sum())\n"
   ]
  },
  {
   "cell_type": "code",
   "execution_count": 34,
   "id": "1f00c047",
   "metadata": {
    "execution": {
     "iopub.execute_input": "2024-07-27T06:33:17.058591Z",
     "iopub.status.busy": "2024-07-27T06:33:17.057935Z",
     "iopub.status.idle": "2024-07-27T06:33:17.072470Z",
     "shell.execute_reply": "2024-07-27T06:33:17.071329Z"
    },
    "papermill": {
     "duration": 0.03287,
     "end_time": "2024-07-27T06:33:17.074763",
     "exception": false,
     "start_time": "2024-07-27T06:33:17.041893",
     "status": "completed"
    },
    "tags": []
   },
   "outputs": [
    {
     "data": {
      "text/html": [
       "<div>\n",
       "<style scoped>\n",
       "    .dataframe tbody tr th:only-of-type {\n",
       "        vertical-align: middle;\n",
       "    }\n",
       "\n",
       "    .dataframe tbody tr th {\n",
       "        vertical-align: top;\n",
       "    }\n",
       "\n",
       "    .dataframe thead th {\n",
       "        text-align: right;\n",
       "    }\n",
       "</style>\n",
       "<table border=\"1\" class=\"dataframe\">\n",
       "  <thead>\n",
       "    <tr style=\"text-align: right;\">\n",
       "      <th></th>\n",
       "      <th>Pclass</th>\n",
       "      <th>Sex</th>\n",
       "      <th>Age</th>\n",
       "      <th>SibSp</th>\n",
       "      <th>Parch</th>\n",
       "      <th>Fare</th>\n",
       "      <th>Embarked</th>\n",
       "    </tr>\n",
       "  </thead>\n",
       "  <tbody>\n",
       "    <tr>\n",
       "      <th>0</th>\n",
       "      <td>3</td>\n",
       "      <td>1</td>\n",
       "      <td>34.5</td>\n",
       "      <td>0</td>\n",
       "      <td>0</td>\n",
       "      <td>7.8292</td>\n",
       "      <td>1</td>\n",
       "    </tr>\n",
       "    <tr>\n",
       "      <th>1</th>\n",
       "      <td>3</td>\n",
       "      <td>0</td>\n",
       "      <td>47.0</td>\n",
       "      <td>1</td>\n",
       "      <td>0</td>\n",
       "      <td>7.0000</td>\n",
       "      <td>2</td>\n",
       "    </tr>\n",
       "    <tr>\n",
       "      <th>2</th>\n",
       "      <td>2</td>\n",
       "      <td>1</td>\n",
       "      <td>62.0</td>\n",
       "      <td>0</td>\n",
       "      <td>0</td>\n",
       "      <td>9.6875</td>\n",
       "      <td>1</td>\n",
       "    </tr>\n",
       "    <tr>\n",
       "      <th>3</th>\n",
       "      <td>3</td>\n",
       "      <td>1</td>\n",
       "      <td>27.0</td>\n",
       "      <td>0</td>\n",
       "      <td>0</td>\n",
       "      <td>8.6625</td>\n",
       "      <td>2</td>\n",
       "    </tr>\n",
       "    <tr>\n",
       "      <th>4</th>\n",
       "      <td>3</td>\n",
       "      <td>0</td>\n",
       "      <td>22.0</td>\n",
       "      <td>1</td>\n",
       "      <td>1</td>\n",
       "      <td>12.2875</td>\n",
       "      <td>2</td>\n",
       "    </tr>\n",
       "    <tr>\n",
       "      <th>...</th>\n",
       "      <td>...</td>\n",
       "      <td>...</td>\n",
       "      <td>...</td>\n",
       "      <td>...</td>\n",
       "      <td>...</td>\n",
       "      <td>...</td>\n",
       "      <td>...</td>\n",
       "    </tr>\n",
       "    <tr>\n",
       "      <th>413</th>\n",
       "      <td>3</td>\n",
       "      <td>1</td>\n",
       "      <td>27.0</td>\n",
       "      <td>0</td>\n",
       "      <td>0</td>\n",
       "      <td>8.0500</td>\n",
       "      <td>2</td>\n",
       "    </tr>\n",
       "    <tr>\n",
       "      <th>414</th>\n",
       "      <td>1</td>\n",
       "      <td>0</td>\n",
       "      <td>39.0</td>\n",
       "      <td>0</td>\n",
       "      <td>0</td>\n",
       "      <td>108.9000</td>\n",
       "      <td>0</td>\n",
       "    </tr>\n",
       "    <tr>\n",
       "      <th>415</th>\n",
       "      <td>3</td>\n",
       "      <td>1</td>\n",
       "      <td>38.5</td>\n",
       "      <td>0</td>\n",
       "      <td>0</td>\n",
       "      <td>7.2500</td>\n",
       "      <td>2</td>\n",
       "    </tr>\n",
       "    <tr>\n",
       "      <th>416</th>\n",
       "      <td>3</td>\n",
       "      <td>1</td>\n",
       "      <td>27.0</td>\n",
       "      <td>0</td>\n",
       "      <td>0</td>\n",
       "      <td>8.0500</td>\n",
       "      <td>2</td>\n",
       "    </tr>\n",
       "    <tr>\n",
       "      <th>417</th>\n",
       "      <td>3</td>\n",
       "      <td>1</td>\n",
       "      <td>27.0</td>\n",
       "      <td>1</td>\n",
       "      <td>1</td>\n",
       "      <td>22.3583</td>\n",
       "      <td>0</td>\n",
       "    </tr>\n",
       "  </tbody>\n",
       "</table>\n",
       "<p>418 rows × 7 columns</p>\n",
       "</div>"
      ],
      "text/plain": [
       "     Pclass  Sex   Age  SibSp  Parch      Fare  Embarked\n",
       "0         3    1  34.5      0      0    7.8292         1\n",
       "1         3    0  47.0      1      0    7.0000         2\n",
       "2         2    1  62.0      0      0    9.6875         1\n",
       "3         3    1  27.0      0      0    8.6625         2\n",
       "4         3    0  22.0      1      1   12.2875         2\n",
       "..      ...  ...   ...    ...    ...       ...       ...\n",
       "413       3    1  27.0      0      0    8.0500         2\n",
       "414       1    0  39.0      0      0  108.9000         0\n",
       "415       3    1  38.5      0      0    7.2500         2\n",
       "416       3    1  27.0      0      0    8.0500         2\n",
       "417       3    1  27.0      1      1   22.3583         0\n",
       "\n",
       "[418 rows x 7 columns]"
      ]
     },
     "execution_count": 34,
     "metadata": {},
     "output_type": "execute_result"
    }
   ],
   "source": [
    "X_test"
   ]
  },
  {
   "cell_type": "code",
   "execution_count": 35,
   "id": "87e1658a",
   "metadata": {
    "execution": {
     "iopub.execute_input": "2024-07-27T06:33:17.107241Z",
     "iopub.status.busy": "2024-07-27T06:33:17.106597Z",
     "iopub.status.idle": "2024-07-27T06:33:17.224037Z",
     "shell.execute_reply": "2024-07-27T06:33:17.222762Z"
    },
    "papermill": {
     "duration": 0.136734,
     "end_time": "2024-07-27T06:33:17.226888",
     "exception": false,
     "start_time": "2024-07-27T06:33:17.090154",
     "status": "completed"
    },
    "tags": []
   },
   "outputs": [],
   "source": [
    "y_pred_test = model.predict(X_test)"
   ]
  },
  {
   "cell_type": "code",
   "execution_count": 36,
   "id": "0740dec1",
   "metadata": {
    "execution": {
     "iopub.execute_input": "2024-07-27T06:33:17.259603Z",
     "iopub.status.busy": "2024-07-27T06:33:17.259217Z",
     "iopub.status.idle": "2024-07-27T06:33:17.265152Z",
     "shell.execute_reply": "2024-07-27T06:33:17.263999Z"
    },
    "papermill": {
     "duration": 0.025003,
     "end_time": "2024-07-27T06:33:17.267420",
     "exception": false,
     "start_time": "2024-07-27T06:33:17.242417",
     "status": "completed"
    },
    "tags": []
   },
   "outputs": [],
   "source": [
    "submission = pd.DataFrame({\n",
    "    'PassengerId': df2['PassengerId'],\n",
    "    'Survived': y_pred_test\n",
    "})\n",
    "\n"
   ]
  },
  {
   "cell_type": "code",
   "execution_count": 37,
   "id": "e7612599",
   "metadata": {
    "execution": {
     "iopub.execute_input": "2024-07-27T06:33:17.300042Z",
     "iopub.status.busy": "2024-07-27T06:33:17.299337Z",
     "iopub.status.idle": "2024-07-27T06:33:17.307679Z",
     "shell.execute_reply": "2024-07-27T06:33:17.306643Z"
    },
    "papermill": {
     "duration": 0.02714,
     "end_time": "2024-07-27T06:33:17.310052",
     "exception": false,
     "start_time": "2024-07-27T06:33:17.282912",
     "status": "completed"
    },
    "tags": []
   },
   "outputs": [],
   "source": [
    "# Save to CSV file\n",
    "submission.to_csv('submission.csv', index=False)\n"
   ]
  },
  {
   "cell_type": "code",
   "execution_count": null,
   "id": "4875ca69",
   "metadata": {
    "papermill": {
     "duration": 0.0152,
     "end_time": "2024-07-27T06:33:17.340895",
     "exception": false,
     "start_time": "2024-07-27T06:33:17.325695",
     "status": "completed"
    },
    "tags": []
   },
   "outputs": [],
   "source": []
  },
  {
   "cell_type": "code",
   "execution_count": null,
   "id": "0fc6e8f2",
   "metadata": {
    "papermill": {
     "duration": 0.015206,
     "end_time": "2024-07-27T06:33:17.371519",
     "exception": false,
     "start_time": "2024-07-27T06:33:17.356313",
     "status": "completed"
    },
    "tags": []
   },
   "outputs": [],
   "source": []
  },
  {
   "cell_type": "code",
   "execution_count": null,
   "id": "4d319950",
   "metadata": {
    "papermill": {
     "duration": 0.015721,
     "end_time": "2024-07-27T06:33:17.402785",
     "exception": false,
     "start_time": "2024-07-27T06:33:17.387064",
     "status": "completed"
    },
    "tags": []
   },
   "outputs": [],
   "source": []
  },
  {
   "cell_type": "code",
   "execution_count": null,
   "id": "b02a6f85",
   "metadata": {
    "papermill": {
     "duration": 0.01523,
     "end_time": "2024-07-27T06:33:17.433311",
     "exception": false,
     "start_time": "2024-07-27T06:33:17.418081",
     "status": "completed"
    },
    "tags": []
   },
   "outputs": [],
   "source": []
  },
  {
   "cell_type": "code",
   "execution_count": null,
   "id": "39edc2e1",
   "metadata": {
    "papermill": {
     "duration": 0.015025,
     "end_time": "2024-07-27T06:33:17.463702",
     "exception": false,
     "start_time": "2024-07-27T06:33:17.448677",
     "status": "completed"
    },
    "tags": []
   },
   "outputs": [],
   "source": []
  },
  {
   "cell_type": "code",
   "execution_count": null,
   "id": "b01443c4",
   "metadata": {
    "papermill": {
     "duration": 0.015128,
     "end_time": "2024-07-27T06:33:17.494045",
     "exception": false,
     "start_time": "2024-07-27T06:33:17.478917",
     "status": "completed"
    },
    "tags": []
   },
   "outputs": [],
   "source": []
  },
  {
   "cell_type": "code",
   "execution_count": null,
   "id": "8cebcbc3",
   "metadata": {
    "papermill": {
     "duration": 0.015726,
     "end_time": "2024-07-27T06:33:17.525201",
     "exception": false,
     "start_time": "2024-07-27T06:33:17.509475",
     "status": "completed"
    },
    "tags": []
   },
   "outputs": [],
   "source": []
  },
  {
   "cell_type": "code",
   "execution_count": null,
   "id": "ae63528a",
   "metadata": {
    "papermill": {
     "duration": 0.015011,
     "end_time": "2024-07-27T06:33:17.555736",
     "exception": false,
     "start_time": "2024-07-27T06:33:17.540725",
     "status": "completed"
    },
    "tags": []
   },
   "outputs": [],
   "source": []
  },
  {
   "cell_type": "code",
   "execution_count": null,
   "id": "20f54c05",
   "metadata": {
    "papermill": {
     "duration": 0.014858,
     "end_time": "2024-07-27T06:33:17.585961",
     "exception": false,
     "start_time": "2024-07-27T06:33:17.571103",
     "status": "completed"
    },
    "tags": []
   },
   "outputs": [],
   "source": []
  }
 ],
 "metadata": {
  "kaggle": {
   "accelerator": "none",
   "dataSources": [
    {
     "databundleVersionId": 26502,
     "sourceId": 3136,
     "sourceType": "competition"
    }
   ],
   "dockerImageVersionId": 30746,
   "isGpuEnabled": false,
   "isInternetEnabled": false,
   "language": "python",
   "sourceType": "notebook"
  },
  "kernelspec": {
   "display_name": "Python 3",
   "language": "python",
   "name": "python3"
  },
  "language_info": {
   "codemirror_mode": {
    "name": "ipython",
    "version": 3
   },
   "file_extension": ".py",
   "mimetype": "text/x-python",
   "name": "python",
   "nbconvert_exporter": "python",
   "pygments_lexer": "ipython3",
   "version": "3.10.13"
  },
  "papermill": {
   "default_parameters": {},
   "duration": 22.747519,
   "end_time": "2024-07-27T06:33:18.222123",
   "environment_variables": {},
   "exception": null,
   "input_path": "__notebook__.ipynb",
   "output_path": "__notebook__.ipynb",
   "parameters": {},
   "start_time": "2024-07-27T06:32:55.474604",
   "version": "2.5.0"
  }
 },
 "nbformat": 4,
 "nbformat_minor": 5
}
