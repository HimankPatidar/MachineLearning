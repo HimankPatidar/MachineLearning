{
 "cells": [
  {
   "cell_type": "code",
   "execution_count": 1,
   "id": "bb01a0be",
   "metadata": {
    "_cell_guid": "b1076dfc-b9ad-4769-8c92-a6c4dae69d19",
    "_uuid": "8f2839f25d086af736a60e9eeb907d3b93b6e0e5",
    "execution": {
     "iopub.execute_input": "2024-07-26T19:40:53.102469Z",
     "iopub.status.busy": "2024-07-26T19:40:53.102035Z",
     "iopub.status.idle": "2024-07-26T19:40:55.640721Z",
     "shell.execute_reply": "2024-07-26T19:40:55.638994Z"
    },
    "papermill": {
     "duration": 2.568165,
     "end_time": "2024-07-26T19:40:55.644691",
     "exception": false,
     "start_time": "2024-07-26T19:40:53.076526",
     "status": "completed"
    },
    "tags": []
   },
   "outputs": [
    {
     "name": "stdout",
     "output_type": "stream",
     "text": [
      "/kaggle/input/titanic/train.csv\n",
      "/kaggle/input/titanic/test.csv\n",
      "/kaggle/input/titanic/gender_submission.csv\n"
     ]
    }
   ],
   "source": [
    "# This Python 3 environment comes with many helpful analytics libraries installed\n",
    "# It is defined by the kaggle/python Docker image: https://github.com/kaggle/docker-python\n",
    "# For example, here's several helpful packages to load\n",
    "\n",
    "import numpy as np # linear algebra\n",
    "import pandas as pd # data processing, CSV file I/O (e.g. pd.read_csv)\n",
    "import seaborn as sns\n",
    "import matplotlib.pyplot as plt\n",
    "\n",
    "# Input data files are available in the read-only \"../input/\" directory\n",
    "# For example, running this (by clicking run or pressing Shift+Enter) will list all files under the input directory\n",
    "\n",
    "import os\n",
    "for dirname, _, filenames in os.walk('/kaggle/input'):\n",
    "    for filename in filenames:\n",
    "        print(os.path.join(dirname, filename))\n",
    "\n",
    "# You can write up to 20GB to the current directory (/kaggle/working/) that gets preserved as output when you create a version using \"Save & Run All\" \n",
    "# You can also write temporary files to /kaggle/temp/, but they won't be saved outside of the current session"
   ]
  },
  {
   "cell_type": "code",
   "execution_count": 2,
   "id": "c70788ee",
   "metadata": {
    "execution": {
     "iopub.execute_input": "2024-07-26T19:40:55.697552Z",
     "iopub.status.busy": "2024-07-26T19:40:55.696850Z",
     "iopub.status.idle": "2024-07-26T19:40:55.741264Z",
     "shell.execute_reply": "2024-07-26T19:40:55.739793Z"
    },
    "papermill": {
     "duration": 0.073973,
     "end_time": "2024-07-26T19:40:55.744435",
     "exception": false,
     "start_time": "2024-07-26T19:40:55.670462",
     "status": "completed"
    },
    "tags": []
   },
   "outputs": [],
   "source": [
    "df = pd.read_csv(\"/kaggle/input/titanic/train.csv\")\n",
    "df2 = pd.read_csv(\"/kaggle/input/titanic/test.csv\")\n",
    "df3 = pd.read_csv(\"/kaggle/input/titanic/gender_submission.csv\")"
   ]
  },
  {
   "cell_type": "code",
   "execution_count": 3,
   "id": "1fd988ad",
   "metadata": {
    "execution": {
     "iopub.execute_input": "2024-07-26T19:40:55.794363Z",
     "iopub.status.busy": "2024-07-26T19:40:55.793023Z",
     "iopub.status.idle": "2024-07-26T19:40:55.827896Z",
     "shell.execute_reply": "2024-07-26T19:40:55.826358Z"
    },
    "papermill": {
     "duration": 0.062551,
     "end_time": "2024-07-26T19:40:55.831109",
     "exception": false,
     "start_time": "2024-07-26T19:40:55.768558",
     "status": "completed"
    },
    "tags": []
   },
   "outputs": [
    {
     "data": {
      "text/html": [
       "<div>\n",
       "<style scoped>\n",
       "    .dataframe tbody tr th:only-of-type {\n",
       "        vertical-align: middle;\n",
       "    }\n",
       "\n",
       "    .dataframe tbody tr th {\n",
       "        vertical-align: top;\n",
       "    }\n",
       "\n",
       "    .dataframe thead th {\n",
       "        text-align: right;\n",
       "    }\n",
       "</style>\n",
       "<table border=\"1\" class=\"dataframe\">\n",
       "  <thead>\n",
       "    <tr style=\"text-align: right;\">\n",
       "      <th></th>\n",
       "      <th>PassengerId</th>\n",
       "      <th>Survived</th>\n",
       "      <th>Pclass</th>\n",
       "      <th>Name</th>\n",
       "      <th>Sex</th>\n",
       "      <th>Age</th>\n",
       "      <th>SibSp</th>\n",
       "      <th>Parch</th>\n",
       "      <th>Ticket</th>\n",
       "      <th>Fare</th>\n",
       "      <th>Cabin</th>\n",
       "      <th>Embarked</th>\n",
       "    </tr>\n",
       "  </thead>\n",
       "  <tbody>\n",
       "    <tr>\n",
       "      <th>0</th>\n",
       "      <td>1</td>\n",
       "      <td>0</td>\n",
       "      <td>3</td>\n",
       "      <td>Braund, Mr. Owen Harris</td>\n",
       "      <td>male</td>\n",
       "      <td>22.0</td>\n",
       "      <td>1</td>\n",
       "      <td>0</td>\n",
       "      <td>A/5 21171</td>\n",
       "      <td>7.2500</td>\n",
       "      <td>NaN</td>\n",
       "      <td>S</td>\n",
       "    </tr>\n",
       "    <tr>\n",
       "      <th>1</th>\n",
       "      <td>2</td>\n",
       "      <td>1</td>\n",
       "      <td>1</td>\n",
       "      <td>Cumings, Mrs. John Bradley (Florence Briggs Th...</td>\n",
       "      <td>female</td>\n",
       "      <td>38.0</td>\n",
       "      <td>1</td>\n",
       "      <td>0</td>\n",
       "      <td>PC 17599</td>\n",
       "      <td>71.2833</td>\n",
       "      <td>C85</td>\n",
       "      <td>C</td>\n",
       "    </tr>\n",
       "    <tr>\n",
       "      <th>2</th>\n",
       "      <td>3</td>\n",
       "      <td>1</td>\n",
       "      <td>3</td>\n",
       "      <td>Heikkinen, Miss. Laina</td>\n",
       "      <td>female</td>\n",
       "      <td>26.0</td>\n",
       "      <td>0</td>\n",
       "      <td>0</td>\n",
       "      <td>STON/O2. 3101282</td>\n",
       "      <td>7.9250</td>\n",
       "      <td>NaN</td>\n",
       "      <td>S</td>\n",
       "    </tr>\n",
       "    <tr>\n",
       "      <th>3</th>\n",
       "      <td>4</td>\n",
       "      <td>1</td>\n",
       "      <td>1</td>\n",
       "      <td>Futrelle, Mrs. Jacques Heath (Lily May Peel)</td>\n",
       "      <td>female</td>\n",
       "      <td>35.0</td>\n",
       "      <td>1</td>\n",
       "      <td>0</td>\n",
       "      <td>113803</td>\n",
       "      <td>53.1000</td>\n",
       "      <td>C123</td>\n",
       "      <td>S</td>\n",
       "    </tr>\n",
       "    <tr>\n",
       "      <th>4</th>\n",
       "      <td>5</td>\n",
       "      <td>0</td>\n",
       "      <td>3</td>\n",
       "      <td>Allen, Mr. William Henry</td>\n",
       "      <td>male</td>\n",
       "      <td>35.0</td>\n",
       "      <td>0</td>\n",
       "      <td>0</td>\n",
       "      <td>373450</td>\n",
       "      <td>8.0500</td>\n",
       "      <td>NaN</td>\n",
       "      <td>S</td>\n",
       "    </tr>\n",
       "  </tbody>\n",
       "</table>\n",
       "</div>"
      ],
      "text/plain": [
       "   PassengerId  Survived  Pclass  \\\n",
       "0            1         0       3   \n",
       "1            2         1       1   \n",
       "2            3         1       3   \n",
       "3            4         1       1   \n",
       "4            5         0       3   \n",
       "\n",
       "                                                Name     Sex   Age  SibSp  \\\n",
       "0                            Braund, Mr. Owen Harris    male  22.0      1   \n",
       "1  Cumings, Mrs. John Bradley (Florence Briggs Th...  female  38.0      1   \n",
       "2                             Heikkinen, Miss. Laina  female  26.0      0   \n",
       "3       Futrelle, Mrs. Jacques Heath (Lily May Peel)  female  35.0      1   \n",
       "4                           Allen, Mr. William Henry    male  35.0      0   \n",
       "\n",
       "   Parch            Ticket     Fare Cabin Embarked  \n",
       "0      0         A/5 21171   7.2500   NaN        S  \n",
       "1      0          PC 17599  71.2833   C85        C  \n",
       "2      0  STON/O2. 3101282   7.9250   NaN        S  \n",
       "3      0            113803  53.1000  C123        S  \n",
       "4      0            373450   8.0500   NaN        S  "
      ]
     },
     "execution_count": 3,
     "metadata": {},
     "output_type": "execute_result"
    }
   ],
   "source": [
    "df.head()\n"
   ]
  },
  {
   "cell_type": "code",
   "execution_count": 4,
   "id": "9c40bd32",
   "metadata": {
    "execution": {
     "iopub.execute_input": "2024-07-26T19:40:55.882976Z",
     "iopub.status.busy": "2024-07-26T19:40:55.882571Z",
     "iopub.status.idle": "2024-07-26T19:40:55.900851Z",
     "shell.execute_reply": "2024-07-26T19:40:55.899720Z"
    },
    "papermill": {
     "duration": 0.047889,
     "end_time": "2024-07-26T19:40:55.903711",
     "exception": false,
     "start_time": "2024-07-26T19:40:55.855822",
     "status": "completed"
    },
    "tags": []
   },
   "outputs": [
    {
     "data": {
      "text/html": [
       "<div>\n",
       "<style scoped>\n",
       "    .dataframe tbody tr th:only-of-type {\n",
       "        vertical-align: middle;\n",
       "    }\n",
       "\n",
       "    .dataframe tbody tr th {\n",
       "        vertical-align: top;\n",
       "    }\n",
       "\n",
       "    .dataframe thead th {\n",
       "        text-align: right;\n",
       "    }\n",
       "</style>\n",
       "<table border=\"1\" class=\"dataframe\">\n",
       "  <thead>\n",
       "    <tr style=\"text-align: right;\">\n",
       "      <th></th>\n",
       "      <th>PassengerId</th>\n",
       "      <th>Pclass</th>\n",
       "      <th>Name</th>\n",
       "      <th>Sex</th>\n",
       "      <th>Age</th>\n",
       "      <th>SibSp</th>\n",
       "      <th>Parch</th>\n",
       "      <th>Ticket</th>\n",
       "      <th>Fare</th>\n",
       "      <th>Cabin</th>\n",
       "      <th>Embarked</th>\n",
       "    </tr>\n",
       "  </thead>\n",
       "  <tbody>\n",
       "    <tr>\n",
       "      <th>0</th>\n",
       "      <td>892</td>\n",
       "      <td>3</td>\n",
       "      <td>Kelly, Mr. James</td>\n",
       "      <td>male</td>\n",
       "      <td>34.5</td>\n",
       "      <td>0</td>\n",
       "      <td>0</td>\n",
       "      <td>330911</td>\n",
       "      <td>7.8292</td>\n",
       "      <td>NaN</td>\n",
       "      <td>Q</td>\n",
       "    </tr>\n",
       "    <tr>\n",
       "      <th>1</th>\n",
       "      <td>893</td>\n",
       "      <td>3</td>\n",
       "      <td>Wilkes, Mrs. James (Ellen Needs)</td>\n",
       "      <td>female</td>\n",
       "      <td>47.0</td>\n",
       "      <td>1</td>\n",
       "      <td>0</td>\n",
       "      <td>363272</td>\n",
       "      <td>7.0000</td>\n",
       "      <td>NaN</td>\n",
       "      <td>S</td>\n",
       "    </tr>\n",
       "    <tr>\n",
       "      <th>2</th>\n",
       "      <td>894</td>\n",
       "      <td>2</td>\n",
       "      <td>Myles, Mr. Thomas Francis</td>\n",
       "      <td>male</td>\n",
       "      <td>62.0</td>\n",
       "      <td>0</td>\n",
       "      <td>0</td>\n",
       "      <td>240276</td>\n",
       "      <td>9.6875</td>\n",
       "      <td>NaN</td>\n",
       "      <td>Q</td>\n",
       "    </tr>\n",
       "    <tr>\n",
       "      <th>3</th>\n",
       "      <td>895</td>\n",
       "      <td>3</td>\n",
       "      <td>Wirz, Mr. Albert</td>\n",
       "      <td>male</td>\n",
       "      <td>27.0</td>\n",
       "      <td>0</td>\n",
       "      <td>0</td>\n",
       "      <td>315154</td>\n",
       "      <td>8.6625</td>\n",
       "      <td>NaN</td>\n",
       "      <td>S</td>\n",
       "    </tr>\n",
       "    <tr>\n",
       "      <th>4</th>\n",
       "      <td>896</td>\n",
       "      <td>3</td>\n",
       "      <td>Hirvonen, Mrs. Alexander (Helga E Lindqvist)</td>\n",
       "      <td>female</td>\n",
       "      <td>22.0</td>\n",
       "      <td>1</td>\n",
       "      <td>1</td>\n",
       "      <td>3101298</td>\n",
       "      <td>12.2875</td>\n",
       "      <td>NaN</td>\n",
       "      <td>S</td>\n",
       "    </tr>\n",
       "  </tbody>\n",
       "</table>\n",
       "</div>"
      ],
      "text/plain": [
       "   PassengerId  Pclass                                          Name     Sex  \\\n",
       "0          892       3                              Kelly, Mr. James    male   \n",
       "1          893       3              Wilkes, Mrs. James (Ellen Needs)  female   \n",
       "2          894       2                     Myles, Mr. Thomas Francis    male   \n",
       "3          895       3                              Wirz, Mr. Albert    male   \n",
       "4          896       3  Hirvonen, Mrs. Alexander (Helga E Lindqvist)  female   \n",
       "\n",
       "    Age  SibSp  Parch   Ticket     Fare Cabin Embarked  \n",
       "0  34.5      0      0   330911   7.8292   NaN        Q  \n",
       "1  47.0      1      0   363272   7.0000   NaN        S  \n",
       "2  62.0      0      0   240276   9.6875   NaN        Q  \n",
       "3  27.0      0      0   315154   8.6625   NaN        S  \n",
       "4  22.0      1      1  3101298  12.2875   NaN        S  "
      ]
     },
     "execution_count": 4,
     "metadata": {},
     "output_type": "execute_result"
    }
   ],
   "source": [
    "df2.head()"
   ]
  },
  {
   "cell_type": "code",
   "execution_count": 5,
   "id": "e749d085",
   "metadata": {
    "execution": {
     "iopub.execute_input": "2024-07-26T19:40:55.955386Z",
     "iopub.status.busy": "2024-07-26T19:40:55.954908Z",
     "iopub.status.idle": "2024-07-26T19:40:55.966469Z",
     "shell.execute_reply": "2024-07-26T19:40:55.965274Z"
    },
    "papermill": {
     "duration": 0.040401,
     "end_time": "2024-07-26T19:40:55.969395",
     "exception": false,
     "start_time": "2024-07-26T19:40:55.928994",
     "status": "completed"
    },
    "tags": []
   },
   "outputs": [
    {
     "data": {
      "text/html": [
       "<div>\n",
       "<style scoped>\n",
       "    .dataframe tbody tr th:only-of-type {\n",
       "        vertical-align: middle;\n",
       "    }\n",
       "\n",
       "    .dataframe tbody tr th {\n",
       "        vertical-align: top;\n",
       "    }\n",
       "\n",
       "    .dataframe thead th {\n",
       "        text-align: right;\n",
       "    }\n",
       "</style>\n",
       "<table border=\"1\" class=\"dataframe\">\n",
       "  <thead>\n",
       "    <tr style=\"text-align: right;\">\n",
       "      <th></th>\n",
       "      <th>PassengerId</th>\n",
       "      <th>Survived</th>\n",
       "    </tr>\n",
       "  </thead>\n",
       "  <tbody>\n",
       "    <tr>\n",
       "      <th>0</th>\n",
       "      <td>892</td>\n",
       "      <td>0</td>\n",
       "    </tr>\n",
       "    <tr>\n",
       "      <th>1</th>\n",
       "      <td>893</td>\n",
       "      <td>1</td>\n",
       "    </tr>\n",
       "    <tr>\n",
       "      <th>2</th>\n",
       "      <td>894</td>\n",
       "      <td>0</td>\n",
       "    </tr>\n",
       "    <tr>\n",
       "      <th>3</th>\n",
       "      <td>895</td>\n",
       "      <td>0</td>\n",
       "    </tr>\n",
       "    <tr>\n",
       "      <th>4</th>\n",
       "      <td>896</td>\n",
       "      <td>1</td>\n",
       "    </tr>\n",
       "  </tbody>\n",
       "</table>\n",
       "</div>"
      ],
      "text/plain": [
       "   PassengerId  Survived\n",
       "0          892         0\n",
       "1          893         1\n",
       "2          894         0\n",
       "3          895         0\n",
       "4          896         1"
      ]
     },
     "execution_count": 5,
     "metadata": {},
     "output_type": "execute_result"
    }
   ],
   "source": [
    "df3.head()"
   ]
  },
  {
   "cell_type": "code",
   "execution_count": 6,
   "id": "3b99a5c7",
   "metadata": {
    "execution": {
     "iopub.execute_input": "2024-07-26T19:40:56.025488Z",
     "iopub.status.busy": "2024-07-26T19:40:56.025036Z",
     "iopub.status.idle": "2024-07-26T19:40:56.033381Z",
     "shell.execute_reply": "2024-07-26T19:40:56.032215Z"
    },
    "papermill": {
     "duration": 0.043029,
     "end_time": "2024-07-26T19:40:56.036855",
     "exception": false,
     "start_time": "2024-07-26T19:40:55.993826",
     "status": "completed"
    },
    "tags": []
   },
   "outputs": [
    {
     "data": {
      "text/plain": [
       "(891, 12)"
      ]
     },
     "execution_count": 6,
     "metadata": {},
     "output_type": "execute_result"
    }
   ],
   "source": [
    "df.shape\n"
   ]
  },
  {
   "cell_type": "code",
   "execution_count": 7,
   "id": "841c4929",
   "metadata": {
    "execution": {
     "iopub.execute_input": "2024-07-26T19:40:56.092403Z",
     "iopub.status.busy": "2024-07-26T19:40:56.091961Z",
     "iopub.status.idle": "2024-07-26T19:40:56.099944Z",
     "shell.execute_reply": "2024-07-26T19:40:56.098593Z"
    },
    "papermill": {
     "duration": 0.037205,
     "end_time": "2024-07-26T19:40:56.102677",
     "exception": false,
     "start_time": "2024-07-26T19:40:56.065472",
     "status": "completed"
    },
    "tags": []
   },
   "outputs": [
    {
     "data": {
      "text/plain": [
       "(418, 11)"
      ]
     },
     "execution_count": 7,
     "metadata": {},
     "output_type": "execute_result"
    }
   ],
   "source": [
    "df2.shape"
   ]
  },
  {
   "cell_type": "code",
   "execution_count": 8,
   "id": "87d5e1db",
   "metadata": {
    "execution": {
     "iopub.execute_input": "2024-07-26T19:40:56.154571Z",
     "iopub.status.busy": "2024-07-26T19:40:56.154122Z",
     "iopub.status.idle": "2024-07-26T19:40:56.162544Z",
     "shell.execute_reply": "2024-07-26T19:40:56.160971Z"
    },
    "papermill": {
     "duration": 0.039439,
     "end_time": "2024-07-26T19:40:56.166503",
     "exception": false,
     "start_time": "2024-07-26T19:40:56.127064",
     "status": "completed"
    },
    "tags": []
   },
   "outputs": [
    {
     "data": {
      "text/plain": [
       "(418, 2)"
      ]
     },
     "execution_count": 8,
     "metadata": {},
     "output_type": "execute_result"
    }
   ],
   "source": [
    "df3.shape"
   ]
  },
  {
   "cell_type": "code",
   "execution_count": 9,
   "id": "969bbe6d",
   "metadata": {
    "execution": {
     "iopub.execute_input": "2024-07-26T19:40:56.222146Z",
     "iopub.status.busy": "2024-07-26T19:40:56.221648Z",
     "iopub.status.idle": "2024-07-26T19:40:56.245158Z",
     "shell.execute_reply": "2024-07-26T19:40:56.243767Z"
    },
    "papermill": {
     "duration": 0.054806,
     "end_time": "2024-07-26T19:40:56.248494",
     "exception": false,
     "start_time": "2024-07-26T19:40:56.193688",
     "status": "completed"
    },
    "tags": []
   },
   "outputs": [
    {
     "data": {
      "text/plain": [
       "<bound method DataFrame.info of      PassengerId  Survived  Pclass  \\\n",
       "0              1         0       3   \n",
       "1              2         1       1   \n",
       "2              3         1       3   \n",
       "3              4         1       1   \n",
       "4              5         0       3   \n",
       "..           ...       ...     ...   \n",
       "886          887         0       2   \n",
       "887          888         1       1   \n",
       "888          889         0       3   \n",
       "889          890         1       1   \n",
       "890          891         0       3   \n",
       "\n",
       "                                                  Name     Sex   Age  SibSp  \\\n",
       "0                              Braund, Mr. Owen Harris    male  22.0      1   \n",
       "1    Cumings, Mrs. John Bradley (Florence Briggs Th...  female  38.0      1   \n",
       "2                               Heikkinen, Miss. Laina  female  26.0      0   \n",
       "3         Futrelle, Mrs. Jacques Heath (Lily May Peel)  female  35.0      1   \n",
       "4                             Allen, Mr. William Henry    male  35.0      0   \n",
       "..                                                 ...     ...   ...    ...   \n",
       "886                              Montvila, Rev. Juozas    male  27.0      0   \n",
       "887                       Graham, Miss. Margaret Edith  female  19.0      0   \n",
       "888           Johnston, Miss. Catherine Helen \"Carrie\"  female   NaN      1   \n",
       "889                              Behr, Mr. Karl Howell    male  26.0      0   \n",
       "890                                Dooley, Mr. Patrick    male  32.0      0   \n",
       "\n",
       "     Parch            Ticket     Fare Cabin Embarked  \n",
       "0        0         A/5 21171   7.2500   NaN        S  \n",
       "1        0          PC 17599  71.2833   C85        C  \n",
       "2        0  STON/O2. 3101282   7.9250   NaN        S  \n",
       "3        0            113803  53.1000  C123        S  \n",
       "4        0            373450   8.0500   NaN        S  \n",
       "..     ...               ...      ...   ...      ...  \n",
       "886      0            211536  13.0000   NaN        S  \n",
       "887      0            112053  30.0000   B42        S  \n",
       "888      2        W./C. 6607  23.4500   NaN        S  \n",
       "889      0            111369  30.0000  C148        C  \n",
       "890      0            370376   7.7500   NaN        Q  \n",
       "\n",
       "[891 rows x 12 columns]>"
      ]
     },
     "execution_count": 9,
     "metadata": {},
     "output_type": "execute_result"
    }
   ],
   "source": [
    "df.info"
   ]
  },
  {
   "cell_type": "code",
   "execution_count": 10,
   "id": "bc20980f",
   "metadata": {
    "execution": {
     "iopub.execute_input": "2024-07-26T19:40:56.301432Z",
     "iopub.status.busy": "2024-07-26T19:40:56.300924Z",
     "iopub.status.idle": "2024-07-26T19:40:56.343974Z",
     "shell.execute_reply": "2024-07-26T19:40:56.342458Z"
    },
    "papermill": {
     "duration": 0.074005,
     "end_time": "2024-07-26T19:40:56.347039",
     "exception": false,
     "start_time": "2024-07-26T19:40:56.273034",
     "status": "completed"
    },
    "tags": []
   },
   "outputs": [
    {
     "data": {
      "text/html": [
       "<div>\n",
       "<style scoped>\n",
       "    .dataframe tbody tr th:only-of-type {\n",
       "        vertical-align: middle;\n",
       "    }\n",
       "\n",
       "    .dataframe tbody tr th {\n",
       "        vertical-align: top;\n",
       "    }\n",
       "\n",
       "    .dataframe thead th {\n",
       "        text-align: right;\n",
       "    }\n",
       "</style>\n",
       "<table border=\"1\" class=\"dataframe\">\n",
       "  <thead>\n",
       "    <tr style=\"text-align: right;\">\n",
       "      <th></th>\n",
       "      <th>PassengerId</th>\n",
       "      <th>Survived</th>\n",
       "      <th>Pclass</th>\n",
       "      <th>Age</th>\n",
       "      <th>SibSp</th>\n",
       "      <th>Parch</th>\n",
       "      <th>Fare</th>\n",
       "    </tr>\n",
       "  </thead>\n",
       "  <tbody>\n",
       "    <tr>\n",
       "      <th>count</th>\n",
       "      <td>891.000000</td>\n",
       "      <td>891.000000</td>\n",
       "      <td>891.000000</td>\n",
       "      <td>714.000000</td>\n",
       "      <td>891.000000</td>\n",
       "      <td>891.000000</td>\n",
       "      <td>891.000000</td>\n",
       "    </tr>\n",
       "    <tr>\n",
       "      <th>mean</th>\n",
       "      <td>446.000000</td>\n",
       "      <td>0.383838</td>\n",
       "      <td>2.308642</td>\n",
       "      <td>29.699118</td>\n",
       "      <td>0.523008</td>\n",
       "      <td>0.381594</td>\n",
       "      <td>32.204208</td>\n",
       "    </tr>\n",
       "    <tr>\n",
       "      <th>std</th>\n",
       "      <td>257.353842</td>\n",
       "      <td>0.486592</td>\n",
       "      <td>0.836071</td>\n",
       "      <td>14.526497</td>\n",
       "      <td>1.102743</td>\n",
       "      <td>0.806057</td>\n",
       "      <td>49.693429</td>\n",
       "    </tr>\n",
       "    <tr>\n",
       "      <th>min</th>\n",
       "      <td>1.000000</td>\n",
       "      <td>0.000000</td>\n",
       "      <td>1.000000</td>\n",
       "      <td>0.420000</td>\n",
       "      <td>0.000000</td>\n",
       "      <td>0.000000</td>\n",
       "      <td>0.000000</td>\n",
       "    </tr>\n",
       "    <tr>\n",
       "      <th>25%</th>\n",
       "      <td>223.500000</td>\n",
       "      <td>0.000000</td>\n",
       "      <td>2.000000</td>\n",
       "      <td>20.125000</td>\n",
       "      <td>0.000000</td>\n",
       "      <td>0.000000</td>\n",
       "      <td>7.910400</td>\n",
       "    </tr>\n",
       "    <tr>\n",
       "      <th>50%</th>\n",
       "      <td>446.000000</td>\n",
       "      <td>0.000000</td>\n",
       "      <td>3.000000</td>\n",
       "      <td>28.000000</td>\n",
       "      <td>0.000000</td>\n",
       "      <td>0.000000</td>\n",
       "      <td>14.454200</td>\n",
       "    </tr>\n",
       "    <tr>\n",
       "      <th>75%</th>\n",
       "      <td>668.500000</td>\n",
       "      <td>1.000000</td>\n",
       "      <td>3.000000</td>\n",
       "      <td>38.000000</td>\n",
       "      <td>1.000000</td>\n",
       "      <td>0.000000</td>\n",
       "      <td>31.000000</td>\n",
       "    </tr>\n",
       "    <tr>\n",
       "      <th>max</th>\n",
       "      <td>891.000000</td>\n",
       "      <td>1.000000</td>\n",
       "      <td>3.000000</td>\n",
       "      <td>80.000000</td>\n",
       "      <td>8.000000</td>\n",
       "      <td>6.000000</td>\n",
       "      <td>512.329200</td>\n",
       "    </tr>\n",
       "  </tbody>\n",
       "</table>\n",
       "</div>"
      ],
      "text/plain": [
       "       PassengerId    Survived      Pclass         Age       SibSp  \\\n",
       "count   891.000000  891.000000  891.000000  714.000000  891.000000   \n",
       "mean    446.000000    0.383838    2.308642   29.699118    0.523008   \n",
       "std     257.353842    0.486592    0.836071   14.526497    1.102743   \n",
       "min       1.000000    0.000000    1.000000    0.420000    0.000000   \n",
       "25%     223.500000    0.000000    2.000000   20.125000    0.000000   \n",
       "50%     446.000000    0.000000    3.000000   28.000000    0.000000   \n",
       "75%     668.500000    1.000000    3.000000   38.000000    1.000000   \n",
       "max     891.000000    1.000000    3.000000   80.000000    8.000000   \n",
       "\n",
       "            Parch        Fare  \n",
       "count  891.000000  891.000000  \n",
       "mean     0.381594   32.204208  \n",
       "std      0.806057   49.693429  \n",
       "min      0.000000    0.000000  \n",
       "25%      0.000000    7.910400  \n",
       "50%      0.000000   14.454200  \n",
       "75%      0.000000   31.000000  \n",
       "max      6.000000  512.329200  "
      ]
     },
     "execution_count": 10,
     "metadata": {},
     "output_type": "execute_result"
    }
   ],
   "source": [
    "df.describe()"
   ]
  },
  {
   "cell_type": "code",
   "execution_count": 11,
   "id": "94f007de",
   "metadata": {
    "execution": {
     "iopub.execute_input": "2024-07-26T19:40:56.401417Z",
     "iopub.status.busy": "2024-07-26T19:40:56.400889Z",
     "iopub.status.idle": "2024-07-26T19:40:56.436583Z",
     "shell.execute_reply": "2024-07-26T19:40:56.435301Z"
    },
    "papermill": {
     "duration": 0.066001,
     "end_time": "2024-07-26T19:40:56.439435",
     "exception": false,
     "start_time": "2024-07-26T19:40:56.373434",
     "status": "completed"
    },
    "tags": []
   },
   "outputs": [
    {
     "data": {
      "text/html": [
       "<div>\n",
       "<style scoped>\n",
       "    .dataframe tbody tr th:only-of-type {\n",
       "        vertical-align: middle;\n",
       "    }\n",
       "\n",
       "    .dataframe tbody tr th {\n",
       "        vertical-align: top;\n",
       "    }\n",
       "\n",
       "    .dataframe thead th {\n",
       "        text-align: right;\n",
       "    }\n",
       "</style>\n",
       "<table border=\"1\" class=\"dataframe\">\n",
       "  <thead>\n",
       "    <tr style=\"text-align: right;\">\n",
       "      <th></th>\n",
       "      <th>PassengerId</th>\n",
       "      <th>Pclass</th>\n",
       "      <th>Age</th>\n",
       "      <th>SibSp</th>\n",
       "      <th>Parch</th>\n",
       "      <th>Fare</th>\n",
       "    </tr>\n",
       "  </thead>\n",
       "  <tbody>\n",
       "    <tr>\n",
       "      <th>count</th>\n",
       "      <td>418.000000</td>\n",
       "      <td>418.000000</td>\n",
       "      <td>332.000000</td>\n",
       "      <td>418.000000</td>\n",
       "      <td>418.000000</td>\n",
       "      <td>417.000000</td>\n",
       "    </tr>\n",
       "    <tr>\n",
       "      <th>mean</th>\n",
       "      <td>1100.500000</td>\n",
       "      <td>2.265550</td>\n",
       "      <td>30.272590</td>\n",
       "      <td>0.447368</td>\n",
       "      <td>0.392344</td>\n",
       "      <td>35.627188</td>\n",
       "    </tr>\n",
       "    <tr>\n",
       "      <th>std</th>\n",
       "      <td>120.810458</td>\n",
       "      <td>0.841838</td>\n",
       "      <td>14.181209</td>\n",
       "      <td>0.896760</td>\n",
       "      <td>0.981429</td>\n",
       "      <td>55.907576</td>\n",
       "    </tr>\n",
       "    <tr>\n",
       "      <th>min</th>\n",
       "      <td>892.000000</td>\n",
       "      <td>1.000000</td>\n",
       "      <td>0.170000</td>\n",
       "      <td>0.000000</td>\n",
       "      <td>0.000000</td>\n",
       "      <td>0.000000</td>\n",
       "    </tr>\n",
       "    <tr>\n",
       "      <th>25%</th>\n",
       "      <td>996.250000</td>\n",
       "      <td>1.000000</td>\n",
       "      <td>21.000000</td>\n",
       "      <td>0.000000</td>\n",
       "      <td>0.000000</td>\n",
       "      <td>7.895800</td>\n",
       "    </tr>\n",
       "    <tr>\n",
       "      <th>50%</th>\n",
       "      <td>1100.500000</td>\n",
       "      <td>3.000000</td>\n",
       "      <td>27.000000</td>\n",
       "      <td>0.000000</td>\n",
       "      <td>0.000000</td>\n",
       "      <td>14.454200</td>\n",
       "    </tr>\n",
       "    <tr>\n",
       "      <th>75%</th>\n",
       "      <td>1204.750000</td>\n",
       "      <td>3.000000</td>\n",
       "      <td>39.000000</td>\n",
       "      <td>1.000000</td>\n",
       "      <td>0.000000</td>\n",
       "      <td>31.500000</td>\n",
       "    </tr>\n",
       "    <tr>\n",
       "      <th>max</th>\n",
       "      <td>1309.000000</td>\n",
       "      <td>3.000000</td>\n",
       "      <td>76.000000</td>\n",
       "      <td>8.000000</td>\n",
       "      <td>9.000000</td>\n",
       "      <td>512.329200</td>\n",
       "    </tr>\n",
       "  </tbody>\n",
       "</table>\n",
       "</div>"
      ],
      "text/plain": [
       "       PassengerId      Pclass         Age       SibSp       Parch        Fare\n",
       "count   418.000000  418.000000  332.000000  418.000000  418.000000  417.000000\n",
       "mean   1100.500000    2.265550   30.272590    0.447368    0.392344   35.627188\n",
       "std     120.810458    0.841838   14.181209    0.896760    0.981429   55.907576\n",
       "min     892.000000    1.000000    0.170000    0.000000    0.000000    0.000000\n",
       "25%     996.250000    1.000000   21.000000    0.000000    0.000000    7.895800\n",
       "50%    1100.500000    3.000000   27.000000    0.000000    0.000000   14.454200\n",
       "75%    1204.750000    3.000000   39.000000    1.000000    0.000000   31.500000\n",
       "max    1309.000000    3.000000   76.000000    8.000000    9.000000  512.329200"
      ]
     },
     "execution_count": 11,
     "metadata": {},
     "output_type": "execute_result"
    }
   ],
   "source": [
    "df2.describe()\n"
   ]
  },
  {
   "cell_type": "code",
   "execution_count": 12,
   "id": "2d83b268",
   "metadata": {
    "execution": {
     "iopub.execute_input": "2024-07-26T19:40:56.497015Z",
     "iopub.status.busy": "2024-07-26T19:40:56.495731Z",
     "iopub.status.idle": "2024-07-26T19:40:56.519174Z",
     "shell.execute_reply": "2024-07-26T19:40:56.517737Z"
    },
    "papermill": {
     "duration": 0.054766,
     "end_time": "2024-07-26T19:40:56.522392",
     "exception": false,
     "start_time": "2024-07-26T19:40:56.467626",
     "status": "completed"
    },
    "tags": []
   },
   "outputs": [
    {
     "data": {
      "text/html": [
       "<div>\n",
       "<style scoped>\n",
       "    .dataframe tbody tr th:only-of-type {\n",
       "        vertical-align: middle;\n",
       "    }\n",
       "\n",
       "    .dataframe tbody tr th {\n",
       "        vertical-align: top;\n",
       "    }\n",
       "\n",
       "    .dataframe thead th {\n",
       "        text-align: right;\n",
       "    }\n",
       "</style>\n",
       "<table border=\"1\" class=\"dataframe\">\n",
       "  <thead>\n",
       "    <tr style=\"text-align: right;\">\n",
       "      <th></th>\n",
       "      <th>PassengerId</th>\n",
       "      <th>Survived</th>\n",
       "    </tr>\n",
       "  </thead>\n",
       "  <tbody>\n",
       "    <tr>\n",
       "      <th>count</th>\n",
       "      <td>418.000000</td>\n",
       "      <td>418.000000</td>\n",
       "    </tr>\n",
       "    <tr>\n",
       "      <th>mean</th>\n",
       "      <td>1100.500000</td>\n",
       "      <td>0.363636</td>\n",
       "    </tr>\n",
       "    <tr>\n",
       "      <th>std</th>\n",
       "      <td>120.810458</td>\n",
       "      <td>0.481622</td>\n",
       "    </tr>\n",
       "    <tr>\n",
       "      <th>min</th>\n",
       "      <td>892.000000</td>\n",
       "      <td>0.000000</td>\n",
       "    </tr>\n",
       "    <tr>\n",
       "      <th>25%</th>\n",
       "      <td>996.250000</td>\n",
       "      <td>0.000000</td>\n",
       "    </tr>\n",
       "    <tr>\n",
       "      <th>50%</th>\n",
       "      <td>1100.500000</td>\n",
       "      <td>0.000000</td>\n",
       "    </tr>\n",
       "    <tr>\n",
       "      <th>75%</th>\n",
       "      <td>1204.750000</td>\n",
       "      <td>1.000000</td>\n",
       "    </tr>\n",
       "    <tr>\n",
       "      <th>max</th>\n",
       "      <td>1309.000000</td>\n",
       "      <td>1.000000</td>\n",
       "    </tr>\n",
       "  </tbody>\n",
       "</table>\n",
       "</div>"
      ],
      "text/plain": [
       "       PassengerId    Survived\n",
       "count   418.000000  418.000000\n",
       "mean   1100.500000    0.363636\n",
       "std     120.810458    0.481622\n",
       "min     892.000000    0.000000\n",
       "25%     996.250000    0.000000\n",
       "50%    1100.500000    0.000000\n",
       "75%    1204.750000    1.000000\n",
       "max    1309.000000    1.000000"
      ]
     },
     "execution_count": 12,
     "metadata": {},
     "output_type": "execute_result"
    }
   ],
   "source": [
    "df3.describe()\n"
   ]
  },
  {
   "cell_type": "code",
   "execution_count": 13,
   "id": "566b2c15",
   "metadata": {
    "execution": {
     "iopub.execute_input": "2024-07-26T19:40:56.575049Z",
     "iopub.status.busy": "2024-07-26T19:40:56.574146Z",
     "iopub.status.idle": "2024-07-26T19:40:56.601135Z",
     "shell.execute_reply": "2024-07-26T19:40:56.599691Z"
    },
    "papermill": {
     "duration": 0.058219,
     "end_time": "2024-07-26T19:40:56.605233",
     "exception": false,
     "start_time": "2024-07-26T19:40:56.547014",
     "status": "completed"
    },
    "tags": []
   },
   "outputs": [
    {
     "name": "stdout",
     "output_type": "stream",
     "text": [
      "<class 'pandas.core.frame.DataFrame'>\n",
      "RangeIndex: 418 entries, 0 to 417\n",
      "Data columns (total 2 columns):\n",
      " #   Column       Non-Null Count  Dtype\n",
      "---  ------       --------------  -----\n",
      " 0   PassengerId  418 non-null    int64\n",
      " 1   Survived     418 non-null    int64\n",
      "dtypes: int64(2)\n",
      "memory usage: 6.7 KB\n"
     ]
    }
   ],
   "source": [
    "df3.info()\n"
   ]
  },
  {
   "cell_type": "code",
   "execution_count": 14,
   "id": "48808711",
   "metadata": {
    "execution": {
     "iopub.execute_input": "2024-07-26T19:40:56.661882Z",
     "iopub.status.busy": "2024-07-26T19:40:56.661433Z",
     "iopub.status.idle": "2024-07-26T19:40:56.681702Z",
     "shell.execute_reply": "2024-07-26T19:40:56.679426Z"
    },
    "papermill": {
     "duration": 0.053988,
     "end_time": "2024-07-26T19:40:56.684972",
     "exception": false,
     "start_time": "2024-07-26T19:40:56.630984",
     "status": "completed"
    },
    "tags": []
   },
   "outputs": [
    {
     "data": {
      "text/plain": [
       "<bound method DataFrame.info of      PassengerId  Pclass                                          Name  \\\n",
       "0            892       3                              Kelly, Mr. James   \n",
       "1            893       3              Wilkes, Mrs. James (Ellen Needs)   \n",
       "2            894       2                     Myles, Mr. Thomas Francis   \n",
       "3            895       3                              Wirz, Mr. Albert   \n",
       "4            896       3  Hirvonen, Mrs. Alexander (Helga E Lindqvist)   \n",
       "..           ...     ...                                           ...   \n",
       "413         1305       3                            Spector, Mr. Woolf   \n",
       "414         1306       1                  Oliva y Ocana, Dona. Fermina   \n",
       "415         1307       3                  Saether, Mr. Simon Sivertsen   \n",
       "416         1308       3                           Ware, Mr. Frederick   \n",
       "417         1309       3                      Peter, Master. Michael J   \n",
       "\n",
       "        Sex   Age  SibSp  Parch              Ticket      Fare Cabin Embarked  \n",
       "0      male  34.5      0      0              330911    7.8292   NaN        Q  \n",
       "1    female  47.0      1      0              363272    7.0000   NaN        S  \n",
       "2      male  62.0      0      0              240276    9.6875   NaN        Q  \n",
       "3      male  27.0      0      0              315154    8.6625   NaN        S  \n",
       "4    female  22.0      1      1             3101298   12.2875   NaN        S  \n",
       "..      ...   ...    ...    ...                 ...       ...   ...      ...  \n",
       "413    male   NaN      0      0           A.5. 3236    8.0500   NaN        S  \n",
       "414  female  39.0      0      0            PC 17758  108.9000  C105        C  \n",
       "415    male  38.5      0      0  SOTON/O.Q. 3101262    7.2500   NaN        S  \n",
       "416    male   NaN      0      0              359309    8.0500   NaN        S  \n",
       "417    male   NaN      1      1                2668   22.3583   NaN        C  \n",
       "\n",
       "[418 rows x 11 columns]>"
      ]
     },
     "execution_count": 14,
     "metadata": {},
     "output_type": "execute_result"
    }
   ],
   "source": [
    "df2.info"
   ]
  },
  {
   "cell_type": "markdown",
   "id": "43643313",
   "metadata": {
    "papermill": {
     "duration": 0.025067,
     "end_time": "2024-07-26T19:40:56.736620",
     "exception": false,
     "start_time": "2024-07-26T19:40:56.711553",
     "status": "completed"
    },
    "tags": []
   },
   "source": [
    "# Handling Missing Value"
   ]
  },
  {
   "cell_type": "code",
   "execution_count": 15,
   "id": "da88e1a0",
   "metadata": {
    "execution": {
     "iopub.execute_input": "2024-07-26T19:40:56.789775Z",
     "iopub.status.busy": "2024-07-26T19:40:56.788477Z",
     "iopub.status.idle": "2024-07-26T19:40:56.801183Z",
     "shell.execute_reply": "2024-07-26T19:40:56.799803Z"
    },
    "papermill": {
     "duration": 0.04285,
     "end_time": "2024-07-26T19:40:56.804549",
     "exception": false,
     "start_time": "2024-07-26T19:40:56.761699",
     "status": "completed"
    },
    "tags": []
   },
   "outputs": [
    {
     "data": {
      "text/plain": [
       "PassengerId      0\n",
       "Survived         0\n",
       "Pclass           0\n",
       "Name             0\n",
       "Sex              0\n",
       "Age            177\n",
       "SibSp            0\n",
       "Parch            0\n",
       "Ticket           0\n",
       "Fare             0\n",
       "Cabin          687\n",
       "Embarked         2\n",
       "dtype: int64"
      ]
     },
     "execution_count": 15,
     "metadata": {},
     "output_type": "execute_result"
    }
   ],
   "source": [
    "df.isnull().sum()"
   ]
  },
  {
   "cell_type": "code",
   "execution_count": 16,
   "id": "000557aa",
   "metadata": {
    "execution": {
     "iopub.execute_input": "2024-07-26T19:40:56.861364Z",
     "iopub.status.busy": "2024-07-26T19:40:56.860777Z",
     "iopub.status.idle": "2024-07-26T19:40:56.871037Z",
     "shell.execute_reply": "2024-07-26T19:40:56.869573Z"
    },
    "papermill": {
     "duration": 0.041536,
     "end_time": "2024-07-26T19:40:56.874243",
     "exception": false,
     "start_time": "2024-07-26T19:40:56.832707",
     "status": "completed"
    },
    "tags": []
   },
   "outputs": [],
   "source": [
    "df.drop('Cabin', inplace=True, axis=1)"
   ]
  },
  {
   "cell_type": "code",
   "execution_count": 17,
   "id": "9ba402ec",
   "metadata": {
    "execution": {
     "iopub.execute_input": "2024-07-26T19:40:56.930133Z",
     "iopub.status.busy": "2024-07-26T19:40:56.929012Z",
     "iopub.status.idle": "2024-07-26T19:40:56.941504Z",
     "shell.execute_reply": "2024-07-26T19:40:56.939868Z"
    },
    "papermill": {
     "duration": 0.043341,
     "end_time": "2024-07-26T19:40:56.944261",
     "exception": false,
     "start_time": "2024-07-26T19:40:56.900920",
     "status": "completed"
    },
    "tags": []
   },
   "outputs": [
    {
     "data": {
      "text/plain": [
       "PassengerId      0\n",
       "Survived         0\n",
       "Pclass           0\n",
       "Name             0\n",
       "Sex              0\n",
       "Age            177\n",
       "SibSp            0\n",
       "Parch            0\n",
       "Ticket           0\n",
       "Fare             0\n",
       "Embarked         2\n",
       "dtype: int64"
      ]
     },
     "execution_count": 17,
     "metadata": {},
     "output_type": "execute_result"
    }
   ],
   "source": [
    "df.isnull().sum()"
   ]
  },
  {
   "cell_type": "code",
   "execution_count": 18,
   "id": "fdcd37e9",
   "metadata": {
    "execution": {
     "iopub.execute_input": "2024-07-26T19:40:56.998438Z",
     "iopub.status.busy": "2024-07-26T19:40:56.997793Z",
     "iopub.status.idle": "2024-07-26T19:40:57.010486Z",
     "shell.execute_reply": "2024-07-26T19:40:57.008990Z"
    },
    "papermill": {
     "duration": 0.043467,
     "end_time": "2024-07-26T19:40:57.013454",
     "exception": false,
     "start_time": "2024-07-26T19:40:56.969987",
     "status": "completed"
    },
    "tags": []
   },
   "outputs": [
    {
     "name": "stderr",
     "output_type": "stream",
     "text": [
      "/tmp/ipykernel_18/1933487976.py:1: FutureWarning: A value is trying to be set on a copy of a DataFrame or Series through chained assignment using an inplace method.\n",
      "The behavior will change in pandas 3.0. This inplace method will never work because the intermediate object on which we are setting values always behaves as a copy.\n",
      "\n",
      "For example, when doing 'df[col].method(value, inplace=True)', try using 'df.method({col: value}, inplace=True)' or df[col] = df[col].method(value) instead, to perform the operation inplace on the original object.\n",
      "\n",
      "\n",
      "  df['Age'].fillna(df['Age'].median(), inplace=True)\n"
     ]
    }
   ],
   "source": [
    "df['Age'].fillna(df['Age'].median(), inplace=True)"
   ]
  },
  {
   "cell_type": "code",
   "execution_count": 19,
   "id": "aa8bd4b9",
   "metadata": {
    "execution": {
     "iopub.execute_input": "2024-07-26T19:40:57.173622Z",
     "iopub.status.busy": "2024-07-26T19:40:57.172042Z",
     "iopub.status.idle": "2024-07-26T19:40:57.183428Z",
     "shell.execute_reply": "2024-07-26T19:40:57.182072Z"
    },
    "papermill": {
     "duration": 0.045778,
     "end_time": "2024-07-26T19:40:57.186423",
     "exception": false,
     "start_time": "2024-07-26T19:40:57.140645",
     "status": "completed"
    },
    "tags": []
   },
   "outputs": [
    {
     "data": {
      "text/plain": [
       "PassengerId    0\n",
       "Survived       0\n",
       "Pclass         0\n",
       "Name           0\n",
       "Sex            0\n",
       "Age            0\n",
       "SibSp          0\n",
       "Parch          0\n",
       "Ticket         0\n",
       "Fare           0\n",
       "Embarked       2\n",
       "dtype: int64"
      ]
     },
     "execution_count": 19,
     "metadata": {},
     "output_type": "execute_result"
    }
   ],
   "source": [
    "df.isnull().sum()"
   ]
  },
  {
   "cell_type": "code",
   "execution_count": 20,
   "id": "3e9ad3a4",
   "metadata": {
    "execution": {
     "iopub.execute_input": "2024-07-26T19:40:57.241896Z",
     "iopub.status.busy": "2024-07-26T19:40:57.241430Z",
     "iopub.status.idle": "2024-07-26T19:40:57.250786Z",
     "shell.execute_reply": "2024-07-26T19:40:57.249296Z"
    },
    "papermill": {
     "duration": 0.040296,
     "end_time": "2024-07-26T19:40:57.253706",
     "exception": false,
     "start_time": "2024-07-26T19:40:57.213410",
     "status": "completed"
    },
    "tags": []
   },
   "outputs": [
    {
     "name": "stderr",
     "output_type": "stream",
     "text": [
      "/tmp/ipykernel_18/3744086084.py:1: FutureWarning: A value is trying to be set on a copy of a DataFrame or Series through chained assignment using an inplace method.\n",
      "The behavior will change in pandas 3.0. This inplace method will never work because the intermediate object on which we are setting values always behaves as a copy.\n",
      "\n",
      "For example, when doing 'df[col].method(value, inplace=True)', try using 'df.method({col: value}, inplace=True)' or df[col] = df[col].method(value) instead, to perform the operation inplace on the original object.\n",
      "\n",
      "\n",
      "  df['Embarked'].fillna(df['Embarked'].mode()[0], inplace=True)\n"
     ]
    }
   ],
   "source": [
    "df['Embarked'].fillna(df['Embarked'].mode()[0], inplace=True)"
   ]
  },
  {
   "cell_type": "markdown",
   "id": "6b1265da",
   "metadata": {
    "papermill": {
     "duration": 0.025269,
     "end_time": "2024-07-26T19:40:57.305737",
     "exception": false,
     "start_time": "2024-07-26T19:40:57.280468",
     "status": "completed"
    },
    "tags": []
   },
   "source": [
    "# Feature the data into category"
   ]
  },
  {
   "cell_type": "code",
   "execution_count": 21,
   "id": "7174d645",
   "metadata": {
    "execution": {
     "iopub.execute_input": "2024-07-26T19:40:57.361687Z",
     "iopub.status.busy": "2024-07-26T19:40:57.361207Z",
     "iopub.status.idle": "2024-07-26T19:40:57.651401Z",
     "shell.execute_reply": "2024-07-26T19:40:57.649795Z"
    },
    "papermill": {
     "duration": 0.323012,
     "end_time": "2024-07-26T19:40:57.655179",
     "exception": false,
     "start_time": "2024-07-26T19:40:57.332167",
     "status": "completed"
    },
    "tags": []
   },
   "outputs": [],
   "source": [
    "from sklearn.preprocessing import LabelEncoder"
   ]
  },
  {
   "cell_type": "code",
   "execution_count": 22,
   "id": "193987bd",
   "metadata": {
    "execution": {
     "iopub.execute_input": "2024-07-26T19:40:57.732978Z",
     "iopub.status.busy": "2024-07-26T19:40:57.731710Z",
     "iopub.status.idle": "2024-07-26T19:40:57.745838Z",
     "shell.execute_reply": "2024-07-26T19:40:57.744310Z"
    },
    "papermill": {
     "duration": 0.052296,
     "end_time": "2024-07-26T19:40:57.749005",
     "exception": false,
     "start_time": "2024-07-26T19:40:57.696709",
     "status": "completed"
    },
    "tags": []
   },
   "outputs": [],
   "source": [
    "label_Encoder = LabelEncoder()\n",
    "df['Sex'] = label_Encoder.fit_transform(df['Sex'])\n",
    "df['Embarked'] = label_Encoder.fit_transform(df['Embarked'])\n",
    "\n",
    "feature = ['Pclass','Sex','Age','SibSp','Parch','Fare','Embarked']\n",
    "x = df[feature]\n",
    "y= df['Survived']"
   ]
  },
  {
   "cell_type": "code",
   "execution_count": 23,
   "id": "14e004ed",
   "metadata": {
    "execution": {
     "iopub.execute_input": "2024-07-26T19:40:57.817598Z",
     "iopub.status.busy": "2024-07-26T19:40:57.817017Z",
     "iopub.status.idle": "2024-07-26T19:40:57.838231Z",
     "shell.execute_reply": "2024-07-26T19:40:57.836878Z"
    },
    "papermill": {
     "duration": 0.06182,
     "end_time": "2024-07-26T19:40:57.841412",
     "exception": false,
     "start_time": "2024-07-26T19:40:57.779592",
     "status": "completed"
    },
    "tags": []
   },
   "outputs": [
    {
     "data": {
      "text/html": [
       "<div>\n",
       "<style scoped>\n",
       "    .dataframe tbody tr th:only-of-type {\n",
       "        vertical-align: middle;\n",
       "    }\n",
       "\n",
       "    .dataframe tbody tr th {\n",
       "        vertical-align: top;\n",
       "    }\n",
       "\n",
       "    .dataframe thead th {\n",
       "        text-align: right;\n",
       "    }\n",
       "</style>\n",
       "<table border=\"1\" class=\"dataframe\">\n",
       "  <thead>\n",
       "    <tr style=\"text-align: right;\">\n",
       "      <th></th>\n",
       "      <th>Pclass</th>\n",
       "      <th>Sex</th>\n",
       "      <th>Age</th>\n",
       "      <th>SibSp</th>\n",
       "      <th>Parch</th>\n",
       "      <th>Fare</th>\n",
       "      <th>Embarked</th>\n",
       "    </tr>\n",
       "  </thead>\n",
       "  <tbody>\n",
       "    <tr>\n",
       "      <th>0</th>\n",
       "      <td>3</td>\n",
       "      <td>1</td>\n",
       "      <td>22.0</td>\n",
       "      <td>1</td>\n",
       "      <td>0</td>\n",
       "      <td>7.2500</td>\n",
       "      <td>2</td>\n",
       "    </tr>\n",
       "    <tr>\n",
       "      <th>1</th>\n",
       "      <td>1</td>\n",
       "      <td>0</td>\n",
       "      <td>38.0</td>\n",
       "      <td>1</td>\n",
       "      <td>0</td>\n",
       "      <td>71.2833</td>\n",
       "      <td>0</td>\n",
       "    </tr>\n",
       "    <tr>\n",
       "      <th>2</th>\n",
       "      <td>3</td>\n",
       "      <td>0</td>\n",
       "      <td>26.0</td>\n",
       "      <td>0</td>\n",
       "      <td>0</td>\n",
       "      <td>7.9250</td>\n",
       "      <td>2</td>\n",
       "    </tr>\n",
       "    <tr>\n",
       "      <th>3</th>\n",
       "      <td>1</td>\n",
       "      <td>0</td>\n",
       "      <td>35.0</td>\n",
       "      <td>1</td>\n",
       "      <td>0</td>\n",
       "      <td>53.1000</td>\n",
       "      <td>2</td>\n",
       "    </tr>\n",
       "    <tr>\n",
       "      <th>4</th>\n",
       "      <td>3</td>\n",
       "      <td>1</td>\n",
       "      <td>35.0</td>\n",
       "      <td>0</td>\n",
       "      <td>0</td>\n",
       "      <td>8.0500</td>\n",
       "      <td>2</td>\n",
       "    </tr>\n",
       "    <tr>\n",
       "      <th>...</th>\n",
       "      <td>...</td>\n",
       "      <td>...</td>\n",
       "      <td>...</td>\n",
       "      <td>...</td>\n",
       "      <td>...</td>\n",
       "      <td>...</td>\n",
       "      <td>...</td>\n",
       "    </tr>\n",
       "    <tr>\n",
       "      <th>886</th>\n",
       "      <td>2</td>\n",
       "      <td>1</td>\n",
       "      <td>27.0</td>\n",
       "      <td>0</td>\n",
       "      <td>0</td>\n",
       "      <td>13.0000</td>\n",
       "      <td>2</td>\n",
       "    </tr>\n",
       "    <tr>\n",
       "      <th>887</th>\n",
       "      <td>1</td>\n",
       "      <td>0</td>\n",
       "      <td>19.0</td>\n",
       "      <td>0</td>\n",
       "      <td>0</td>\n",
       "      <td>30.0000</td>\n",
       "      <td>2</td>\n",
       "    </tr>\n",
       "    <tr>\n",
       "      <th>888</th>\n",
       "      <td>3</td>\n",
       "      <td>0</td>\n",
       "      <td>28.0</td>\n",
       "      <td>1</td>\n",
       "      <td>2</td>\n",
       "      <td>23.4500</td>\n",
       "      <td>2</td>\n",
       "    </tr>\n",
       "    <tr>\n",
       "      <th>889</th>\n",
       "      <td>1</td>\n",
       "      <td>1</td>\n",
       "      <td>26.0</td>\n",
       "      <td>0</td>\n",
       "      <td>0</td>\n",
       "      <td>30.0000</td>\n",
       "      <td>0</td>\n",
       "    </tr>\n",
       "    <tr>\n",
       "      <th>890</th>\n",
       "      <td>3</td>\n",
       "      <td>1</td>\n",
       "      <td>32.0</td>\n",
       "      <td>0</td>\n",
       "      <td>0</td>\n",
       "      <td>7.7500</td>\n",
       "      <td>1</td>\n",
       "    </tr>\n",
       "  </tbody>\n",
       "</table>\n",
       "<p>891 rows × 7 columns</p>\n",
       "</div>"
      ],
      "text/plain": [
       "     Pclass  Sex   Age  SibSp  Parch     Fare  Embarked\n",
       "0         3    1  22.0      1      0   7.2500         2\n",
       "1         1    0  38.0      1      0  71.2833         0\n",
       "2         3    0  26.0      0      0   7.9250         2\n",
       "3         1    0  35.0      1      0  53.1000         2\n",
       "4         3    1  35.0      0      0   8.0500         2\n",
       "..      ...  ...   ...    ...    ...      ...       ...\n",
       "886       2    1  27.0      0      0  13.0000         2\n",
       "887       1    0  19.0      0      0  30.0000         2\n",
       "888       3    0  28.0      1      2  23.4500         2\n",
       "889       1    1  26.0      0      0  30.0000         0\n",
       "890       3    1  32.0      0      0   7.7500         1\n",
       "\n",
       "[891 rows x 7 columns]"
      ]
     },
     "execution_count": 23,
     "metadata": {},
     "output_type": "execute_result"
    }
   ],
   "source": [
    "x"
   ]
  },
  {
   "cell_type": "code",
   "execution_count": 24,
   "id": "843c70ab",
   "metadata": {
    "execution": {
     "iopub.execute_input": "2024-07-26T19:40:57.904363Z",
     "iopub.status.busy": "2024-07-26T19:40:57.903838Z",
     "iopub.status.idle": "2024-07-26T19:40:57.915585Z",
     "shell.execute_reply": "2024-07-26T19:40:57.913999Z"
    },
    "papermill": {
     "duration": 0.044229,
     "end_time": "2024-07-26T19:40:57.918534",
     "exception": false,
     "start_time": "2024-07-26T19:40:57.874305",
     "status": "completed"
    },
    "tags": []
   },
   "outputs": [
    {
     "data": {
      "text/plain": [
       "0      0\n",
       "1      1\n",
       "2      1\n",
       "3      1\n",
       "4      0\n",
       "      ..\n",
       "886    0\n",
       "887    1\n",
       "888    0\n",
       "889    1\n",
       "890    0\n",
       "Name: Survived, Length: 891, dtype: int64"
      ]
     },
     "execution_count": 24,
     "metadata": {},
     "output_type": "execute_result"
    }
   ],
   "source": [
    "y"
   ]
  },
  {
   "cell_type": "markdown",
   "id": "0d391b9e",
   "metadata": {
    "papermill": {
     "duration": 0.027058,
     "end_time": "2024-07-26T19:40:57.972685",
     "exception": false,
     "start_time": "2024-07-26T19:40:57.945627",
     "status": "completed"
    },
    "tags": []
   },
   "source": [
    "# Build the Model"
   ]
  },
  {
   "cell_type": "code",
   "execution_count": 25,
   "id": "f2c5dfd4",
   "metadata": {
    "execution": {
     "iopub.execute_input": "2024-07-26T19:40:58.031334Z",
     "iopub.status.busy": "2024-07-26T19:40:58.030807Z",
     "iopub.status.idle": "2024-07-26T19:40:58.291699Z",
     "shell.execute_reply": "2024-07-26T19:40:58.290278Z"
    },
    "papermill": {
     "duration": 0.294138,
     "end_time": "2024-07-26T19:40:58.294721",
     "exception": false,
     "start_time": "2024-07-26T19:40:58.000583",
     "status": "completed"
    },
    "tags": []
   },
   "outputs": [],
   "source": [
    "from sklearn.linear_model import LinearRegression\n",
    "from sklearn.model_selection import train_test_split\n"
   ]
  },
  {
   "cell_type": "code",
   "execution_count": 26,
   "id": "65883312",
   "metadata": {
    "execution": {
     "iopub.execute_input": "2024-07-26T19:40:58.350733Z",
     "iopub.status.busy": "2024-07-26T19:40:58.350231Z",
     "iopub.status.idle": "2024-07-26T19:40:58.361703Z",
     "shell.execute_reply": "2024-07-26T19:40:58.360423Z"
    },
    "papermill": {
     "duration": 0.042451,
     "end_time": "2024-07-26T19:40:58.364353",
     "exception": false,
     "start_time": "2024-07-26T19:40:58.321902",
     "status": "completed"
    },
    "tags": []
   },
   "outputs": [],
   "source": [
    "X_train,  X_test,y_train, y_test = train_test_split(x,y,test_size=0.2, random_state=42)"
   ]
  },
  {
   "cell_type": "code",
   "execution_count": 27,
   "id": "db476468",
   "metadata": {
    "execution": {
     "iopub.execute_input": "2024-07-26T19:40:58.419635Z",
     "iopub.status.busy": "2024-07-26T19:40:58.419121Z",
     "iopub.status.idle": "2024-07-26T19:40:58.436018Z",
     "shell.execute_reply": "2024-07-26T19:40:58.434705Z"
    },
    "papermill": {
     "duration": 0.047845,
     "end_time": "2024-07-26T19:40:58.438631",
     "exception": false,
     "start_time": "2024-07-26T19:40:58.390786",
     "status": "completed"
    },
    "tags": []
   },
   "outputs": [
    {
     "data": {
      "text/html": [
       "<div>\n",
       "<style scoped>\n",
       "    .dataframe tbody tr th:only-of-type {\n",
       "        vertical-align: middle;\n",
       "    }\n",
       "\n",
       "    .dataframe tbody tr th {\n",
       "        vertical-align: top;\n",
       "    }\n",
       "\n",
       "    .dataframe thead th {\n",
       "        text-align: right;\n",
       "    }\n",
       "</style>\n",
       "<table border=\"1\" class=\"dataframe\">\n",
       "  <thead>\n",
       "    <tr style=\"text-align: right;\">\n",
       "      <th></th>\n",
       "      <th>Pclass</th>\n",
       "      <th>Sex</th>\n",
       "      <th>Age</th>\n",
       "      <th>SibSp</th>\n",
       "      <th>Parch</th>\n",
       "      <th>Fare</th>\n",
       "      <th>Embarked</th>\n",
       "    </tr>\n",
       "  </thead>\n",
       "  <tbody>\n",
       "    <tr>\n",
       "      <th>331</th>\n",
       "      <td>1</td>\n",
       "      <td>1</td>\n",
       "      <td>45.5</td>\n",
       "      <td>0</td>\n",
       "      <td>0</td>\n",
       "      <td>28.500</td>\n",
       "      <td>2</td>\n",
       "    </tr>\n",
       "    <tr>\n",
       "      <th>733</th>\n",
       "      <td>2</td>\n",
       "      <td>1</td>\n",
       "      <td>23.0</td>\n",
       "      <td>0</td>\n",
       "      <td>0</td>\n",
       "      <td>13.000</td>\n",
       "      <td>2</td>\n",
       "    </tr>\n",
       "    <tr>\n",
       "      <th>382</th>\n",
       "      <td>3</td>\n",
       "      <td>1</td>\n",
       "      <td>32.0</td>\n",
       "      <td>0</td>\n",
       "      <td>0</td>\n",
       "      <td>7.925</td>\n",
       "      <td>2</td>\n",
       "    </tr>\n",
       "  </tbody>\n",
       "</table>\n",
       "</div>"
      ],
      "text/plain": [
       "     Pclass  Sex   Age  SibSp  Parch    Fare  Embarked\n",
       "331       1    1  45.5      0      0  28.500         2\n",
       "733       2    1  23.0      0      0  13.000         2\n",
       "382       3    1  32.0      0      0   7.925         2"
      ]
     },
     "execution_count": 27,
     "metadata": {},
     "output_type": "execute_result"
    }
   ],
   "source": [
    "X_train[:3]"
   ]
  },
  {
   "cell_type": "code",
   "execution_count": 28,
   "id": "b09134f1",
   "metadata": {
    "execution": {
     "iopub.execute_input": "2024-07-26T19:40:58.499491Z",
     "iopub.status.busy": "2024-07-26T19:40:58.498950Z",
     "iopub.status.idle": "2024-07-26T19:40:58.515168Z",
     "shell.execute_reply": "2024-07-26T19:40:58.513725Z"
    },
    "papermill": {
     "duration": 0.049385,
     "end_time": "2024-07-26T19:40:58.518359",
     "exception": false,
     "start_time": "2024-07-26T19:40:58.468974",
     "status": "completed"
    },
    "tags": []
   },
   "outputs": [
    {
     "data": {
      "text/html": [
       "<div>\n",
       "<style scoped>\n",
       "    .dataframe tbody tr th:only-of-type {\n",
       "        vertical-align: middle;\n",
       "    }\n",
       "\n",
       "    .dataframe tbody tr th {\n",
       "        vertical-align: top;\n",
       "    }\n",
       "\n",
       "    .dataframe thead th {\n",
       "        text-align: right;\n",
       "    }\n",
       "</style>\n",
       "<table border=\"1\" class=\"dataframe\">\n",
       "  <thead>\n",
       "    <tr style=\"text-align: right;\">\n",
       "      <th></th>\n",
       "      <th>Pclass</th>\n",
       "      <th>Sex</th>\n",
       "      <th>Age</th>\n",
       "      <th>SibSp</th>\n",
       "      <th>Parch</th>\n",
       "      <th>Fare</th>\n",
       "      <th>Embarked</th>\n",
       "    </tr>\n",
       "  </thead>\n",
       "  <tbody>\n",
       "    <tr>\n",
       "      <th>709</th>\n",
       "      <td>3</td>\n",
       "      <td>1</td>\n",
       "      <td>28.0</td>\n",
       "      <td>1</td>\n",
       "      <td>1</td>\n",
       "      <td>15.2458</td>\n",
       "      <td>0</td>\n",
       "    </tr>\n",
       "    <tr>\n",
       "      <th>439</th>\n",
       "      <td>2</td>\n",
       "      <td>1</td>\n",
       "      <td>31.0</td>\n",
       "      <td>0</td>\n",
       "      <td>0</td>\n",
       "      <td>10.5000</td>\n",
       "      <td>2</td>\n",
       "    </tr>\n",
       "    <tr>\n",
       "      <th>840</th>\n",
       "      <td>3</td>\n",
       "      <td>1</td>\n",
       "      <td>20.0</td>\n",
       "      <td>0</td>\n",
       "      <td>0</td>\n",
       "      <td>7.9250</td>\n",
       "      <td>2</td>\n",
       "    </tr>\n",
       "  </tbody>\n",
       "</table>\n",
       "</div>"
      ],
      "text/plain": [
       "     Pclass  Sex   Age  SibSp  Parch     Fare  Embarked\n",
       "709       3    1  28.0      1      1  15.2458         0\n",
       "439       2    1  31.0      0      0  10.5000         2\n",
       "840       3    1  20.0      0      0   7.9250         2"
      ]
     },
     "execution_count": 28,
     "metadata": {},
     "output_type": "execute_result"
    }
   ],
   "source": [
    "X_test[:3]"
   ]
  },
  {
   "cell_type": "code",
   "execution_count": 29,
   "id": "98398288",
   "metadata": {
    "execution": {
     "iopub.execute_input": "2024-07-26T19:40:58.579501Z",
     "iopub.status.busy": "2024-07-26T19:40:58.578581Z",
     "iopub.status.idle": "2024-07-26T19:40:58.587992Z",
     "shell.execute_reply": "2024-07-26T19:40:58.586551Z"
    },
    "papermill": {
     "duration": 0.043802,
     "end_time": "2024-07-26T19:40:58.591297",
     "exception": false,
     "start_time": "2024-07-26T19:40:58.547495",
     "status": "completed"
    },
    "tags": []
   },
   "outputs": [
    {
     "data": {
      "text/plain": [
       "(712, 7)"
      ]
     },
     "execution_count": 29,
     "metadata": {},
     "output_type": "execute_result"
    }
   ],
   "source": [
    "X_train.shape"
   ]
  },
  {
   "cell_type": "code",
   "execution_count": 30,
   "id": "0e8ea623",
   "metadata": {
    "execution": {
     "iopub.execute_input": "2024-07-26T19:40:58.651140Z",
     "iopub.status.busy": "2024-07-26T19:40:58.650640Z",
     "iopub.status.idle": "2024-07-26T19:40:58.659446Z",
     "shell.execute_reply": "2024-07-26T19:40:58.657891Z"
    },
    "papermill": {
     "duration": 0.041882,
     "end_time": "2024-07-26T19:40:58.662590",
     "exception": false,
     "start_time": "2024-07-26T19:40:58.620708",
     "status": "completed"
    },
    "tags": []
   },
   "outputs": [
    {
     "data": {
      "text/plain": [
       "(712,)"
      ]
     },
     "execution_count": 30,
     "metadata": {},
     "output_type": "execute_result"
    }
   ],
   "source": [
    "y_train.shape"
   ]
  },
  {
   "cell_type": "code",
   "execution_count": 31,
   "id": "12380360",
   "metadata": {
    "execution": {
     "iopub.execute_input": "2024-07-26T19:40:58.722322Z",
     "iopub.status.busy": "2024-07-26T19:40:58.721815Z",
     "iopub.status.idle": "2024-07-26T19:40:58.758304Z",
     "shell.execute_reply": "2024-07-26T19:40:58.756712Z"
    },
    "papermill": {
     "duration": 0.070446,
     "end_time": "2024-07-26T19:40:58.761858",
     "exception": false,
     "start_time": "2024-07-26T19:40:58.691412",
     "status": "completed"
    },
    "tags": []
   },
   "outputs": [
    {
     "data": {
      "text/html": [
       "<style>#sk-container-id-1 {color: black;background-color: white;}#sk-container-id-1 pre{padding: 0;}#sk-container-id-1 div.sk-toggleable {background-color: white;}#sk-container-id-1 label.sk-toggleable__label {cursor: pointer;display: block;width: 100%;margin-bottom: 0;padding: 0.3em;box-sizing: border-box;text-align: center;}#sk-container-id-1 label.sk-toggleable__label-arrow:before {content: \"▸\";float: left;margin-right: 0.25em;color: #696969;}#sk-container-id-1 label.sk-toggleable__label-arrow:hover:before {color: black;}#sk-container-id-1 div.sk-estimator:hover label.sk-toggleable__label-arrow:before {color: black;}#sk-container-id-1 div.sk-toggleable__content {max-height: 0;max-width: 0;overflow: hidden;text-align: left;background-color: #f0f8ff;}#sk-container-id-1 div.sk-toggleable__content pre {margin: 0.2em;color: black;border-radius: 0.25em;background-color: #f0f8ff;}#sk-container-id-1 input.sk-toggleable__control:checked~div.sk-toggleable__content {max-height: 200px;max-width: 100%;overflow: auto;}#sk-container-id-1 input.sk-toggleable__control:checked~label.sk-toggleable__label-arrow:before {content: \"▾\";}#sk-container-id-1 div.sk-estimator input.sk-toggleable__control:checked~label.sk-toggleable__label {background-color: #d4ebff;}#sk-container-id-1 div.sk-label input.sk-toggleable__control:checked~label.sk-toggleable__label {background-color: #d4ebff;}#sk-container-id-1 input.sk-hidden--visually {border: 0;clip: rect(1px 1px 1px 1px);clip: rect(1px, 1px, 1px, 1px);height: 1px;margin: -1px;overflow: hidden;padding: 0;position: absolute;width: 1px;}#sk-container-id-1 div.sk-estimator {font-family: monospace;background-color: #f0f8ff;border: 1px dotted black;border-radius: 0.25em;box-sizing: border-box;margin-bottom: 0.5em;}#sk-container-id-1 div.sk-estimator:hover {background-color: #d4ebff;}#sk-container-id-1 div.sk-parallel-item::after {content: \"\";width: 100%;border-bottom: 1px solid gray;flex-grow: 1;}#sk-container-id-1 div.sk-label:hover label.sk-toggleable__label {background-color: #d4ebff;}#sk-container-id-1 div.sk-serial::before {content: \"\";position: absolute;border-left: 1px solid gray;box-sizing: border-box;top: 0;bottom: 0;left: 50%;z-index: 0;}#sk-container-id-1 div.sk-serial {display: flex;flex-direction: column;align-items: center;background-color: white;padding-right: 0.2em;padding-left: 0.2em;position: relative;}#sk-container-id-1 div.sk-item {position: relative;z-index: 1;}#sk-container-id-1 div.sk-parallel {display: flex;align-items: stretch;justify-content: center;background-color: white;position: relative;}#sk-container-id-1 div.sk-item::before, #sk-container-id-1 div.sk-parallel-item::before {content: \"\";position: absolute;border-left: 1px solid gray;box-sizing: border-box;top: 0;bottom: 0;left: 50%;z-index: -1;}#sk-container-id-1 div.sk-parallel-item {display: flex;flex-direction: column;z-index: 1;position: relative;background-color: white;}#sk-container-id-1 div.sk-parallel-item:first-child::after {align-self: flex-end;width: 50%;}#sk-container-id-1 div.sk-parallel-item:last-child::after {align-self: flex-start;width: 50%;}#sk-container-id-1 div.sk-parallel-item:only-child::after {width: 0;}#sk-container-id-1 div.sk-dashed-wrapped {border: 1px dashed gray;margin: 0 0.4em 0.5em 0.4em;box-sizing: border-box;padding-bottom: 0.4em;background-color: white;}#sk-container-id-1 div.sk-label label {font-family: monospace;font-weight: bold;display: inline-block;line-height: 1.2em;}#sk-container-id-1 div.sk-label-container {text-align: center;}#sk-container-id-1 div.sk-container {/* jupyter's `normalize.less` sets `[hidden] { display: none; }` but bootstrap.min.css set `[hidden] { display: none !important; }` so we also need the `!important` here to be able to override the default hidden behavior on the sphinx rendered scikit-learn.org. See: https://github.com/scikit-learn/scikit-learn/issues/21755 */display: inline-block !important;position: relative;}#sk-container-id-1 div.sk-text-repr-fallback {display: none;}</style><div id=\"sk-container-id-1\" class=\"sk-top-container\"><div class=\"sk-text-repr-fallback\"><pre>LinearRegression()</pre><b>In a Jupyter environment, please rerun this cell to show the HTML representation or trust the notebook. <br />On GitHub, the HTML representation is unable to render, please try loading this page with nbviewer.org.</b></div><div class=\"sk-container\" hidden><div class=\"sk-item\"><div class=\"sk-estimator sk-toggleable\"><input class=\"sk-toggleable__control sk-hidden--visually\" id=\"sk-estimator-id-1\" type=\"checkbox\" checked><label for=\"sk-estimator-id-1\" class=\"sk-toggleable__label sk-toggleable__label-arrow\">LinearRegression</label><div class=\"sk-toggleable__content\"><pre>LinearRegression()</pre></div></div></div></div></div>"
      ],
      "text/plain": [
       "LinearRegression()"
      ]
     },
     "execution_count": 31,
     "metadata": {},
     "output_type": "execute_result"
    }
   ],
   "source": [
    "lr = LinearRegression()\n",
    "lr.fit(X_train,y_train)"
   ]
  },
  {
   "cell_type": "code",
   "execution_count": 32,
   "id": "f3b2f152",
   "metadata": {
    "execution": {
     "iopub.execute_input": "2024-07-26T19:40:58.825358Z",
     "iopub.status.busy": "2024-07-26T19:40:58.824776Z",
     "iopub.status.idle": "2024-07-26T19:40:58.834448Z",
     "shell.execute_reply": "2024-07-26T19:40:58.833037Z"
    },
    "papermill": {
     "duration": 0.04422,
     "end_time": "2024-07-26T19:40:58.837086",
     "exception": false,
     "start_time": "2024-07-26T19:40:58.792866",
     "status": "completed"
    },
    "tags": []
   },
   "outputs": [],
   "source": [
    "y_pred_test = lr.predict(X_test)"
   ]
  },
  {
   "cell_type": "code",
   "execution_count": 33,
   "id": "b2126330",
   "metadata": {
    "execution": {
     "iopub.execute_input": "2024-07-26T19:40:58.895524Z",
     "iopub.status.busy": "2024-07-26T19:40:58.894823Z",
     "iopub.status.idle": "2024-07-26T19:40:58.901471Z",
     "shell.execute_reply": "2024-07-26T19:40:58.900213Z"
    },
    "papermill": {
     "duration": 0.039076,
     "end_time": "2024-07-26T19:40:58.904059",
     "exception": false,
     "start_time": "2024-07-26T19:40:58.864983",
     "status": "completed"
    },
    "tags": []
   },
   "outputs": [],
   "source": [
    "y_pred_test_binary = (y_pred_test > 0.5).astype(int)"
   ]
  },
  {
   "cell_type": "code",
   "execution_count": 34,
   "id": "ff4d20c1",
   "metadata": {
    "execution": {
     "iopub.execute_input": "2024-07-26T19:40:58.961843Z",
     "iopub.status.busy": "2024-07-26T19:40:58.961343Z",
     "iopub.status.idle": "2024-07-26T19:40:58.970424Z",
     "shell.execute_reply": "2024-07-26T19:40:58.969044Z"
    },
    "papermill": {
     "duration": 0.041575,
     "end_time": "2024-07-26T19:40:58.973014",
     "exception": false,
     "start_time": "2024-07-26T19:40:58.931439",
     "status": "completed"
    },
    "tags": []
   },
   "outputs": [
    {
     "data": {
      "text/plain": [
       "array([0, 0, 0])"
      ]
     },
     "execution_count": 34,
     "metadata": {},
     "output_type": "execute_result"
    }
   ],
   "source": [
    "y_pred_test_binary[:3]"
   ]
  },
  {
   "cell_type": "code",
   "execution_count": 35,
   "id": "1b9cac6b",
   "metadata": {
    "execution": {
     "iopub.execute_input": "2024-07-26T19:40:59.032363Z",
     "iopub.status.busy": "2024-07-26T19:40:59.031777Z",
     "iopub.status.idle": "2024-07-26T19:40:59.040640Z",
     "shell.execute_reply": "2024-07-26T19:40:59.039303Z"
    },
    "papermill": {
     "duration": 0.041918,
     "end_time": "2024-07-26T19:40:59.043694",
     "exception": false,
     "start_time": "2024-07-26T19:40:59.001776",
     "status": "completed"
    },
    "tags": []
   },
   "outputs": [
    {
     "data": {
      "text/plain": [
       "(179,)"
      ]
     },
     "execution_count": 35,
     "metadata": {},
     "output_type": "execute_result"
    }
   ],
   "source": [
    "y_test.shape"
   ]
  },
  {
   "cell_type": "code",
   "execution_count": 36,
   "id": "04704ad2",
   "metadata": {
    "execution": {
     "iopub.execute_input": "2024-07-26T19:40:59.108936Z",
     "iopub.status.busy": "2024-07-26T19:40:59.108455Z",
     "iopub.status.idle": "2024-07-26T19:40:59.119783Z",
     "shell.execute_reply": "2024-07-26T19:40:59.118289Z"
    },
    "papermill": {
     "duration": 0.048361,
     "end_time": "2024-07-26T19:40:59.122587",
     "exception": false,
     "start_time": "2024-07-26T19:40:59.074226",
     "status": "completed"
    },
    "tags": []
   },
   "outputs": [
    {
     "data": {
      "text/plain": [
       "array([ 0.12362106,  0.24681387,  0.1438528 ,  0.86647691,  0.72243886,\n",
       "        0.96268986,  0.65763438,  0.08870009,  0.71384991,  0.93672145,\n",
       "        0.34867525,  0.03146612,  0.4909599 ,  0.1701863 ,  0.22427839,\n",
       "        0.97548073,  0.32505832,  0.6576625 ,  0.26644004,  0.34017265,\n",
       "        0.12510392,  0.39203644,  0.62438462,  0.14431438,  0.10871032,\n",
       "        0.04149244,  0.43777271,  0.24770153,  0.06960021,  0.60690334,\n",
       "        0.14852706,  0.64902799,  0.49504455,  0.62084921,  0.15326643,\n",
       "        0.14807276,  0.42332202,  0.65763438,  1.00038989,  0.10636541,\n",
       "        0.23856065,  0.06264474,  0.10642016,  0.1430278 ,  0.59704215,\n",
       "        0.07310405,  0.14862026,  0.1302605 ,  0.12480361,  0.34373029,\n",
       "        0.70866452,  0.78730884, -0.06167418,  0.45413301, -0.03030341,\n",
       "        0.96035463,  0.24212924,  0.96352779,  0.74641011,  0.6998419 ,\n",
       "        0.13911491,  0.82889117,  0.74224357,  0.41992229,  0.1430278 ,\n",
       "        0.63962014,  0.31602914,  0.1016734 ,  0.17230556,  0.87537652,\n",
       "        0.73156468,  1.02119342,  0.50416675,  0.91796535,  0.12977378,\n",
       "        0.03287188,  0.64592281,  1.00433928,  0.72951572,  0.52434875,\n",
       "       -0.00111611,  0.77078971,  0.93151028,  0.14302336,  0.36387499,\n",
       "        0.30028375,  0.98618385,  1.00959639,  0.363871  ,  0.10613611,\n",
       "        0.1597612 ,  0.52324775,  0.26760051,  0.14302042,  0.10636541,\n",
       "        0.10635064,  0.29675378,  0.0267815 ,  0.73888497,  0.11105004,\n",
       "        0.25130234,  0.07329934,  1.03451847,  0.05921882,  0.09470859,\n",
       "        0.08164216,  0.67059572,  0.3353793 ,  0.09756575,  0.43893703,\n",
       "        0.90505291,  0.14127081,  0.99165557,  0.38257399,  0.48946294,\n",
       "        0.1445348 ,  0.29501106,  0.29766233,  0.75136838,  0.43780256,\n",
       "        0.18712932,  1.00710205,  0.75030779,  0.35462146,  0.12018999,\n",
       "        0.46078014,  0.83615319,  0.53100512,  0.65799617,  0.13921255,\n",
       "        0.65768026,  0.12362106,  0.25713959,  0.73034432,  0.36724765,\n",
       "        0.71889487,  1.03812277,  0.10163789,  0.04065785,  0.63260064,\n",
       "        0.13934865,  0.66728954,  0.26175541,  0.18547535,  0.51345223,\n",
       "        0.69639558,  0.25238616,  0.08285192,  1.0120421 ,  0.03615075,\n",
       "        0.18008371,  0.12496189,  0.15317618,  0.62472318,  0.10642016,\n",
       "        0.1060651 ,  0.12362149,  0.6576477 ,  0.70476656,  0.58286523,\n",
       "        0.20063787,  0.42014421,  0.21022451,  0.98919377,  0.14327929,\n",
       "        0.31277278,  0.28429089,  0.90500409,  0.13447317,  0.07327271,\n",
       "        0.5100168 ,  0.78311197,  0.38260949,  0.72723556,  0.15762263,\n",
       "        0.17955555,  0.44349179,  0.82700523,  0.67774671])"
      ]
     },
     "execution_count": 36,
     "metadata": {},
     "output_type": "execute_result"
    }
   ],
   "source": [
    "y_pred_test"
   ]
  },
  {
   "cell_type": "markdown",
   "id": "191af00e",
   "metadata": {
    "papermill": {
     "duration": 0.027887,
     "end_time": "2024-07-26T19:40:59.178767",
     "exception": false,
     "start_time": "2024-07-26T19:40:59.150880",
     "status": "completed"
    },
    "tags": []
   },
   "source": [
    "# Evaluate the Model"
   ]
  },
  {
   "cell_type": "code",
   "execution_count": 37,
   "id": "f5466a7d",
   "metadata": {
    "execution": {
     "iopub.execute_input": "2024-07-26T19:40:59.236726Z",
     "iopub.status.busy": "2024-07-26T19:40:59.236336Z",
     "iopub.status.idle": "2024-07-26T19:40:59.242627Z",
     "shell.execute_reply": "2024-07-26T19:40:59.241059Z"
    },
    "papermill": {
     "duration": 0.038379,
     "end_time": "2024-07-26T19:40:59.245398",
     "exception": false,
     "start_time": "2024-07-26T19:40:59.207019",
     "status": "completed"
    },
    "tags": []
   },
   "outputs": [],
   "source": [
    "from sklearn.metrics import accuracy_score, mean_squared_error, r2_score"
   ]
  },
  {
   "cell_type": "code",
   "execution_count": 38,
   "id": "0d8c49bd",
   "metadata": {
    "execution": {
     "iopub.execute_input": "2024-07-26T19:40:59.305401Z",
     "iopub.status.busy": "2024-07-26T19:40:59.304842Z",
     "iopub.status.idle": "2024-07-26T19:40:59.314026Z",
     "shell.execute_reply": "2024-07-26T19:40:59.312741Z"
    },
    "papermill": {
     "duration": 0.043364,
     "end_time": "2024-07-26T19:40:59.316761",
     "exception": false,
     "start_time": "2024-07-26T19:40:59.273397",
     "status": "completed"
    },
    "tags": []
   },
   "outputs": [],
   "source": [
    "lin_reg_accuracy = accuracy_score(y_test, y_pred_test_binary)\n"
   ]
  },
  {
   "cell_type": "code",
   "execution_count": 39,
   "id": "8f2f6e3d",
   "metadata": {
    "execution": {
     "iopub.execute_input": "2024-07-26T19:40:59.379274Z",
     "iopub.status.busy": "2024-07-26T19:40:59.378249Z",
     "iopub.status.idle": "2024-07-26T19:40:59.385095Z",
     "shell.execute_reply": "2024-07-26T19:40:59.383859Z"
    },
    "papermill": {
     "duration": 0.042022,
     "end_time": "2024-07-26T19:40:59.388632",
     "exception": false,
     "start_time": "2024-07-26T19:40:59.346610",
     "status": "completed"
    },
    "tags": []
   },
   "outputs": [
    {
     "name": "stdout",
     "output_type": "stream",
     "text": [
      "Linear Regression Accuracy: 0.79\n"
     ]
    }
   ],
   "source": [
    "print(f'Linear Regression Accuracy: {lin_reg_accuracy:.2f}')\n"
   ]
  },
  {
   "cell_type": "code",
   "execution_count": 40,
   "id": "0639b509",
   "metadata": {
    "execution": {
     "iopub.execute_input": "2024-07-26T19:40:59.451643Z",
     "iopub.status.busy": "2024-07-26T19:40:59.450331Z",
     "iopub.status.idle": "2024-07-26T19:40:59.457861Z",
     "shell.execute_reply": "2024-07-26T19:40:59.456606Z"
    },
    "papermill": {
     "duration": 0.041238,
     "end_time": "2024-07-26T19:40:59.460591",
     "exception": false,
     "start_time": "2024-07-26T19:40:59.419353",
     "status": "completed"
    },
    "tags": []
   },
   "outputs": [],
   "source": [
    "\n",
    "rmse = np.sqrt(mean_squared_error(y_test, y_pred_test_binary))"
   ]
  },
  {
   "cell_type": "code",
   "execution_count": 41,
   "id": "e5c6ac51",
   "metadata": {
    "execution": {
     "iopub.execute_input": "2024-07-26T19:40:59.527132Z",
     "iopub.status.busy": "2024-07-26T19:40:59.526630Z",
     "iopub.status.idle": "2024-07-26T19:40:59.534666Z",
     "shell.execute_reply": "2024-07-26T19:40:59.533377Z"
    },
    "papermill": {
     "duration": 0.044386,
     "end_time": "2024-07-26T19:40:59.537526",
     "exception": false,
     "start_time": "2024-07-26T19:40:59.493140",
     "status": "completed"
    },
    "tags": []
   },
   "outputs": [
    {
     "data": {
      "text/plain": [
       "0.454647017602145"
      ]
     },
     "execution_count": 41,
     "metadata": {},
     "output_type": "execute_result"
    }
   ],
   "source": [
    "rmse"
   ]
  },
  {
   "cell_type": "code",
   "execution_count": 42,
   "id": "8fd64985",
   "metadata": {
    "execution": {
     "iopub.execute_input": "2024-07-26T19:40:59.603666Z",
     "iopub.status.busy": "2024-07-26T19:40:59.603126Z",
     "iopub.status.idle": "2024-07-26T19:40:59.610668Z",
     "shell.execute_reply": "2024-07-26T19:40:59.609274Z"
    },
    "papermill": {
     "duration": 0.044701,
     "end_time": "2024-07-26T19:40:59.613614",
     "exception": false,
     "start_time": "2024-07-26T19:40:59.568913",
     "status": "completed"
    },
    "tags": []
   },
   "outputs": [],
   "source": [
    "r2  = r2_score(y_test, y_pred_test_binary)"
   ]
  },
  {
   "cell_type": "code",
   "execution_count": 43,
   "id": "44195e4e",
   "metadata": {
    "execution": {
     "iopub.execute_input": "2024-07-26T19:40:59.677122Z",
     "iopub.status.busy": "2024-07-26T19:40:59.676614Z",
     "iopub.status.idle": "2024-07-26T19:40:59.684765Z",
     "shell.execute_reply": "2024-07-26T19:40:59.683422Z"
    },
    "papermill": {
     "duration": 0.042071,
     "end_time": "2024-07-26T19:40:59.687583",
     "exception": false,
     "start_time": "2024-07-26T19:40:59.645512",
     "status": "completed"
    },
    "tags": []
   },
   "outputs": [
    {
     "data": {
      "text/plain": [
       "0.14761904761904754"
      ]
     },
     "execution_count": 43,
     "metadata": {},
     "output_type": "execute_result"
    }
   ],
   "source": [
    "r2"
   ]
  },
  {
   "cell_type": "code",
   "execution_count": 44,
   "id": "787c6e66",
   "metadata": {
    "execution": {
     "iopub.execute_input": "2024-07-26T19:40:59.749821Z",
     "iopub.status.busy": "2024-07-26T19:40:59.749361Z",
     "iopub.status.idle": "2024-07-26T19:40:59.755344Z",
     "shell.execute_reply": "2024-07-26T19:40:59.754020Z"
    },
    "papermill": {
     "duration": 0.041006,
     "end_time": "2024-07-26T19:40:59.758083",
     "exception": false,
     "start_time": "2024-07-26T19:40:59.717077",
     "status": "completed"
    },
    "tags": []
   },
   "outputs": [],
   "source": [
    "from sklearn.linear_model import LogisticRegression\n",
    "from sklearn.model_selection import cross_val_score\n"
   ]
  },
  {
   "cell_type": "code",
   "execution_count": 45,
   "id": "2449d66e",
   "metadata": {
    "execution": {
     "iopub.execute_input": "2024-07-26T19:40:59.823814Z",
     "iopub.status.busy": "2024-07-26T19:40:59.823340Z",
     "iopub.status.idle": "2024-07-26T19:40:59.833790Z",
     "shell.execute_reply": "2024-07-26T19:40:59.832257Z"
    },
    "papermill": {
     "duration": 0.047095,
     "end_time": "2024-07-26T19:40:59.836464",
     "exception": false,
     "start_time": "2024-07-26T19:40:59.789369",
     "status": "completed"
    },
    "tags": []
   },
   "outputs": [],
   "source": [
    "\n",
    "y_pred = lr.predict(x)\n",
    "\n",
    "y_pred = (y_pred > 0.5).astype(int)\n",
    "\n",
    "\n",
    "df['Survived'] = y_pred"
   ]
  },
  {
   "cell_type": "code",
   "execution_count": 46,
   "id": "20ea54f5",
   "metadata": {
    "execution": {
     "iopub.execute_input": "2024-07-26T19:40:59.900568Z",
     "iopub.status.busy": "2024-07-26T19:40:59.900032Z",
     "iopub.status.idle": "2024-07-26T19:40:59.913335Z",
     "shell.execute_reply": "2024-07-26T19:40:59.911896Z"
    },
    "papermill": {
     "duration": 0.049731,
     "end_time": "2024-07-26T19:40:59.916179",
     "exception": false,
     "start_time": "2024-07-26T19:40:59.866448",
     "status": "completed"
    },
    "tags": []
   },
   "outputs": [
    {
     "data": {
      "text/plain": [
       "array([0, 1, 1, 1, 0, 0, 0, 0, 1, 1, 1, 1, 0, 0, 1, 1, 0, 0, 1, 1, 0, 0,\n",
       "       1, 0, 1, 0, 0, 0, 1, 0, 0, 1, 1, 0, 0, 0, 0, 0, 1, 1, 1, 1, 0, 1,\n",
       "       1, 0, 0, 1, 0, 1, 0, 0, 1, 1, 0, 0, 1, 0, 1, 0, 0, 1, 0, 0, 0, 0,\n",
       "       1, 0, 0, 0, 0, 0, 0, 0, 0, 0, 0, 0, 0, 1, 0, 0, 1, 0, 1, 0, 0, 0,\n",
       "       1, 0, 0, 0, 0, 0, 0, 0, 0, 1, 1, 0, 1, 0, 0, 0, 0, 0, 1, 0, 0, 1,\n",
       "       0, 1, 0, 1, 1, 0, 0, 0, 1, 1, 0, 0, 0, 1, 0, 0, 0, 0, 1, 0, 0, 0,\n",
       "       0, 1, 0, 0, 1, 0, 0, 1, 1, 1, 1, 0, 0, 0, 0, 1, 0, 0, 0, 1, 0, 0,\n",
       "       0, 0, 1, 0, 0, 0, 0, 1, 0, 0, 0, 0, 1, 0, 0, 0, 0, 0, 1, 0, 0, 0,\n",
       "       0, 1, 0, 0, 0, 0, 0, 0, 1, 0, 1, 0, 0, 0, 1, 0, 1, 0, 1, 1, 0, 0,\n",
       "       1, 1, 0, 0, 0, 0, 0, 1, 0, 0, 1, 0, 0, 1, 0, 0, 0, 1, 1, 0, 1, 0,\n",
       "       0, 0, 0, 0, 0, 0, 0, 0, 0, 0, 1, 0, 0, 1, 0, 1, 0, 1, 0, 0, 1, 1,\n",
       "       0, 0, 0, 0, 1, 1, 0, 0, 0, 1, 0, 0, 1, 1, 1, 1, 1, 1, 0, 0, 0, 0,\n",
       "       1, 0, 0, 0, 1, 1, 0, 0, 1, 0, 1, 1, 1, 0, 0, 1, 0, 0, 0, 0, 0, 0,\n",
       "       0, 0, 0, 1, 1, 1, 0, 1, 0, 0, 0, 1, 0, 1, 1, 0, 0, 1, 0, 1, 1, 1,\n",
       "       0, 1, 1, 1, 1, 0, 0, 1, 1, 0, 1, 1, 0, 0, 1, 1, 0, 1, 0, 1, 1, 1,\n",
       "       1, 0, 0, 0, 1, 0, 0, 1, 0, 0, 0, 1, 0, 0, 0, 1, 1, 1, 0, 0, 0, 0,\n",
       "       0, 0, 0, 0, 1, 1, 1, 1, 0, 0, 1, 0, 0, 0, 1, 1, 1, 1, 0, 0, 0, 1,\n",
       "       1, 1, 1, 1, 0, 0, 1, 1, 0, 1, 0, 0, 0, 1, 0, 1, 0, 0, 0, 1, 1, 0,\n",
       "       1, 0, 0, 1, 0, 0, 1, 0, 1, 0, 0, 0, 0, 0, 0, 0, 1, 0, 0, 1, 1, 1,\n",
       "       0, 1, 0, 0, 0, 1, 0, 0, 1, 1, 0, 0, 0, 1, 1, 0, 0, 1, 1, 1, 0, 0,\n",
       "       1, 0, 0, 1, 0, 1, 1, 0, 1, 0, 0, 0, 0, 0, 0, 0, 0, 1, 1, 0, 0, 0,\n",
       "       0, 0, 0, 0, 0, 0, 0, 1, 0, 0, 1, 1, 1, 0, 0, 0, 0, 1, 0, 0, 0, 0,\n",
       "       0, 0, 1, 0, 0, 0, 0, 0, 0, 0, 0, 0, 1, 0, 1, 0, 0, 1, 1, 1, 1, 1,\n",
       "       1, 0, 0, 0, 0, 0, 0, 1, 0, 0, 1, 0, 1, 0, 1, 0, 0, 1, 0, 0, 1, 0,\n",
       "       0, 0, 1, 0, 0, 1, 1, 1, 0, 1, 0, 1, 1, 1, 1, 0, 0, 0, 1, 0, 0, 0,\n",
       "       1, 0, 0, 0, 1, 0, 1, 1, 1, 1, 0, 0, 0, 0, 1, 0, 0, 1, 0, 0, 0, 1,\n",
       "       0, 1, 0, 0, 1, 1, 1, 0, 1, 1, 0, 0, 0, 1, 0, 0, 0, 0, 0, 1, 0, 1,\n",
       "       0, 0, 1, 0, 0, 0, 1, 0, 0, 0, 0, 0, 0, 0, 1, 1, 0, 0, 1, 0, 0, 1,\n",
       "       0, 1, 1, 0, 0, 0, 0, 0, 0, 0, 0, 1, 0, 0, 0, 0, 0, 0, 1, 1, 0, 0,\n",
       "       0, 0, 0, 1, 1, 0, 1, 0, 0, 0, 0, 1, 0, 1, 0, 1, 1, 0, 0, 1, 0, 0,\n",
       "       0, 0, 0, 0, 0, 0, 0, 0, 0, 1, 1, 0, 0, 0, 0, 0, 0, 1, 0, 1, 1, 1,\n",
       "       0, 0, 0, 0, 0, 0, 0, 1, 0, 1, 0, 0, 0, 0, 0, 1, 0, 0, 1, 0, 1, 0,\n",
       "       0, 0, 1, 0, 1, 0, 1, 0, 0, 0, 0, 0, 1, 1, 0, 0, 1, 0, 0, 0, 0, 0,\n",
       "       1, 1, 0, 1, 1, 0, 0, 0, 0, 0, 0, 1, 0, 0, 0, 0, 1, 0, 0, 0, 0, 1,\n",
       "       0, 0, 1, 0, 0, 0, 1, 0, 0, 0, 0, 1, 0, 0, 0, 1, 0, 1, 0, 1, 0, 0,\n",
       "       0, 0, 1, 0, 1, 0, 0, 1, 0, 1, 1, 1, 0, 0, 0, 0, 1, 0, 0, 0, 0, 0,\n",
       "       0, 0, 0, 0, 1, 1, 0, 1, 0, 1, 0, 0, 0, 0, 0, 1, 0, 1, 0, 0, 0, 1,\n",
       "       0, 0, 1, 0, 0, 0, 1, 0, 0, 1, 0, 0, 0, 0, 0, 1, 1, 0, 0, 0, 0, 1,\n",
       "       0, 0, 0, 0, 0, 0, 1, 0, 0, 0, 0, 0, 0, 1, 0, 0, 1, 1, 1, 1, 1, 0,\n",
       "       1, 0, 0, 0, 1, 0, 0, 1, 1, 0, 0, 0, 0, 1, 0, 0, 1, 1, 0, 0, 0, 1,\n",
       "       1, 0, 1, 0, 0, 1, 0, 1, 1, 1, 0])"
      ]
     },
     "execution_count": 46,
     "metadata": {},
     "output_type": "execute_result"
    }
   ],
   "source": [
    "y_pred"
   ]
  },
  {
   "cell_type": "markdown",
   "id": "8514cb15",
   "metadata": {
    "papermill": {
     "duration": 0.030628,
     "end_time": "2024-07-26T19:40:59.976646",
     "exception": false,
     "start_time": "2024-07-26T19:40:59.946018",
     "status": "completed"
    },
    "tags": []
   },
   "source": [
    "# Logistic Regression"
   ]
  },
  {
   "cell_type": "code",
   "execution_count": 47,
   "id": "131adea0",
   "metadata": {
    "execution": {
     "iopub.execute_input": "2024-07-26T19:41:00.042811Z",
     "iopub.status.busy": "2024-07-26T19:41:00.042175Z",
     "iopub.status.idle": "2024-07-26T19:41:00.223728Z",
     "shell.execute_reply": "2024-07-26T19:41:00.222139Z"
    },
    "papermill": {
     "duration": 0.217505,
     "end_time": "2024-07-26T19:41:00.226684",
     "exception": false,
     "start_time": "2024-07-26T19:41:00.009179",
     "status": "completed"
    },
    "tags": []
   },
   "outputs": [
    {
     "name": "stdout",
     "output_type": "stream",
     "text": [
      "Logistic Regression Average Accuracy: 0.79\n"
     ]
    }
   ],
   "source": [
    "lg = LogisticRegression(max_iter=1000)\n",
    "lg.fit(X_train, y_train)  # Training the model\n",
    "lg_score = cross_val_score(lg, x, y, cv=5, scoring='accuracy')\n",
    "y_pred = lg.predict(x)\n",
    "\n",
    "print(f'Logistic Regression Average Accuracy: {lg_score.mean():.2f}')\n"
   ]
  },
  {
   "cell_type": "code",
   "execution_count": 48,
   "id": "122fcd33",
   "metadata": {
    "execution": {
     "iopub.execute_input": "2024-07-26T19:41:00.290174Z",
     "iopub.status.busy": "2024-07-26T19:41:00.289635Z",
     "iopub.status.idle": "2024-07-26T19:41:00.298145Z",
     "shell.execute_reply": "2024-07-26T19:41:00.296900Z"
    },
    "papermill": {
     "duration": 0.043436,
     "end_time": "2024-07-26T19:41:00.300817",
     "exception": false,
     "start_time": "2024-07-26T19:41:00.257381",
     "status": "completed"
    },
    "tags": []
   },
   "outputs": [
    {
     "data": {
      "text/plain": [
       "(891,)"
      ]
     },
     "execution_count": 48,
     "metadata": {},
     "output_type": "execute_result"
    }
   ],
   "source": [
    "y_pred.shape"
   ]
  },
  {
   "cell_type": "markdown",
   "id": "8d560a3f",
   "metadata": {
    "papermill": {
     "duration": 0.029603,
     "end_time": "2024-07-26T19:41:00.360583",
     "exception": false,
     "start_time": "2024-07-26T19:41:00.330980",
     "status": "completed"
    },
    "tags": []
   },
   "source": [
    "# K-Nearest-Neighbors Classification\n"
   ]
  },
  {
   "cell_type": "code",
   "execution_count": 49,
   "id": "682782b8",
   "metadata": {
    "execution": {
     "iopub.execute_input": "2024-07-26T19:41:00.423604Z",
     "iopub.status.busy": "2024-07-26T19:41:00.422483Z",
     "iopub.status.idle": "2024-07-26T19:41:00.672627Z",
     "shell.execute_reply": "2024-07-26T19:41:00.671243Z"
    },
    "papermill": {
     "duration": 0.284531,
     "end_time": "2024-07-26T19:41:00.675696",
     "exception": false,
     "start_time": "2024-07-26T19:41:00.391165",
     "status": "completed"
    },
    "tags": []
   },
   "outputs": [
    {
     "name": "stdout",
     "output_type": "stream",
     "text": [
      "KNN Average Accuracy: 0.69\n"
     ]
    }
   ],
   "source": [
    "from sklearn.neighbors import KNeighborsClassifier\n",
    "\n",
    "\n",
    "knn = KNeighborsClassifier(n_neighbors=5)\n",
    "knn.fit(X_train, y_train)\n",
    "knn_scores = cross_val_score(knn, x, y, cv=5, scoring='accuracy')\n",
    "\n",
    "y_pred = knn.predict(x)\n",
    "print(f'KNN Average Accuracy: {knn_scores.mean():.2f}')\n"
   ]
  },
  {
   "cell_type": "markdown",
   "id": "e10791eb",
   "metadata": {
    "papermill": {
     "duration": 0.029728,
     "end_time": "2024-07-26T19:41:00.736171",
     "exception": false,
     "start_time": "2024-07-26T19:41:00.706443",
     "status": "completed"
    },
    "tags": []
   },
   "source": [
    "# SVM CLASSIFICATION"
   ]
  },
  {
   "cell_type": "code",
   "execution_count": 50,
   "id": "880c19d0",
   "metadata": {
    "execution": {
     "iopub.execute_input": "2024-07-26T19:41:00.800640Z",
     "iopub.status.busy": "2024-07-26T19:41:00.800139Z",
     "iopub.status.idle": "2024-07-26T19:41:29.327176Z",
     "shell.execute_reply": "2024-07-26T19:41:29.325635Z"
    },
    "papermill": {
     "duration": 28.562946,
     "end_time": "2024-07-26T19:41:29.330209",
     "exception": false,
     "start_time": "2024-07-26T19:41:00.767263",
     "status": "completed"
    },
    "tags": []
   },
   "outputs": [
    {
     "name": "stdout",
     "output_type": "stream",
     "text": [
      "SVM Average Accuracy: 0.79\n"
     ]
    }
   ],
   "source": [
    "from sklearn.svm import SVC\n",
    "from sklearn.model_selection import cross_val_score\n",
    "\n",
    "svm = SVC(kernel='linear')\n",
    "\n",
    "svm.fit(X_train, y_train)\n",
    "\n",
    "y_pred = svm.predict(x)\n",
    "\n",
    "svm_scores = cross_val_score(svm, X_train, y_train, cv=3, scoring='accuracy')\n",
    "\n",
    "print(f'SVM Average Accuracy: {svm_scores.mean():.2f}')\n"
   ]
  },
  {
   "cell_type": "code",
   "execution_count": 51,
   "id": "06dfd22e",
   "metadata": {
    "execution": {
     "iopub.execute_input": "2024-07-26T19:41:29.394495Z",
     "iopub.status.busy": "2024-07-26T19:41:29.393087Z",
     "iopub.status.idle": "2024-07-26T19:41:29.686701Z",
     "shell.execute_reply": "2024-07-26T19:41:29.685466Z"
    },
    "papermill": {
     "duration": 0.329389,
     "end_time": "2024-07-26T19:41:29.689961",
     "exception": false,
     "start_time": "2024-07-26T19:41:29.360572",
     "status": "completed"
    },
    "tags": []
   },
   "outputs": [
    {
     "data": {
      "image/png": "[encoded data removed]",
      "text/plain": [
       "<Figure size 600x400 with 1 Axes>"
      ]
     },
     "metadata": {},
     "output_type": "display_data"
    }
   ],
   "source": [
    "\n",
    "plt.figure(figsize=(6, 4))\n",
    "sns.countplot(data=df, x='Survived')\n",
    "plt.title('Survival Count Plot')\n",
    "plt.xlabel('Survived')\n",
    "plt.ylabel('Count')\n",
    "plt.show()\n"
   ]
  },
  {
   "cell_type": "code",
   "execution_count": 52,
   "id": "6eefa9d2",
   "metadata": {
    "execution": {
     "iopub.execute_input": "2024-07-26T19:41:29.753896Z",
     "iopub.status.busy": "2024-07-26T19:41:29.753460Z",
     "iopub.status.idle": "2024-07-26T19:41:29.971481Z",
     "shell.execute_reply": "2024-07-26T19:41:29.970297Z"
    },
    "papermill": {
     "duration": 0.253749,
     "end_time": "2024-07-26T19:41:29.974393",
     "exception": false,
     "start_time": "2024-07-26T19:41:29.720644",
     "status": "completed"
    },
    "tags": []
   },
   "outputs": [
    {
     "data": {
      "image/png": "[encoded data removed]",
      "text/plain": [
       "<Figure size 600x400 with 1 Axes>"
      ]
     },
     "metadata": {},
     "output_type": "display_data"
    }
   ],
   "source": [
    "\n",
    "plt.figure(figsize=(6, 4))\n",
    "sns.countplot(data=df, x='Survived', hue='Sex')\n",
    "plt.title('Survival by Gender')\n",
    "plt.xlabel('Survived')\n",
    "plt.ylabel('Count')\n",
    "plt.legend(title='Sex', labels=['Female', 'Male'])\n",
    "plt.show()\n"
   ]
  },
  {
   "cell_type": "code",
   "execution_count": 53,
   "id": "f9e6322d",
   "metadata": {
    "execution": {
     "iopub.execute_input": "2024-07-26T19:41:30.040783Z",
     "iopub.status.busy": "2024-07-26T19:41:30.040277Z",
     "iopub.status.idle": "2024-07-26T19:41:30.329075Z",
     "shell.execute_reply": "2024-07-26T19:41:30.327770Z"
    },
    "papermill": {
     "duration": 0.325217,
     "end_time": "2024-07-26T19:41:30.332006",
     "exception": false,
     "start_time": "2024-07-26T19:41:30.006789",
     "status": "completed"
    },
    "tags": []
   },
   "outputs": [
    {
     "data": {
      "image/png": "[encoded data removed]",
      "text/plain": [
       "<Figure size 600x400 with 1 Axes>"
      ]
     },
     "metadata": {},
     "output_type": "display_data"
    }
   ],
   "source": [
    "\n",
    "\n",
    "plt.figure(figsize=(6, 4))\n",
    "sns.countplot(data=df, x='Survived', hue='Pclass')\n",
    "plt.title('Survival by Passenger Class')\n",
    "plt.xlabel('Survived')\n",
    "plt.ylabel('Count')\n",
    "plt.legend(title='Pclass', labels=['1st Class', '2nd Class', '3rd Class'])\n",
    "plt.show()\n",
    "\n"
   ]
  },
  {
   "cell_type": "code",
   "execution_count": 54,
   "id": "b8118615",
   "metadata": {
    "execution": {
     "iopub.execute_input": "2024-07-26T19:41:30.398135Z",
     "iopub.status.busy": "2024-07-26T19:41:30.397613Z",
     "iopub.status.idle": "2024-07-26T19:41:31.055620Z",
     "shell.execute_reply": "2024-07-26T19:41:31.054011Z"
    },
    "papermill": {
     "duration": 0.695769,
     "end_time": "2024-07-26T19:41:31.059236",
     "exception": false,
     "start_time": "2024-07-26T19:41:30.363467",
     "status": "completed"
    },
    "tags": []
   },
   "outputs": [
    {
     "name": "stderr",
     "output_type": "stream",
     "text": [
      "/opt/conda/lib/python3.10/site-packages/seaborn/_oldcore.py:1119: FutureWarning: use_inf_as_na option is deprecated and will be removed in a future version. Convert inf values to NaN before operating instead.\n",
      "  with pd.option_context('mode.use_inf_as_na', True):\n",
      "/opt/conda/lib/python3.10/site-packages/seaborn/_oldcore.py:1075: FutureWarning: When grouping with a length-1 list-like, you will need to pass a length-1 tuple to get_group in a future version of pandas. Pass `(name,)` instead of `name` to silence this warning.\n",
      "  data_subset = grouped_data.get_group(pd_key)\n",
      "/opt/conda/lib/python3.10/site-packages/seaborn/_oldcore.py:1075: FutureWarning: When grouping with a length-1 list-like, you will need to pass a length-1 tuple to get_group in a future version of pandas. Pass `(name,)` instead of `name` to silence this warning.\n",
      "  data_subset = grouped_data.get_group(pd_key)\n",
      "/opt/conda/lib/python3.10/site-packages/seaborn/_oldcore.py:1075: FutureWarning: When grouping with a length-1 list-like, you will need to pass a length-1 tuple to get_group in a future version of pandas. Pass `(name,)` instead of `name` to silence this warning.\n",
      "  data_subset = grouped_data.get_group(pd_key)\n"
     ]
    },
    {
     "data": {
      "image/png": "[encoded data removed]",
      "text/plain": [
       "<Figure size 1000x600 with 1 Axes>"
      ]
     },
     "metadata": {},
     "output_type": "display_data"
    }
   ],
   "source": [
    "\n",
    "plt.figure(figsize=(10, 6))\n",
    "sns.histplot(data=df, x='Age', hue='Survived', kde=True, multiple='stack')\n",
    "plt.title('Age Distribution by Survival')\n",
    "plt.xlabel('Age')\n",
    "plt.ylabel('Count')\n",
    "plt.legend(title='Survived', labels=['Did not Survive', 'Survived'])\n",
    "plt.show()"
   ]
  },
  {
   "cell_type": "code",
   "execution_count": 55,
   "id": "59c818e5",
   "metadata": {
    "execution": {
     "iopub.execute_input": "2024-07-26T19:41:31.131671Z",
     "iopub.status.busy": "2024-07-26T19:41:31.130234Z",
     "iopub.status.idle": "2024-07-26T19:41:31.761244Z",
     "shell.execute_reply": "2024-07-26T19:41:31.759515Z"
    },
    "papermill": {
     "duration": 0.668417,
     "end_time": "2024-07-26T19:41:31.764285",
     "exception": false,
     "start_time": "2024-07-26T19:41:31.095868",
     "status": "completed"
    },
    "tags": []
   },
   "outputs": [
    {
     "data": {
      "image/png": "[encoded data removed]",
      "text/plain": [
       "<Figure size 1000x800 with 2 Axes>"
      ]
     },
     "metadata": {},
     "output_type": "display_data"
    }
   ],
   "source": [
    "numeric_df = df.select_dtypes(include='number')\n",
    "\n",
    "plt.figure(figsize=(10, 8))\n",
    "correlation_matrix = numeric_df.corr()\n",
    "sns.heatmap(correlation_matrix, annot=True, cmap='coolwarm', linewidths=0.5)\n",
    "plt.title('Correlation Matrix')\n",
    "plt.show()"
   ]
  },
  {
   "cell_type": "code",
   "execution_count": 56,
   "id": "cfe2da36",
   "metadata": {
    "execution": {
     "iopub.execute_input": "2024-07-26T19:41:31.833117Z",
     "iopub.status.busy": "2024-07-26T19:41:31.832609Z",
     "iopub.status.idle": "2024-07-26T19:41:31.841412Z",
     "shell.execute_reply": "2024-07-26T19:41:31.840022Z"
    },
    "papermill": {
     "duration": 0.046557,
     "end_time": "2024-07-26T19:41:31.844147",
     "exception": false,
     "start_time": "2024-07-26T19:41:31.797590",
     "status": "completed"
    },
    "tags": []
   },
   "outputs": [
    {
     "data": {
      "text/plain": [
       "(891, 11)"
      ]
     },
     "execution_count": 56,
     "metadata": {},
     "output_type": "execute_result"
    }
   ],
   "source": [
    "df.shape"
   ]
  },
  {
   "cell_type": "code",
   "execution_count": 57,
   "id": "70b663c0",
   "metadata": {
    "execution": {
     "iopub.execute_input": "2024-07-26T19:41:31.916386Z",
     "iopub.status.busy": "2024-07-26T19:41:31.914733Z",
     "iopub.status.idle": "2024-07-26T19:41:31.928549Z",
     "shell.execute_reply": "2024-07-26T19:41:31.926755Z"
    },
    "papermill": {
     "duration": 0.052889,
     "end_time": "2024-07-26T19:41:31.931708",
     "exception": false,
     "start_time": "2024-07-26T19:41:31.878819",
     "status": "completed"
    },
    "tags": []
   },
   "outputs": [],
   "source": [
    "import pandas as pd\n",
    "\n",
    "result_df = pd.DataFrame({\n",
    "    'PassengerId': range(1, 892), \n",
    "    'Survived': y_pred\n",
    "})\n",
    "\n",
    "# Save to CSV\n",
    "result_df.to_csv('survivor_predict.csv', index=False)\n"
   ]
  },
  {
   "cell_type": "code",
   "execution_count": 58,
   "id": "8fbf4529",
   "metadata": {
    "execution": {
     "iopub.execute_input": "2024-07-26T19:41:32.001884Z",
     "iopub.status.busy": "2024-07-26T19:41:32.001177Z",
     "iopub.status.idle": "2024-07-26T19:41:32.017684Z",
     "shell.execute_reply": "2024-07-26T19:41:32.015452Z"
    },
    "papermill": {
     "duration": 0.056038,
     "end_time": "2024-07-26T19:41:32.021048",
     "exception": false,
     "start_time": "2024-07-26T19:41:31.965010",
     "status": "completed"
    },
    "tags": []
   },
   "outputs": [
    {
     "name": "stdout",
     "output_type": "stream",
     "text": [
      "     PassengerId  Survived\n",
      "841          842         0\n",
      "842          843         1\n",
      "843          844         0\n",
      "844          845         0\n",
      "845          846         0\n",
      "846          847         0\n",
      "847          848         0\n",
      "848          849         0\n",
      "849          850         1\n",
      "850          851         0\n",
      "851          852         0\n",
      "852          853         1\n",
      "853          854         1\n",
      "854          855         1\n",
      "855          856         1\n",
      "856          857         1\n",
      "857          858         0\n",
      "858          859         1\n",
      "859          860         0\n",
      "860          861         0\n",
      "861          862         0\n",
      "862          863         1\n",
      "863          864         1\n",
      "864          865         0\n",
      "865          866         1\n",
      "866          867         1\n",
      "867          868         0\n",
      "868          869         0\n",
      "869          870         0\n",
      "870          871         0\n",
      "871          872         1\n",
      "872          873         0\n",
      "873          874         0\n",
      "874          875         1\n",
      "875          876         1\n",
      "876          877         0\n",
      "877          878         0\n",
      "878          879         0\n",
      "879          880         1\n",
      "880          881         1\n",
      "881          882         0\n",
      "882          883         1\n",
      "883          884         0\n",
      "884          885         0\n",
      "885          886         1\n",
      "886          887         0\n",
      "887          888         1\n",
      "888          889         1\n",
      "889          890         0\n",
      "890          891         0\n"
     ]
    }
   ],
   "source": [
    "df2 = pd.read_csv(\"survivor_predict.csv\")\n",
    "print(df2.tail(50))\n"
   ]
  },
  {
   "cell_type": "code",
   "execution_count": 59,
   "id": "5d4dcefa",
   "metadata": {
    "execution": {
     "iopub.execute_input": "2024-07-26T19:41:32.094131Z",
     "iopub.status.busy": "2024-07-26T19:41:32.093667Z",
     "iopub.status.idle": "2024-07-26T19:41:32.107578Z",
     "shell.execute_reply": "2024-07-26T19:41:32.105344Z"
    },
    "papermill": {
     "duration": 0.055269,
     "end_time": "2024-07-26T19:41:32.111043",
     "exception": false,
     "start_time": "2024-07-26T19:41:32.055774",
     "status": "completed"
    },
    "tags": []
   },
   "outputs": [
    {
     "data": {
      "text/plain": [
       "<bound method DataFrame.info of      PassengerId  Survived\n",
       "0              1         0\n",
       "1              2         1\n",
       "2              3         1\n",
       "3              4         1\n",
       "4              5         0\n",
       "..           ...       ...\n",
       "886          887         0\n",
       "887          888         1\n",
       "888          889         1\n",
       "889          890         0\n",
       "890          891         0\n",
       "\n",
       "[891 rows x 2 columns]>"
      ]
     },
     "execution_count": 59,
     "metadata": {},
     "output_type": "execute_result"
    }
   ],
   "source": [
    "df2.info"
   ]
  },
  {
   "cell_type": "code",
   "execution_count": 60,
   "id": "1bc3e6a8",
   "metadata": {
    "execution": {
     "iopub.execute_input": "2024-07-26T19:41:32.188331Z",
     "iopub.status.busy": "2024-07-26T19:41:32.187020Z",
     "iopub.status.idle": "2024-07-26T19:41:32.200682Z",
     "shell.execute_reply": "2024-07-26T19:41:32.198885Z"
    },
    "papermill": {
     "duration": 0.053454,
     "end_time": "2024-07-26T19:41:32.203933",
     "exception": false,
     "start_time": "2024-07-26T19:41:32.150479",
     "status": "completed"
    },
    "tags": []
   },
   "outputs": [
    {
     "data": {
      "text/plain": [
       "Survived\n",
       "0    577\n",
       "1    314\n",
       "Name: count, dtype: int64"
      ]
     },
     "execution_count": 60,
     "metadata": {},
     "output_type": "execute_result"
    }
   ],
   "source": [
    "df2['Survived'].value_counts()"
   ]
  },
  {
   "cell_type": "code",
   "execution_count": null,
   "id": "84ed0df6",
   "metadata": {
    "papermill": {
     "duration": 0.037587,
     "end_time": "2024-07-26T19:41:32.280072",
     "exception": false,
     "start_time": "2024-07-26T19:41:32.242485",
     "status": "completed"
    },
    "tags": []
   },
   "outputs": [],
   "source": []
  },
  {
   "cell_type": "code",
   "execution_count": null,
   "id": "e331ed5e",
   "metadata": {
    "papermill": {
     "duration": 0.03774,
     "end_time": "2024-07-26T19:41:32.357067",
     "exception": false,
     "start_time": "2024-07-26T19:41:32.319327",
     "status": "completed"
    },
    "tags": []
   },
   "outputs": [],
   "source": []
  },
  {
   "cell_type": "code",
   "execution_count": null,
   "id": "d63e350e",
   "metadata": {
    "papermill": {
     "duration": 0.039656,
     "end_time": "2024-07-26T19:41:32.433711",
     "exception": false,
     "start_time": "2024-07-26T19:41:32.394055",
     "status": "completed"
    },
    "tags": []
   },
   "outputs": [],
   "source": []
  },
  {
   "cell_type": "code",
   "execution_count": null,
   "id": "737b3182",
   "metadata": {
    "papermill": {
     "duration": 0.038233,
     "end_time": "2024-07-26T19:41:32.511214",
     "exception": false,
     "start_time": "2024-07-26T19:41:32.472981",
     "status": "completed"
    },
    "tags": []
   },
   "outputs": [],
   "source": []
  },
  {
   "cell_type": "code",
   "execution_count": null,
   "id": "722d39af",
   "metadata": {
    "papermill": {
     "duration": 0.036848,
     "end_time": "2024-07-26T19:41:32.588365",
     "exception": false,
     "start_time": "2024-07-26T19:41:32.551517",
     "status": "completed"
    },
    "tags": []
   },
   "outputs": [],
   "source": []
  },
  {
   "cell_type": "code",
   "execution_count": null,
   "id": "24b3b8fd",
   "metadata": {
    "papermill": {
     "duration": 0.037373,
     "end_time": "2024-07-26T19:41:32.663548",
     "exception": false,
     "start_time": "2024-07-26T19:41:32.626175",
     "status": "completed"
    },
    "tags": []
   },
   "outputs": [],
   "source": []
  },
  {
   "cell_type": "code",
   "execution_count": null,
   "id": "f69ae384",
   "metadata": {
    "papermill": {
     "duration": 0.036157,
     "end_time": "2024-07-26T19:41:32.735880",
     "exception": false,
     "start_time": "2024-07-26T19:41:32.699723",
     "status": "completed"
    },
    "tags": []
   },
   "outputs": [],
   "source": []
  },
  {
   "cell_type": "code",
   "execution_count": null,
   "id": "bf4c1b00",
   "metadata": {
    "papermill": {
     "duration": 0.035663,
     "end_time": "2024-07-26T19:41:32.809112",
     "exception": false,
     "start_time": "2024-07-26T19:41:32.773449",
     "status": "completed"
    },
    "tags": []
   },
   "outputs": [],
   "source": []
  },
  {
   "cell_type": "code",
   "execution_count": null,
   "id": "11bca912",
   "metadata": {
    "papermill": {
     "duration": 0.036412,
     "end_time": "2024-07-26T19:41:32.881434",
     "exception": false,
     "start_time": "2024-07-26T19:41:32.845022",
     "status": "completed"
    },
    "tags": []
   },
   "outputs": [],
   "source": []
  },
  {
   "cell_type": "code",
   "execution_count": null,
   "id": "2f40ce8a",
   "metadata": {
    "papermill": {
     "duration": 0.036183,
     "end_time": "2024-07-26T19:41:32.953349",
     "exception": false,
     "start_time": "2024-07-26T19:41:32.917166",
     "status": "completed"
    },
    "tags": []
   },
   "outputs": [],
   "source": []
  },
  {
   "cell_type": "code",
   "execution_count": null,
   "id": "bc574801",
   "metadata": {
    "papermill": {
     "duration": 0.037316,
     "end_time": "2024-07-26T19:41:33.027032",
     "exception": false,
     "start_time": "2024-07-26T19:41:32.989716",
     "status": "completed"
    },
    "tags": []
   },
   "outputs": [],
   "source": []
  },
  {
   "cell_type": "code",
   "execution_count": null,
   "id": "3d67ad9b",
   "metadata": {
    "papermill": {
     "duration": 0.035737,
     "end_time": "2024-07-26T19:41:33.098176",
     "exception": false,
     "start_time": "2024-07-26T19:41:33.062439",
     "status": "completed"
    },
    "tags": []
   },
   "outputs": [],
   "source": []
  },
  {
   "cell_type": "code",
   "execution_count": null,
   "id": "dfa7315c",
   "metadata": {
    "papermill": {
     "duration": 0.034863,
     "end_time": "2024-07-26T19:41:33.167552",
     "exception": false,
     "start_time": "2024-07-26T19:41:33.132689",
     "status": "completed"
    },
    "tags": []
   },
   "outputs": [],
   "source": []
  }
 ],
 "metadata": {
  "kaggle": {
   "accelerator": "none",
   "dataSources": [
    {
     "databundleVersionId": 26502,
     "sourceId": 3136,
     "sourceType": "competition"
    }
   ],
   "dockerImageVersionId": 30746,
   "isGpuEnabled": false,
   "isInternetEnabled": false,
   "language": "python",
   "sourceType": "notebook"
  },
  "kernelspec": {
   "display_name": "Python 3",
   "language": "python",
   "name": "python3"
  },
  "language_info": {
   "codemirror_mode": {
    "name": "ipython",
    "version": 3
   },
   "file_extension": ".py",
   "mimetype": "text/x-python",
   "name": "python",
   "nbconvert_exporter": "python",
   "pygments_lexer": "ipython3",
   "version": "3.10.13"
  },
  "papermill": {
   "default_parameters": {},
   "duration": 44.679894,
   "end_time": "2024-07-26T19:41:34.229096",
   "environment_variables": {},
   "exception": null,
   "input_path": "__notebook__.ipynb",
   "output_path": "__notebook__.ipynb",
   "parameters": {},
   "start_time": "2024-07-26T19:40:49.549202",
   "version": "2.5.0"
  }
 },
 "nbformat": 4,
 "nbformat_minor": 5
}
