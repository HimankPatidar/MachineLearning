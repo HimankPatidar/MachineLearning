{
 "cells": [
  {
   "cell_type": "code",
   "execution_count": 1,
   "id": "edaf41d7",
   "metadata": {
    "_cell_guid": "b1076dfc-b9ad-4769-8c92-a6c4dae69d19",
    "_uuid": "8f2839f25d086af736a60e9eeb907d3b93b6e0e5",
    "execution": {
     "iopub.execute_input": "2024-07-26T18:34:59.019761Z",
     "iopub.status.busy": "2024-07-26T18:34:59.019340Z",
     "iopub.status.idle": "2024-07-26T18:35:01.620998Z",
     "shell.execute_reply": "2024-07-26T18:35:01.619304Z"
    },
    "papermill": {
     "duration": 2.622083,
     "end_time": "2024-07-26T18:35:01.623823",
     "exception": false,
     "start_time": "2024-07-26T18:34:59.001740",
     "status": "completed"
    },
    "tags": []
   },
   "outputs": [
    {
     "name": "stdout",
     "output_type": "stream",
     "text": [
      "/kaggle/input/titanic/train.csv\n",
      "/kaggle/input/titanic/test.csv\n",
      "/kaggle/input/titanic/gender_submission.csv\n"
     ]
    }
   ],
   "source": [
    "# This Python 3 environment comes with many helpful analytics libraries installed\n",
    "# It is defined by the kaggle/python Docker image: https://github.com/kaggle/docker-python\n",
    "# For example, here's several helpful packages to load\n",
    "\n",
    "import numpy as np # linear algebra\n",
    "import pandas as pd # data processing, CSV file I/O (e.g. pd.read_csv)\n",
    "import seaborn as sns\n",
    "import matplotlib.pyplot as plt\n",
    "\n",
    "# Input data files are available in the read-only \"../input/\" directory\n",
    "# For example, running this (by clicking run or pressing Shift+Enter) will list all files under the input directory\n",
    "\n",
    "import os\n",
    "for dirname, _, filenames in os.walk('/kaggle/input'):\n",
    "    for filename in filenames:\n",
    "        print(os.path.join(dirname, filename))\n",
    "\n",
    "# You can write up to 20GB to the current directory (/kaggle/working/) that gets preserved as output when you create a version using \"Save & Run All\" \n",
    "# You can also write temporary files to /kaggle/temp/, but they won't be saved outside of the current session"
   ]
  },
  {
   "cell_type": "code",
   "execution_count": 2,
   "id": "ffae6a69",
   "metadata": {
    "execution": {
     "iopub.execute_input": "2024-07-26T18:35:01.655604Z",
     "iopub.status.busy": "2024-07-26T18:35:01.655033Z",
     "iopub.status.idle": "2024-07-26T18:35:01.694909Z",
     "shell.execute_reply": "2024-07-26T18:35:01.693248Z"
    },
    "papermill": {
     "duration": 0.059919,
     "end_time": "2024-07-26T18:35:01.698605",
     "exception": false,
     "start_time": "2024-07-26T18:35:01.638686",
     "status": "completed"
    },
    "tags": []
   },
   "outputs": [],
   "source": [
    "df = pd.read_csv(\"/kaggle/input/titanic/train.csv\")\n",
    "df2 = pd.read_csv(\"/kaggle/input/titanic/test.csv\")\n",
    "df3 = pd.read_csv(\"/kaggle/input/titanic/gender_submission.csv\")"
   ]
  },
  {
   "cell_type": "code",
   "execution_count": 3,
   "id": "06671474",
   "metadata": {
    "execution": {
     "iopub.execute_input": "2024-07-26T18:35:01.732268Z",
     "iopub.status.busy": "2024-07-26T18:35:01.731863Z",
     "iopub.status.idle": "2024-07-26T18:35:01.767027Z",
     "shell.execute_reply": "2024-07-26T18:35:01.765719Z"
    },
    "papermill": {
     "duration": 0.055683,
     "end_time": "2024-07-26T18:35:01.769449",
     "exception": false,
     "start_time": "2024-07-26T18:35:01.713766",
     "status": "completed"
    },
    "tags": []
   },
   "outputs": [
    {
     "data": {
      "text/html": [
       "<div>\n",
       "<style scoped>\n",
       "    .dataframe tbody tr th:only-of-type {\n",
       "        vertical-align: middle;\n",
       "    }\n",
       "\n",
       "    .dataframe tbody tr th {\n",
       "        vertical-align: top;\n",
       "    }\n",
       "\n",
       "    .dataframe thead th {\n",
       "        text-align: right;\n",
       "    }\n",
       "</style>\n",
       "<table border=\"1\" class=\"dataframe\">\n",
       "  <thead>\n",
       "    <tr style=\"text-align: right;\">\n",
       "      <th></th>\n",
       "      <th>PassengerId</th>\n",
       "      <th>Survived</th>\n",
       "      <th>Pclass</th>\n",
       "      <th>Name</th>\n",
       "      <th>Sex</th>\n",
       "      <th>Age</th>\n",
       "      <th>SibSp</th>\n",
       "      <th>Parch</th>\n",
       "      <th>Ticket</th>\n",
       "      <th>Fare</th>\n",
       "      <th>Cabin</th>\n",
       "      <th>Embarked</th>\n",
       "    </tr>\n",
       "  </thead>\n",
       "  <tbody>\n",
       "    <tr>\n",
       "      <th>0</th>\n",
       "      <td>1</td>\n",
       "      <td>0</td>\n",
       "      <td>3</td>\n",
       "      <td>Braund, Mr. Owen Harris</td>\n",
       "      <td>male</td>\n",
       "      <td>22.0</td>\n",
       "      <td>1</td>\n",
       "      <td>0</td>\n",
       "      <td>A/5 21171</td>\n",
       "      <td>7.2500</td>\n",
       "      <td>NaN</td>\n",
       "      <td>S</td>\n",
       "    </tr>\n",
       "    <tr>\n",
       "      <th>1</th>\n",
       "      <td>2</td>\n",
       "      <td>1</td>\n",
       "      <td>1</td>\n",
       "      <td>Cumings, Mrs. John Bradley (Florence Briggs Th...</td>\n",
       "      <td>female</td>\n",
       "      <td>38.0</td>\n",
       "      <td>1</td>\n",
       "      <td>0</td>\n",
       "      <td>PC 17599</td>\n",
       "      <td>71.2833</td>\n",
       "      <td>C85</td>\n",
       "      <td>C</td>\n",
       "    </tr>\n",
       "    <tr>\n",
       "      <th>2</th>\n",
       "      <td>3</td>\n",
       "      <td>1</td>\n",
       "      <td>3</td>\n",
       "      <td>Heikkinen, Miss. Laina</td>\n",
       "      <td>female</td>\n",
       "      <td>26.0</td>\n",
       "      <td>0</td>\n",
       "      <td>0</td>\n",
       "      <td>STON/O2. 3101282</td>\n",
       "      <td>7.9250</td>\n",
       "      <td>NaN</td>\n",
       "      <td>S</td>\n",
       "    </tr>\n",
       "    <tr>\n",
       "      <th>3</th>\n",
       "      <td>4</td>\n",
       "      <td>1</td>\n",
       "      <td>1</td>\n",
       "      <td>Futrelle, Mrs. Jacques Heath (Lily May Peel)</td>\n",
       "      <td>female</td>\n",
       "      <td>35.0</td>\n",
       "      <td>1</td>\n",
       "      <td>0</td>\n",
       "      <td>113803</td>\n",
       "      <td>53.1000</td>\n",
       "      <td>C123</td>\n",
       "      <td>S</td>\n",
       "    </tr>\n",
       "    <tr>\n",
       "      <th>4</th>\n",
       "      <td>5</td>\n",
       "      <td>0</td>\n",
       "      <td>3</td>\n",
       "      <td>Allen, Mr. William Henry</td>\n",
       "      <td>male</td>\n",
       "      <td>35.0</td>\n",
       "      <td>0</td>\n",
       "      <td>0</td>\n",
       "      <td>373450</td>\n",
       "      <td>8.0500</td>\n",
       "      <td>NaN</td>\n",
       "      <td>S</td>\n",
       "    </tr>\n",
       "  </tbody>\n",
       "</table>\n",
       "</div>"
      ],
      "text/plain": [
       "   PassengerId  Survived  Pclass  \\\n",
       "0            1         0       3   \n",
       "1            2         1       1   \n",
       "2            3         1       3   \n",
       "3            4         1       1   \n",
       "4            5         0       3   \n",
       "\n",
       "                                                Name     Sex   Age  SibSp  \\\n",
       "0                            Braund, Mr. Owen Harris    male  22.0      1   \n",
       "1  Cumings, Mrs. John Bradley (Florence Briggs Th...  female  38.0      1   \n",
       "2                             Heikkinen, Miss. Laina  female  26.0      0   \n",
       "3       Futrelle, Mrs. Jacques Heath (Lily May Peel)  female  35.0      1   \n",
       "4                           Allen, Mr. William Henry    male  35.0      0   \n",
       "\n",
       "   Parch            Ticket     Fare Cabin Embarked  \n",
       "0      0         A/5 21171   7.2500   NaN        S  \n",
       "1      0          PC 17599  71.2833   C85        C  \n",
       "2      0  STON/O2. 3101282   7.9250   NaN        S  \n",
       "3      0            113803  53.1000  C123        S  \n",
       "4      0            373450   8.0500   NaN        S  "
      ]
     },
     "execution_count": 3,
     "metadata": {},
     "output_type": "execute_result"
    }
   ],
   "source": [
    "df.head()\n"
   ]
  },
  {
   "cell_type": "code",
   "execution_count": 4,
   "id": "32b4f043",
   "metadata": {
    "execution": {
     "iopub.execute_input": "2024-07-26T18:35:01.802412Z",
     "iopub.status.busy": "2024-07-26T18:35:01.801995Z",
     "iopub.status.idle": "2024-07-26T18:35:01.820915Z",
     "shell.execute_reply": "2024-07-26T18:35:01.819713Z"
    },
    "papermill": {
     "duration": 0.038802,
     "end_time": "2024-07-26T18:35:01.823618",
     "exception": false,
     "start_time": "2024-07-26T18:35:01.784816",
     "status": "completed"
    },
    "tags": []
   },
   "outputs": [
    {
     "data": {
      "text/html": [
       "<div>\n",
       "<style scoped>\n",
       "    .dataframe tbody tr th:only-of-type {\n",
       "        vertical-align: middle;\n",
       "    }\n",
       "\n",
       "    .dataframe tbody tr th {\n",
       "        vertical-align: top;\n",
       "    }\n",
       "\n",
       "    .dataframe thead th {\n",
       "        text-align: right;\n",
       "    }\n",
       "</style>\n",
       "<table border=\"1\" class=\"dataframe\">\n",
       "  <thead>\n",
       "    <tr style=\"text-align: right;\">\n",
       "      <th></th>\n",
       "      <th>PassengerId</th>\n",
       "      <th>Pclass</th>\n",
       "      <th>Name</th>\n",
       "      <th>Sex</th>\n",
       "      <th>Age</th>\n",
       "      <th>SibSp</th>\n",
       "      <th>Parch</th>\n",
       "      <th>Ticket</th>\n",
       "      <th>Fare</th>\n",
       "      <th>Cabin</th>\n",
       "      <th>Embarked</th>\n",
       "    </tr>\n",
       "  </thead>\n",
       "  <tbody>\n",
       "    <tr>\n",
       "      <th>0</th>\n",
       "      <td>892</td>\n",
       "      <td>3</td>\n",
       "      <td>Kelly, Mr. James</td>\n",
       "      <td>male</td>\n",
       "      <td>34.5</td>\n",
       "      <td>0</td>\n",
       "      <td>0</td>\n",
       "      <td>330911</td>\n",
       "      <td>7.8292</td>\n",
       "      <td>NaN</td>\n",
       "      <td>Q</td>\n",
       "    </tr>\n",
       "    <tr>\n",
       "      <th>1</th>\n",
       "      <td>893</td>\n",
       "      <td>3</td>\n",
       "      <td>Wilkes, Mrs. James (Ellen Needs)</td>\n",
       "      <td>female</td>\n",
       "      <td>47.0</td>\n",
       "      <td>1</td>\n",
       "      <td>0</td>\n",
       "      <td>363272</td>\n",
       "      <td>7.0000</td>\n",
       "      <td>NaN</td>\n",
       "      <td>S</td>\n",
       "    </tr>\n",
       "    <tr>\n",
       "      <th>2</th>\n",
       "      <td>894</td>\n",
       "      <td>2</td>\n",
       "      <td>Myles, Mr. Thomas Francis</td>\n",
       "      <td>male</td>\n",
       "      <td>62.0</td>\n",
       "      <td>0</td>\n",
       "      <td>0</td>\n",
       "      <td>240276</td>\n",
       "      <td>9.6875</td>\n",
       "      <td>NaN</td>\n",
       "      <td>Q</td>\n",
       "    </tr>\n",
       "    <tr>\n",
       "      <th>3</th>\n",
       "      <td>895</td>\n",
       "      <td>3</td>\n",
       "      <td>Wirz, Mr. Albert</td>\n",
       "      <td>male</td>\n",
       "      <td>27.0</td>\n",
       "      <td>0</td>\n",
       "      <td>0</td>\n",
       "      <td>315154</td>\n",
       "      <td>8.6625</td>\n",
       "      <td>NaN</td>\n",
       "      <td>S</td>\n",
       "    </tr>\n",
       "    <tr>\n",
       "      <th>4</th>\n",
       "      <td>896</td>\n",
       "      <td>3</td>\n",
       "      <td>Hirvonen, Mrs. Alexander (Helga E Lindqvist)</td>\n",
       "      <td>female</td>\n",
       "      <td>22.0</td>\n",
       "      <td>1</td>\n",
       "      <td>1</td>\n",
       "      <td>3101298</td>\n",
       "      <td>12.2875</td>\n",
       "      <td>NaN</td>\n",
       "      <td>S</td>\n",
       "    </tr>\n",
       "  </tbody>\n",
       "</table>\n",
       "</div>"
      ],
      "text/plain": [
       "   PassengerId  Pclass                                          Name     Sex  \\\n",
       "0          892       3                              Kelly, Mr. James    male   \n",
       "1          893       3              Wilkes, Mrs. James (Ellen Needs)  female   \n",
       "2          894       2                     Myles, Mr. Thomas Francis    male   \n",
       "3          895       3                              Wirz, Mr. Albert    male   \n",
       "4          896       3  Hirvonen, Mrs. Alexander (Helga E Lindqvist)  female   \n",
       "\n",
       "    Age  SibSp  Parch   Ticket     Fare Cabin Embarked  \n",
       "0  34.5      0      0   330911   7.8292   NaN        Q  \n",
       "1  47.0      1      0   363272   7.0000   NaN        S  \n",
       "2  62.0      0      0   240276   9.6875   NaN        Q  \n",
       "3  27.0      0      0   315154   8.6625   NaN        S  \n",
       "4  22.0      1      1  3101298  12.2875   NaN        S  "
      ]
     },
     "execution_count": 4,
     "metadata": {},
     "output_type": "execute_result"
    }
   ],
   "source": [
    "df2.head()"
   ]
  },
  {
   "cell_type": "code",
   "execution_count": 5,
   "id": "f9345fb3",
   "metadata": {
    "execution": {
     "iopub.execute_input": "2024-07-26T18:35:01.855772Z",
     "iopub.status.busy": "2024-07-26T18:35:01.855371Z",
     "iopub.status.idle": "2024-07-26T18:35:01.865443Z",
     "shell.execute_reply": "2024-07-26T18:35:01.864283Z"
    },
    "papermill": {
     "duration": 0.029002,
     "end_time": "2024-07-26T18:35:01.867869",
     "exception": false,
     "start_time": "2024-07-26T18:35:01.838867",
     "status": "completed"
    },
    "tags": []
   },
   "outputs": [
    {
     "data": {
      "text/html": [
       "<div>\n",
       "<style scoped>\n",
       "    .dataframe tbody tr th:only-of-type {\n",
       "        vertical-align: middle;\n",
       "    }\n",
       "\n",
       "    .dataframe tbody tr th {\n",
       "        vertical-align: top;\n",
       "    }\n",
       "\n",
       "    .dataframe thead th {\n",
       "        text-align: right;\n",
       "    }\n",
       "</style>\n",
       "<table border=\"1\" class=\"dataframe\">\n",
       "  <thead>\n",
       "    <tr style=\"text-align: right;\">\n",
       "      <th></th>\n",
       "      <th>PassengerId</th>\n",
       "      <th>Survived</th>\n",
       "    </tr>\n",
       "  </thead>\n",
       "  <tbody>\n",
       "    <tr>\n",
       "      <th>0</th>\n",
       "      <td>892</td>\n",
       "      <td>0</td>\n",
       "    </tr>\n",
       "    <tr>\n",
       "      <th>1</th>\n",
       "      <td>893</td>\n",
       "      <td>1</td>\n",
       "    </tr>\n",
       "    <tr>\n",
       "      <th>2</th>\n",
       "      <td>894</td>\n",
       "      <td>0</td>\n",
       "    </tr>\n",
       "    <tr>\n",
       "      <th>3</th>\n",
       "      <td>895</td>\n",
       "      <td>0</td>\n",
       "    </tr>\n",
       "    <tr>\n",
       "      <th>4</th>\n",
       "      <td>896</td>\n",
       "      <td>1</td>\n",
       "    </tr>\n",
       "  </tbody>\n",
       "</table>\n",
       "</div>"
      ],
      "text/plain": [
       "   PassengerId  Survived\n",
       "0          892         0\n",
       "1          893         1\n",
       "2          894         0\n",
       "3          895         0\n",
       "4          896         1"
      ]
     },
     "execution_count": 5,
     "metadata": {},
     "output_type": "execute_result"
    }
   ],
   "source": [
    "df3.head()"
   ]
  },
  {
   "cell_type": "code",
   "execution_count": 6,
   "id": "aaaa39f3",
   "metadata": {
    "execution": {
     "iopub.execute_input": "2024-07-26T18:35:01.900954Z",
     "iopub.status.busy": "2024-07-26T18:35:01.900553Z",
     "iopub.status.idle": "2024-07-26T18:35:01.907608Z",
     "shell.execute_reply": "2024-07-26T18:35:01.906471Z"
    },
    "papermill": {
     "duration": 0.026212,
     "end_time": "2024-07-26T18:35:01.910082",
     "exception": false,
     "start_time": "2024-07-26T18:35:01.883870",
     "status": "completed"
    },
    "tags": []
   },
   "outputs": [
    {
     "data": {
      "text/plain": [
       "(891, 12)"
      ]
     },
     "execution_count": 6,
     "metadata": {},
     "output_type": "execute_result"
    }
   ],
   "source": [
    "df.shape\n"
   ]
  },
  {
   "cell_type": "code",
   "execution_count": 7,
   "id": "23a6dec8",
   "metadata": {
    "execution": {
     "iopub.execute_input": "2024-07-26T18:35:01.943114Z",
     "iopub.status.busy": "2024-07-26T18:35:01.942699Z",
     "iopub.status.idle": "2024-07-26T18:35:01.950105Z",
     "shell.execute_reply": "2024-07-26T18:35:01.948709Z"
    },
    "papermill": {
     "duration": 0.027272,
     "end_time": "2024-07-26T18:35:01.952791",
     "exception": false,
     "start_time": "2024-07-26T18:35:01.925519",
     "status": "completed"
    },
    "tags": []
   },
   "outputs": [
    {
     "data": {
      "text/plain": [
       "(418, 11)"
      ]
     },
     "execution_count": 7,
     "metadata": {},
     "output_type": "execute_result"
    }
   ],
   "source": [
    "df2.shape"
   ]
  },
  {
   "cell_type": "code",
   "execution_count": 8,
   "id": "f709e114",
   "metadata": {
    "execution": {
     "iopub.execute_input": "2024-07-26T18:35:01.990136Z",
     "iopub.status.busy": "2024-07-26T18:35:01.989301Z",
     "iopub.status.idle": "2024-07-26T18:35:01.997393Z",
     "shell.execute_reply": "2024-07-26T18:35:01.996016Z"
    },
    "papermill": {
     "duration": 0.031261,
     "end_time": "2024-07-26T18:35:02.000077",
     "exception": false,
     "start_time": "2024-07-26T18:35:01.968816",
     "status": "completed"
    },
    "tags": []
   },
   "outputs": [
    {
     "data": {
      "text/plain": [
       "(418, 2)"
      ]
     },
     "execution_count": 8,
     "metadata": {},
     "output_type": "execute_result"
    }
   ],
   "source": [
    "df3.shape"
   ]
  },
  {
   "cell_type": "code",
   "execution_count": 9,
   "id": "ae238eb5",
   "metadata": {
    "execution": {
     "iopub.execute_input": "2024-07-26T18:35:02.034164Z",
     "iopub.status.busy": "2024-07-26T18:35:02.033739Z",
     "iopub.status.idle": "2024-07-26T18:35:02.056671Z",
     "shell.execute_reply": "2024-07-26T18:35:02.054740Z"
    },
    "papermill": {
     "duration": 0.04338,
     "end_time": "2024-07-26T18:35:02.059265",
     "exception": false,
     "start_time": "2024-07-26T18:35:02.015885",
     "status": "completed"
    },
    "tags": []
   },
   "outputs": [
    {
     "data": {
      "text/plain": [
       "<bound method DataFrame.info of      PassengerId  Survived  Pclass  \\\n",
       "0              1         0       3   \n",
       "1              2         1       1   \n",
       "2              3         1       3   \n",
       "3              4         1       1   \n",
       "4              5         0       3   \n",
       "..           ...       ...     ...   \n",
       "886          887         0       2   \n",
       "887          888         1       1   \n",
       "888          889         0       3   \n",
       "889          890         1       1   \n",
       "890          891         0       3   \n",
       "\n",
       "                                                  Name     Sex   Age  SibSp  \\\n",
       "0                              Braund, Mr. Owen Harris    male  22.0      1   \n",
       "1    Cumings, Mrs. John Bradley (Florence Briggs Th...  female  38.0      1   \n",
       "2                               Heikkinen, Miss. Laina  female  26.0      0   \n",
       "3         Futrelle, Mrs. Jacques Heath (Lily May Peel)  female  35.0      1   \n",
       "4                             Allen, Mr. William Henry    male  35.0      0   \n",
       "..                                                 ...     ...   ...    ...   \n",
       "886                              Montvila, Rev. Juozas    male  27.0      0   \n",
       "887                       Graham, Miss. Margaret Edith  female  19.0      0   \n",
       "888           Johnston, Miss. Catherine Helen \"Carrie\"  female   NaN      1   \n",
       "889                              Behr, Mr. Karl Howell    male  26.0      0   \n",
       "890                                Dooley, Mr. Patrick    male  32.0      0   \n",
       "\n",
       "     Parch            Ticket     Fare Cabin Embarked  \n",
       "0        0         A/5 21171   7.2500   NaN        S  \n",
       "1        0          PC 17599  71.2833   C85        C  \n",
       "2        0  STON/O2. 3101282   7.9250   NaN        S  \n",
       "3        0            113803  53.1000  C123        S  \n",
       "4        0            373450   8.0500   NaN        S  \n",
       "..     ...               ...      ...   ...      ...  \n",
       "886      0            211536  13.0000   NaN        S  \n",
       "887      0            112053  30.0000   B42        S  \n",
       "888      2        W./C. 6607  23.4500   NaN        S  \n",
       "889      0            111369  30.0000  C148        C  \n",
       "890      0            370376   7.7500   NaN        Q  \n",
       "\n",
       "[891 rows x 12 columns]>"
      ]
     },
     "execution_count": 9,
     "metadata": {},
     "output_type": "execute_result"
    }
   ],
   "source": [
    "df.info"
   ]
  },
  {
   "cell_type": "code",
   "execution_count": 10,
   "id": "3cc7ecaa",
   "metadata": {
    "execution": {
     "iopub.execute_input": "2024-07-26T18:35:02.094314Z",
     "iopub.status.busy": "2024-07-26T18:35:02.093901Z",
     "iopub.status.idle": "2024-07-26T18:35:02.130151Z",
     "shell.execute_reply": "2024-07-26T18:35:02.128858Z"
    },
    "papermill": {
     "duration": 0.056932,
     "end_time": "2024-07-26T18:35:02.132678",
     "exception": false,
     "start_time": "2024-07-26T18:35:02.075746",
     "status": "completed"
    },
    "tags": []
   },
   "outputs": [
    {
     "data": {
      "text/html": [
       "<div>\n",
       "<style scoped>\n",
       "    .dataframe tbody tr th:only-of-type {\n",
       "        vertical-align: middle;\n",
       "    }\n",
       "\n",
       "    .dataframe tbody tr th {\n",
       "        vertical-align: top;\n",
       "    }\n",
       "\n",
       "    .dataframe thead th {\n",
       "        text-align: right;\n",
       "    }\n",
       "</style>\n",
       "<table border=\"1\" class=\"dataframe\">\n",
       "  <thead>\n",
       "    <tr style=\"text-align: right;\">\n",
       "      <th></th>\n",
       "      <th>PassengerId</th>\n",
       "      <th>Survived</th>\n",
       "      <th>Pclass</th>\n",
       "      <th>Age</th>\n",
       "      <th>SibSp</th>\n",
       "      <th>Parch</th>\n",
       "      <th>Fare</th>\n",
       "    </tr>\n",
       "  </thead>\n",
       "  <tbody>\n",
       "    <tr>\n",
       "      <th>count</th>\n",
       "      <td>891.000000</td>\n",
       "      <td>891.000000</td>\n",
       "      <td>891.000000</td>\n",
       "      <td>714.000000</td>\n",
       "      <td>891.000000</td>\n",
       "      <td>891.000000</td>\n",
       "      <td>891.000000</td>\n",
       "    </tr>\n",
       "    <tr>\n",
       "      <th>mean</th>\n",
       "      <td>446.000000</td>\n",
       "      <td>0.383838</td>\n",
       "      <td>2.308642</td>\n",
       "      <td>29.699118</td>\n",
       "      <td>0.523008</td>\n",
       "      <td>0.381594</td>\n",
       "      <td>32.204208</td>\n",
       "    </tr>\n",
       "    <tr>\n",
       "      <th>std</th>\n",
       "      <td>257.353842</td>\n",
       "      <td>0.486592</td>\n",
       "      <td>0.836071</td>\n",
       "      <td>14.526497</td>\n",
       "      <td>1.102743</td>\n",
       "      <td>0.806057</td>\n",
       "      <td>49.693429</td>\n",
       "    </tr>\n",
       "    <tr>\n",
       "      <th>min</th>\n",
       "      <td>1.000000</td>\n",
       "      <td>0.000000</td>\n",
       "      <td>1.000000</td>\n",
       "      <td>0.420000</td>\n",
       "      <td>0.000000</td>\n",
       "      <td>0.000000</td>\n",
       "      <td>0.000000</td>\n",
       "    </tr>\n",
       "    <tr>\n",
       "      <th>25%</th>\n",
       "      <td>223.500000</td>\n",
       "      <td>0.000000</td>\n",
       "      <td>2.000000</td>\n",
       "      <td>20.125000</td>\n",
       "      <td>0.000000</td>\n",
       "      <td>0.000000</td>\n",
       "      <td>7.910400</td>\n",
       "    </tr>\n",
       "    <tr>\n",
       "      <th>50%</th>\n",
       "      <td>446.000000</td>\n",
       "      <td>0.000000</td>\n",
       "      <td>3.000000</td>\n",
       "      <td>28.000000</td>\n",
       "      <td>0.000000</td>\n",
       "      <td>0.000000</td>\n",
       "      <td>14.454200</td>\n",
       "    </tr>\n",
       "    <tr>\n",
       "      <th>75%</th>\n",
       "      <td>668.500000</td>\n",
       "      <td>1.000000</td>\n",
       "      <td>3.000000</td>\n",
       "      <td>38.000000</td>\n",
       "      <td>1.000000</td>\n",
       "      <td>0.000000</td>\n",
       "      <td>31.000000</td>\n",
       "    </tr>\n",
       "    <tr>\n",
       "      <th>max</th>\n",
       "      <td>891.000000</td>\n",
       "      <td>1.000000</td>\n",
       "      <td>3.000000</td>\n",
       "      <td>80.000000</td>\n",
       "      <td>8.000000</td>\n",
       "      <td>6.000000</td>\n",
       "      <td>512.329200</td>\n",
       "    </tr>\n",
       "  </tbody>\n",
       "</table>\n",
       "</div>"
      ],
      "text/plain": [
       "       PassengerId    Survived      Pclass         Age       SibSp  \\\n",
       "count   891.000000  891.000000  891.000000  714.000000  891.000000   \n",
       "mean    446.000000    0.383838    2.308642   29.699118    0.523008   \n",
       "std     257.353842    0.486592    0.836071   14.526497    1.102743   \n",
       "min       1.000000    0.000000    1.000000    0.420000    0.000000   \n",
       "25%     223.500000    0.000000    2.000000   20.125000    0.000000   \n",
       "50%     446.000000    0.000000    3.000000   28.000000    0.000000   \n",
       "75%     668.500000    1.000000    3.000000   38.000000    1.000000   \n",
       "max     891.000000    1.000000    3.000000   80.000000    8.000000   \n",
       "\n",
       "            Parch        Fare  \n",
       "count  891.000000  891.000000  \n",
       "mean     0.381594   32.204208  \n",
       "std      0.806057   49.693429  \n",
       "min      0.000000    0.000000  \n",
       "25%      0.000000    7.910400  \n",
       "50%      0.000000   14.454200  \n",
       "75%      0.000000   31.000000  \n",
       "max      6.000000  512.329200  "
      ]
     },
     "execution_count": 10,
     "metadata": {},
     "output_type": "execute_result"
    }
   ],
   "source": [
    "df.describe()"
   ]
  },
  {
   "cell_type": "code",
   "execution_count": 11,
   "id": "f44c81f8",
   "metadata": {
    "execution": {
     "iopub.execute_input": "2024-07-26T18:35:02.167760Z",
     "iopub.status.busy": "2024-07-26T18:35:02.166849Z",
     "iopub.status.idle": "2024-07-26T18:35:02.197899Z",
     "shell.execute_reply": "2024-07-26T18:35:02.196289Z"
    },
    "papermill": {
     "duration": 0.051519,
     "end_time": "2024-07-26T18:35:02.200664",
     "exception": false,
     "start_time": "2024-07-26T18:35:02.149145",
     "status": "completed"
    },
    "tags": []
   },
   "outputs": [
    {
     "data": {
      "text/html": [
       "<div>\n",
       "<style scoped>\n",
       "    .dataframe tbody tr th:only-of-type {\n",
       "        vertical-align: middle;\n",
       "    }\n",
       "\n",
       "    .dataframe tbody tr th {\n",
       "        vertical-align: top;\n",
       "    }\n",
       "\n",
       "    .dataframe thead th {\n",
       "        text-align: right;\n",
       "    }\n",
       "</style>\n",
       "<table border=\"1\" class=\"dataframe\">\n",
       "  <thead>\n",
       "    <tr style=\"text-align: right;\">\n",
       "      <th></th>\n",
       "      <th>PassengerId</th>\n",
       "      <th>Pclass</th>\n",
       "      <th>Age</th>\n",
       "      <th>SibSp</th>\n",
       "      <th>Parch</th>\n",
       "      <th>Fare</th>\n",
       "    </tr>\n",
       "  </thead>\n",
       "  <tbody>\n",
       "    <tr>\n",
       "      <th>count</th>\n",
       "      <td>418.000000</td>\n",
       "      <td>418.000000</td>\n",
       "      <td>332.000000</td>\n",
       "      <td>418.000000</td>\n",
       "      <td>418.000000</td>\n",
       "      <td>417.000000</td>\n",
       "    </tr>\n",
       "    <tr>\n",
       "      <th>mean</th>\n",
       "      <td>1100.500000</td>\n",
       "      <td>2.265550</td>\n",
       "      <td>30.272590</td>\n",
       "      <td>0.447368</td>\n",
       "      <td>0.392344</td>\n",
       "      <td>35.627188</td>\n",
       "    </tr>\n",
       "    <tr>\n",
       "      <th>std</th>\n",
       "      <td>120.810458</td>\n",
       "      <td>0.841838</td>\n",
       "      <td>14.181209</td>\n",
       "      <td>0.896760</td>\n",
       "      <td>0.981429</td>\n",
       "      <td>55.907576</td>\n",
       "    </tr>\n",
       "    <tr>\n",
       "      <th>min</th>\n",
       "      <td>892.000000</td>\n",
       "      <td>1.000000</td>\n",
       "      <td>0.170000</td>\n",
       "      <td>0.000000</td>\n",
       "      <td>0.000000</td>\n",
       "      <td>0.000000</td>\n",
       "    </tr>\n",
       "    <tr>\n",
       "      <th>25%</th>\n",
       "      <td>996.250000</td>\n",
       "      <td>1.000000</td>\n",
       "      <td>21.000000</td>\n",
       "      <td>0.000000</td>\n",
       "      <td>0.000000</td>\n",
       "      <td>7.895800</td>\n",
       "    </tr>\n",
       "    <tr>\n",
       "      <th>50%</th>\n",
       "      <td>1100.500000</td>\n",
       "      <td>3.000000</td>\n",
       "      <td>27.000000</td>\n",
       "      <td>0.000000</td>\n",
       "      <td>0.000000</td>\n",
       "      <td>14.454200</td>\n",
       "    </tr>\n",
       "    <tr>\n",
       "      <th>75%</th>\n",
       "      <td>1204.750000</td>\n",
       "      <td>3.000000</td>\n",
       "      <td>39.000000</td>\n",
       "      <td>1.000000</td>\n",
       "      <td>0.000000</td>\n",
       "      <td>31.500000</td>\n",
       "    </tr>\n",
       "    <tr>\n",
       "      <th>max</th>\n",
       "      <td>1309.000000</td>\n",
       "      <td>3.000000</td>\n",
       "      <td>76.000000</td>\n",
       "      <td>8.000000</td>\n",
       "      <td>9.000000</td>\n",
       "      <td>512.329200</td>\n",
       "    </tr>\n",
       "  </tbody>\n",
       "</table>\n",
       "</div>"
      ],
      "text/plain": [
       "       PassengerId      Pclass         Age       SibSp       Parch        Fare\n",
       "count   418.000000  418.000000  332.000000  418.000000  418.000000  417.000000\n",
       "mean   1100.500000    2.265550   30.272590    0.447368    0.392344   35.627188\n",
       "std     120.810458    0.841838   14.181209    0.896760    0.981429   55.907576\n",
       "min     892.000000    1.000000    0.170000    0.000000    0.000000    0.000000\n",
       "25%     996.250000    1.000000   21.000000    0.000000    0.000000    7.895800\n",
       "50%    1100.500000    3.000000   27.000000    0.000000    0.000000   14.454200\n",
       "75%    1204.750000    3.000000   39.000000    1.000000    0.000000   31.500000\n",
       "max    1309.000000    3.000000   76.000000    8.000000    9.000000  512.329200"
      ]
     },
     "execution_count": 11,
     "metadata": {},
     "output_type": "execute_result"
    }
   ],
   "source": [
    "df2.describe()\n"
   ]
  },
  {
   "cell_type": "code",
   "execution_count": 12,
   "id": "be512307",
   "metadata": {
    "execution": {
     "iopub.execute_input": "2024-07-26T18:35:02.238461Z",
     "iopub.status.busy": "2024-07-26T18:35:02.238026Z",
     "iopub.status.idle": "2024-07-26T18:35:02.257044Z",
     "shell.execute_reply": "2024-07-26T18:35:02.255829Z"
    },
    "papermill": {
     "duration": 0.040167,
     "end_time": "2024-07-26T18:35:02.259418",
     "exception": false,
     "start_time": "2024-07-26T18:35:02.219251",
     "status": "completed"
    },
    "tags": []
   },
   "outputs": [
    {
     "data": {
      "text/html": [
       "<div>\n",
       "<style scoped>\n",
       "    .dataframe tbody tr th:only-of-type {\n",
       "        vertical-align: middle;\n",
       "    }\n",
       "\n",
       "    .dataframe tbody tr th {\n",
       "        vertical-align: top;\n",
       "    }\n",
       "\n",
       "    .dataframe thead th {\n",
       "        text-align: right;\n",
       "    }\n",
       "</style>\n",
       "<table border=\"1\" class=\"dataframe\">\n",
       "  <thead>\n",
       "    <tr style=\"text-align: right;\">\n",
       "      <th></th>\n",
       "      <th>PassengerId</th>\n",
       "      <th>Survived</th>\n",
       "    </tr>\n",
       "  </thead>\n",
       "  <tbody>\n",
       "    <tr>\n",
       "      <th>count</th>\n",
       "      <td>418.000000</td>\n",
       "      <td>418.000000</td>\n",
       "    </tr>\n",
       "    <tr>\n",
       "      <th>mean</th>\n",
       "      <td>1100.500000</td>\n",
       "      <td>0.363636</td>\n",
       "    </tr>\n",
       "    <tr>\n",
       "      <th>std</th>\n",
       "      <td>120.810458</td>\n",
       "      <td>0.481622</td>\n",
       "    </tr>\n",
       "    <tr>\n",
       "      <th>min</th>\n",
       "      <td>892.000000</td>\n",
       "      <td>0.000000</td>\n",
       "    </tr>\n",
       "    <tr>\n",
       "      <th>25%</th>\n",
       "      <td>996.250000</td>\n",
       "      <td>0.000000</td>\n",
       "    </tr>\n",
       "    <tr>\n",
       "      <th>50%</th>\n",
       "      <td>1100.500000</td>\n",
       "      <td>0.000000</td>\n",
       "    </tr>\n",
       "    <tr>\n",
       "      <th>75%</th>\n",
       "      <td>1204.750000</td>\n",
       "      <td>1.000000</td>\n",
       "    </tr>\n",
       "    <tr>\n",
       "      <th>max</th>\n",
       "      <td>1309.000000</td>\n",
       "      <td>1.000000</td>\n",
       "    </tr>\n",
       "  </tbody>\n",
       "</table>\n",
       "</div>"
      ],
      "text/plain": [
       "       PassengerId    Survived\n",
       "count   418.000000  418.000000\n",
       "mean   1100.500000    0.363636\n",
       "std     120.810458    0.481622\n",
       "min     892.000000    0.000000\n",
       "25%     996.250000    0.000000\n",
       "50%    1100.500000    0.000000\n",
       "75%    1204.750000    1.000000\n",
       "max    1309.000000    1.000000"
      ]
     },
     "execution_count": 12,
     "metadata": {},
     "output_type": "execute_result"
    }
   ],
   "source": [
    "df3.describe()\n"
   ]
  },
  {
   "cell_type": "code",
   "execution_count": 13,
   "id": "d1ac6cf1",
   "metadata": {
    "execution": {
     "iopub.execute_input": "2024-07-26T18:35:02.294750Z",
     "iopub.status.busy": "2024-07-26T18:35:02.294310Z",
     "iopub.status.idle": "2024-07-26T18:35:02.317852Z",
     "shell.execute_reply": "2024-07-26T18:35:02.316451Z"
    },
    "papermill": {
     "duration": 0.044891,
     "end_time": "2024-07-26T18:35:02.321312",
     "exception": false,
     "start_time": "2024-07-26T18:35:02.276421",
     "status": "completed"
    },
    "tags": []
   },
   "outputs": [
    {
     "name": "stdout",
     "output_type": "stream",
     "text": [
      "<class 'pandas.core.frame.DataFrame'>\n",
      "RangeIndex: 418 entries, 0 to 417\n",
      "Data columns (total 2 columns):\n",
      " #   Column       Non-Null Count  Dtype\n",
      "---  ------       --------------  -----\n",
      " 0   PassengerId  418 non-null    int64\n",
      " 1   Survived     418 non-null    int64\n",
      "dtypes: int64(2)\n",
      "memory usage: 6.7 KB\n"
     ]
    }
   ],
   "source": [
    "df3.info()\n"
   ]
  },
  {
   "cell_type": "code",
   "execution_count": 14,
   "id": "67866325",
   "metadata": {
    "execution": {
     "iopub.execute_input": "2024-07-26T18:35:02.356773Z",
     "iopub.status.busy": "2024-07-26T18:35:02.356372Z",
     "iopub.status.idle": "2024-07-26T18:35:02.370225Z",
     "shell.execute_reply": "2024-07-26T18:35:02.368982Z"
    },
    "papermill": {
     "duration": 0.03528,
     "end_time": "2024-07-26T18:35:02.373017",
     "exception": false,
     "start_time": "2024-07-26T18:35:02.337737",
     "status": "completed"
    },
    "tags": []
   },
   "outputs": [
    {
     "data": {
      "text/plain": [
       "<bound method DataFrame.info of      PassengerId  Pclass                                          Name  \\\n",
       "0            892       3                              Kelly, Mr. James   \n",
       "1            893       3              Wilkes, Mrs. James (Ellen Needs)   \n",
       "2            894       2                     Myles, Mr. Thomas Francis   \n",
       "3            895       3                              Wirz, Mr. Albert   \n",
       "4            896       3  Hirvonen, Mrs. Alexander (Helga E Lindqvist)   \n",
       "..           ...     ...                                           ...   \n",
       "413         1305       3                            Spector, Mr. Woolf   \n",
       "414         1306       1                  Oliva y Ocana, Dona. Fermina   \n",
       "415         1307       3                  Saether, Mr. Simon Sivertsen   \n",
       "416         1308       3                           Ware, Mr. Frederick   \n",
       "417         1309       3                      Peter, Master. Michael J   \n",
       "\n",
       "        Sex   Age  SibSp  Parch              Ticket      Fare Cabin Embarked  \n",
       "0      male  34.5      0      0              330911    7.8292   NaN        Q  \n",
       "1    female  47.0      1      0              363272    7.0000   NaN        S  \n",
       "2      male  62.0      0      0              240276    9.6875   NaN        Q  \n",
       "3      male  27.0      0      0              315154    8.6625   NaN        S  \n",
       "4    female  22.0      1      1             3101298   12.2875   NaN        S  \n",
       "..      ...   ...    ...    ...                 ...       ...   ...      ...  \n",
       "413    male   NaN      0      0           A.5. 3236    8.0500   NaN        S  \n",
       "414  female  39.0      0      0            PC 17758  108.9000  C105        C  \n",
       "415    male  38.5      0      0  SOTON/O.Q. 3101262    7.2500   NaN        S  \n",
       "416    male   NaN      0      0              359309    8.0500   NaN        S  \n",
       "417    male   NaN      1      1                2668   22.3583   NaN        C  \n",
       "\n",
       "[418 rows x 11 columns]>"
      ]
     },
     "execution_count": 14,
     "metadata": {},
     "output_type": "execute_result"
    }
   ],
   "source": [
    "df2.info"
   ]
  },
  {
   "cell_type": "markdown",
   "id": "765e7128",
   "metadata": {
    "papermill": {
     "duration": 0.016343,
     "end_time": "2024-07-26T18:35:02.406088",
     "exception": false,
     "start_time": "2024-07-26T18:35:02.389745",
     "status": "completed"
    },
    "tags": []
   },
   "source": [
    "# Handling Missing Value"
   ]
  },
  {
   "cell_type": "code",
   "execution_count": 15,
   "id": "318e4304",
   "metadata": {
    "execution": {
     "iopub.execute_input": "2024-07-26T18:35:02.441627Z",
     "iopub.status.busy": "2024-07-26T18:35:02.441203Z",
     "iopub.status.idle": "2024-07-26T18:35:02.451165Z",
     "shell.execute_reply": "2024-07-26T18:35:02.449890Z"
    },
    "papermill": {
     "duration": 0.030959,
     "end_time": "2024-07-26T18:35:02.453773",
     "exception": false,
     "start_time": "2024-07-26T18:35:02.422814",
     "status": "completed"
    },
    "tags": []
   },
   "outputs": [
    {
     "data": {
      "text/plain": [
       "PassengerId      0\n",
       "Survived         0\n",
       "Pclass           0\n",
       "Name             0\n",
       "Sex              0\n",
       "Age            177\n",
       "SibSp            0\n",
       "Parch            0\n",
       "Ticket           0\n",
       "Fare             0\n",
       "Cabin          687\n",
       "Embarked         2\n",
       "dtype: int64"
      ]
     },
     "execution_count": 15,
     "metadata": {},
     "output_type": "execute_result"
    }
   ],
   "source": [
    "df.isnull().sum()"
   ]
  },
  {
   "cell_type": "code",
   "execution_count": 16,
   "id": "785c9115",
   "metadata": {
    "execution": {
     "iopub.execute_input": "2024-07-26T18:35:02.490572Z",
     "iopub.status.busy": "2024-07-26T18:35:02.490139Z",
     "iopub.status.idle": "2024-07-26T18:35:02.498473Z",
     "shell.execute_reply": "2024-07-26T18:35:02.497164Z"
    },
    "papermill": {
     "duration": 0.030453,
     "end_time": "2024-07-26T18:35:02.501053",
     "exception": false,
     "start_time": "2024-07-26T18:35:02.470600",
     "status": "completed"
    },
    "tags": []
   },
   "outputs": [],
   "source": [
    "df.drop('Cabin', inplace=True, axis=1)"
   ]
  },
  {
   "cell_type": "code",
   "execution_count": 17,
   "id": "2bb605fc",
   "metadata": {
    "execution": {
     "iopub.execute_input": "2024-07-26T18:35:02.537595Z",
     "iopub.status.busy": "2024-07-26T18:35:02.537146Z",
     "iopub.status.idle": "2024-07-26T18:35:02.546385Z",
     "shell.execute_reply": "2024-07-26T18:35:02.545223Z"
    },
    "papermill": {
     "duration": 0.03082,
     "end_time": "2024-07-26T18:35:02.548936",
     "exception": false,
     "start_time": "2024-07-26T18:35:02.518116",
     "status": "completed"
    },
    "tags": []
   },
   "outputs": [
    {
     "data": {
      "text/plain": [
       "PassengerId      0\n",
       "Survived         0\n",
       "Pclass           0\n",
       "Name             0\n",
       "Sex              0\n",
       "Age            177\n",
       "SibSp            0\n",
       "Parch            0\n",
       "Ticket           0\n",
       "Fare             0\n",
       "Embarked         2\n",
       "dtype: int64"
      ]
     },
     "execution_count": 17,
     "metadata": {},
     "output_type": "execute_result"
    }
   ],
   "source": [
    "df.isnull().sum()"
   ]
  },
  {
   "cell_type": "code",
   "execution_count": 18,
   "id": "99dea482",
   "metadata": {
    "execution": {
     "iopub.execute_input": "2024-07-26T18:35:02.585406Z",
     "iopub.status.busy": "2024-07-26T18:35:02.585004Z",
     "iopub.status.idle": "2024-07-26T18:35:02.592667Z",
     "shell.execute_reply": "2024-07-26T18:35:02.591519Z"
    },
    "papermill": {
     "duration": 0.029433,
     "end_time": "2024-07-26T18:35:02.595275",
     "exception": false,
     "start_time": "2024-07-26T18:35:02.565842",
     "status": "completed"
    },
    "tags": []
   },
   "outputs": [
    {
     "name": "stderr",
     "output_type": "stream",
     "text": [
      "/tmp/ipykernel_18/1933487976.py:1: FutureWarning: A value is trying to be set on a copy of a DataFrame or Series through chained assignment using an inplace method.\n",
      "The behavior will change in pandas 3.0. This inplace method will never work because the intermediate object on which we are setting values always behaves as a copy.\n",
      "\n",
      "For example, when doing 'df[col].method(value, inplace=True)', try using 'df.method({col: value}, inplace=True)' or df[col] = df[col].method(value) instead, to perform the operation inplace on the original object.\n",
      "\n",
      "\n",
      "  df['Age'].fillna(df['Age'].median(), inplace=True)\n"
     ]
    }
   ],
   "source": [
    "df['Age'].fillna(df['Age'].median(), inplace=True)"
   ]
  },
  {
   "cell_type": "code",
   "execution_count": 19,
   "id": "7d43fc35",
   "metadata": {
    "execution": {
     "iopub.execute_input": "2024-07-26T18:35:02.630789Z",
     "iopub.status.busy": "2024-07-26T18:35:02.630385Z",
     "iopub.status.idle": "2024-07-26T18:35:02.639456Z",
     "shell.execute_reply": "2024-07-26T18:35:02.638134Z"
    },
    "papermill": {
     "duration": 0.029708,
     "end_time": "2024-07-26T18:35:02.642110",
     "exception": false,
     "start_time": "2024-07-26T18:35:02.612402",
     "status": "completed"
    },
    "tags": []
   },
   "outputs": [
    {
     "data": {
      "text/plain": [
       "PassengerId    0\n",
       "Survived       0\n",
       "Pclass         0\n",
       "Name           0\n",
       "Sex            0\n",
       "Age            0\n",
       "SibSp          0\n",
       "Parch          0\n",
       "Ticket         0\n",
       "Fare           0\n",
       "Embarked       2\n",
       "dtype: int64"
      ]
     },
     "execution_count": 19,
     "metadata": {},
     "output_type": "execute_result"
    }
   ],
   "source": [
    "df.isnull().sum()"
   ]
  },
  {
   "cell_type": "code",
   "execution_count": 20,
   "id": "bc73839d",
   "metadata": {
    "execution": {
     "iopub.execute_input": "2024-07-26T18:35:02.742056Z",
     "iopub.status.busy": "2024-07-26T18:35:02.741666Z",
     "iopub.status.idle": "2024-07-26T18:35:02.749957Z",
     "shell.execute_reply": "2024-07-26T18:35:02.748551Z"
    },
    "papermill": {
     "duration": 0.093429,
     "end_time": "2024-07-26T18:35:02.752628",
     "exception": false,
     "start_time": "2024-07-26T18:35:02.659199",
     "status": "completed"
    },
    "tags": []
   },
   "outputs": [
    {
     "name": "stderr",
     "output_type": "stream",
     "text": [
      "/tmp/ipykernel_18/3744086084.py:1: FutureWarning: A value is trying to be set on a copy of a DataFrame or Series through chained assignment using an inplace method.\n",
      "The behavior will change in pandas 3.0. This inplace method will never work because the intermediate object on which we are setting values always behaves as a copy.\n",
      "\n",
      "For example, when doing 'df[col].method(value, inplace=True)', try using 'df.method({col: value}, inplace=True)' or df[col] = df[col].method(value) instead, to perform the operation inplace on the original object.\n",
      "\n",
      "\n",
      "  df['Embarked'].fillna(df['Embarked'].mode()[0], inplace=True)\n"
     ]
    }
   ],
   "source": [
    "df['Embarked'].fillna(df['Embarked'].mode()[0], inplace=True)"
   ]
  },
  {
   "cell_type": "markdown",
   "id": "8cf10ccc",
   "metadata": {
    "papermill": {
     "duration": 0.017904,
     "end_time": "2024-07-26T18:35:02.788378",
     "exception": false,
     "start_time": "2024-07-26T18:35:02.770474",
     "status": "completed"
    },
    "tags": []
   },
   "source": [
    "# Feature the data into category"
   ]
  },
  {
   "cell_type": "code",
   "execution_count": 21,
   "id": "a8e1dbca",
   "metadata": {
    "execution": {
     "iopub.execute_input": "2024-07-26T18:35:02.828093Z",
     "iopub.status.busy": "2024-07-26T18:35:02.827674Z",
     "iopub.status.idle": "2024-07-26T18:35:03.105760Z",
     "shell.execute_reply": "2024-07-26T18:35:03.104544Z"
    },
    "papermill": {
     "duration": 0.301349,
     "end_time": "2024-07-26T18:35:03.108978",
     "exception": false,
     "start_time": "2024-07-26T18:35:02.807629",
     "status": "completed"
    },
    "tags": []
   },
   "outputs": [],
   "source": [
    "from sklearn.preprocessing import LabelEncoder"
   ]
  },
  {
   "cell_type": "code",
   "execution_count": 22,
   "id": "84fff1a6",
   "metadata": {
    "execution": {
     "iopub.execute_input": "2024-07-26T18:35:03.151561Z",
     "iopub.status.busy": "2024-07-26T18:35:03.151012Z",
     "iopub.status.idle": "2024-07-26T18:35:03.162827Z",
     "shell.execute_reply": "2024-07-26T18:35:03.161515Z"
    },
    "papermill": {
     "duration": 0.034737,
     "end_time": "2024-07-26T18:35:03.165579",
     "exception": false,
     "start_time": "2024-07-26T18:35:03.130842",
     "status": "completed"
    },
    "tags": []
   },
   "outputs": [],
   "source": [
    "label_Encoder = LabelEncoder()\n",
    "df['Sex'] = label_Encoder.fit_transform(df['Sex'])\n",
    "df['Embarked'] = label_Encoder.fit_transform(df['Embarked'])\n",
    "\n",
    "feature = ['Pclass','Sex','Age','SibSp','Parch','Fare','Embarked']\n",
    "x = df[feature]\n",
    "y= df['Survived']"
   ]
  },
  {
   "cell_type": "code",
   "execution_count": 23,
   "id": "2121617e",
   "metadata": {
    "execution": {
     "iopub.execute_input": "2024-07-26T18:35:03.204352Z",
     "iopub.status.busy": "2024-07-26T18:35:03.203835Z",
     "iopub.status.idle": "2024-07-26T18:35:03.224071Z",
     "shell.execute_reply": "2024-07-26T18:35:03.223028Z"
    },
    "papermill": {
     "duration": 0.042715,
     "end_time": "2024-07-26T18:35:03.227247",
     "exception": false,
     "start_time": "2024-07-26T18:35:03.184532",
     "status": "completed"
    },
    "tags": []
   },
   "outputs": [
    {
     "data": {
      "text/html": [
       "<div>\n",
       "<style scoped>\n",
       "    .dataframe tbody tr th:only-of-type {\n",
       "        vertical-align: middle;\n",
       "    }\n",
       "\n",
       "    .dataframe tbody tr th {\n",
       "        vertical-align: top;\n",
       "    }\n",
       "\n",
       "    .dataframe thead th {\n",
       "        text-align: right;\n",
       "    }\n",
       "</style>\n",
       "<table border=\"1\" class=\"dataframe\">\n",
       "  <thead>\n",
       "    <tr style=\"text-align: right;\">\n",
       "      <th></th>\n",
       "      <th>Pclass</th>\n",
       "      <th>Sex</th>\n",
       "      <th>Age</th>\n",
       "      <th>SibSp</th>\n",
       "      <th>Parch</th>\n",
       "      <th>Fare</th>\n",
       "      <th>Embarked</th>\n",
       "    </tr>\n",
       "  </thead>\n",
       "  <tbody>\n",
       "    <tr>\n",
       "      <th>0</th>\n",
       "      <td>3</td>\n",
       "      <td>1</td>\n",
       "      <td>22.0</td>\n",
       "      <td>1</td>\n",
       "      <td>0</td>\n",
       "      <td>7.2500</td>\n",
       "      <td>2</td>\n",
       "    </tr>\n",
       "    <tr>\n",
       "      <th>1</th>\n",
       "      <td>1</td>\n",
       "      <td>0</td>\n",
       "      <td>38.0</td>\n",
       "      <td>1</td>\n",
       "      <td>0</td>\n",
       "      <td>71.2833</td>\n",
       "      <td>0</td>\n",
       "    </tr>\n",
       "    <tr>\n",
       "      <th>2</th>\n",
       "      <td>3</td>\n",
       "      <td>0</td>\n",
       "      <td>26.0</td>\n",
       "      <td>0</td>\n",
       "      <td>0</td>\n",
       "      <td>7.9250</td>\n",
       "      <td>2</td>\n",
       "    </tr>\n",
       "    <tr>\n",
       "      <th>3</th>\n",
       "      <td>1</td>\n",
       "      <td>0</td>\n",
       "      <td>35.0</td>\n",
       "      <td>1</td>\n",
       "      <td>0</td>\n",
       "      <td>53.1000</td>\n",
       "      <td>2</td>\n",
       "    </tr>\n",
       "    <tr>\n",
       "      <th>4</th>\n",
       "      <td>3</td>\n",
       "      <td>1</td>\n",
       "      <td>35.0</td>\n",
       "      <td>0</td>\n",
       "      <td>0</td>\n",
       "      <td>8.0500</td>\n",
       "      <td>2</td>\n",
       "    </tr>\n",
       "    <tr>\n",
       "      <th>...</th>\n",
       "      <td>...</td>\n",
       "      <td>...</td>\n",
       "      <td>...</td>\n",
       "      <td>...</td>\n",
       "      <td>...</td>\n",
       "      <td>...</td>\n",
       "      <td>...</td>\n",
       "    </tr>\n",
       "    <tr>\n",
       "      <th>886</th>\n",
       "      <td>2</td>\n",
       "      <td>1</td>\n",
       "      <td>27.0</td>\n",
       "      <td>0</td>\n",
       "      <td>0</td>\n",
       "      <td>13.0000</td>\n",
       "      <td>2</td>\n",
       "    </tr>\n",
       "    <tr>\n",
       "      <th>887</th>\n",
       "      <td>1</td>\n",
       "      <td>0</td>\n",
       "      <td>19.0</td>\n",
       "      <td>0</td>\n",
       "      <td>0</td>\n",
       "      <td>30.0000</td>\n",
       "      <td>2</td>\n",
       "    </tr>\n",
       "    <tr>\n",
       "      <th>888</th>\n",
       "      <td>3</td>\n",
       "      <td>0</td>\n",
       "      <td>28.0</td>\n",
       "      <td>1</td>\n",
       "      <td>2</td>\n",
       "      <td>23.4500</td>\n",
       "      <td>2</td>\n",
       "    </tr>\n",
       "    <tr>\n",
       "      <th>889</th>\n",
       "      <td>1</td>\n",
       "      <td>1</td>\n",
       "      <td>26.0</td>\n",
       "      <td>0</td>\n",
       "      <td>0</td>\n",
       "      <td>30.0000</td>\n",
       "      <td>0</td>\n",
       "    </tr>\n",
       "    <tr>\n",
       "      <th>890</th>\n",
       "      <td>3</td>\n",
       "      <td>1</td>\n",
       "      <td>32.0</td>\n",
       "      <td>0</td>\n",
       "      <td>0</td>\n",
       "      <td>7.7500</td>\n",
       "      <td>1</td>\n",
       "    </tr>\n",
       "  </tbody>\n",
       "</table>\n",
       "<p>891 rows × 7 columns</p>\n",
       "</div>"
      ],
      "text/plain": [
       "     Pclass  Sex   Age  SibSp  Parch     Fare  Embarked\n",
       "0         3    1  22.0      1      0   7.2500         2\n",
       "1         1    0  38.0      1      0  71.2833         0\n",
       "2         3    0  26.0      0      0   7.9250         2\n",
       "3         1    0  35.0      1      0  53.1000         2\n",
       "4         3    1  35.0      0      0   8.0500         2\n",
       "..      ...  ...   ...    ...    ...      ...       ...\n",
       "886       2    1  27.0      0      0  13.0000         2\n",
       "887       1    0  19.0      0      0  30.0000         2\n",
       "888       3    0  28.0      1      2  23.4500         2\n",
       "889       1    1  26.0      0      0  30.0000         0\n",
       "890       3    1  32.0      0      0   7.7500         1\n",
       "\n",
       "[891 rows x 7 columns]"
      ]
     },
     "execution_count": 23,
     "metadata": {},
     "output_type": "execute_result"
    }
   ],
   "source": [
    "x"
   ]
  },
  {
   "cell_type": "code",
   "execution_count": 24,
   "id": "42ce4458",
   "metadata": {
    "execution": {
     "iopub.execute_input": "2024-07-26T18:35:03.267900Z",
     "iopub.status.busy": "2024-07-26T18:35:03.267521Z",
     "iopub.status.idle": "2024-07-26T18:35:03.276877Z",
     "shell.execute_reply": "2024-07-26T18:35:03.275750Z"
    },
    "papermill": {
     "duration": 0.031332,
     "end_time": "2024-07-26T18:35:03.279659",
     "exception": false,
     "start_time": "2024-07-26T18:35:03.248327",
     "status": "completed"
    },
    "tags": []
   },
   "outputs": [
    {
     "data": {
      "text/plain": [
       "0      0\n",
       "1      1\n",
       "2      1\n",
       "3      1\n",
       "4      0\n",
       "      ..\n",
       "886    0\n",
       "887    1\n",
       "888    0\n",
       "889    1\n",
       "890    0\n",
       "Name: Survived, Length: 891, dtype: int64"
      ]
     },
     "execution_count": 24,
     "metadata": {},
     "output_type": "execute_result"
    }
   ],
   "source": [
    "y"
   ]
  },
  {
   "cell_type": "markdown",
   "id": "3312de0d",
   "metadata": {
    "papermill": {
     "duration": 0.018154,
     "end_time": "2024-07-26T18:35:03.319627",
     "exception": false,
     "start_time": "2024-07-26T18:35:03.301473",
     "status": "completed"
    },
    "tags": []
   },
   "source": [
    "# Build the Model"
   ]
  },
  {
   "cell_type": "code",
   "execution_count": 25,
   "id": "7e48ee4e",
   "metadata": {
    "execution": {
     "iopub.execute_input": "2024-07-26T18:35:03.358539Z",
     "iopub.status.busy": "2024-07-26T18:35:03.357506Z",
     "iopub.status.idle": "2024-07-26T18:35:03.602390Z",
     "shell.execute_reply": "2024-07-26T18:35:03.601230Z"
    },
    "papermill": {
     "duration": 0.267008,
     "end_time": "2024-07-26T18:35:03.605124",
     "exception": false,
     "start_time": "2024-07-26T18:35:03.338116",
     "status": "completed"
    },
    "tags": []
   },
   "outputs": [],
   "source": [
    "from sklearn.linear_model import LinearRegression\n",
    "from sklearn.model_selection import train_test_split\n"
   ]
  },
  {
   "cell_type": "code",
   "execution_count": 26,
   "id": "52975220",
   "metadata": {
    "execution": {
     "iopub.execute_input": "2024-07-26T18:35:03.643326Z",
     "iopub.status.busy": "2024-07-26T18:35:03.642272Z",
     "iopub.status.idle": "2024-07-26T18:35:03.652464Z",
     "shell.execute_reply": "2024-07-26T18:35:03.651467Z"
    },
    "papermill": {
     "duration": 0.032154,
     "end_time": "2024-07-26T18:35:03.655201",
     "exception": false,
     "start_time": "2024-07-26T18:35:03.623047",
     "status": "completed"
    },
    "tags": []
   },
   "outputs": [],
   "source": [
    "X_train,  X_test,y_train, y_test = train_test_split(x,y,test_size=0.2, random_state=42)"
   ]
  },
  {
   "cell_type": "code",
   "execution_count": 27,
   "id": "0b1c53d5",
   "metadata": {
    "execution": {
     "iopub.execute_input": "2024-07-26T18:35:03.694414Z",
     "iopub.status.busy": "2024-07-26T18:35:03.693385Z",
     "iopub.status.idle": "2024-07-26T18:35:03.708790Z",
     "shell.execute_reply": "2024-07-26T18:35:03.707575Z"
    },
    "papermill": {
     "duration": 0.03777,
     "end_time": "2024-07-26T18:35:03.711233",
     "exception": false,
     "start_time": "2024-07-26T18:35:03.673463",
     "status": "completed"
    },
    "tags": []
   },
   "outputs": [
    {
     "data": {
      "text/html": [
       "<div>\n",
       "<style scoped>\n",
       "    .dataframe tbody tr th:only-of-type {\n",
       "        vertical-align: middle;\n",
       "    }\n",
       "\n",
       "    .dataframe tbody tr th {\n",
       "        vertical-align: top;\n",
       "    }\n",
       "\n",
       "    .dataframe thead th {\n",
       "        text-align: right;\n",
       "    }\n",
       "</style>\n",
       "<table border=\"1\" class=\"dataframe\">\n",
       "  <thead>\n",
       "    <tr style=\"text-align: right;\">\n",
       "      <th></th>\n",
       "      <th>Pclass</th>\n",
       "      <th>Sex</th>\n",
       "      <th>Age</th>\n",
       "      <th>SibSp</th>\n",
       "      <th>Parch</th>\n",
       "      <th>Fare</th>\n",
       "      <th>Embarked</th>\n",
       "    </tr>\n",
       "  </thead>\n",
       "  <tbody>\n",
       "    <tr>\n",
       "      <th>331</th>\n",
       "      <td>1</td>\n",
       "      <td>1</td>\n",
       "      <td>45.5</td>\n",
       "      <td>0</td>\n",
       "      <td>0</td>\n",
       "      <td>28.500</td>\n",
       "      <td>2</td>\n",
       "    </tr>\n",
       "    <tr>\n",
       "      <th>733</th>\n",
       "      <td>2</td>\n",
       "      <td>1</td>\n",
       "      <td>23.0</td>\n",
       "      <td>0</td>\n",
       "      <td>0</td>\n",
       "      <td>13.000</td>\n",
       "      <td>2</td>\n",
       "    </tr>\n",
       "    <tr>\n",
       "      <th>382</th>\n",
       "      <td>3</td>\n",
       "      <td>1</td>\n",
       "      <td>32.0</td>\n",
       "      <td>0</td>\n",
       "      <td>0</td>\n",
       "      <td>7.925</td>\n",
       "      <td>2</td>\n",
       "    </tr>\n",
       "  </tbody>\n",
       "</table>\n",
       "</div>"
      ],
      "text/plain": [
       "     Pclass  Sex   Age  SibSp  Parch    Fare  Embarked\n",
       "331       1    1  45.5      0      0  28.500         2\n",
       "733       2    1  23.0      0      0  13.000         2\n",
       "382       3    1  32.0      0      0   7.925         2"
      ]
     },
     "execution_count": 27,
     "metadata": {},
     "output_type": "execute_result"
    }
   ],
   "source": [
    "X_train[:3]"
   ]
  },
  {
   "cell_type": "code",
   "execution_count": 28,
   "id": "fc1feeb9",
   "metadata": {
    "execution": {
     "iopub.execute_input": "2024-07-26T18:35:03.749382Z",
     "iopub.status.busy": "2024-07-26T18:35:03.748983Z",
     "iopub.status.idle": "2024-07-26T18:35:03.761836Z",
     "shell.execute_reply": "2024-07-26T18:35:03.760553Z"
    },
    "papermill": {
     "duration": 0.034836,
     "end_time": "2024-07-26T18:35:03.764386",
     "exception": false,
     "start_time": "2024-07-26T18:35:03.729550",
     "status": "completed"
    },
    "tags": []
   },
   "outputs": [
    {
     "data": {
      "text/html": [
       "<div>\n",
       "<style scoped>\n",
       "    .dataframe tbody tr th:only-of-type {\n",
       "        vertical-align: middle;\n",
       "    }\n",
       "\n",
       "    .dataframe tbody tr th {\n",
       "        vertical-align: top;\n",
       "    }\n",
       "\n",
       "    .dataframe thead th {\n",
       "        text-align: right;\n",
       "    }\n",
       "</style>\n",
       "<table border=\"1\" class=\"dataframe\">\n",
       "  <thead>\n",
       "    <tr style=\"text-align: right;\">\n",
       "      <th></th>\n",
       "      <th>Pclass</th>\n",
       "      <th>Sex</th>\n",
       "      <th>Age</th>\n",
       "      <th>SibSp</th>\n",
       "      <th>Parch</th>\n",
       "      <th>Fare</th>\n",
       "      <th>Embarked</th>\n",
       "    </tr>\n",
       "  </thead>\n",
       "  <tbody>\n",
       "    <tr>\n",
       "      <th>709</th>\n",
       "      <td>3</td>\n",
       "      <td>1</td>\n",
       "      <td>28.0</td>\n",
       "      <td>1</td>\n",
       "      <td>1</td>\n",
       "      <td>15.2458</td>\n",
       "      <td>0</td>\n",
       "    </tr>\n",
       "    <tr>\n",
       "      <th>439</th>\n",
       "      <td>2</td>\n",
       "      <td>1</td>\n",
       "      <td>31.0</td>\n",
       "      <td>0</td>\n",
       "      <td>0</td>\n",
       "      <td>10.5000</td>\n",
       "      <td>2</td>\n",
       "    </tr>\n",
       "    <tr>\n",
       "      <th>840</th>\n",
       "      <td>3</td>\n",
       "      <td>1</td>\n",
       "      <td>20.0</td>\n",
       "      <td>0</td>\n",
       "      <td>0</td>\n",
       "      <td>7.9250</td>\n",
       "      <td>2</td>\n",
       "    </tr>\n",
       "  </tbody>\n",
       "</table>\n",
       "</div>"
      ],
      "text/plain": [
       "     Pclass  Sex   Age  SibSp  Parch     Fare  Embarked\n",
       "709       3    1  28.0      1      1  15.2458         0\n",
       "439       2    1  31.0      0      0  10.5000         2\n",
       "840       3    1  20.0      0      0   7.9250         2"
      ]
     },
     "execution_count": 28,
     "metadata": {},
     "output_type": "execute_result"
    }
   ],
   "source": [
    "X_test[:3]"
   ]
  },
  {
   "cell_type": "code",
   "execution_count": 29,
   "id": "22db4bbf",
   "metadata": {
    "execution": {
     "iopub.execute_input": "2024-07-26T18:35:03.803095Z",
     "iopub.status.busy": "2024-07-26T18:35:03.802715Z",
     "iopub.status.idle": "2024-07-26T18:35:03.810243Z",
     "shell.execute_reply": "2024-07-26T18:35:03.809074Z"
    },
    "papermill": {
     "duration": 0.030173,
     "end_time": "2024-07-26T18:35:03.812789",
     "exception": false,
     "start_time": "2024-07-26T18:35:03.782616",
     "status": "completed"
    },
    "tags": []
   },
   "outputs": [
    {
     "data": {
      "text/plain": [
       "(712, 7)"
      ]
     },
     "execution_count": 29,
     "metadata": {},
     "output_type": "execute_result"
    }
   ],
   "source": [
    "X_train.shape"
   ]
  },
  {
   "cell_type": "code",
   "execution_count": 30,
   "id": "5ee902ae",
   "metadata": {
    "execution": {
     "iopub.execute_input": "2024-07-26T18:35:03.852462Z",
     "iopub.status.busy": "2024-07-26T18:35:03.852024Z",
     "iopub.status.idle": "2024-07-26T18:35:03.858936Z",
     "shell.execute_reply": "2024-07-26T18:35:03.857748Z"
    },
    "papermill": {
     "duration": 0.029336,
     "end_time": "2024-07-26T18:35:03.861422",
     "exception": false,
     "start_time": "2024-07-26T18:35:03.832086",
     "status": "completed"
    },
    "tags": []
   },
   "outputs": [
    {
     "data": {
      "text/plain": [
       "(712,)"
      ]
     },
     "execution_count": 30,
     "metadata": {},
     "output_type": "execute_result"
    }
   ],
   "source": [
    "y_train.shape"
   ]
  },
  {
   "cell_type": "code",
   "execution_count": 31,
   "id": "f2459ed0",
   "metadata": {
    "execution": {
     "iopub.execute_input": "2024-07-26T18:35:03.901248Z",
     "iopub.status.busy": "2024-07-26T18:35:03.900863Z",
     "iopub.status.idle": "2024-07-26T18:35:03.935381Z",
     "shell.execute_reply": "2024-07-26T18:35:03.933996Z"
    },
    "papermill": {
     "duration": 0.065728,
     "end_time": "2024-07-26T18:35:03.946540",
     "exception": false,
     "start_time": "2024-07-26T18:35:03.880812",
     "status": "completed"
    },
    "tags": []
   },
   "outputs": [
    {
     "data": {
      "text/html": [
       "<style>#sk-container-id-1 {color: black;background-color: white;}#sk-container-id-1 pre{padding: 0;}#sk-container-id-1 div.sk-toggleable {background-color: white;}#sk-container-id-1 label.sk-toggleable__label {cursor: pointer;display: block;width: 100%;margin-bottom: 0;padding: 0.3em;box-sizing: border-box;text-align: center;}#sk-container-id-1 label.sk-toggleable__label-arrow:before {content: \"▸\";float: left;margin-right: 0.25em;color: #696969;}#sk-container-id-1 label.sk-toggleable__label-arrow:hover:before {color: black;}#sk-container-id-1 div.sk-estimator:hover label.sk-toggleable__label-arrow:before {color: black;}#sk-container-id-1 div.sk-toggleable__content {max-height: 0;max-width: 0;overflow: hidden;text-align: left;background-color: #f0f8ff;}#sk-container-id-1 div.sk-toggleable__content pre {margin: 0.2em;color: black;border-radius: 0.25em;background-color: #f0f8ff;}#sk-container-id-1 input.sk-toggleable__control:checked~div.sk-toggleable__content {max-height: 200px;max-width: 100%;overflow: auto;}#sk-container-id-1 input.sk-toggleable__control:checked~label.sk-toggleable__label-arrow:before {content: \"▾\";}#sk-container-id-1 div.sk-estimator input.sk-toggleable__control:checked~label.sk-toggleable__label {background-color: #d4ebff;}#sk-container-id-1 div.sk-label input.sk-toggleable__control:checked~label.sk-toggleable__label {background-color: #d4ebff;}#sk-container-id-1 input.sk-hidden--visually {border: 0;clip: rect(1px 1px 1px 1px);clip: rect(1px, 1px, 1px, 1px);height: 1px;margin: -1px;overflow: hidden;padding: 0;position: absolute;width: 1px;}#sk-container-id-1 div.sk-estimator {font-family: monospace;background-color: #f0f8ff;border: 1px dotted black;border-radius: 0.25em;box-sizing: border-box;margin-bottom: 0.5em;}#sk-container-id-1 div.sk-estimator:hover {background-color: #d4ebff;}#sk-container-id-1 div.sk-parallel-item::after {content: \"\";width: 100%;border-bottom: 1px solid gray;flex-grow: 1;}#sk-container-id-1 div.sk-label:hover label.sk-toggleable__label {background-color: #d4ebff;}#sk-container-id-1 div.sk-serial::before {content: \"\";position: absolute;border-left: 1px solid gray;box-sizing: border-box;top: 0;bottom: 0;left: 50%;z-index: 0;}#sk-container-id-1 div.sk-serial {display: flex;flex-direction: column;align-items: center;background-color: white;padding-right: 0.2em;padding-left: 0.2em;position: relative;}#sk-container-id-1 div.sk-item {position: relative;z-index: 1;}#sk-container-id-1 div.sk-parallel {display: flex;align-items: stretch;justify-content: center;background-color: white;position: relative;}#sk-container-id-1 div.sk-item::before, #sk-container-id-1 div.sk-parallel-item::before {content: \"\";position: absolute;border-left: 1px solid gray;box-sizing: border-box;top: 0;bottom: 0;left: 50%;z-index: -1;}#sk-container-id-1 div.sk-parallel-item {display: flex;flex-direction: column;z-index: 1;position: relative;background-color: white;}#sk-container-id-1 div.sk-parallel-item:first-child::after {align-self: flex-end;width: 50%;}#sk-container-id-1 div.sk-parallel-item:last-child::after {align-self: flex-start;width: 50%;}#sk-container-id-1 div.sk-parallel-item:only-child::after {width: 0;}#sk-container-id-1 div.sk-dashed-wrapped {border: 1px dashed gray;margin: 0 0.4em 0.5em 0.4em;box-sizing: border-box;padding-bottom: 0.4em;background-color: white;}#sk-container-id-1 div.sk-label label {font-family: monospace;font-weight: bold;display: inline-block;line-height: 1.2em;}#sk-container-id-1 div.sk-label-container {text-align: center;}#sk-container-id-1 div.sk-container {/* jupyter's `normalize.less` sets `[hidden] { display: none; }` but bootstrap.min.css set `[hidden] { display: none !important; }` so we also need the `!important` here to be able to override the default hidden behavior on the sphinx rendered scikit-learn.org. See: https://github.com/scikit-learn/scikit-learn/issues/21755 */display: inline-block !important;position: relative;}#sk-container-id-1 div.sk-text-repr-fallback {display: none;}</style><div id=\"sk-container-id-1\" class=\"sk-top-container\"><div class=\"sk-text-repr-fallback\"><pre>LinearRegression()</pre><b>In a Jupyter environment, please rerun this cell to show the HTML representation or trust the notebook. <br />On GitHub, the HTML representation is unable to render, please try loading this page with nbviewer.org.</b></div><div class=\"sk-container\" hidden><div class=\"sk-item\"><div class=\"sk-estimator sk-toggleable\"><input class=\"sk-toggleable__control sk-hidden--visually\" id=\"sk-estimator-id-1\" type=\"checkbox\" checked><label for=\"sk-estimator-id-1\" class=\"sk-toggleable__label sk-toggleable__label-arrow\">LinearRegression</label><div class=\"sk-toggleable__content\"><pre>LinearRegression()</pre></div></div></div></div></div>"
      ],
      "text/plain": [
       "LinearRegression()"
      ]
     },
     "execution_count": 31,
     "metadata": {},
     "output_type": "execute_result"
    }
   ],
   "source": [
    "lr = LinearRegression()\n",
    "lr.fit(X_train,y_train)"
   ]
  },
  {
   "cell_type": "code",
   "execution_count": 32,
   "id": "9ae198f4",
   "metadata": {
    "execution": {
     "iopub.execute_input": "2024-07-26T18:35:04.007238Z",
     "iopub.status.busy": "2024-07-26T18:35:04.005850Z",
     "iopub.status.idle": "2024-07-26T18:35:04.016460Z",
     "shell.execute_reply": "2024-07-26T18:35:04.015201Z"
    },
    "papermill": {
     "duration": 0.043672,
     "end_time": "2024-07-26T18:35:04.019567",
     "exception": false,
     "start_time": "2024-07-26T18:35:03.975895",
     "status": "completed"
    },
    "tags": []
   },
   "outputs": [],
   "source": [
    "y_pred_test = lr.predict(X_test)"
   ]
  },
  {
   "cell_type": "code",
   "execution_count": 33,
   "id": "ed69fe97",
   "metadata": {
    "execution": {
     "iopub.execute_input": "2024-07-26T18:35:04.064122Z",
     "iopub.status.busy": "2024-07-26T18:35:04.062919Z",
     "iopub.status.idle": "2024-07-26T18:35:04.068762Z",
     "shell.execute_reply": "2024-07-26T18:35:04.067724Z"
    },
    "papermill": {
     "duration": 0.030691,
     "end_time": "2024-07-26T18:35:04.071198",
     "exception": false,
     "start_time": "2024-07-26T18:35:04.040507",
     "status": "completed"
    },
    "tags": []
   },
   "outputs": [],
   "source": [
    "y_pred = (y_pred_test > 0.5).astype(int)"
   ]
  },
  {
   "cell_type": "code",
   "execution_count": 34,
   "id": "c51bf626",
   "metadata": {
    "execution": {
     "iopub.execute_input": "2024-07-26T18:35:04.111333Z",
     "iopub.status.busy": "2024-07-26T18:35:04.110830Z",
     "iopub.status.idle": "2024-07-26T18:35:04.121087Z",
     "shell.execute_reply": "2024-07-26T18:35:04.119074Z"
    },
    "papermill": {
     "duration": 0.036404,
     "end_time": "2024-07-26T18:35:04.126726",
     "exception": false,
     "start_time": "2024-07-26T18:35:04.090322",
     "status": "completed"
    },
    "tags": []
   },
   "outputs": [
    {
     "data": {
      "text/plain": [
       "array([0, 0, 0])"
      ]
     },
     "execution_count": 34,
     "metadata": {},
     "output_type": "execute_result"
    }
   ],
   "source": [
    "y_pred[:3]"
   ]
  },
  {
   "cell_type": "code",
   "execution_count": 35,
   "id": "6996ea85",
   "metadata": {
    "execution": {
     "iopub.execute_input": "2024-07-26T18:35:04.195617Z",
     "iopub.status.busy": "2024-07-26T18:35:04.195109Z",
     "iopub.status.idle": "2024-07-26T18:35:04.203233Z",
     "shell.execute_reply": "2024-07-26T18:35:04.202231Z"
    },
    "papermill": {
     "duration": 0.045497,
     "end_time": "2024-07-26T18:35:04.207788",
     "exception": false,
     "start_time": "2024-07-26T18:35:04.162291",
     "status": "completed"
    },
    "tags": []
   },
   "outputs": [
    {
     "data": {
      "text/plain": [
       "(179,)"
      ]
     },
     "execution_count": 35,
     "metadata": {},
     "output_type": "execute_result"
    }
   ],
   "source": [
    "y_test.shape"
   ]
  },
  {
   "cell_type": "code",
   "execution_count": 36,
   "id": "f51e663f",
   "metadata": {
    "execution": {
     "iopub.execute_input": "2024-07-26T18:35:04.269569Z",
     "iopub.status.busy": "2024-07-26T18:35:04.268980Z",
     "iopub.status.idle": "2024-07-26T18:35:04.278401Z",
     "shell.execute_reply": "2024-07-26T18:35:04.277123Z"
    },
    "papermill": {
     "duration": 0.045269,
     "end_time": "2024-07-26T18:35:04.281228",
     "exception": false,
     "start_time": "2024-07-26T18:35:04.235959",
     "status": "completed"
    },
    "tags": []
   },
   "outputs": [
    {
     "data": {
      "text/plain": [
       "(179,)"
      ]
     },
     "execution_count": 36,
     "metadata": {},
     "output_type": "execute_result"
    }
   ],
   "source": [
    "y_pred.shape"
   ]
  },
  {
   "cell_type": "markdown",
   "id": "56170a45",
   "metadata": {
    "papermill": {
     "duration": 0.020775,
     "end_time": "2024-07-26T18:35:04.320869",
     "exception": false,
     "start_time": "2024-07-26T18:35:04.300094",
     "status": "completed"
    },
    "tags": []
   },
   "source": [
    "# Evaluate the Model"
   ]
  },
  {
   "cell_type": "code",
   "execution_count": 37,
   "id": "093281de",
   "metadata": {
    "execution": {
     "iopub.execute_input": "2024-07-26T18:35:04.361051Z",
     "iopub.status.busy": "2024-07-26T18:35:04.360660Z",
     "iopub.status.idle": "2024-07-26T18:35:04.367963Z",
     "shell.execute_reply": "2024-07-26T18:35:04.366520Z"
    },
    "papermill": {
     "duration": 0.030856,
     "end_time": "2024-07-26T18:35:04.371239",
     "exception": false,
     "start_time": "2024-07-26T18:35:04.340383",
     "status": "completed"
    },
    "tags": []
   },
   "outputs": [],
   "source": [
    "from sklearn.metrics import accuracy_score, mean_squared_error, r2_score"
   ]
  },
  {
   "cell_type": "code",
   "execution_count": 38,
   "id": "874b9770",
   "metadata": {
    "execution": {
     "iopub.execute_input": "2024-07-26T18:35:04.423541Z",
     "iopub.status.busy": "2024-07-26T18:35:04.422476Z",
     "iopub.status.idle": "2024-07-26T18:35:04.429150Z",
     "shell.execute_reply": "2024-07-26T18:35:04.427845Z"
    },
    "papermill": {
     "duration": 0.035853,
     "end_time": "2024-07-26T18:35:04.431626",
     "exception": false,
     "start_time": "2024-07-26T18:35:04.395773",
     "status": "completed"
    },
    "tags": []
   },
   "outputs": [],
   "source": [
    "lin_reg_accuracy = accuracy_score(y_test, y_pred)\n"
   ]
  },
  {
   "cell_type": "code",
   "execution_count": 39,
   "id": "cacd2b6a",
   "metadata": {
    "execution": {
     "iopub.execute_input": "2024-07-26T18:35:04.474154Z",
     "iopub.status.busy": "2024-07-26T18:35:04.473782Z",
     "iopub.status.idle": "2024-07-26T18:35:04.478955Z",
     "shell.execute_reply": "2024-07-26T18:35:04.477855Z"
    },
    "papermill": {
     "duration": 0.029371,
     "end_time": "2024-07-26T18:35:04.482332",
     "exception": false,
     "start_time": "2024-07-26T18:35:04.452961",
     "status": "completed"
    },
    "tags": []
   },
   "outputs": [
    {
     "name": "stdout",
     "output_type": "stream",
     "text": [
      "Linear Regression Accuracy: 0.79\n"
     ]
    }
   ],
   "source": [
    "print(f'Linear Regression Accuracy: {lin_reg_accuracy:.2f}')\n"
   ]
  },
  {
   "cell_type": "code",
   "execution_count": 40,
   "id": "de959d2e",
   "metadata": {
    "execution": {
     "iopub.execute_input": "2024-07-26T18:35:04.524244Z",
     "iopub.status.busy": "2024-07-26T18:35:04.523844Z",
     "iopub.status.idle": "2024-07-26T18:35:04.530064Z",
     "shell.execute_reply": "2024-07-26T18:35:04.528764Z"
    },
    "papermill": {
     "duration": 0.030411,
     "end_time": "2024-07-26T18:35:04.532539",
     "exception": false,
     "start_time": "2024-07-26T18:35:04.502128",
     "status": "completed"
    },
    "tags": []
   },
   "outputs": [],
   "source": [
    "\n",
    "rmse = np.sqrt(mean_squared_error(y_test, y_pred))"
   ]
  },
  {
   "cell_type": "code",
   "execution_count": 41,
   "id": "15ac79c5",
   "metadata": {
    "execution": {
     "iopub.execute_input": "2024-07-26T18:35:04.573177Z",
     "iopub.status.busy": "2024-07-26T18:35:04.572768Z",
     "iopub.status.idle": "2024-07-26T18:35:04.580523Z",
     "shell.execute_reply": "2024-07-26T18:35:04.579102Z"
    },
    "papermill": {
     "duration": 0.03146,
     "end_time": "2024-07-26T18:35:04.583049",
     "exception": false,
     "start_time": "2024-07-26T18:35:04.551589",
     "status": "completed"
    },
    "tags": []
   },
   "outputs": [
    {
     "data": {
      "text/plain": [
       "0.454647017602145"
      ]
     },
     "execution_count": 41,
     "metadata": {},
     "output_type": "execute_result"
    }
   ],
   "source": [
    "rmse"
   ]
  },
  {
   "cell_type": "code",
   "execution_count": 42,
   "id": "25abc0fd",
   "metadata": {
    "execution": {
     "iopub.execute_input": "2024-07-26T18:35:04.624613Z",
     "iopub.status.busy": "2024-07-26T18:35:04.624178Z",
     "iopub.status.idle": "2024-07-26T18:35:04.629958Z",
     "shell.execute_reply": "2024-07-26T18:35:04.628942Z"
    },
    "papermill": {
     "duration": 0.029491,
     "end_time": "2024-07-26T18:35:04.632205",
     "exception": false,
     "start_time": "2024-07-26T18:35:04.602714",
     "status": "completed"
    },
    "tags": []
   },
   "outputs": [],
   "source": [
    "r2  = r2_score(y_test, y_pred)"
   ]
  },
  {
   "cell_type": "code",
   "execution_count": 43,
   "id": "dd49b4e5",
   "metadata": {
    "execution": {
     "iopub.execute_input": "2024-07-26T18:35:04.672076Z",
     "iopub.status.busy": "2024-07-26T18:35:04.671684Z",
     "iopub.status.idle": "2024-07-26T18:35:04.678304Z",
     "shell.execute_reply": "2024-07-26T18:35:04.677303Z"
    },
    "papermill": {
     "duration": 0.029442,
     "end_time": "2024-07-26T18:35:04.680718",
     "exception": false,
     "start_time": "2024-07-26T18:35:04.651276",
     "status": "completed"
    },
    "tags": []
   },
   "outputs": [
    {
     "data": {
      "text/plain": [
       "0.14761904761904754"
      ]
     },
     "execution_count": 43,
     "metadata": {},
     "output_type": "execute_result"
    }
   ],
   "source": [
    "r2"
   ]
  },
  {
   "cell_type": "code",
   "execution_count": 44,
   "id": "3515941e",
   "metadata": {
    "execution": {
     "iopub.execute_input": "2024-07-26T18:35:04.721361Z",
     "iopub.status.busy": "2024-07-26T18:35:04.720538Z",
     "iopub.status.idle": "2024-07-26T18:35:04.725484Z",
     "shell.execute_reply": "2024-07-26T18:35:04.724420Z"
    },
    "papermill": {
     "duration": 0.027765,
     "end_time": "2024-07-26T18:35:04.727712",
     "exception": false,
     "start_time": "2024-07-26T18:35:04.699947",
     "status": "completed"
    },
    "tags": []
   },
   "outputs": [],
   "source": [
    "from sklearn.linear_model import LogisticRegression\n",
    "from sklearn.model_selection import cross_val_score\n"
   ]
  },
  {
   "cell_type": "markdown",
   "id": "827ddf8c",
   "metadata": {
    "papermill": {
     "duration": 0.019067,
     "end_time": "2024-07-26T18:35:04.765995",
     "exception": false,
     "start_time": "2024-07-26T18:35:04.746928",
     "status": "completed"
    },
    "tags": []
   },
   "source": [
    "# Logistic Regression"
   ]
  },
  {
   "cell_type": "code",
   "execution_count": 45,
   "id": "64d917ba",
   "metadata": {
    "execution": {
     "iopub.execute_input": "2024-07-26T18:35:04.806393Z",
     "iopub.status.busy": "2024-07-26T18:35:04.805523Z",
     "iopub.status.idle": "2024-07-26T18:35:04.919864Z",
     "shell.execute_reply": "2024-07-26T18:35:04.918690Z"
    },
    "papermill": {
     "duration": 0.137319,
     "end_time": "2024-07-26T18:35:04.922310",
     "exception": false,
     "start_time": "2024-07-26T18:35:04.784991",
     "status": "completed"
    },
    "tags": []
   },
   "outputs": [
    {
     "name": "stdout",
     "output_type": "stream",
     "text": [
      "Logistic Regression Average Accuracy: 0.79\n"
     ]
    }
   ],
   "source": [
    "lg = LogisticRegression(max_iter=200)\n",
    "\n",
    "lg_score = cross_val_score(lg,x,y, cv=5, scoring='accuracy')\n",
    "\n",
    "print(f'Logistic Regression Average Accuracy: {lg_score.mean():.2f}')\n"
   ]
  },
  {
   "cell_type": "markdown",
   "id": "172bcf0e",
   "metadata": {
    "papermill": {
     "duration": 0.018838,
     "end_time": "2024-07-26T18:35:04.960416",
     "exception": false,
     "start_time": "2024-07-26T18:35:04.941578",
     "status": "completed"
    },
    "tags": []
   },
   "source": [
    "# K-Nearest-Neighbors Classification\n"
   ]
  },
  {
   "cell_type": "code",
   "execution_count": 46,
   "id": "43e72bfc",
   "metadata": {
    "execution": {
     "iopub.execute_input": "2024-07-26T18:35:05.002528Z",
     "iopub.status.busy": "2024-07-26T18:35:05.001574Z",
     "iopub.status.idle": "2024-07-26T18:35:05.151246Z",
     "shell.execute_reply": "2024-07-26T18:35:05.150015Z"
    },
    "papermill": {
     "duration": 0.174528,
     "end_time": "2024-07-26T18:35:05.154169",
     "exception": false,
     "start_time": "2024-07-26T18:35:04.979641",
     "status": "completed"
    },
    "tags": []
   },
   "outputs": [
    {
     "name": "stdout",
     "output_type": "stream",
     "text": [
      "KNN Average Accuracy: 0.69\n"
     ]
    }
   ],
   "source": [
    "from sklearn.neighbors import KNeighborsClassifier\n",
    "\n",
    "\n",
    "knn = KNeighborsClassifier(n_neighbors=5)\n",
    "\n",
    "knn_scores = cross_val_score(knn, x, y, cv=5, scoring='accuracy')\n",
    "\n",
    "print(f'KNN Average Accuracy: {knn_scores.mean():.2f}')\n"
   ]
  },
  {
   "cell_type": "markdown",
   "id": "a5d0a687",
   "metadata": {
    "papermill": {
     "duration": 0.019896,
     "end_time": "2024-07-26T18:35:05.194470",
     "exception": false,
     "start_time": "2024-07-26T18:35:05.174574",
     "status": "completed"
    },
    "tags": []
   },
   "source": [
    "# SVM CLASSIFICATION"
   ]
  },
  {
   "cell_type": "code",
   "execution_count": 47,
   "id": "ba13c1cc",
   "metadata": {
    "execution": {
     "iopub.execute_input": "2024-07-26T18:35:05.236114Z",
     "iopub.status.busy": "2024-07-26T18:35:05.235175Z",
     "iopub.status.idle": "2024-07-26T18:35:21.352044Z",
     "shell.execute_reply": "2024-07-26T18:35:21.350625Z"
    },
    "papermill": {
     "duration": 16.140768,
     "end_time": "2024-07-26T18:35:21.354786",
     "exception": false,
     "start_time": "2024-07-26T18:35:05.214018",
     "status": "completed"
    },
    "tags": []
   },
   "outputs": [
    {
     "name": "stdout",
     "output_type": "stream",
     "text": [
      "SVM Average Accuracy: 0.79\n"
     ]
    }
   ],
   "source": [
    "from sklearn.svm import SVC\n",
    "from sklearn.model_selection import cross_val_score\n",
    "\n",
    "svm = SVC(kernel='linear')\n",
    "\n",
    "svm_scores = cross_val_score(svm, X_train, y_train, cv=3, scoring='accuracy')\n",
    "\n",
    "print(f'SVM Average Accuracy: {svm_scores.mean():.2f}')\n"
   ]
  },
  {
   "cell_type": "code",
   "execution_count": 48,
   "id": "bd4b9596",
   "metadata": {
    "execution": {
     "iopub.execute_input": "2024-07-26T18:35:21.400100Z",
     "iopub.status.busy": "2024-07-26T18:35:21.399692Z",
     "iopub.status.idle": "2024-07-26T18:35:21.656832Z",
     "shell.execute_reply": "2024-07-26T18:35:21.655502Z"
    },
    "papermill": {
     "duration": 0.284317,
     "end_time": "2024-07-26T18:35:21.659800",
     "exception": false,
     "start_time": "2024-07-26T18:35:21.375483",
     "status": "completed"
    },
    "tags": []
   },
   "outputs": [
    {
     "data": {
      "image/png": "[encoded data removed]",
      "text/plain": [
       "<Figure size 600x400 with 1 Axes>"
      ]
     },
     "metadata": {},
     "output_type": "display_data"
    }
   ],
   "source": [
    "\n",
    "plt.figure(figsize=(6, 4))\n",
    "sns.countplot(data=df, x='Survived')\n",
    "plt.title('Survival Count Plot')\n",
    "plt.xlabel('Survived')\n",
    "plt.ylabel('Count')\n",
    "plt.show()\n"
   ]
  },
  {
   "cell_type": "code",
   "execution_count": 49,
   "id": "e77c37b1",
   "metadata": {
    "execution": {
     "iopub.execute_input": "2024-07-26T18:35:21.701990Z",
     "iopub.status.busy": "2024-07-26T18:35:21.701586Z",
     "iopub.status.idle": "2024-07-26T18:35:21.894709Z",
     "shell.execute_reply": "2024-07-26T18:35:21.893134Z"
    },
    "papermill": {
     "duration": 0.217169,
     "end_time": "2024-07-26T18:35:21.897315",
     "exception": false,
     "start_time": "2024-07-26T18:35:21.680146",
     "status": "completed"
    },
    "tags": []
   },
   "outputs": [
    {
     "data": {
      "image/png": "[encoded data removed]",
      "text/plain": [
       "<Figure size 600x400 with 1 Axes>"
      ]
     },
     "metadata": {},
     "output_type": "display_data"
    }
   ],
   "source": [
    "\n",
    "plt.figure(figsize=(6, 4))\n",
    "sns.countplot(data=df, x='Survived', hue='Sex')\n",
    "plt.title('Survival by Gender')\n",
    "plt.xlabel('Survived')\n",
    "plt.ylabel('Count')\n",
    "plt.legend(title='Sex', labels=['Female', 'Male'])\n",
    "plt.show()\n"
   ]
  },
  {
   "cell_type": "code",
   "execution_count": 50,
   "id": "c6b645dc",
   "metadata": {
    "execution": {
     "iopub.execute_input": "2024-07-26T18:35:21.940648Z",
     "iopub.status.busy": "2024-07-26T18:35:21.940144Z",
     "iopub.status.idle": "2024-07-26T18:35:22.195170Z",
     "shell.execute_reply": "2024-07-26T18:35:22.193860Z"
    },
    "papermill": {
     "duration": 0.2801,
     "end_time": "2024-07-26T18:35:22.197803",
     "exception": false,
     "start_time": "2024-07-26T18:35:21.917703",
     "status": "completed"
    },
    "tags": []
   },
   "outputs": [
    {
     "data": {
      "image/png": "[encoded data removed]",
      "text/plain": [
       "<Figure size 600x400 with 1 Axes>"
      ]
     },
     "metadata": {},
     "output_type": "display_data"
    }
   ],
   "source": [
    "\n",
    "\n",
    "plt.figure(figsize=(6, 4))\n",
    "sns.countplot(data=df, x='Survived', hue='Pclass')\n",
    "plt.title('Survival by Passenger Class')\n",
    "plt.xlabel('Survived')\n",
    "plt.ylabel('Count')\n",
    "plt.legend(title='Pclass', labels=['1st Class', '2nd Class', '3rd Class'])\n",
    "plt.show()\n",
    "\n"
   ]
  },
  {
   "cell_type": "code",
   "execution_count": 51,
   "id": "99b8ceb4",
   "metadata": {
    "execution": {
     "iopub.execute_input": "2024-07-26T18:35:22.243616Z",
     "iopub.status.busy": "2024-07-26T18:35:22.242557Z",
     "iopub.status.idle": "2024-07-26T18:35:22.788048Z",
     "shell.execute_reply": "2024-07-26T18:35:22.786498Z"
    },
    "papermill": {
     "duration": 0.571713,
     "end_time": "2024-07-26T18:35:22.790654",
     "exception": false,
     "start_time": "2024-07-26T18:35:22.218941",
     "status": "completed"
    },
    "tags": []
   },
   "outputs": [
    {
     "name": "stderr",
     "output_type": "stream",
     "text": [
      "/opt/conda/lib/python3.10/site-packages/seaborn/_oldcore.py:1119: FutureWarning: use_inf_as_na option is deprecated and will be removed in a future version. Convert inf values to NaN before operating instead.\n",
      "  with pd.option_context('mode.use_inf_as_na', True):\n",
      "/opt/conda/lib/python3.10/site-packages/seaborn/_oldcore.py:1075: FutureWarning: When grouping with a length-1 list-like, you will need to pass a length-1 tuple to get_group in a future version of pandas. Pass `(name,)` instead of `name` to silence this warning.\n",
      "  data_subset = grouped_data.get_group(pd_key)\n",
      "/opt/conda/lib/python3.10/site-packages/seaborn/_oldcore.py:1075: FutureWarning: When grouping with a length-1 list-like, you will need to pass a length-1 tuple to get_group in a future version of pandas. Pass `(name,)` instead of `name` to silence this warning.\n",
      "  data_subset = grouped_data.get_group(pd_key)\n",
      "/opt/conda/lib/python3.10/site-packages/seaborn/_oldcore.py:1075: FutureWarning: When grouping with a length-1 list-like, you will need to pass a length-1 tuple to get_group in a future version of pandas. Pass `(name,)` instead of `name` to silence this warning.\n",
      "  data_subset = grouped_data.get_group(pd_key)\n"
     ]
    },
    {
     "data": {
      "image/png": "[encoded data removed]",
      "text/plain": [
       "<Figure size 1000x600 with 1 Axes>"
      ]
     },
     "metadata": {},
     "output_type": "display_data"
    }
   ],
   "source": [
    "\n",
    "plt.figure(figsize=(10, 6))\n",
    "sns.histplot(data=df, x='Age', hue='Survived', kde=True, multiple='stack')\n",
    "plt.title('Age Distribution by Survival')\n",
    "plt.xlabel('Age')\n",
    "plt.ylabel('Count')\n",
    "plt.legend(title='Survived', labels=['Did not Survive', 'Survived'])\n",
    "plt.show()"
   ]
  },
  {
   "cell_type": "code",
   "execution_count": 52,
   "id": "b2bc0980",
   "metadata": {
    "execution": {
     "iopub.execute_input": "2024-07-26T18:35:22.837420Z",
     "iopub.status.busy": "2024-07-26T18:35:22.837010Z",
     "iopub.status.idle": "2024-07-26T18:35:23.425573Z",
     "shell.execute_reply": "2024-07-26T18:35:23.423849Z"
    },
    "papermill": {
     "duration": 0.616111,
     "end_time": "2024-07-26T18:35:23.428754",
     "exception": false,
     "start_time": "2024-07-26T18:35:22.812643",
     "status": "completed"
    },
    "tags": []
   },
   "outputs": [
    {
     "data": {
      "image/png": "[encoded data removed]",
      "text/plain": [
       "<Figure size 1000x800 with 2 Axes>"
      ]
     },
     "metadata": {},
     "output_type": "display_data"
    }
   ],
   "source": [
    "numeric_df = df.select_dtypes(include='number')\n",
    "\n",
    "plt.figure(figsize=(10, 8))\n",
    "correlation_matrix = numeric_df.corr()\n",
    "sns.heatmap(correlation_matrix, annot=True, cmap='coolwarm', linewidths=0.5)\n",
    "plt.title('Correlation Matrix')\n",
    "plt.show()"
   ]
  },
  {
   "cell_type": "code",
   "execution_count": null,
   "id": "711240b7",
   "metadata": {
    "papermill": {
     "duration": 0.022824,
     "end_time": "2024-07-26T18:35:23.475972",
     "exception": false,
     "start_time": "2024-07-26T18:35:23.453148",
     "status": "completed"
    },
    "tags": []
   },
   "outputs": [],
   "source": []
  },
  {
   "cell_type": "code",
   "execution_count": null,
   "id": "df5b89c5",
   "metadata": {
    "papermill": {
     "duration": 0.022735,
     "end_time": "2024-07-26T18:35:23.521609",
     "exception": false,
     "start_time": "2024-07-26T18:35:23.498874",
     "status": "completed"
    },
    "tags": []
   },
   "outputs": [],
   "source": []
  },
  {
   "cell_type": "code",
   "execution_count": null,
   "id": "28dc6bb4",
   "metadata": {
    "papermill": {
     "duration": 0.023122,
     "end_time": "2024-07-26T18:35:23.568803",
     "exception": false,
     "start_time": "2024-07-26T18:35:23.545681",
     "status": "completed"
    },
    "tags": []
   },
   "outputs": [],
   "source": []
  },
  {
   "cell_type": "code",
   "execution_count": null,
   "id": "52cfa710",
   "metadata": {
    "papermill": {
     "duration": 0.02337,
     "end_time": "2024-07-26T18:35:23.615734",
     "exception": false,
     "start_time": "2024-07-26T18:35:23.592364",
     "status": "completed"
    },
    "tags": []
   },
   "outputs": [],
   "source": []
  },
  {
   "cell_type": "code",
   "execution_count": null,
   "id": "e76cacfd",
   "metadata": {
    "papermill": {
     "duration": 0.024633,
     "end_time": "2024-07-26T18:35:23.663761",
     "exception": false,
     "start_time": "2024-07-26T18:35:23.639128",
     "status": "completed"
    },
    "tags": []
   },
   "outputs": [],
   "source": []
  },
  {
   "cell_type": "code",
   "execution_count": null,
   "id": "c0670ba0",
   "metadata": {
    "papermill": {
     "duration": 0.023512,
     "end_time": "2024-07-26T18:35:23.712101",
     "exception": false,
     "start_time": "2024-07-26T18:35:23.688589",
     "status": "completed"
    },
    "tags": []
   },
   "outputs": [],
   "source": []
  },
  {
   "cell_type": "code",
   "execution_count": null,
   "id": "ff24fdf9",
   "metadata": {
    "papermill": {
     "duration": 0.023133,
     "end_time": "2024-07-26T18:35:23.758474",
     "exception": false,
     "start_time": "2024-07-26T18:35:23.735341",
     "status": "completed"
    },
    "tags": []
   },
   "outputs": [],
   "source": []
  },
  {
   "cell_type": "code",
   "execution_count": null,
   "id": "b3abe38f",
   "metadata": {
    "papermill": {
     "duration": 0.022841,
     "end_time": "2024-07-26T18:35:23.804416",
     "exception": false,
     "start_time": "2024-07-26T18:35:23.781575",
     "status": "completed"
    },
    "tags": []
   },
   "outputs": [],
   "source": []
  },
  {
   "cell_type": "code",
   "execution_count": null,
   "id": "c09ae141",
   "metadata": {
    "papermill": {
     "duration": 0.022772,
     "end_time": "2024-07-26T18:35:23.850323",
     "exception": false,
     "start_time": "2024-07-26T18:35:23.827551",
     "status": "completed"
    },
    "tags": []
   },
   "outputs": [],
   "source": []
  },
  {
   "cell_type": "code",
   "execution_count": null,
   "id": "972ffe7c",
   "metadata": {
    "papermill": {
     "duration": 0.02254,
     "end_time": "2024-07-26T18:35:23.897136",
     "exception": false,
     "start_time": "2024-07-26T18:35:23.874596",
     "status": "completed"
    },
    "tags": []
   },
   "outputs": [],
   "source": []
  },
  {
   "cell_type": "code",
   "execution_count": null,
   "id": "43e03f40",
   "metadata": {
    "papermill": {
     "duration": 0.027464,
     "end_time": "2024-07-26T18:35:23.948521",
     "exception": false,
     "start_time": "2024-07-26T18:35:23.921057",
     "status": "completed"
    },
    "tags": []
   },
   "outputs": [],
   "source": []
  },
  {
   "cell_type": "code",
   "execution_count": null,
   "id": "5ad97373",
   "metadata": {
    "papermill": {
     "duration": 0.022597,
     "end_time": "2024-07-26T18:35:23.994244",
     "exception": false,
     "start_time": "2024-07-26T18:35:23.971647",
     "status": "completed"
    },
    "tags": []
   },
   "outputs": [],
   "source": []
  },
  {
   "cell_type": "code",
   "execution_count": null,
   "id": "ec952226",
   "metadata": {
    "papermill": {
     "duration": 0.022869,
     "end_time": "2024-07-26T18:35:24.040189",
     "exception": false,
     "start_time": "2024-07-26T18:35:24.017320",
     "status": "completed"
    },
    "tags": []
   },
   "outputs": [],
   "source": []
  },
  {
   "cell_type": "code",
   "execution_count": null,
   "id": "7a9bb010",
   "metadata": {
    "papermill": {
     "duration": 0.024974,
     "end_time": "2024-07-26T18:35:24.088256",
     "exception": false,
     "start_time": "2024-07-26T18:35:24.063282",
     "status": "completed"
    },
    "tags": []
   },
   "outputs": [],
   "source": []
  },
  {
   "cell_type": "code",
   "execution_count": null,
   "id": "a6f8078e",
   "metadata": {
    "papermill": {
     "duration": 0.026997,
     "end_time": "2024-07-26T18:35:24.138267",
     "exception": false,
     "start_time": "2024-07-26T18:35:24.111270",
     "status": "completed"
    },
    "tags": []
   },
   "outputs": [],
   "source": []
  },
  {
   "cell_type": "code",
   "execution_count": null,
   "id": "9bdcc5b5",
   "metadata": {
    "papermill": {
     "duration": 0.030547,
     "end_time": "2024-07-26T18:35:24.198049",
     "exception": false,
     "start_time": "2024-07-26T18:35:24.167502",
     "status": "completed"
    },
    "tags": []
   },
   "outputs": [],
   "source": []
  },
  {
   "cell_type": "code",
   "execution_count": null,
   "id": "be152a8e",
   "metadata": {
    "papermill": {
     "duration": 0.022756,
     "end_time": "2024-07-26T18:35:24.250060",
     "exception": false,
     "start_time": "2024-07-26T18:35:24.227304",
     "status": "completed"
    },
    "tags": []
   },
   "outputs": [],
   "source": []
  },
  {
   "cell_type": "code",
   "execution_count": null,
   "id": "fb246594",
   "metadata": {
    "papermill": {
     "duration": 0.022669,
     "end_time": "2024-07-26T18:35:24.295780",
     "exception": false,
     "start_time": "2024-07-26T18:35:24.273111",
     "status": "completed"
    },
    "tags": []
   },
   "outputs": [],
   "source": []
  }
 ],
 "metadata": {
  "kaggle": {
   "accelerator": "none",
   "dataSources": [
    {
     "databundleVersionId": 26502,
     "sourceId": 3136,
     "sourceType": "competition"
    }
   ],
   "dockerImageVersionId": 30746,
   "isGpuEnabled": false,
   "isInternetEnabled": false,
   "language": "python",
   "sourceType": "notebook"
  },
  "kernelspec": {
   "display_name": "Python 3",
   "language": "python",
   "name": "python3"
  },
  "language_info": {
   "codemirror_mode": {
    "name": "ipython",
    "version": 3
   },
   "file_extension": ".py",
   "mimetype": "text/x-python",
   "name": "python",
   "nbconvert_exporter": "python",
   "pygments_lexer": "ipython3",
   "version": "3.10.13"
  },
  "papermill": {
   "default_parameters": {},
   "duration": 29.096313,
   "end_time": "2024-07-26T18:35:25.041148",
   "environment_variables": {},
   "exception": null,
   "input_path": "__notebook__.ipynb",
   "output_path": "__notebook__.ipynb",
   "parameters": {},
   "start_time": "2024-07-26T18:34:55.944835",
   "version": "2.5.0"
  }
 },
 "nbformat": 4,
 "nbformat_minor": 5
}
