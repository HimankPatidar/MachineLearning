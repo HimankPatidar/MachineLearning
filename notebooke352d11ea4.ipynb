{
 "cells": [
  {
   "cell_type": "raw",
   "id": "bab62cd9",
   "metadata": {
    "_cell_guid": "b1076dfc-b9ad-4769-8c92-a6c4dae69d19",
    "_uuid": "8f2839f25d086af736a60e9eeb907d3b93b6e0e5",
    "execution": {
     "iopub.execute_input": "2024-08-04T15:55:12.098436Z",
     "iopub.status.busy": "2024-08-04T15:55:12.097949Z",
     "iopub.status.idle": "2024-08-04T15:55:12.669338Z",
     "shell.execute_reply": "2024-08-04T15:55:12.667910Z",
     "shell.execute_reply.started": "2024-08-04T15:55:12.098401Z"
    },
    "papermill": {
     "duration": 0.015942,
     "end_time": "2024-08-06T11:17:52.815463",
     "exception": false,
     "start_time": "2024-08-06T11:17:52.799521",
     "status": "completed"
    },
    "tags": []
   },
   "source": [
    "# This Python 3 environment comes with many helpful analytics libraries installed\n",
    "# It is defined by the kaggle/python Docker image: https://github.com/kaggle/docker-python\n",
    "# For example, here's several helpful packages to load\n",
    "\n",
    "import numpy as np # linear algebra\n",
    "import pandas as pd # data processing, CSV file I/O (e.g. pd.read_csv)\n",
    "\n",
    "# Input data files are available in the read-only \"../input/\" directory\n",
    "# For example, running this (by clicking run or pressing Shift+Enter) will list all files under the input directory\n",
    "\n",
    "import os\n",
    "for dirname, _, filenames in os.walk('/kaggle/input'):\n",
    "    for filename in filenames:\n",
    "        print(os.path.join(dirname, filename))\n",
    "\n",
    "# You can write up to 20GB to the current directory (/kaggle/working/) that gets preserved as output when you create a version using \"Save & Run All\" \n",
    "# You can also write temporary files to /kaggle/temp/, but they won't be saved outside of the current session"
   ]
  },
  {
   "cell_type": "code",
   "execution_count": 1,
   "id": "c5b7cd9b",
   "metadata": {
    "execution": {
     "iopub.execute_input": "2024-08-06T11:17:52.848113Z",
     "iopub.status.busy": "2024-08-06T11:17:52.847719Z",
     "iopub.status.idle": "2024-08-06T11:17:52.859674Z",
     "shell.execute_reply": "2024-08-06T11:17:52.858829Z"
    },
    "papermill": {
     "duration": 0.030729,
     "end_time": "2024-08-06T11:17:52.861898",
     "exception": false,
     "start_time": "2024-08-06T11:17:52.831169",
     "status": "completed"
    },
    "tags": []
   },
   "outputs": [],
   "source": [
    "import numpy as np\n",
    "\n",
    "np.random.seed(42)  # to make this code example reproducible\n",
    "m = 100  # number of instances\n",
    "X = 2 * np.random.rand(m, 1)  # column vector\n",
    "y = 4 + 3 * X + np.random.randn(m, 1)  # column vector"
   ]
  },
  {
   "cell_type": "code",
   "execution_count": 2,
   "id": "3a2acacf",
   "metadata": {
    "execution": {
     "iopub.execute_input": "2024-08-06T11:17:52.896952Z",
     "iopub.status.busy": "2024-08-06T11:17:52.895792Z",
     "iopub.status.idle": "2024-08-06T11:17:54.076700Z",
     "shell.execute_reply": "2024-08-06T11:17:54.075385Z"
    },
    "papermill": {
     "duration": 1.200778,
     "end_time": "2024-08-06T11:17:54.079316",
     "exception": false,
     "start_time": "2024-08-06T11:17:52.878538",
     "status": "completed"
    },
    "tags": []
   },
   "outputs": [],
   "source": [
    "from sklearn.preprocessing import add_dummy_feature"
   ]
  },
  {
   "cell_type": "code",
   "execution_count": 3,
   "id": "0a2e55c9",
   "metadata": {
    "execution": {
     "iopub.execute_input": "2024-08-06T11:17:54.112639Z",
     "iopub.status.busy": "2024-08-06T11:17:54.111676Z",
     "iopub.status.idle": "2024-08-06T11:17:54.456647Z",
     "shell.execute_reply": "2024-08-06T11:17:54.455671Z"
    },
    "papermill": {
     "duration": 0.364074,
     "end_time": "2024-08-06T11:17:54.458802",
     "exception": false,
     "start_time": "2024-08-06T11:17:54.094728",
     "status": "completed"
    },
    "tags": []
   },
   "outputs": [
    {
     "data": {
      "image/png": "[encoded data removed]",
      "text/plain": [
       "<Figure size 600x400 with 1 Axes>"
      ]
     },
     "metadata": {},
     "output_type": "display_data"
    }
   ],
   "source": [
    "# extra code – generates and saves Figure 4–1\n",
    "\n",
    "import matplotlib.pyplot as plt\n",
    "\n",
    "plt.figure(figsize=(6, 4))\n",
    "plt.plot(X, y, \"b.\")\n",
    "plt.xlabel(\"$x_1$\")\n",
    "plt.ylabel(\"$y$\", rotation=0)\n",
    "plt.axis([0, 2, 0, 15])\n",
    "plt.grid()\n",
    "plt.show()"
   ]
  },
  {
   "cell_type": "code",
   "execution_count": 4,
   "id": "b62ca66e",
   "metadata": {
    "execution": {
     "iopub.execute_input": "2024-08-06T11:17:54.492356Z",
     "iopub.status.busy": "2024-08-06T11:17:54.491375Z",
     "iopub.status.idle": "2024-08-06T11:17:54.498527Z",
     "shell.execute_reply": "2024-08-06T11:17:54.497456Z"
    },
    "papermill": {
     "duration": 0.0266,
     "end_time": "2024-08-06T11:17:54.501100",
     "exception": false,
     "start_time": "2024-08-06T11:17:54.474500",
     "status": "completed"
    },
    "tags": []
   },
   "outputs": [],
   "source": [
    "\n",
    "X_b = add_dummy_feature(X)  # add x0 = 1 to each instance\n",
    "theta_best = np.linalg.inv(X_b.T @ X_b) @ X_b.T @ y"
   ]
  },
  {
   "cell_type": "code",
   "execution_count": 5,
   "id": "b439ebff",
   "metadata": {
    "execution": {
     "iopub.execute_input": "2024-08-06T11:17:54.537197Z",
     "iopub.status.busy": "2024-08-06T11:17:54.536650Z",
     "iopub.status.idle": "2024-08-06T11:17:54.544881Z",
     "shell.execute_reply": "2024-08-06T11:17:54.543678Z"
    },
    "papermill": {
     "duration": 0.02924,
     "end_time": "2024-08-06T11:17:54.547811",
     "exception": false,
     "start_time": "2024-08-06T11:17:54.518571",
     "status": "completed"
    },
    "tags": []
   },
   "outputs": [
    {
     "data": {
      "text/plain": [
       "array([[4.21509616],\n",
       "       [2.77011339]])"
      ]
     },
     "execution_count": 5,
     "metadata": {},
     "output_type": "execute_result"
    }
   ],
   "source": [
    "theta_best"
   ]
  },
  {
   "cell_type": "code",
   "execution_count": 6,
   "id": "770e2ba4",
   "metadata": {
    "execution": {
     "iopub.execute_input": "2024-08-06T11:17:54.586832Z",
     "iopub.status.busy": "2024-08-06T11:17:54.585941Z",
     "iopub.status.idle": "2024-08-06T11:17:54.594810Z",
     "shell.execute_reply": "2024-08-06T11:17:54.593887Z"
    },
    "papermill": {
     "duration": 0.029395,
     "end_time": "2024-08-06T11:17:54.597852",
     "exception": false,
     "start_time": "2024-08-06T11:17:54.568457",
     "status": "completed"
    },
    "tags": []
   },
   "outputs": [
    {
     "data": {
      "text/plain": [
       "array([[4.21509616],\n",
       "       [9.75532293]])"
      ]
     },
     "execution_count": 6,
     "metadata": {},
     "output_type": "execute_result"
    }
   ],
   "source": [
    "X_new = np.array([[0], [2]])\n",
    "X_new_b = add_dummy_feature(X_new)  # add x0 = 1 to each instance\n",
    "y_predict = X_new_b @ theta_best\n",
    "y_predict"
   ]
  },
  {
   "cell_type": "code",
   "execution_count": 7,
   "id": "5f1689b2",
   "metadata": {
    "execution": {
     "iopub.execute_input": "2024-08-06T11:17:54.638036Z",
     "iopub.status.busy": "2024-08-06T11:17:54.637209Z",
     "iopub.status.idle": "2024-08-06T11:17:54.850801Z",
     "shell.execute_reply": "2024-08-06T11:17:54.849128Z"
    },
    "papermill": {
     "duration": 0.232655,
     "end_time": "2024-08-06T11:17:54.852984",
     "exception": false,
     "start_time": "2024-08-06T11:17:54.620329",
     "status": "completed"
    },
    "tags": []
   },
   "outputs": [
    {
     "data": {
      "image/png": "[encoded data removed]",
      "text/plain": [
       "<Figure size 600x400 with 1 Axes>"
      ]
     },
     "metadata": {},
     "output_type": "display_data"
    }
   ],
   "source": [
    "import matplotlib.pyplot as plt\n",
    "\n",
    "plt.figure(figsize=(6, 4))  # extra code – not needed, just formatting\n",
    "plt.plot(X_new, y_predict, \"r-\", label=\"Predictions\")\n",
    "plt.plot(X, y, \"b.\")\n",
    "\n",
    "# extra code – beautifies and saves Figure 4–2\n",
    "plt.xlabel(\"$x_1$\")\n",
    "plt.ylabel(\"$y$\", rotation=0)\n",
    "plt.axis([0, 2, 0, 15])\n",
    "plt.grid()\n",
    "plt.legend(loc=\"upper left\")\n",
    "plt.show()"
   ]
  },
  {
   "cell_type": "code",
   "execution_count": 8,
   "id": "22e9a23b",
   "metadata": {
    "execution": {
     "iopub.execute_input": "2024-08-06T11:17:54.889673Z",
     "iopub.status.busy": "2024-08-06T11:17:54.889292Z",
     "iopub.status.idle": "2024-08-06T11:17:55.080919Z",
     "shell.execute_reply": "2024-08-06T11:17:55.079921Z"
    },
    "papermill": {
     "duration": 0.213495,
     "end_time": "2024-08-06T11:17:55.083455",
     "exception": false,
     "start_time": "2024-08-06T11:17:54.869960",
     "status": "completed"
    },
    "tags": []
   },
   "outputs": [],
   "source": [
    "from sklearn.linear_model import LinearRegression\n"
   ]
  },
  {
   "cell_type": "code",
   "execution_count": 9,
   "id": "094c449a",
   "metadata": {
    "execution": {
     "iopub.execute_input": "2024-08-06T11:17:55.117551Z",
     "iopub.status.busy": "2024-08-06T11:17:55.117169Z",
     "iopub.status.idle": "2024-08-06T11:17:55.139003Z",
     "shell.execute_reply": "2024-08-06T11:17:55.138076Z"
    },
    "papermill": {
     "duration": 0.041418,
     "end_time": "2024-08-06T11:17:55.141182",
     "exception": false,
     "start_time": "2024-08-06T11:17:55.099764",
     "status": "completed"
    },
    "tags": []
   },
   "outputs": [
    {
     "data": {
      "text/html": [
       "<style>#sk-container-id-1 {color: black;background-color: white;}#sk-container-id-1 pre{padding: 0;}#sk-container-id-1 div.sk-toggleable {background-color: white;}#sk-container-id-1 label.sk-toggleable__label {cursor: pointer;display: block;width: 100%;margin-bottom: 0;padding: 0.3em;box-sizing: border-box;text-align: center;}#sk-container-id-1 label.sk-toggleable__label-arrow:before {content: \"▸\";float: left;margin-right: 0.25em;color: #696969;}#sk-container-id-1 label.sk-toggleable__label-arrow:hover:before {color: black;}#sk-container-id-1 div.sk-estimator:hover label.sk-toggleable__label-arrow:before {color: black;}#sk-container-id-1 div.sk-toggleable__content {max-height: 0;max-width: 0;overflow: hidden;text-align: left;background-color: #f0f8ff;}#sk-container-id-1 div.sk-toggleable__content pre {margin: 0.2em;color: black;border-radius: 0.25em;background-color: #f0f8ff;}#sk-container-id-1 input.sk-toggleable__control:checked~div.sk-toggleable__content {max-height: 200px;max-width: 100%;overflow: auto;}#sk-container-id-1 input.sk-toggleable__control:checked~label.sk-toggleable__label-arrow:before {content: \"▾\";}#sk-container-id-1 div.sk-estimator input.sk-toggleable__control:checked~label.sk-toggleable__label {background-color: #d4ebff;}#sk-container-id-1 div.sk-label input.sk-toggleable__control:checked~label.sk-toggleable__label {background-color: #d4ebff;}#sk-container-id-1 input.sk-hidden--visually {border: 0;clip: rect(1px 1px 1px 1px);clip: rect(1px, 1px, 1px, 1px);height: 1px;margin: -1px;overflow: hidden;padding: 0;position: absolute;width: 1px;}#sk-container-id-1 div.sk-estimator {font-family: monospace;background-color: #f0f8ff;border: 1px dotted black;border-radius: 0.25em;box-sizing: border-box;margin-bottom: 0.5em;}#sk-container-id-1 div.sk-estimator:hover {background-color: #d4ebff;}#sk-container-id-1 div.sk-parallel-item::after {content: \"\";width: 100%;border-bottom: 1px solid gray;flex-grow: 1;}#sk-container-id-1 div.sk-label:hover label.sk-toggleable__label {background-color: #d4ebff;}#sk-container-id-1 div.sk-serial::before {content: \"\";position: absolute;border-left: 1px solid gray;box-sizing: border-box;top: 0;bottom: 0;left: 50%;z-index: 0;}#sk-container-id-1 div.sk-serial {display: flex;flex-direction: column;align-items: center;background-color: white;padding-right: 0.2em;padding-left: 0.2em;position: relative;}#sk-container-id-1 div.sk-item {position: relative;z-index: 1;}#sk-container-id-1 div.sk-parallel {display: flex;align-items: stretch;justify-content: center;background-color: white;position: relative;}#sk-container-id-1 div.sk-item::before, #sk-container-id-1 div.sk-parallel-item::before {content: \"\";position: absolute;border-left: 1px solid gray;box-sizing: border-box;top: 0;bottom: 0;left: 50%;z-index: -1;}#sk-container-id-1 div.sk-parallel-item {display: flex;flex-direction: column;z-index: 1;position: relative;background-color: white;}#sk-container-id-1 div.sk-parallel-item:first-child::after {align-self: flex-end;width: 50%;}#sk-container-id-1 div.sk-parallel-item:last-child::after {align-self: flex-start;width: 50%;}#sk-container-id-1 div.sk-parallel-item:only-child::after {width: 0;}#sk-container-id-1 div.sk-dashed-wrapped {border: 1px dashed gray;margin: 0 0.4em 0.5em 0.4em;box-sizing: border-box;padding-bottom: 0.4em;background-color: white;}#sk-container-id-1 div.sk-label label {font-family: monospace;font-weight: bold;display: inline-block;line-height: 1.2em;}#sk-container-id-1 div.sk-label-container {text-align: center;}#sk-container-id-1 div.sk-container {/* jupyter's `normalize.less` sets `[hidden] { display: none; }` but bootstrap.min.css set `[hidden] { display: none !important; }` so we also need the `!important` here to be able to override the default hidden behavior on the sphinx rendered scikit-learn.org. See: https://github.com/scikit-learn/scikit-learn/issues/21755 */display: inline-block !important;position: relative;}#sk-container-id-1 div.sk-text-repr-fallback {display: none;}</style><div id=\"sk-container-id-1\" class=\"sk-top-container\"><div class=\"sk-text-repr-fallback\"><pre>LinearRegression()</pre><b>In a Jupyter environment, please rerun this cell to show the HTML representation or trust the notebook. <br />On GitHub, the HTML representation is unable to render, please try loading this page with nbviewer.org.</b></div><div class=\"sk-container\" hidden><div class=\"sk-item\"><div class=\"sk-estimator sk-toggleable\"><input class=\"sk-toggleable__control sk-hidden--visually\" id=\"sk-estimator-id-1\" type=\"checkbox\" checked><label for=\"sk-estimator-id-1\" class=\"sk-toggleable__label sk-toggleable__label-arrow\">LinearRegression</label><div class=\"sk-toggleable__content\"><pre>LinearRegression()</pre></div></div></div></div></div>"
      ],
      "text/plain": [
       "LinearRegression()"
      ]
     },
     "execution_count": 9,
     "metadata": {},
     "output_type": "execute_result"
    }
   ],
   "source": [
    "lr = LinearRegression()\n",
    "lr.fit(X,y)"
   ]
  },
  {
   "cell_type": "code",
   "execution_count": 10,
   "id": "a5f22262",
   "metadata": {
    "execution": {
     "iopub.execute_input": "2024-08-06T11:17:55.177842Z",
     "iopub.status.busy": "2024-08-06T11:17:55.176827Z",
     "iopub.status.idle": "2024-08-06T11:17:55.184535Z",
     "shell.execute_reply": "2024-08-06T11:17:55.183341Z"
    },
    "papermill": {
     "duration": 0.029167,
     "end_time": "2024-08-06T11:17:55.186668",
     "exception": false,
     "start_time": "2024-08-06T11:17:55.157501",
     "status": "completed"
    },
    "tags": []
   },
   "outputs": [
    {
     "data": {
      "text/plain": [
       "array([4.21509616])"
      ]
     },
     "execution_count": 10,
     "metadata": {},
     "output_type": "execute_result"
    }
   ],
   "source": [
    "lr.intercept_"
   ]
  },
  {
   "cell_type": "code",
   "execution_count": 11,
   "id": "1a91f77a",
   "metadata": {
    "execution": {
     "iopub.execute_input": "2024-08-06T11:17:55.222170Z",
     "iopub.status.busy": "2024-08-06T11:17:55.221221Z",
     "iopub.status.idle": "2024-08-06T11:17:55.228044Z",
     "shell.execute_reply": "2024-08-06T11:17:55.227113Z"
    },
    "papermill": {
     "duration": 0.026957,
     "end_time": "2024-08-06T11:17:55.230036",
     "exception": false,
     "start_time": "2024-08-06T11:17:55.203079",
     "status": "completed"
    },
    "tags": []
   },
   "outputs": [
    {
     "data": {
      "text/plain": [
       "array([[2.77011339]])"
      ]
     },
     "execution_count": 11,
     "metadata": {},
     "output_type": "execute_result"
    }
   ],
   "source": [
    "lr.coef_"
   ]
  },
  {
   "cell_type": "code",
   "execution_count": 12,
   "id": "695ee282",
   "metadata": {
    "execution": {
     "iopub.execute_input": "2024-08-06T11:17:55.266011Z",
     "iopub.status.busy": "2024-08-06T11:17:55.265653Z",
     "iopub.status.idle": "2024-08-06T11:17:55.272593Z",
     "shell.execute_reply": "2024-08-06T11:17:55.271534Z"
    },
    "papermill": {
     "duration": 0.027067,
     "end_time": "2024-08-06T11:17:55.274727",
     "exception": false,
     "start_time": "2024-08-06T11:17:55.247660",
     "status": "completed"
    },
    "tags": []
   },
   "outputs": [
    {
     "data": {
      "text/plain": [
       "array([[4.21509616],\n",
       "       [9.75532293]])"
      ]
     },
     "execution_count": 12,
     "metadata": {},
     "output_type": "execute_result"
    }
   ],
   "source": [
    "lr.predict(X_new)"
   ]
  },
  {
   "cell_type": "code",
   "execution_count": 13,
   "id": "791dffcb",
   "metadata": {
    "execution": {
     "iopub.execute_input": "2024-08-06T11:17:55.311043Z",
     "iopub.status.busy": "2024-08-06T11:17:55.309828Z",
     "iopub.status.idle": "2024-08-06T11:17:55.326900Z",
     "shell.execute_reply": "2024-08-06T11:17:55.325743Z"
    },
    "papermill": {
     "duration": 0.037738,
     "end_time": "2024-08-06T11:17:55.329203",
     "exception": false,
     "start_time": "2024-08-06T11:17:55.291465",
     "status": "completed"
    },
    "tags": []
   },
   "outputs": [
    {
     "data": {
      "text/plain": [
       "array([[4.21509616],\n",
       "       [2.77011339]])"
      ]
     },
     "execution_count": 13,
     "metadata": {},
     "output_type": "execute_result"
    }
   ],
   "source": [
    "theta_best_svd, residuals, rank,s = np.linalg.lstsq(X_b,y,rcond= 1e-6)\n",
    "theta_best_svd"
   ]
  },
  {
   "cell_type": "code",
   "execution_count": 14,
   "id": "1bb32545",
   "metadata": {
    "execution": {
     "iopub.execute_input": "2024-08-06T11:17:55.365576Z",
     "iopub.status.busy": "2024-08-06T11:17:55.364522Z",
     "iopub.status.idle": "2024-08-06T11:17:55.371910Z",
     "shell.execute_reply": "2024-08-06T11:17:55.370812Z"
    },
    "papermill": {
     "duration": 0.027733,
     "end_time": "2024-08-06T11:17:55.373903",
     "exception": false,
     "start_time": "2024-08-06T11:17:55.346170",
     "status": "completed"
    },
    "tags": []
   },
   "outputs": [
    {
     "data": {
      "text/plain": [
       "array([[4.21509616],\n",
       "       [2.77011339]])"
      ]
     },
     "execution_count": 14,
     "metadata": {},
     "output_type": "execute_result"
    }
   ],
   "source": [
    "np.linalg.pinv(X_b) @ y"
   ]
  },
  {
   "cell_type": "markdown",
   "id": "60df47d0",
   "metadata": {
    "papermill": {
     "duration": 0.016704,
     "end_time": "2024-08-06T11:17:55.407554",
     "exception": false,
     "start_time": "2024-08-06T11:17:55.390850",
     "status": "completed"
    },
    "tags": []
   },
   "source": [
    "# Gradient Descent"
   ]
  },
  {
   "cell_type": "markdown",
   "id": "68325da2",
   "metadata": {
    "papermill": {
     "duration": 0.01672,
     "end_time": "2024-08-06T11:17:55.441193",
     "exception": false,
     "start_time": "2024-08-06T11:17:55.424473",
     "status": "completed"
    },
    "tags": []
   },
   "source": [
    "### Batch Gradient Descent"
   ]
  },
  {
   "cell_type": "code",
   "execution_count": 15,
   "id": "c31601dc",
   "metadata": {
    "execution": {
     "iopub.execute_input": "2024-08-06T11:17:55.476628Z",
     "iopub.status.busy": "2024-08-06T11:17:55.476105Z",
     "iopub.status.idle": "2024-08-06T11:17:55.491533Z",
     "shell.execute_reply": "2024-08-06T11:17:55.490428Z"
    },
    "papermill": {
     "duration": 0.035738,
     "end_time": "2024-08-06T11:17:55.493737",
     "exception": false,
     "start_time": "2024-08-06T11:17:55.457999",
     "status": "completed"
    },
    "tags": []
   },
   "outputs": [],
   "source": [
    "eta = 0.1  # learning rate\n",
    "n_epochs = 1000\n",
    "m = len(X_b)  # number of instances\n",
    "\n",
    "np.random.seed(42)\n",
    "theta = np.random.randn(2, 1)  # randomly initialized model parameters\n",
    "\n",
    "for epoch in range(n_epochs):\n",
    "    gradients = 2 / m * X_b.T @ (X_b @ theta - y)\n",
    "    theta = theta - eta * gradients"
   ]
  },
  {
   "cell_type": "code",
   "execution_count": 16,
   "id": "cbf44e66",
   "metadata": {
    "execution": {
     "iopub.execute_input": "2024-08-06T11:17:55.529083Z",
     "iopub.status.busy": "2024-08-06T11:17:55.528725Z",
     "iopub.status.idle": "2024-08-06T11:17:55.535056Z",
     "shell.execute_reply": "2024-08-06T11:17:55.534103Z"
    },
    "papermill": {
     "duration": 0.026491,
     "end_time": "2024-08-06T11:17:55.537116",
     "exception": false,
     "start_time": "2024-08-06T11:17:55.510625",
     "status": "completed"
    },
    "tags": []
   },
   "outputs": [
    {
     "data": {
      "text/plain": [
       "array([[4.21509616],\n",
       "       [2.77011339]])"
      ]
     },
     "execution_count": 16,
     "metadata": {},
     "output_type": "execute_result"
    }
   ],
   "source": [
    "theta"
   ]
  },
  {
   "cell_type": "markdown",
   "id": "2f0fc12c",
   "metadata": {
    "papermill": {
     "duration": 0.016976,
     "end_time": "2024-08-06T11:17:55.626016",
     "exception": false,
     "start_time": "2024-08-06T11:17:55.609040",
     "status": "completed"
    },
    "tags": []
   },
   "source": [
    "## Stochastic Gradient Descent"
   ]
  },
  {
   "cell_type": "code",
   "execution_count": 17,
   "id": "a70a76cb",
   "metadata": {
    "execution": {
     "iopub.execute_input": "2024-08-06T11:17:55.662747Z",
     "iopub.status.busy": "2024-08-06T11:17:55.661831Z",
     "iopub.status.idle": "2024-08-06T11:17:55.675755Z",
     "shell.execute_reply": "2024-08-06T11:17:55.674667Z"
    },
    "papermill": {
     "duration": 0.034666,
     "end_time": "2024-08-06T11:17:55.677970",
     "exception": false,
     "start_time": "2024-08-06T11:17:55.643304",
     "status": "completed"
    },
    "tags": []
   },
   "outputs": [
    {
     "data": {
      "text/html": [
       "<style>#sk-container-id-2 {color: black;background-color: white;}#sk-container-id-2 pre{padding: 0;}#sk-container-id-2 div.sk-toggleable {background-color: white;}#sk-container-id-2 label.sk-toggleable__label {cursor: pointer;display: block;width: 100%;margin-bottom: 0;padding: 0.3em;box-sizing: border-box;text-align: center;}#sk-container-id-2 label.sk-toggleable__label-arrow:before {content: \"▸\";float: left;margin-right: 0.25em;color: #696969;}#sk-container-id-2 label.sk-toggleable__label-arrow:hover:before {color: black;}#sk-container-id-2 div.sk-estimator:hover label.sk-toggleable__label-arrow:before {color: black;}#sk-container-id-2 div.sk-toggleable__content {max-height: 0;max-width: 0;overflow: hidden;text-align: left;background-color: #f0f8ff;}#sk-container-id-2 div.sk-toggleable__content pre {margin: 0.2em;color: black;border-radius: 0.25em;background-color: #f0f8ff;}#sk-container-id-2 input.sk-toggleable__control:checked~div.sk-toggleable__content {max-height: 200px;max-width: 100%;overflow: auto;}#sk-container-id-2 input.sk-toggleable__control:checked~label.sk-toggleable__label-arrow:before {content: \"▾\";}#sk-container-id-2 div.sk-estimator input.sk-toggleable__control:checked~label.sk-toggleable__label {background-color: #d4ebff;}#sk-container-id-2 div.sk-label input.sk-toggleable__control:checked~label.sk-toggleable__label {background-color: #d4ebff;}#sk-container-id-2 input.sk-hidden--visually {border: 0;clip: rect(1px 1px 1px 1px);clip: rect(1px, 1px, 1px, 1px);height: 1px;margin: -1px;overflow: hidden;padding: 0;position: absolute;width: 1px;}#sk-container-id-2 div.sk-estimator {font-family: monospace;background-color: #f0f8ff;border: 1px dotted black;border-radius: 0.25em;box-sizing: border-box;margin-bottom: 0.5em;}#sk-container-id-2 div.sk-estimator:hover {background-color: #d4ebff;}#sk-container-id-2 div.sk-parallel-item::after {content: \"\";width: 100%;border-bottom: 1px solid gray;flex-grow: 1;}#sk-container-id-2 div.sk-label:hover label.sk-toggleable__label {background-color: #d4ebff;}#sk-container-id-2 div.sk-serial::before {content: \"\";position: absolute;border-left: 1px solid gray;box-sizing: border-box;top: 0;bottom: 0;left: 50%;z-index: 0;}#sk-container-id-2 div.sk-serial {display: flex;flex-direction: column;align-items: center;background-color: white;padding-right: 0.2em;padding-left: 0.2em;position: relative;}#sk-container-id-2 div.sk-item {position: relative;z-index: 1;}#sk-container-id-2 div.sk-parallel {display: flex;align-items: stretch;justify-content: center;background-color: white;position: relative;}#sk-container-id-2 div.sk-item::before, #sk-container-id-2 div.sk-parallel-item::before {content: \"\";position: absolute;border-left: 1px solid gray;box-sizing: border-box;top: 0;bottom: 0;left: 50%;z-index: -1;}#sk-container-id-2 div.sk-parallel-item {display: flex;flex-direction: column;z-index: 1;position: relative;background-color: white;}#sk-container-id-2 div.sk-parallel-item:first-child::after {align-self: flex-end;width: 50%;}#sk-container-id-2 div.sk-parallel-item:last-child::after {align-self: flex-start;width: 50%;}#sk-container-id-2 div.sk-parallel-item:only-child::after {width: 0;}#sk-container-id-2 div.sk-dashed-wrapped {border: 1px dashed gray;margin: 0 0.4em 0.5em 0.4em;box-sizing: border-box;padding-bottom: 0.4em;background-color: white;}#sk-container-id-2 div.sk-label label {font-family: monospace;font-weight: bold;display: inline-block;line-height: 1.2em;}#sk-container-id-2 div.sk-label-container {text-align: center;}#sk-container-id-2 div.sk-container {/* jupyter's `normalize.less` sets `[hidden] { display: none; }` but bootstrap.min.css set `[hidden] { display: none !important; }` so we also need the `!important` here to be able to override the default hidden behavior on the sphinx rendered scikit-learn.org. See: https://github.com/scikit-learn/scikit-learn/issues/21755 */display: inline-block !important;position: relative;}#sk-container-id-2 div.sk-text-repr-fallback {display: none;}</style><div id=\"sk-container-id-2\" class=\"sk-top-container\"><div class=\"sk-text-repr-fallback\"><pre>SGDRegressor(n_iter_no_change=100, penalty=None, random_state=42, tol=1e-05)</pre><b>In a Jupyter environment, please rerun this cell to show the HTML representation or trust the notebook. <br />On GitHub, the HTML representation is unable to render, please try loading this page with nbviewer.org.</b></div><div class=\"sk-container\" hidden><div class=\"sk-item\"><div class=\"sk-estimator sk-toggleable\"><input class=\"sk-toggleable__control sk-hidden--visually\" id=\"sk-estimator-id-2\" type=\"checkbox\" checked><label for=\"sk-estimator-id-2\" class=\"sk-toggleable__label sk-toggleable__label-arrow\">SGDRegressor</label><div class=\"sk-toggleable__content\"><pre>SGDRegressor(n_iter_no_change=100, penalty=None, random_state=42, tol=1e-05)</pre></div></div></div></div></div>"
      ],
      "text/plain": [
       "SGDRegressor(n_iter_no_change=100, penalty=None, random_state=42, tol=1e-05)"
      ]
     },
     "execution_count": 17,
     "metadata": {},
     "output_type": "execute_result"
    }
   ],
   "source": [
    "from sklearn.linear_model import SGDRegressor\n",
    "\n",
    "sgd_reg = SGDRegressor(max_iter = 1000, tol=1e-5, penalty = None, eta0=0.01, n_iter_no_change = 100, random_state=42)\n",
    "sgd_reg.fit(X, y.ravel())"
   ]
  },
  {
   "cell_type": "code",
   "execution_count": 18,
   "id": "158c8932",
   "metadata": {
    "execution": {
     "iopub.execute_input": "2024-08-06T11:17:55.715137Z",
     "iopub.status.busy": "2024-08-06T11:17:55.714755Z",
     "iopub.status.idle": "2024-08-06T11:17:55.721611Z",
     "shell.execute_reply": "2024-08-06T11:17:55.720475Z"
    },
    "papermill": {
     "duration": 0.02789,
     "end_time": "2024-08-06T11:17:55.723712",
     "exception": false,
     "start_time": "2024-08-06T11:17:55.695822",
     "status": "completed"
    },
    "tags": []
   },
   "outputs": [
    {
     "data": {
      "text/plain": [
       "array([4.21278812])"
      ]
     },
     "execution_count": 18,
     "metadata": {},
     "output_type": "execute_result"
    }
   ],
   "source": [
    "sgd_reg.intercept_"
   ]
  },
  {
   "cell_type": "markdown",
   "id": "6a093812",
   "metadata": {
    "papermill": {
     "duration": 0.018532,
     "end_time": "2024-08-06T11:17:55.759920",
     "exception": false,
     "start_time": "2024-08-06T11:17:55.741388",
     "status": "completed"
    },
    "tags": []
   },
   "source": [
    "# Polynomial Regression"
   ]
  },
  {
   "cell_type": "code",
   "execution_count": 19,
   "id": "54fcfaf4",
   "metadata": {
    "execution": {
     "iopub.execute_input": "2024-08-06T11:17:55.796823Z",
     "iopub.status.busy": "2024-08-06T11:17:55.795778Z",
     "iopub.status.idle": "2024-08-06T11:17:55.801240Z",
     "shell.execute_reply": "2024-08-06T11:17:55.800310Z"
    },
    "papermill": {
     "duration": 0.025936,
     "end_time": "2024-08-06T11:17:55.803275",
     "exception": false,
     "start_time": "2024-08-06T11:17:55.777339",
     "status": "completed"
    },
    "tags": []
   },
   "outputs": [],
   "source": [
    "np.random.seed(42)\n",
    "m = 100\n",
    "X = 6 * np.random.rand(m, 1) - 3\n",
    "y = 0.5 * X ** 2 + X + 2 + np.random.randn(m, 1)"
   ]
  },
  {
   "cell_type": "code",
   "execution_count": 20,
   "id": "005ca4e9",
   "metadata": {
    "execution": {
     "iopub.execute_input": "2024-08-06T11:17:55.840291Z",
     "iopub.status.busy": "2024-08-06T11:17:55.839927Z",
     "iopub.status.idle": "2024-08-06T11:17:56.051671Z",
     "shell.execute_reply": "2024-08-06T11:17:56.050516Z"
    },
    "papermill": {
     "duration": 0.233375,
     "end_time": "2024-08-06T11:17:56.054140",
     "exception": false,
     "start_time": "2024-08-06T11:17:55.820765",
     "status": "completed"
    },
    "tags": []
   },
   "outputs": [
    {
     "data": {
      "image/png": "[encoded data removed]",
      "text/plain": [
       "<Figure size 600x400 with 1 Axes>"
      ]
     },
     "metadata": {},
     "output_type": "display_data"
    }
   ],
   "source": [
    "plt.figure(figsize=(6, 4))\n",
    "plt.plot(X, y, \"b.\")\n",
    "plt.xlabel(\"$x_1$\")\n",
    "plt.ylabel(\"$y$\", rotation=0)\n",
    "plt.axis([-3, 3, 0, 10])\n",
    "plt.grid()\n",
    "plt.show()"
   ]
  },
  {
   "cell_type": "code",
   "execution_count": 21,
   "id": "02a511ac",
   "metadata": {
    "execution": {
     "iopub.execute_input": "2024-08-06T11:17:56.091771Z",
     "iopub.status.busy": "2024-08-06T11:17:56.091392Z",
     "iopub.status.idle": "2024-08-06T11:17:56.096240Z",
     "shell.execute_reply": "2024-08-06T11:17:56.095102Z"
    },
    "papermill": {
     "duration": 0.026746,
     "end_time": "2024-08-06T11:17:56.098917",
     "exception": false,
     "start_time": "2024-08-06T11:17:56.072171",
     "status": "completed"
    },
    "tags": []
   },
   "outputs": [],
   "source": [
    "from sklearn.preprocessing import PolynomialFeatures"
   ]
  },
  {
   "cell_type": "code",
   "execution_count": 22,
   "id": "32ce52b7",
   "metadata": {
    "execution": {
     "iopub.execute_input": "2024-08-06T11:17:56.137817Z",
     "iopub.status.busy": "2024-08-06T11:17:56.137452Z",
     "iopub.status.idle": "2024-08-06T11:17:56.145415Z",
     "shell.execute_reply": "2024-08-06T11:17:56.144443Z"
    },
    "papermill": {
     "duration": 0.030166,
     "end_time": "2024-08-06T11:17:56.147732",
     "exception": false,
     "start_time": "2024-08-06T11:17:56.117566",
     "status": "completed"
    },
    "tags": []
   },
   "outputs": [
    {
     "data": {
      "text/plain": [
       "array([-0.75275929])"
      ]
     },
     "execution_count": 22,
     "metadata": {},
     "output_type": "execute_result"
    }
   ],
   "source": [
    "poly_feature = PolynomialFeatures(degree=2, include_bias=False)\n",
    "X_poly = poly_feature.fit_transform(X)\n",
    "X[0]"
   ]
  },
  {
   "cell_type": "code",
   "execution_count": 23,
   "id": "fec97ef1",
   "metadata": {
    "execution": {
     "iopub.execute_input": "2024-08-06T11:17:56.186293Z",
     "iopub.status.busy": "2024-08-06T11:17:56.185904Z",
     "iopub.status.idle": "2024-08-06T11:17:56.200844Z",
     "shell.execute_reply": "2024-08-06T11:17:56.199838Z"
    },
    "papermill": {
     "duration": 0.037393,
     "end_time": "2024-08-06T11:17:56.203283",
     "exception": false,
     "start_time": "2024-08-06T11:17:56.165890",
     "status": "completed"
    },
    "tags": []
   },
   "outputs": [
    {
     "data": {
      "text/html": [
       "<style>#sk-container-id-3 {color: black;background-color: white;}#sk-container-id-3 pre{padding: 0;}#sk-container-id-3 div.sk-toggleable {background-color: white;}#sk-container-id-3 label.sk-toggleable__label {cursor: pointer;display: block;width: 100%;margin-bottom: 0;padding: 0.3em;box-sizing: border-box;text-align: center;}#sk-container-id-3 label.sk-toggleable__label-arrow:before {content: \"▸\";float: left;margin-right: 0.25em;color: #696969;}#sk-container-id-3 label.sk-toggleable__label-arrow:hover:before {color: black;}#sk-container-id-3 div.sk-estimator:hover label.sk-toggleable__label-arrow:before {color: black;}#sk-container-id-3 div.sk-toggleable__content {max-height: 0;max-width: 0;overflow: hidden;text-align: left;background-color: #f0f8ff;}#sk-container-id-3 div.sk-toggleable__content pre {margin: 0.2em;color: black;border-radius: 0.25em;background-color: #f0f8ff;}#sk-container-id-3 input.sk-toggleable__control:checked~div.sk-toggleable__content {max-height: 200px;max-width: 100%;overflow: auto;}#sk-container-id-3 input.sk-toggleable__control:checked~label.sk-toggleable__label-arrow:before {content: \"▾\";}#sk-container-id-3 div.sk-estimator input.sk-toggleable__control:checked~label.sk-toggleable__label {background-color: #d4ebff;}#sk-container-id-3 div.sk-label input.sk-toggleable__control:checked~label.sk-toggleable__label {background-color: #d4ebff;}#sk-container-id-3 input.sk-hidden--visually {border: 0;clip: rect(1px 1px 1px 1px);clip: rect(1px, 1px, 1px, 1px);height: 1px;margin: -1px;overflow: hidden;padding: 0;position: absolute;width: 1px;}#sk-container-id-3 div.sk-estimator {font-family: monospace;background-color: #f0f8ff;border: 1px dotted black;border-radius: 0.25em;box-sizing: border-box;margin-bottom: 0.5em;}#sk-container-id-3 div.sk-estimator:hover {background-color: #d4ebff;}#sk-container-id-3 div.sk-parallel-item::after {content: \"\";width: 100%;border-bottom: 1px solid gray;flex-grow: 1;}#sk-container-id-3 div.sk-label:hover label.sk-toggleable__label {background-color: #d4ebff;}#sk-container-id-3 div.sk-serial::before {content: \"\";position: absolute;border-left: 1px solid gray;box-sizing: border-box;top: 0;bottom: 0;left: 50%;z-index: 0;}#sk-container-id-3 div.sk-serial {display: flex;flex-direction: column;align-items: center;background-color: white;padding-right: 0.2em;padding-left: 0.2em;position: relative;}#sk-container-id-3 div.sk-item {position: relative;z-index: 1;}#sk-container-id-3 div.sk-parallel {display: flex;align-items: stretch;justify-content: center;background-color: white;position: relative;}#sk-container-id-3 div.sk-item::before, #sk-container-id-3 div.sk-parallel-item::before {content: \"\";position: absolute;border-left: 1px solid gray;box-sizing: border-box;top: 0;bottom: 0;left: 50%;z-index: -1;}#sk-container-id-3 div.sk-parallel-item {display: flex;flex-direction: column;z-index: 1;position: relative;background-color: white;}#sk-container-id-3 div.sk-parallel-item:first-child::after {align-self: flex-end;width: 50%;}#sk-container-id-3 div.sk-parallel-item:last-child::after {align-self: flex-start;width: 50%;}#sk-container-id-3 div.sk-parallel-item:only-child::after {width: 0;}#sk-container-id-3 div.sk-dashed-wrapped {border: 1px dashed gray;margin: 0 0.4em 0.5em 0.4em;box-sizing: border-box;padding-bottom: 0.4em;background-color: white;}#sk-container-id-3 div.sk-label label {font-family: monospace;font-weight: bold;display: inline-block;line-height: 1.2em;}#sk-container-id-3 div.sk-label-container {text-align: center;}#sk-container-id-3 div.sk-container {/* jupyter's `normalize.less` sets `[hidden] { display: none; }` but bootstrap.min.css set `[hidden] { display: none !important; }` so we also need the `!important` here to be able to override the default hidden behavior on the sphinx rendered scikit-learn.org. See: https://github.com/scikit-learn/scikit-learn/issues/21755 */display: inline-block !important;position: relative;}#sk-container-id-3 div.sk-text-repr-fallback {display: none;}</style><div id=\"sk-container-id-3\" class=\"sk-top-container\"><div class=\"sk-text-repr-fallback\"><pre>LinearRegression()</pre><b>In a Jupyter environment, please rerun this cell to show the HTML representation or trust the notebook. <br />On GitHub, the HTML representation is unable to render, please try loading this page with nbviewer.org.</b></div><div class=\"sk-container\" hidden><div class=\"sk-item\"><div class=\"sk-estimator sk-toggleable\"><input class=\"sk-toggleable__control sk-hidden--visually\" id=\"sk-estimator-id-3\" type=\"checkbox\" checked><label for=\"sk-estimator-id-3\" class=\"sk-toggleable__label sk-toggleable__label-arrow\">LinearRegression</label><div class=\"sk-toggleable__content\"><pre>LinearRegression()</pre></div></div></div></div></div>"
      ],
      "text/plain": [
       "LinearRegression()"
      ]
     },
     "execution_count": 23,
     "metadata": {},
     "output_type": "execute_result"
    }
   ],
   "source": [
    "lin_reg = LinearRegression()\n",
    "lin_reg.fit(X_poly, y)"
   ]
  },
  {
   "cell_type": "code",
   "execution_count": 24,
   "id": "87c19d66",
   "metadata": {
    "execution": {
     "iopub.execute_input": "2024-08-06T11:17:56.241916Z",
     "iopub.status.busy": "2024-08-06T11:17:56.241520Z",
     "iopub.status.idle": "2024-08-06T11:17:56.248393Z",
     "shell.execute_reply": "2024-08-06T11:17:56.247331Z"
    },
    "papermill": {
     "duration": 0.028914,
     "end_time": "2024-08-06T11:17:56.250688",
     "exception": false,
     "start_time": "2024-08-06T11:17:56.221774",
     "status": "completed"
    },
    "tags": []
   },
   "outputs": [
    {
     "data": {
      "text/plain": [
       "array([1.78134581])"
      ]
     },
     "execution_count": 24,
     "metadata": {},
     "output_type": "execute_result"
    }
   ],
   "source": [
    "lin_reg.intercept_"
   ]
  },
  {
   "cell_type": "code",
   "execution_count": 25,
   "id": "b0019068",
   "metadata": {
    "execution": {
     "iopub.execute_input": "2024-08-06T11:17:56.289645Z",
     "iopub.status.busy": "2024-08-06T11:17:56.288795Z",
     "iopub.status.idle": "2024-08-06T11:17:56.295621Z",
     "shell.execute_reply": "2024-08-06T11:17:56.294543Z"
    },
    "papermill": {
     "duration": 0.028538,
     "end_time": "2024-08-06T11:17:56.297820",
     "exception": false,
     "start_time": "2024-08-06T11:17:56.269282",
     "status": "completed"
    },
    "tags": []
   },
   "outputs": [
    {
     "data": {
      "text/plain": [
       "array([[0.93366893, 0.56456263]])"
      ]
     },
     "execution_count": 25,
     "metadata": {},
     "output_type": "execute_result"
    }
   ],
   "source": [
    "lin_reg.coef_"
   ]
  },
  {
   "cell_type": "code",
   "execution_count": 26,
   "id": "3fbfd025",
   "metadata": {
    "execution": {
     "iopub.execute_input": "2024-08-06T11:17:56.337525Z",
     "iopub.status.busy": "2024-08-06T11:17:56.337113Z",
     "iopub.status.idle": "2024-08-06T11:17:56.540966Z",
     "shell.execute_reply": "2024-08-06T11:17:56.539925Z"
    },
    "papermill": {
     "duration": 0.226354,
     "end_time": "2024-08-06T11:17:56.543355",
     "exception": false,
     "start_time": "2024-08-06T11:17:56.317001",
     "status": "completed"
    },
    "tags": []
   },
   "outputs": [
    {
     "data": {
      "text/plain": [
       "<function matplotlib.pyplot.show(close=None, block=None)>"
      ]
     },
     "execution_count": 26,
     "metadata": {},
     "output_type": "execute_result"
    },
    {
     "data": {
      "image/png": "[encoded data removed]",
      "text/plain": [
       "<Figure size 600x400 with 1 Axes>"
      ]
     },
     "metadata": {},
     "output_type": "display_data"
    }
   ],
   "source": [
    "X_new = np.linspace(-3,3, 100).reshape(100,1)\n",
    "X_new_poly = poly_feature.transform(X_new)\n",
    "y_new = lin_reg.predict(X_new_poly)\n",
    "\n",
    "\n",
    "plt.figure(figsize=(6,4))\n",
    "plt.plot(X,y, \"b.\")\n",
    "plt.plot(X_new,y_new, \"r-\", lw=2, label=\"Prediction\")\n",
    "plt.xlabel(\"$x_1$\")\n",
    "plt.ylabel(\"$y$\", rotation=0)\n",
    "plt.axis([-3,3,0,10])\n",
    "plt.grid()\n",
    "plt.show\n",
    "\n"
   ]
  },
  {
   "cell_type": "code",
   "execution_count": 27,
   "id": "716e88d5",
   "metadata": {
    "execution": {
     "iopub.execute_input": "2024-08-06T11:17:56.582318Z",
     "iopub.status.busy": "2024-08-06T11:17:56.581963Z",
     "iopub.status.idle": "2024-08-06T11:17:56.854117Z",
     "shell.execute_reply": "2024-08-06T11:17:56.853066Z"
    },
    "papermill": {
     "duration": 0.294207,
     "end_time": "2024-08-06T11:17:56.856300",
     "exception": false,
     "start_time": "2024-08-06T11:17:56.562093",
     "status": "completed"
    },
    "tags": []
   },
   "outputs": [
    {
     "data": {
      "image/png": "[encoded data removed]",
      "text/plain": [
       "<Figure size 600x400 with 1 Axes>"
      ]
     },
     "metadata": {},
     "output_type": "display_data"
    }
   ],
   "source": [
    "\n",
    "from sklearn.preprocessing import StandardScaler\n",
    "from sklearn.pipeline import make_pipeline\n",
    "\n",
    "plt.figure(figsize=(6, 4))\n",
    "\n",
    "for style, width, degree in ((\"r-+\", 2, 1), (\"b--\", 2, 2), (\"g-\", 1, 300)):\n",
    "    polybig_features = PolynomialFeatures(degree=degree, include_bias=False)\n",
    "    std_scaler = StandardScaler()\n",
    "    lin_reg = LinearRegression()\n",
    "    polynomial_regression = make_pipeline(polybig_features, std_scaler, lin_reg)\n",
    "    polynomial_regression.fit(X, y)\n",
    "    y_newbig = polynomial_regression.predict(X_new)\n",
    "    label = f\"{degree} degree{'s' if degree > 1 else ''}\"\n",
    "    plt.plot(X_new, y_newbig, style, label=label, linewidth=width)\n",
    "\n",
    "plt.plot(X, y, \"b.\", linewidth=3)\n",
    "plt.legend(loc=\"upper left\")\n",
    "plt.xlabel(\"$x_1$\")\n",
    "plt.ylabel(\"$y$\", rotation=0)\n",
    "plt.axis([-3, 3, 0, 10])\n",
    "plt.grid()\n",
    "plt.show()"
   ]
  },
  {
   "cell_type": "code",
   "execution_count": 28,
   "id": "7c07c468",
   "metadata": {
    "execution": {
     "iopub.execute_input": "2024-08-06T11:17:56.897261Z",
     "iopub.status.busy": "2024-08-06T11:17:56.896843Z",
     "iopub.status.idle": "2024-08-06T11:17:56.902037Z",
     "shell.execute_reply": "2024-08-06T11:17:56.900546Z"
    },
    "papermill": {
     "duration": 0.028238,
     "end_time": "2024-08-06T11:17:56.904210",
     "exception": false,
     "start_time": "2024-08-06T11:17:56.875972",
     "status": "completed"
    },
    "tags": []
   },
   "outputs": [],
   "source": [
    "from sklearn.model_selection import learning_curve"
   ]
  },
  {
   "cell_type": "code",
   "execution_count": 29,
   "id": "06161cfb",
   "metadata": {
    "execution": {
     "iopub.execute_input": "2024-08-06T11:17:56.946279Z",
     "iopub.status.busy": "2024-08-06T11:17:56.945890Z",
     "iopub.status.idle": "2024-08-06T11:17:57.250725Z",
     "shell.execute_reply": "2024-08-06T11:17:57.249594Z"
    },
    "papermill": {
     "duration": 0.328735,
     "end_time": "2024-08-06T11:17:57.253183",
     "exception": false,
     "start_time": "2024-08-06T11:17:56.924448",
     "status": "completed"
    },
    "tags": []
   },
   "outputs": [],
   "source": [
    "train_sizes, train_scores, valid_scores = learning_curve(\n",
    "    LinearRegression(), X, y, train_sizes=np.linspace(0.01, 1.0, 40), cv=5,\n",
    "    scoring=\"neg_root_mean_squared_error\")\n",
    "train_errors = -train_scores.mean(axis=1)\n",
    "valid_errors = -valid_scores.mean(axis=1)"
   ]
  },
  {
   "cell_type": "code",
   "execution_count": 30,
   "id": "225c49b2",
   "metadata": {
    "execution": {
     "iopub.execute_input": "2024-08-06T11:17:57.294397Z",
     "iopub.status.busy": "2024-08-06T11:17:57.294038Z",
     "iopub.status.idle": "2024-08-06T11:17:57.536552Z",
     "shell.execute_reply": "2024-08-06T11:17:57.535465Z"
    },
    "papermill": {
     "duration": 0.265819,
     "end_time": "2024-08-06T11:17:57.538775",
     "exception": false,
     "start_time": "2024-08-06T11:17:57.272956",
     "status": "completed"
    },
    "tags": []
   },
   "outputs": [
    {
     "data": {
      "image/png": "[encoded data removed]",
      "text/plain": [
       "<Figure size 600x400 with 1 Axes>"
      ]
     },
     "metadata": {},
     "output_type": "display_data"
    }
   ],
   "source": [
    "plt.figure(figsize=(6, 4))  # extra code – not needed, just formatting\n",
    "plt.plot(train_sizes, train_errors, \"r-+\", linewidth=2, label=\"train\")\n",
    "plt.plot(train_sizes, valid_errors, \"b-\", linewidth=3, label=\"valid\")\n",
    "\n",
    "# extra code – beautifies and saves Figure 4–15\n",
    "plt.xlabel(\"Training set size\")\n",
    "plt.ylabel(\"RMSE\")\n",
    "plt.grid()\n",
    "plt.legend(loc=\"upper right\")\n",
    "plt.axis([0, 80, 0, 2.5])\n",
    "\n",
    "plt.show()"
   ]
  },
  {
   "cell_type": "code",
   "execution_count": 31,
   "id": "f5b3ca10",
   "metadata": {
    "execution": {
     "iopub.execute_input": "2024-08-06T11:17:57.581816Z",
     "iopub.status.busy": "2024-08-06T11:17:57.581466Z",
     "iopub.status.idle": "2024-08-06T11:17:57.586115Z",
     "shell.execute_reply": "2024-08-06T11:17:57.585142Z"
    },
    "papermill": {
     "duration": 0.028805,
     "end_time": "2024-08-06T11:17:57.588366",
     "exception": false,
     "start_time": "2024-08-06T11:17:57.559561",
     "status": "completed"
    },
    "tags": []
   },
   "outputs": [],
   "source": [
    "from sklearn.pipeline import make_pipeline\n"
   ]
  },
  {
   "cell_type": "code",
   "execution_count": 32,
   "id": "16776a95",
   "metadata": {
    "execution": {
     "iopub.execute_input": "2024-08-06T11:17:57.632387Z",
     "iopub.status.busy": "2024-08-06T11:17:57.631463Z",
     "iopub.status.idle": "2024-08-06T11:17:58.200071Z",
     "shell.execute_reply": "2024-08-06T11:17:58.199085Z"
    },
    "papermill": {
     "duration": 0.593683,
     "end_time": "2024-08-06T11:17:58.202593",
     "exception": false,
     "start_time": "2024-08-06T11:17:57.608910",
     "status": "completed"
    },
    "tags": []
   },
   "outputs": [],
   "source": [
    "\n",
    "polynomial_regression = make_pipeline(\n",
    "    PolynomialFeatures(degree=10, include_bias=False),\n",
    "    LinearRegression())\n",
    "\n",
    "train_sizes, train_scores, valid_scores = learning_curve(\n",
    "    polynomial_regression, X, y, train_sizes=np.linspace(0.01, 1.0, 40), cv=5,\n",
    "    scoring=\"neg_root_mean_squared_error\")"
   ]
  },
  {
   "cell_type": "code",
   "execution_count": 33,
   "id": "84ba898b",
   "metadata": {
    "execution": {
     "iopub.execute_input": "2024-08-06T11:17:58.246688Z",
     "iopub.status.busy": "2024-08-06T11:17:58.246306Z",
     "iopub.status.idle": "2024-08-06T11:17:58.492828Z",
     "shell.execute_reply": "2024-08-06T11:17:58.491855Z"
    },
    "papermill": {
     "duration": 0.272364,
     "end_time": "2024-08-06T11:17:58.495544",
     "exception": false,
     "start_time": "2024-08-06T11:17:58.223180",
     "status": "completed"
    },
    "tags": []
   },
   "outputs": [
    {
     "data": {
      "image/png": "[encoded data removed]",
      "text/plain": [
       "<Figure size 600x400 with 1 Axes>"
      ]
     },
     "metadata": {},
     "output_type": "display_data"
    }
   ],
   "source": [
    "# extra code – generates and saves Figure 4–16\n",
    "\n",
    "train_errors = -train_scores.mean(axis=1)\n",
    "valid_errors = -valid_scores.mean(axis=1)\n",
    "\n",
    "plt.figure(figsize=(6, 4))\n",
    "plt.plot(train_sizes, train_errors, \"r-+\", linewidth=2, label=\"train\")\n",
    "plt.plot(train_sizes, valid_errors, \"b-\", linewidth=3, label=\"valid\")\n",
    "plt.legend(loc=\"upper right\")\n",
    "plt.xlabel(\"Training set size\")\n",
    "plt.ylabel(\"RMSE\")\n",
    "plt.grid()\n",
    "plt.axis([0, 80, 0, 2.5])\n",
    "\n",
    "plt.show()"
   ]
  },
  {
   "cell_type": "code",
   "execution_count": 34,
   "id": "c2a1136e",
   "metadata": {
    "execution": {
     "iopub.execute_input": "2024-08-06T11:17:58.538499Z",
     "iopub.status.busy": "2024-08-06T11:17:58.538111Z",
     "iopub.status.idle": "2024-08-06T11:17:58.542766Z",
     "shell.execute_reply": "2024-08-06T11:17:58.541752Z"
    },
    "papermill": {
     "duration": 0.028786,
     "end_time": "2024-08-06T11:17:58.545043",
     "exception": false,
     "start_time": "2024-08-06T11:17:58.516257",
     "status": "completed"
    },
    "tags": []
   },
   "outputs": [],
   "source": [
    "from sklearn.linear_model import Ridge"
   ]
  },
  {
   "cell_type": "code",
   "execution_count": 35,
   "id": "5c948a03",
   "metadata": {
    "execution": {
     "iopub.execute_input": "2024-08-06T11:17:58.588606Z",
     "iopub.status.busy": "2024-08-06T11:17:58.587785Z",
     "iopub.status.idle": "2024-08-06T11:17:58.601358Z",
     "shell.execute_reply": "2024-08-06T11:17:58.600348Z"
    },
    "papermill": {
     "duration": 0.037696,
     "end_time": "2024-08-06T11:17:58.603485",
     "exception": false,
     "start_time": "2024-08-06T11:17:58.565789",
     "status": "completed"
    },
    "tags": []
   },
   "outputs": [
    {
     "data": {
      "text/html": [
       "<style>#sk-container-id-4 {color: black;background-color: white;}#sk-container-id-4 pre{padding: 0;}#sk-container-id-4 div.sk-toggleable {background-color: white;}#sk-container-id-4 label.sk-toggleable__label {cursor: pointer;display: block;width: 100%;margin-bottom: 0;padding: 0.3em;box-sizing: border-box;text-align: center;}#sk-container-id-4 label.sk-toggleable__label-arrow:before {content: \"▸\";float: left;margin-right: 0.25em;color: #696969;}#sk-container-id-4 label.sk-toggleable__label-arrow:hover:before {color: black;}#sk-container-id-4 div.sk-estimator:hover label.sk-toggleable__label-arrow:before {color: black;}#sk-container-id-4 div.sk-toggleable__content {max-height: 0;max-width: 0;overflow: hidden;text-align: left;background-color: #f0f8ff;}#sk-container-id-4 div.sk-toggleable__content pre {margin: 0.2em;color: black;border-radius: 0.25em;background-color: #f0f8ff;}#sk-container-id-4 input.sk-toggleable__control:checked~div.sk-toggleable__content {max-height: 200px;max-width: 100%;overflow: auto;}#sk-container-id-4 input.sk-toggleable__control:checked~label.sk-toggleable__label-arrow:before {content: \"▾\";}#sk-container-id-4 div.sk-estimator input.sk-toggleable__control:checked~label.sk-toggleable__label {background-color: #d4ebff;}#sk-container-id-4 div.sk-label input.sk-toggleable__control:checked~label.sk-toggleable__label {background-color: #d4ebff;}#sk-container-id-4 input.sk-hidden--visually {border: 0;clip: rect(1px 1px 1px 1px);clip: rect(1px, 1px, 1px, 1px);height: 1px;margin: -1px;overflow: hidden;padding: 0;position: absolute;width: 1px;}#sk-container-id-4 div.sk-estimator {font-family: monospace;background-color: #f0f8ff;border: 1px dotted black;border-radius: 0.25em;box-sizing: border-box;margin-bottom: 0.5em;}#sk-container-id-4 div.sk-estimator:hover {background-color: #d4ebff;}#sk-container-id-4 div.sk-parallel-item::after {content: \"\";width: 100%;border-bottom: 1px solid gray;flex-grow: 1;}#sk-container-id-4 div.sk-label:hover label.sk-toggleable__label {background-color: #d4ebff;}#sk-container-id-4 div.sk-serial::before {content: \"\";position: absolute;border-left: 1px solid gray;box-sizing: border-box;top: 0;bottom: 0;left: 50%;z-index: 0;}#sk-container-id-4 div.sk-serial {display: flex;flex-direction: column;align-items: center;background-color: white;padding-right: 0.2em;padding-left: 0.2em;position: relative;}#sk-container-id-4 div.sk-item {position: relative;z-index: 1;}#sk-container-id-4 div.sk-parallel {display: flex;align-items: stretch;justify-content: center;background-color: white;position: relative;}#sk-container-id-4 div.sk-item::before, #sk-container-id-4 div.sk-parallel-item::before {content: \"\";position: absolute;border-left: 1px solid gray;box-sizing: border-box;top: 0;bottom: 0;left: 50%;z-index: -1;}#sk-container-id-4 div.sk-parallel-item {display: flex;flex-direction: column;z-index: 1;position: relative;background-color: white;}#sk-container-id-4 div.sk-parallel-item:first-child::after {align-self: flex-end;width: 50%;}#sk-container-id-4 div.sk-parallel-item:last-child::after {align-self: flex-start;width: 50%;}#sk-container-id-4 div.sk-parallel-item:only-child::after {width: 0;}#sk-container-id-4 div.sk-dashed-wrapped {border: 1px dashed gray;margin: 0 0.4em 0.5em 0.4em;box-sizing: border-box;padding-bottom: 0.4em;background-color: white;}#sk-container-id-4 div.sk-label label {font-family: monospace;font-weight: bold;display: inline-block;line-height: 1.2em;}#sk-container-id-4 div.sk-label-container {text-align: center;}#sk-container-id-4 div.sk-container {/* jupyter's `normalize.less` sets `[hidden] { display: none; }` but bootstrap.min.css set `[hidden] { display: none !important; }` so we also need the `!important` here to be able to override the default hidden behavior on the sphinx rendered scikit-learn.org. See: https://github.com/scikit-learn/scikit-learn/issues/21755 */display: inline-block !important;position: relative;}#sk-container-id-4 div.sk-text-repr-fallback {display: none;}</style><div id=\"sk-container-id-4\" class=\"sk-top-container\"><div class=\"sk-text-repr-fallback\"><pre>Ridge(alpha=0.1, solver=&#x27;cholesky&#x27;)</pre><b>In a Jupyter environment, please rerun this cell to show the HTML representation or trust the notebook. <br />On GitHub, the HTML representation is unable to render, please try loading this page with nbviewer.org.</b></div><div class=\"sk-container\" hidden><div class=\"sk-item\"><div class=\"sk-estimator sk-toggleable\"><input class=\"sk-toggleable__control sk-hidden--visually\" id=\"sk-estimator-id-4\" type=\"checkbox\" checked><label for=\"sk-estimator-id-4\" class=\"sk-toggleable__label sk-toggleable__label-arrow\">Ridge</label><div class=\"sk-toggleable__content\"><pre>Ridge(alpha=0.1, solver=&#x27;cholesky&#x27;)</pre></div></div></div></div></div>"
      ],
      "text/plain": [
       "Ridge(alpha=0.1, solver='cholesky')"
      ]
     },
     "execution_count": 35,
     "metadata": {},
     "output_type": "execute_result"
    }
   ],
   "source": [
    "ridge_reg = Ridge(alpha=0.1, solver = \"cholesky\")\n",
    "ridge_reg.fit(X,y)"
   ]
  },
  {
   "cell_type": "code",
   "execution_count": 36,
   "id": "f183ac72",
   "metadata": {
    "execution": {
     "iopub.execute_input": "2024-08-06T11:17:58.648216Z",
     "iopub.status.busy": "2024-08-06T11:17:58.647309Z",
     "iopub.status.idle": "2024-08-06T11:17:58.654314Z",
     "shell.execute_reply": "2024-08-06T11:17:58.653347Z"
    },
    "papermill": {
     "duration": 0.03142,
     "end_time": "2024-08-06T11:17:58.656409",
     "exception": false,
     "start_time": "2024-08-06T11:17:58.624989",
     "status": "completed"
    },
    "tags": []
   },
   "outputs": [
    {
     "data": {
      "text/plain": [
       "array([[4.82899748]])"
      ]
     },
     "execution_count": 36,
     "metadata": {},
     "output_type": "execute_result"
    }
   ],
   "source": [
    "ridge_reg.predict([[1.5]])\n"
   ]
  },
  {
   "cell_type": "markdown",
   "id": "cebf4404",
   "metadata": {
    "papermill": {
     "duration": 0.020676,
     "end_time": "2024-08-06T11:17:58.698189",
     "exception": false,
     "start_time": "2024-08-06T11:17:58.677513",
     "status": "completed"
    },
    "tags": []
   },
   "source": [
    "# Lasso Regression"
   ]
  },
  {
   "cell_type": "code",
   "execution_count": 37,
   "id": "629d9a75",
   "metadata": {
    "execution": {
     "iopub.execute_input": "2024-08-06T11:17:58.741192Z",
     "iopub.status.busy": "2024-08-06T11:17:58.740824Z",
     "iopub.status.idle": "2024-08-06T11:17:58.745560Z",
     "shell.execute_reply": "2024-08-06T11:17:58.744562Z"
    },
    "papermill": {
     "duration": 0.028731,
     "end_time": "2024-08-06T11:17:58.747699",
     "exception": false,
     "start_time": "2024-08-06T11:17:58.718968",
     "status": "completed"
    },
    "tags": []
   },
   "outputs": [],
   "source": [
    "from sklearn.linear_model import Lasso"
   ]
  },
  {
   "cell_type": "code",
   "execution_count": 38,
   "id": "36d943a6",
   "metadata": {
    "execution": {
     "iopub.execute_input": "2024-08-06T11:17:58.793990Z",
     "iopub.status.busy": "2024-08-06T11:17:58.793593Z",
     "iopub.status.idle": "2024-08-06T11:17:58.804404Z",
     "shell.execute_reply": "2024-08-06T11:17:58.803334Z"
    },
    "papermill": {
     "duration": 0.035503,
     "end_time": "2024-08-06T11:17:58.806492",
     "exception": false,
     "start_time": "2024-08-06T11:17:58.770989",
     "status": "completed"
    },
    "tags": []
   },
   "outputs": [
    {
     "data": {
      "text/html": [
       "<style>#sk-container-id-5 {color: black;background-color: white;}#sk-container-id-5 pre{padding: 0;}#sk-container-id-5 div.sk-toggleable {background-color: white;}#sk-container-id-5 label.sk-toggleable__label {cursor: pointer;display: block;width: 100%;margin-bottom: 0;padding: 0.3em;box-sizing: border-box;text-align: center;}#sk-container-id-5 label.sk-toggleable__label-arrow:before {content: \"▸\";float: left;margin-right: 0.25em;color: #696969;}#sk-container-id-5 label.sk-toggleable__label-arrow:hover:before {color: black;}#sk-container-id-5 div.sk-estimator:hover label.sk-toggleable__label-arrow:before {color: black;}#sk-container-id-5 div.sk-toggleable__content {max-height: 0;max-width: 0;overflow: hidden;text-align: left;background-color: #f0f8ff;}#sk-container-id-5 div.sk-toggleable__content pre {margin: 0.2em;color: black;border-radius: 0.25em;background-color: #f0f8ff;}#sk-container-id-5 input.sk-toggleable__control:checked~div.sk-toggleable__content {max-height: 200px;max-width: 100%;overflow: auto;}#sk-container-id-5 input.sk-toggleable__control:checked~label.sk-toggleable__label-arrow:before {content: \"▾\";}#sk-container-id-5 div.sk-estimator input.sk-toggleable__control:checked~label.sk-toggleable__label {background-color: #d4ebff;}#sk-container-id-5 div.sk-label input.sk-toggleable__control:checked~label.sk-toggleable__label {background-color: #d4ebff;}#sk-container-id-5 input.sk-hidden--visually {border: 0;clip: rect(1px 1px 1px 1px);clip: rect(1px, 1px, 1px, 1px);height: 1px;margin: -1px;overflow: hidden;padding: 0;position: absolute;width: 1px;}#sk-container-id-5 div.sk-estimator {font-family: monospace;background-color: #f0f8ff;border: 1px dotted black;border-radius: 0.25em;box-sizing: border-box;margin-bottom: 0.5em;}#sk-container-id-5 div.sk-estimator:hover {background-color: #d4ebff;}#sk-container-id-5 div.sk-parallel-item::after {content: \"\";width: 100%;border-bottom: 1px solid gray;flex-grow: 1;}#sk-container-id-5 div.sk-label:hover label.sk-toggleable__label {background-color: #d4ebff;}#sk-container-id-5 div.sk-serial::before {content: \"\";position: absolute;border-left: 1px solid gray;box-sizing: border-box;top: 0;bottom: 0;left: 50%;z-index: 0;}#sk-container-id-5 div.sk-serial {display: flex;flex-direction: column;align-items: center;background-color: white;padding-right: 0.2em;padding-left: 0.2em;position: relative;}#sk-container-id-5 div.sk-item {position: relative;z-index: 1;}#sk-container-id-5 div.sk-parallel {display: flex;align-items: stretch;justify-content: center;background-color: white;position: relative;}#sk-container-id-5 div.sk-item::before, #sk-container-id-5 div.sk-parallel-item::before {content: \"\";position: absolute;border-left: 1px solid gray;box-sizing: border-box;top: 0;bottom: 0;left: 50%;z-index: -1;}#sk-container-id-5 div.sk-parallel-item {display: flex;flex-direction: column;z-index: 1;position: relative;background-color: white;}#sk-container-id-5 div.sk-parallel-item:first-child::after {align-self: flex-end;width: 50%;}#sk-container-id-5 div.sk-parallel-item:last-child::after {align-self: flex-start;width: 50%;}#sk-container-id-5 div.sk-parallel-item:only-child::after {width: 0;}#sk-container-id-5 div.sk-dashed-wrapped {border: 1px dashed gray;margin: 0 0.4em 0.5em 0.4em;box-sizing: border-box;padding-bottom: 0.4em;background-color: white;}#sk-container-id-5 div.sk-label label {font-family: monospace;font-weight: bold;display: inline-block;line-height: 1.2em;}#sk-container-id-5 div.sk-label-container {text-align: center;}#sk-container-id-5 div.sk-container {/* jupyter's `normalize.less` sets `[hidden] { display: none; }` but bootstrap.min.css set `[hidden] { display: none !important; }` so we also need the `!important` here to be able to override the default hidden behavior on the sphinx rendered scikit-learn.org. See: https://github.com/scikit-learn/scikit-learn/issues/21755 */display: inline-block !important;position: relative;}#sk-container-id-5 div.sk-text-repr-fallback {display: none;}</style><div id=\"sk-container-id-5\" class=\"sk-top-container\"><div class=\"sk-text-repr-fallback\"><pre>Lasso(alpha=0.1)</pre><b>In a Jupyter environment, please rerun this cell to show the HTML representation or trust the notebook. <br />On GitHub, the HTML representation is unable to render, please try loading this page with nbviewer.org.</b></div><div class=\"sk-container\" hidden><div class=\"sk-item\"><div class=\"sk-estimator sk-toggleable\"><input class=\"sk-toggleable__control sk-hidden--visually\" id=\"sk-estimator-id-5\" type=\"checkbox\" checked><label for=\"sk-estimator-id-5\" class=\"sk-toggleable__label sk-toggleable__label-arrow\">Lasso</label><div class=\"sk-toggleable__content\"><pre>Lasso(alpha=0.1)</pre></div></div></div></div></div>"
      ],
      "text/plain": [
       "Lasso(alpha=0.1)"
      ]
     },
     "execution_count": 38,
     "metadata": {},
     "output_type": "execute_result"
    }
   ],
   "source": [
    "lasso_reg = Lasso(alpha=0.1)\n",
    "lasso_reg.fit(X, y)\n"
   ]
  },
  {
   "cell_type": "code",
   "execution_count": 39,
   "id": "180d6343",
   "metadata": {
    "execution": {
     "iopub.execute_input": "2024-08-06T11:17:58.850522Z",
     "iopub.status.busy": "2024-08-06T11:17:58.850078Z",
     "iopub.status.idle": "2024-08-06T11:17:58.857341Z",
     "shell.execute_reply": "2024-08-06T11:17:58.856283Z"
    },
    "papermill": {
     "duration": 0.031565,
     "end_time": "2024-08-06T11:17:58.859375",
     "exception": false,
     "start_time": "2024-08-06T11:17:58.827810",
     "status": "completed"
    },
    "tags": []
   },
   "outputs": [
    {
     "data": {
      "text/plain": [
       "array([4.77621741])"
      ]
     },
     "execution_count": 39,
     "metadata": {},
     "output_type": "execute_result"
    }
   ],
   "source": [
    "lasso_reg.predict([[1.5]])"
   ]
  },
  {
   "cell_type": "markdown",
   "id": "ca7b1f8c",
   "metadata": {
    "papermill": {
     "duration": 0.021303,
     "end_time": "2024-08-06T11:17:58.901677",
     "exception": false,
     "start_time": "2024-08-06T11:17:58.880374",
     "status": "completed"
    },
    "tags": []
   },
   "source": [
    "# Elastic Regression"
   ]
  },
  {
   "cell_type": "code",
   "execution_count": 40,
   "id": "3199f5e2",
   "metadata": {
    "execution": {
     "iopub.execute_input": "2024-08-06T11:17:58.945492Z",
     "iopub.status.busy": "2024-08-06T11:17:58.945107Z",
     "iopub.status.idle": "2024-08-06T11:17:58.949680Z",
     "shell.execute_reply": "2024-08-06T11:17:58.948672Z"
    },
    "papermill": {
     "duration": 0.029062,
     "end_time": "2024-08-06T11:17:58.951832",
     "exception": false,
     "start_time": "2024-08-06T11:17:58.922770",
     "status": "completed"
    },
    "tags": []
   },
   "outputs": [],
   "source": [
    "from sklearn.linear_model import ElasticNet"
   ]
  },
  {
   "cell_type": "code",
   "execution_count": 41,
   "id": "ba049738",
   "metadata": {
    "execution": {
     "iopub.execute_input": "2024-08-06T11:17:58.996764Z",
     "iopub.status.busy": "2024-08-06T11:17:58.996419Z",
     "iopub.status.idle": "2024-08-06T11:17:59.005351Z",
     "shell.execute_reply": "2024-08-06T11:17:59.004346Z"
    },
    "papermill": {
     "duration": 0.034234,
     "end_time": "2024-08-06T11:17:59.007484",
     "exception": false,
     "start_time": "2024-08-06T11:17:58.973250",
     "status": "completed"
    },
    "tags": []
   },
   "outputs": [
    {
     "data": {
      "text/html": [
       "<style>#sk-container-id-6 {color: black;background-color: white;}#sk-container-id-6 pre{padding: 0;}#sk-container-id-6 div.sk-toggleable {background-color: white;}#sk-container-id-6 label.sk-toggleable__label {cursor: pointer;display: block;width: 100%;margin-bottom: 0;padding: 0.3em;box-sizing: border-box;text-align: center;}#sk-container-id-6 label.sk-toggleable__label-arrow:before {content: \"▸\";float: left;margin-right: 0.25em;color: #696969;}#sk-container-id-6 label.sk-toggleable__label-arrow:hover:before {color: black;}#sk-container-id-6 div.sk-estimator:hover label.sk-toggleable__label-arrow:before {color: black;}#sk-container-id-6 div.sk-toggleable__content {max-height: 0;max-width: 0;overflow: hidden;text-align: left;background-color: #f0f8ff;}#sk-container-id-6 div.sk-toggleable__content pre {margin: 0.2em;color: black;border-radius: 0.25em;background-color: #f0f8ff;}#sk-container-id-6 input.sk-toggleable__control:checked~div.sk-toggleable__content {max-height: 200px;max-width: 100%;overflow: auto;}#sk-container-id-6 input.sk-toggleable__control:checked~label.sk-toggleable__label-arrow:before {content: \"▾\";}#sk-container-id-6 div.sk-estimator input.sk-toggleable__control:checked~label.sk-toggleable__label {background-color: #d4ebff;}#sk-container-id-6 div.sk-label input.sk-toggleable__control:checked~label.sk-toggleable__label {background-color: #d4ebff;}#sk-container-id-6 input.sk-hidden--visually {border: 0;clip: rect(1px 1px 1px 1px);clip: rect(1px, 1px, 1px, 1px);height: 1px;margin: -1px;overflow: hidden;padding: 0;position: absolute;width: 1px;}#sk-container-id-6 div.sk-estimator {font-family: monospace;background-color: #f0f8ff;border: 1px dotted black;border-radius: 0.25em;box-sizing: border-box;margin-bottom: 0.5em;}#sk-container-id-6 div.sk-estimator:hover {background-color: #d4ebff;}#sk-container-id-6 div.sk-parallel-item::after {content: \"\";width: 100%;border-bottom: 1px solid gray;flex-grow: 1;}#sk-container-id-6 div.sk-label:hover label.sk-toggleable__label {background-color: #d4ebff;}#sk-container-id-6 div.sk-serial::before {content: \"\";position: absolute;border-left: 1px solid gray;box-sizing: border-box;top: 0;bottom: 0;left: 50%;z-index: 0;}#sk-container-id-6 div.sk-serial {display: flex;flex-direction: column;align-items: center;background-color: white;padding-right: 0.2em;padding-left: 0.2em;position: relative;}#sk-container-id-6 div.sk-item {position: relative;z-index: 1;}#sk-container-id-6 div.sk-parallel {display: flex;align-items: stretch;justify-content: center;background-color: white;position: relative;}#sk-container-id-6 div.sk-item::before, #sk-container-id-6 div.sk-parallel-item::before {content: \"\";position: absolute;border-left: 1px solid gray;box-sizing: border-box;top: 0;bottom: 0;left: 50%;z-index: -1;}#sk-container-id-6 div.sk-parallel-item {display: flex;flex-direction: column;z-index: 1;position: relative;background-color: white;}#sk-container-id-6 div.sk-parallel-item:first-child::after {align-self: flex-end;width: 50%;}#sk-container-id-6 div.sk-parallel-item:last-child::after {align-self: flex-start;width: 50%;}#sk-container-id-6 div.sk-parallel-item:only-child::after {width: 0;}#sk-container-id-6 div.sk-dashed-wrapped {border: 1px dashed gray;margin: 0 0.4em 0.5em 0.4em;box-sizing: border-box;padding-bottom: 0.4em;background-color: white;}#sk-container-id-6 div.sk-label label {font-family: monospace;font-weight: bold;display: inline-block;line-height: 1.2em;}#sk-container-id-6 div.sk-label-container {text-align: center;}#sk-container-id-6 div.sk-container {/* jupyter's `normalize.less` sets `[hidden] { display: none; }` but bootstrap.min.css set `[hidden] { display: none !important; }` so we also need the `!important` here to be able to override the default hidden behavior on the sphinx rendered scikit-learn.org. See: https://github.com/scikit-learn/scikit-learn/issues/21755 */display: inline-block !important;position: relative;}#sk-container-id-6 div.sk-text-repr-fallback {display: none;}</style><div id=\"sk-container-id-6\" class=\"sk-top-container\"><div class=\"sk-text-repr-fallback\"><pre>ElasticNet(alpha=0.2)</pre><b>In a Jupyter environment, please rerun this cell to show the HTML representation or trust the notebook. <br />On GitHub, the HTML representation is unable to render, please try loading this page with nbviewer.org.</b></div><div class=\"sk-container\" hidden><div class=\"sk-item\"><div class=\"sk-estimator sk-toggleable\"><input class=\"sk-toggleable__control sk-hidden--visually\" id=\"sk-estimator-id-6\" type=\"checkbox\" checked><label for=\"sk-estimator-id-6\" class=\"sk-toggleable__label sk-toggleable__label-arrow\">ElasticNet</label><div class=\"sk-toggleable__content\"><pre>ElasticNet(alpha=0.2)</pre></div></div></div></div></div>"
      ],
      "text/plain": [
       "ElasticNet(alpha=0.2)"
      ]
     },
     "execution_count": 41,
     "metadata": {},
     "output_type": "execute_result"
    }
   ],
   "source": [
    "elastic_net = ElasticNet(alpha=0.2, l1_ratio=0.5)\n",
    "elastic_net.fit(X,y)\n"
   ]
  },
  {
   "cell_type": "code",
   "execution_count": 42,
   "id": "d56c5e78",
   "metadata": {
    "execution": {
     "iopub.execute_input": "2024-08-06T11:17:59.052062Z",
     "iopub.status.busy": "2024-08-06T11:17:59.051387Z",
     "iopub.status.idle": "2024-08-06T11:17:59.058684Z",
     "shell.execute_reply": "2024-08-06T11:17:59.057349Z"
    },
    "papermill": {
     "duration": 0.032338,
     "end_time": "2024-08-06T11:17:59.061059",
     "exception": false,
     "start_time": "2024-08-06T11:17:59.028721",
     "status": "completed"
    },
    "tags": []
   },
   "outputs": [
    {
     "data": {
      "text/plain": [
       "array([4.73432801])"
      ]
     },
     "execution_count": 42,
     "metadata": {},
     "output_type": "execute_result"
    }
   ],
   "source": [
    "    elastic_net.predict([[1.5]])"
   ]
  },
  {
   "cell_type": "code",
   "execution_count": 43,
   "id": "0eefc8db",
   "metadata": {
    "execution": {
     "iopub.execute_input": "2024-08-06T11:17:59.105985Z",
     "iopub.status.busy": "2024-08-06T11:17:59.105618Z",
     "iopub.status.idle": "2024-08-06T11:17:59.110282Z",
     "shell.execute_reply": "2024-08-06T11:17:59.109184Z"
    },
    "papermill": {
     "duration": 0.02935,
     "end_time": "2024-08-06T11:17:59.112319",
     "exception": false,
     "start_time": "2024-08-06T11:17:59.082969",
     "status": "completed"
    },
    "tags": []
   },
   "outputs": [],
   "source": [
    "from copy import deepcopy\n",
    "from sklearn.metrics import mean_squared_error\n",
    "from sklearn.preprocessing import StandardScaler\n"
   ]
  },
  {
   "cell_type": "code",
   "execution_count": 44,
   "id": "05b81a10",
   "metadata": {
    "execution": {
     "iopub.execute_input": "2024-08-06T11:17:59.156910Z",
     "iopub.status.busy": "2024-08-06T11:17:59.156544Z",
     "iopub.status.idle": "2024-08-06T11:18:00.064750Z",
     "shell.execute_reply": "2024-08-06T11:18:00.063726Z"
    },
    "papermill": {
     "duration": 0.933515,
     "end_time": "2024-08-06T11:18:00.067283",
     "exception": false,
     "start_time": "2024-08-06T11:17:59.133768",
     "status": "completed"
    },
    "tags": []
   },
   "outputs": [
    {
     "data": {
      "image/png": "[encoded data removed]",
      "text/plain": [
       "<Figure size 600x400 with 1 Axes>"
      ]
     },
     "metadata": {},
     "output_type": "display_data"
    }
   ],
   "source": [
    "from copy import deepcopy\n",
    "from sklearn.metrics import mean_squared_error\n",
    "from sklearn.preprocessing import StandardScaler\n",
    "\n",
    "# extra code – creates the same quadratic dataset as earlier and splits it\n",
    "np.random.seed(42)\n",
    "m = 100\n",
    "X = 6 * np.random.rand(m, 1) - 3\n",
    "y = 0.5 * X ** 2 + X + 2 + np.random.randn(m, 1)\n",
    "X_train, y_train = X[: m // 2], y[: m // 2, 0]\n",
    "X_valid, y_valid = X[m // 2 :], y[m // 2 :, 0]\n",
    "\n",
    "preprocessing = make_pipeline(PolynomialFeatures(degree=90, include_bias=False),\n",
    "                              StandardScaler())\n",
    "X_train_prep = preprocessing.fit_transform(X_train)\n",
    "X_valid_prep = preprocessing.transform(X_valid)\n",
    "sgd_reg = SGDRegressor(penalty=None, eta0=0.002, random_state=42)\n",
    "n_epochs = 500\n",
    "best_valid_rmse = float('inf')\n",
    "train_errors, val_errors = [], []  # extra code – it's for the figure below\n",
    "\n",
    "for epoch in range(n_epochs):\n",
    "    sgd_reg.partial_fit(X_train_prep, y_train)\n",
    "    y_valid_predict = sgd_reg.predict(X_valid_prep)\n",
    "    val_error = mean_squared_error(y_valid, y_valid_predict, squared=False)\n",
    "    if val_error < best_valid_rmse:\n",
    "        best_valid_rmse = val_error\n",
    "        best_model = deepcopy(sgd_reg)\n",
    "\n",
    "    # extra code – we evaluate the train error and save it for the figure\n",
    "    y_train_predict = sgd_reg.predict(X_train_prep)\n",
    "    train_error = mean_squared_error(y_train, y_train_predict, squared=False)\n",
    "    val_errors.append(val_error)\n",
    "    train_errors.append(train_error)\n",
    "\n",
    "# extra code – this section generates and saves Figure 4–20\n",
    "best_epoch = np.argmin(val_errors)\n",
    "plt.figure(figsize=(6, 4))\n",
    "plt.annotate('Best model',\n",
    "             xy=(best_epoch, best_valid_rmse),\n",
    "             xytext=(best_epoch, best_valid_rmse + 0.5),\n",
    "             ha=\"center\",\n",
    "             arrowprops=dict(facecolor='black', shrink=0.05))\n",
    "plt.plot([0, n_epochs], [best_valid_rmse, best_valid_rmse], \"k:\", linewidth=2)\n",
    "plt.plot(val_errors, \"b-\", linewidth=3, label=\"Validation set\")\n",
    "plt.plot(best_epoch, best_valid_rmse, \"bo\")\n",
    "plt.plot(train_errors, \"r--\", linewidth=2, label=\"Training set\")\n",
    "plt.legend(loc=\"upper right\")\n",
    "plt.xlabel(\"Epoch\")\n",
    "plt.ylabel(\"RMSE\")\n",
    "plt.axis([0, n_epochs, 0, 3.5])\n",
    "plt.grid()\n",
    "\n",
    "plt.show()"
   ]
  },
  {
   "cell_type": "markdown",
   "id": "a398d248",
   "metadata": {
    "papermill": {
     "duration": 0.025101,
     "end_time": "2024-08-06T11:18:00.114707",
     "exception": false,
     "start_time": "2024-08-06T11:18:00.089606",
     "status": "completed"
    },
    "tags": []
   },
   "source": [
    "# Logistic Regression"
   ]
  },
  {
   "cell_type": "markdown",
   "id": "e13b61cf",
   "metadata": {
    "papermill": {
     "duration": 0.022437,
     "end_time": "2024-08-06T11:18:00.162205",
     "exception": false,
     "start_time": "2024-08-06T11:18:00.139768",
     "status": "completed"
    },
    "tags": []
   },
   "source": [
    "## Estimating Probabilities"
   ]
  },
  {
   "cell_type": "code",
   "execution_count": 45,
   "id": "0b1dac75",
   "metadata": {
    "execution": {
     "iopub.execute_input": "2024-08-06T11:18:00.212469Z",
     "iopub.status.busy": "2024-08-06T11:18:00.212086Z",
     "iopub.status.idle": "2024-08-06T11:18:00.443334Z",
     "shell.execute_reply": "2024-08-06T11:18:00.442099Z"
    },
    "papermill": {
     "duration": 0.261157,
     "end_time": "2024-08-06T11:18:00.445775",
     "exception": false,
     "start_time": "2024-08-06T11:18:00.184618",
     "status": "completed"
    },
    "tags": []
   },
   "outputs": [
    {
     "data": {
      "image/png": "[encoded data removed]",
      "text/plain": [
       "<Figure size 800x300 with 1 Axes>"
      ]
     },
     "metadata": {},
     "output_type": "display_data"
    }
   ],
   "source": [
    "# extra code – generates and saves Figure 4–21\n",
    "\n",
    "lim = 6\n",
    "t = np.linspace(-lim, lim, 100)\n",
    "sig = 1 / (1 + np.exp(-t))\n",
    "\n",
    "plt.figure(figsize=(8, 3))\n",
    "plt.plot([-lim, lim], [0, 0], \"k-\")\n",
    "plt.plot([-lim, lim], [0.5, 0.5], \"k:\")\n",
    "plt.plot([-lim, lim], [1, 1], \"k:\")\n",
    "plt.plot([0, 0], [-1.1, 1.1], \"k-\")\n",
    "plt.plot(t, sig, \"b-\", linewidth=2, label=r\"$\\sigma(t) = \\dfrac{1}{1 + e^{-t}}$\")\n",
    "plt.xlabel(\"t\")\n",
    "plt.legend(loc=\"upper left\")\n",
    "plt.axis([-lim, lim, -0.1, 1.1])\n",
    "plt.gca().set_yticks([0, 0.25, 0.5, 0.75, 1])\n",
    "plt.grid()\n",
    "\n",
    "plt.show()"
   ]
  },
  {
   "cell_type": "markdown",
   "id": "43298abf",
   "metadata": {
    "papermill": {
     "duration": 0.022475,
     "end_time": "2024-08-06T11:18:00.491089",
     "exception": false,
     "start_time": "2024-08-06T11:18:00.468614",
     "status": "completed"
    },
    "tags": []
   },
   "source": [
    "# Decision Boudaries"
   ]
  },
  {
   "cell_type": "code",
   "execution_count": 46,
   "id": "b2ea4190",
   "metadata": {
    "execution": {
     "iopub.execute_input": "2024-08-06T11:18:00.538699Z",
     "iopub.status.busy": "2024-08-06T11:18:00.537757Z",
     "iopub.status.idle": "2024-08-06T11:18:00.720931Z",
     "shell.execute_reply": "2024-08-06T11:18:00.720101Z"
    },
    "papermill": {
     "duration": 0.209616,
     "end_time": "2024-08-06T11:18:00.723333",
     "exception": false,
     "start_time": "2024-08-06T11:18:00.513717",
     "status": "completed"
    },
    "tags": []
   },
   "outputs": [],
   "source": [
    "from sklearn.datasets import load_iris"
   ]
  },
  {
   "cell_type": "code",
   "execution_count": 47,
   "id": "21f6bca7",
   "metadata": {
    "execution": {
     "iopub.execute_input": "2024-08-06T11:18:00.772448Z",
     "iopub.status.busy": "2024-08-06T11:18:00.771546Z",
     "iopub.status.idle": "2024-08-06T11:18:01.534407Z",
     "shell.execute_reply": "2024-08-06T11:18:01.533287Z"
    },
    "papermill": {
     "duration": 0.790329,
     "end_time": "2024-08-06T11:18:01.536641",
     "exception": false,
     "start_time": "2024-08-06T11:18:00.746312",
     "status": "completed"
    },
    "tags": []
   },
   "outputs": [
    {
     "data": {
      "text/plain": [
       "['data',\n",
       " 'target',\n",
       " 'frame',\n",
       " 'target_names',\n",
       " 'DESCR',\n",
       " 'feature_names',\n",
       " 'filename',\n",
       " 'data_module']"
      ]
     },
     "execution_count": 47,
     "metadata": {},
     "output_type": "execute_result"
    }
   ],
   "source": [
    "iris = load_iris(as_frame=True)\n",
    "list(iris)"
   ]
  },
  {
   "cell_type": "code",
   "execution_count": 48,
   "id": "99618880",
   "metadata": {
    "execution": {
     "iopub.execute_input": "2024-08-06T11:18:01.584840Z",
     "iopub.status.busy": "2024-08-06T11:18:01.583904Z",
     "iopub.status.idle": "2024-08-06T11:18:01.589045Z",
     "shell.execute_reply": "2024-08-06T11:18:01.588104Z"
    },
    "papermill": {
     "duration": 0.031801,
     "end_time": "2024-08-06T11:18:01.591420",
     "exception": false,
     "start_time": "2024-08-06T11:18:01.559619",
     "status": "completed"
    },
    "tags": []
   },
   "outputs": [
    {
     "name": "stdout",
     "output_type": "stream",
     "text": [
      ".. _iris_dataset:\n",
      "\n",
      "Iris plants dataset\n",
      "--------------------\n",
      "\n",
      "**Data Set Characteristics:**\n",
      "\n",
      "    :Number of Instances: 150 (50 in each of three classes)\n",
      "    :Number of Attributes: 4 numeric, predictive attributes and the class\n",
      "    :Attribute Information:\n",
      "        - sepal length in cm\n",
      "        - sepal width in cm\n",
      "        - petal length in cm\n",
      "        - petal width in cm\n",
      "        - class:\n",
      "                - Iris-Setosa\n",
      "                - Iris-Versicolour\n",
      "                - Iris-Virginica\n",
      "                \n",
      "    :Summary Statistics:\n",
      "\n",
      "    ============== ==== ==== ======= ===== ====================\n",
      "                    Min  Max   Mean    SD   Class Correlation\n",
      "    ============== ==== ==== ======= ===== ====================\n",
      "    sepal length:   4.3  7.9   5.84   0.83    0.7826\n",
      "    sepal width:    2.0  4.4   3.05   0.43   -0.4194\n",
      "    petal length:   1.0  6.9   3.76   1.76    0.9490  (high!)\n",
      "    petal width:    0.1  2.5   1.20   0.76    0.9565  (high!)\n",
      "    ============== ==== ==== ======= ===== ====================\n",
      "\n",
      "    :Missing Attribute Values: None\n",
      "    :Class Distribution: 33.3% for each of 3 classes.\n",
      "    :Creator: R.A. Fisher\n",
      "    :Donor: Michael Marshall (MARSHALL%PLU@io.arc.nasa.gov)\n",
      "    :Date: July, 1988\n",
      "\n",
      "The famous Iris database, first used by Sir R.A. Fisher. The dataset is taken\n",
      "from Fisher's paper. Note that it's the same as in R, but not as in the UCI\n",
      "Machine Learning Repository, which has two wrong data points.\n",
      "\n",
      "This is perhaps the best known database to be found in the\n",
      "pattern recognition literature.  Fisher's paper is a classic in the field and\n",
      "is referenced frequently to this day.  (See Duda & Hart, for example.)  The\n",
      "data set contains 3 classes of 50 instances each, where each class refers to a\n",
      "type of iris plant.  One class is linearly separable from the other 2; the\n",
      "latter are NOT linearly separable from each other.\n",
      "\n",
      ".. topic:: References\n",
      "\n",
      "   - Fisher, R.A. \"The use of multiple measurements in taxonomic problems\"\n",
      "     Annual Eugenics, 7, Part II, 179-188 (1936); also in \"Contributions to\n",
      "     Mathematical Statistics\" (John Wiley, NY, 1950).\n",
      "   - Duda, R.O., & Hart, P.E. (1973) Pattern Classification and Scene Analysis.\n",
      "     (Q327.D83) John Wiley & Sons.  ISBN 0-471-22361-1.  See page 218.\n",
      "   - Dasarathy, B.V. (1980) \"Nosing Around the Neighborhood: A New System\n",
      "     Structure and Classification Rule for Recognition in Partially Exposed\n",
      "     Environments\".  IEEE Transactions on Pattern Analysis and Machine\n",
      "     Intelligence, Vol. PAMI-2, No. 1, 67-71.\n",
      "   - Gates, G.W. (1972) \"The Reduced Nearest Neighbor Rule\".  IEEE Transactions\n",
      "     on Information Theory, May 1972, 431-433.\n",
      "   - See also: 1988 MLC Proceedings, 54-64.  Cheeseman et al\"s AUTOCLASS II\n",
      "     conceptual clustering system finds 3 classes in the data.\n",
      "   - Many, many more ...\n"
     ]
    }
   ],
   "source": [
    "print(iris.DESCR)"
   ]
  },
  {
   "cell_type": "code",
   "execution_count": 49,
   "id": "4a0c4f00",
   "metadata": {
    "execution": {
     "iopub.execute_input": "2024-08-06T11:18:01.639238Z",
     "iopub.status.busy": "2024-08-06T11:18:01.638355Z",
     "iopub.status.idle": "2024-08-06T11:18:01.654154Z",
     "shell.execute_reply": "2024-08-06T11:18:01.653154Z"
    },
    "papermill": {
     "duration": 0.042213,
     "end_time": "2024-08-06T11:18:01.656356",
     "exception": false,
     "start_time": "2024-08-06T11:18:01.614143",
     "status": "completed"
    },
    "tags": []
   },
   "outputs": [
    {
     "data": {
      "text/html": [
       "<div>\n",
       "<style scoped>\n",
       "    .dataframe tbody tr th:only-of-type {\n",
       "        vertical-align: middle;\n",
       "    }\n",
       "\n",
       "    .dataframe tbody tr th {\n",
       "        vertical-align: top;\n",
       "    }\n",
       "\n",
       "    .dataframe thead th {\n",
       "        text-align: right;\n",
       "    }\n",
       "</style>\n",
       "<table border=\"1\" class=\"dataframe\">\n",
       "  <thead>\n",
       "    <tr style=\"text-align: right;\">\n",
       "      <th></th>\n",
       "      <th>sepal length (cm)</th>\n",
       "      <th>sepal width (cm)</th>\n",
       "      <th>petal length (cm)</th>\n",
       "      <th>petal width (cm)</th>\n",
       "    </tr>\n",
       "  </thead>\n",
       "  <tbody>\n",
       "    <tr>\n",
       "      <th>0</th>\n",
       "      <td>5.1</td>\n",
       "      <td>3.5</td>\n",
       "      <td>1.4</td>\n",
       "      <td>0.2</td>\n",
       "    </tr>\n",
       "    <tr>\n",
       "      <th>1</th>\n",
       "      <td>4.9</td>\n",
       "      <td>3.0</td>\n",
       "      <td>1.4</td>\n",
       "      <td>0.2</td>\n",
       "    </tr>\n",
       "    <tr>\n",
       "      <th>2</th>\n",
       "      <td>4.7</td>\n",
       "      <td>3.2</td>\n",
       "      <td>1.3</td>\n",
       "      <td>0.2</td>\n",
       "    </tr>\n",
       "    <tr>\n",
       "      <th>3</th>\n",
       "      <td>4.6</td>\n",
       "      <td>3.1</td>\n",
       "      <td>1.5</td>\n",
       "      <td>0.2</td>\n",
       "    </tr>\n",
       "    <tr>\n",
       "      <th>4</th>\n",
       "      <td>5.0</td>\n",
       "      <td>3.6</td>\n",
       "      <td>1.4</td>\n",
       "      <td>0.2</td>\n",
       "    </tr>\n",
       "  </tbody>\n",
       "</table>\n",
       "</div>"
      ],
      "text/plain": [
       "   sepal length (cm)  sepal width (cm)  petal length (cm)  petal width (cm)\n",
       "0                5.1               3.5                1.4               0.2\n",
       "1                4.9               3.0                1.4               0.2\n",
       "2                4.7               3.2                1.3               0.2\n",
       "3                4.6               3.1                1.5               0.2\n",
       "4                5.0               3.6                1.4               0.2"
      ]
     },
     "execution_count": 49,
     "metadata": {},
     "output_type": "execute_result"
    }
   ],
   "source": [
    "iris.data.head()"
   ]
  },
  {
   "cell_type": "code",
   "execution_count": 50,
   "id": "935001b8",
   "metadata": {
    "execution": {
     "iopub.execute_input": "2024-08-06T11:18:01.704739Z",
     "iopub.status.busy": "2024-08-06T11:18:01.704356Z",
     "iopub.status.idle": "2024-08-06T11:18:01.712093Z",
     "shell.execute_reply": "2024-08-06T11:18:01.711091Z"
    },
    "papermill": {
     "duration": 0.034924,
     "end_time": "2024-08-06T11:18:01.714250",
     "exception": false,
     "start_time": "2024-08-06T11:18:01.679326",
     "status": "completed"
    },
    "tags": []
   },
   "outputs": [
    {
     "data": {
      "text/plain": [
       "0    0\n",
       "1    0\n",
       "2    0\n",
       "3    0\n",
       "4    0\n",
       "Name: target, dtype: int64"
      ]
     },
     "execution_count": 50,
     "metadata": {},
     "output_type": "execute_result"
    }
   ],
   "source": [
    "iris.target.head()"
   ]
  },
  {
   "cell_type": "code",
   "execution_count": 51,
   "id": "779bcc55",
   "metadata": {
    "execution": {
     "iopub.execute_input": "2024-08-06T11:18:01.762979Z",
     "iopub.status.busy": "2024-08-06T11:18:01.762004Z",
     "iopub.status.idle": "2024-08-06T11:18:01.768901Z",
     "shell.execute_reply": "2024-08-06T11:18:01.767917Z"
    },
    "papermill": {
     "duration": 0.033528,
     "end_time": "2024-08-06T11:18:01.771083",
     "exception": false,
     "start_time": "2024-08-06T11:18:01.737555",
     "status": "completed"
    },
    "tags": []
   },
   "outputs": [
    {
     "data": {
      "text/plain": [
       "array(['setosa', 'versicolor', 'virginica'], dtype='<U10')"
      ]
     },
     "execution_count": 51,
     "metadata": {},
     "output_type": "execute_result"
    }
   ],
   "source": [
    "iris.target_names"
   ]
  },
  {
   "cell_type": "code",
   "execution_count": 52,
   "id": "04da36d0",
   "metadata": {
    "execution": {
     "iopub.execute_input": "2024-08-06T11:18:01.840442Z",
     "iopub.status.busy": "2024-08-06T11:18:01.840062Z",
     "iopub.status.idle": "2024-08-06T11:18:01.844951Z",
     "shell.execute_reply": "2024-08-06T11:18:01.843814Z"
    },
    "papermill": {
     "duration": 0.045545,
     "end_time": "2024-08-06T11:18:01.847683",
     "exception": false,
     "start_time": "2024-08-06T11:18:01.802138",
     "status": "completed"
    },
    "tags": []
   },
   "outputs": [],
   "source": [
    "from sklearn.linear_model import LogisticRegression\n",
    "from sklearn.model_selection import train_test_split"
   ]
  },
  {
   "cell_type": "code",
   "execution_count": 53,
   "id": "f0a3021d",
   "metadata": {
    "execution": {
     "iopub.execute_input": "2024-08-06T11:18:01.902798Z",
     "iopub.status.busy": "2024-08-06T11:18:01.902321Z",
     "iopub.status.idle": "2024-08-06T11:18:01.911977Z",
     "shell.execute_reply": "2024-08-06T11:18:01.910916Z"
    },
    "papermill": {
     "duration": 0.037522,
     "end_time": "2024-08-06T11:18:01.914699",
     "exception": false,
     "start_time": "2024-08-06T11:18:01.877177",
     "status": "completed"
    },
    "tags": []
   },
   "outputs": [],
   "source": [
    "\n",
    "X = iris.data[[\"petal width (cm)\"]].values\n",
    "y = iris.target_names[iris.target] == 'virginica'\n",
    "X_train, X_test, y_train, y_test = train_test_split(X, y, random_state=42)\n"
   ]
  },
  {
   "cell_type": "code",
   "execution_count": 54,
   "id": "a145d671",
   "metadata": {
    "execution": {
     "iopub.execute_input": "2024-08-06T11:18:01.979384Z",
     "iopub.status.busy": "2024-08-06T11:18:01.979003Z",
     "iopub.status.idle": "2024-08-06T11:18:01.986004Z",
     "shell.execute_reply": "2024-08-06T11:18:01.984851Z"
    },
    "papermill": {
     "duration": 0.044503,
     "end_time": "2024-08-06T11:18:01.988233",
     "exception": false,
     "start_time": "2024-08-06T11:18:01.943730",
     "status": "completed"
    },
    "tags": []
   },
   "outputs": [
    {
     "data": {
      "text/plain": [
       "array([[0.2],\n",
       "       [0.2],\n",
       "       [0.2]])"
      ]
     },
     "execution_count": 54,
     "metadata": {},
     "output_type": "execute_result"
    }
   ],
   "source": [
    "X[:3]"
   ]
  },
  {
   "cell_type": "code",
   "execution_count": 55,
   "id": "748bc1fd",
   "metadata": {
    "execution": {
     "iopub.execute_input": "2024-08-06T11:18:02.038002Z",
     "iopub.status.busy": "2024-08-06T11:18:02.037017Z",
     "iopub.status.idle": "2024-08-06T11:18:02.044697Z",
     "shell.execute_reply": "2024-08-06T11:18:02.043561Z"
    },
    "papermill": {
     "duration": 0.034672,
     "end_time": "2024-08-06T11:18:02.046918",
     "exception": false,
     "start_time": "2024-08-06T11:18:02.012246",
     "status": "completed"
    },
    "tags": []
   },
   "outputs": [
    {
     "data": {
      "text/plain": [
       "array([[0.2],\n",
       "       [0.1],\n",
       "       [1.9]])"
      ]
     },
     "execution_count": 55,
     "metadata": {},
     "output_type": "execute_result"
    }
   ],
   "source": [
    "X_train[:3]"
   ]
  },
  {
   "cell_type": "code",
   "execution_count": 56,
   "id": "39e9632f",
   "metadata": {
    "execution": {
     "iopub.execute_input": "2024-08-06T11:18:02.097140Z",
     "iopub.status.busy": "2024-08-06T11:18:02.096253Z",
     "iopub.status.idle": "2024-08-06T11:18:02.118565Z",
     "shell.execute_reply": "2024-08-06T11:18:02.117276Z"
    },
    "papermill": {
     "duration": 0.050256,
     "end_time": "2024-08-06T11:18:02.121405",
     "exception": false,
     "start_time": "2024-08-06T11:18:02.071149",
     "status": "completed"
    },
    "tags": []
   },
   "outputs": [
    {
     "data": {
      "text/html": [
       "<style>#sk-container-id-7 {color: black;background-color: white;}#sk-container-id-7 pre{padding: 0;}#sk-container-id-7 div.sk-toggleable {background-color: white;}#sk-container-id-7 label.sk-toggleable__label {cursor: pointer;display: block;width: 100%;margin-bottom: 0;padding: 0.3em;box-sizing: border-box;text-align: center;}#sk-container-id-7 label.sk-toggleable__label-arrow:before {content: \"▸\";float: left;margin-right: 0.25em;color: #696969;}#sk-container-id-7 label.sk-toggleable__label-arrow:hover:before {color: black;}#sk-container-id-7 div.sk-estimator:hover label.sk-toggleable__label-arrow:before {color: black;}#sk-container-id-7 div.sk-toggleable__content {max-height: 0;max-width: 0;overflow: hidden;text-align: left;background-color: #f0f8ff;}#sk-container-id-7 div.sk-toggleable__content pre {margin: 0.2em;color: black;border-radius: 0.25em;background-color: #f0f8ff;}#sk-container-id-7 input.sk-toggleable__control:checked~div.sk-toggleable__content {max-height: 200px;max-width: 100%;overflow: auto;}#sk-container-id-7 input.sk-toggleable__control:checked~label.sk-toggleable__label-arrow:before {content: \"▾\";}#sk-container-id-7 div.sk-estimator input.sk-toggleable__control:checked~label.sk-toggleable__label {background-color: #d4ebff;}#sk-container-id-7 div.sk-label input.sk-toggleable__control:checked~label.sk-toggleable__label {background-color: #d4ebff;}#sk-container-id-7 input.sk-hidden--visually {border: 0;clip: rect(1px 1px 1px 1px);clip: rect(1px, 1px, 1px, 1px);height: 1px;margin: -1px;overflow: hidden;padding: 0;position: absolute;width: 1px;}#sk-container-id-7 div.sk-estimator {font-family: monospace;background-color: #f0f8ff;border: 1px dotted black;border-radius: 0.25em;box-sizing: border-box;margin-bottom: 0.5em;}#sk-container-id-7 div.sk-estimator:hover {background-color: #d4ebff;}#sk-container-id-7 div.sk-parallel-item::after {content: \"\";width: 100%;border-bottom: 1px solid gray;flex-grow: 1;}#sk-container-id-7 div.sk-label:hover label.sk-toggleable__label {background-color: #d4ebff;}#sk-container-id-7 div.sk-serial::before {content: \"\";position: absolute;border-left: 1px solid gray;box-sizing: border-box;top: 0;bottom: 0;left: 50%;z-index: 0;}#sk-container-id-7 div.sk-serial {display: flex;flex-direction: column;align-items: center;background-color: white;padding-right: 0.2em;padding-left: 0.2em;position: relative;}#sk-container-id-7 div.sk-item {position: relative;z-index: 1;}#sk-container-id-7 div.sk-parallel {display: flex;align-items: stretch;justify-content: center;background-color: white;position: relative;}#sk-container-id-7 div.sk-item::before, #sk-container-id-7 div.sk-parallel-item::before {content: \"\";position: absolute;border-left: 1px solid gray;box-sizing: border-box;top: 0;bottom: 0;left: 50%;z-index: -1;}#sk-container-id-7 div.sk-parallel-item {display: flex;flex-direction: column;z-index: 1;position: relative;background-color: white;}#sk-container-id-7 div.sk-parallel-item:first-child::after {align-self: flex-end;width: 50%;}#sk-container-id-7 div.sk-parallel-item:last-child::after {align-self: flex-start;width: 50%;}#sk-container-id-7 div.sk-parallel-item:only-child::after {width: 0;}#sk-container-id-7 div.sk-dashed-wrapped {border: 1px dashed gray;margin: 0 0.4em 0.5em 0.4em;box-sizing: border-box;padding-bottom: 0.4em;background-color: white;}#sk-container-id-7 div.sk-label label {font-family: monospace;font-weight: bold;display: inline-block;line-height: 1.2em;}#sk-container-id-7 div.sk-label-container {text-align: center;}#sk-container-id-7 div.sk-container {/* jupyter's `normalize.less` sets `[hidden] { display: none; }` but bootstrap.min.css set `[hidden] { display: none !important; }` so we also need the `!important` here to be able to override the default hidden behavior on the sphinx rendered scikit-learn.org. See: https://github.com/scikit-learn/scikit-learn/issues/21755 */display: inline-block !important;position: relative;}#sk-container-id-7 div.sk-text-repr-fallback {display: none;}</style><div id=\"sk-container-id-7\" class=\"sk-top-container\"><div class=\"sk-text-repr-fallback\"><pre>LogisticRegression()</pre><b>In a Jupyter environment, please rerun this cell to show the HTML representation or trust the notebook. <br />On GitHub, the HTML representation is unable to render, please try loading this page with nbviewer.org.</b></div><div class=\"sk-container\" hidden><div class=\"sk-item\"><div class=\"sk-estimator sk-toggleable\"><input class=\"sk-toggleable__control sk-hidden--visually\" id=\"sk-estimator-id-7\" type=\"checkbox\" checked><label for=\"sk-estimator-id-7\" class=\"sk-toggleable__label sk-toggleable__label-arrow\">LogisticRegression</label><div class=\"sk-toggleable__content\"><pre>LogisticRegression()</pre></div></div></div></div></div>"
      ],
      "text/plain": [
       "LogisticRegression()"
      ]
     },
     "execution_count": 56,
     "metadata": {},
     "output_type": "execute_result"
    }
   ],
   "source": [
    "lg = LogisticRegression()\n",
    "lg.fit(X_train, y_train)"
   ]
  },
  {
   "cell_type": "code",
   "execution_count": 57,
   "id": "8952ad5a",
   "metadata": {
    "execution": {
     "iopub.execute_input": "2024-08-06T11:18:02.179459Z",
     "iopub.status.busy": "2024-08-06T11:18:02.178969Z",
     "iopub.status.idle": "2024-08-06T11:18:02.186237Z",
     "shell.execute_reply": "2024-08-06T11:18:02.185158Z"
    },
    "papermill": {
     "duration": 0.03622,
     "end_time": "2024-08-06T11:18:02.188986",
     "exception": false,
     "start_time": "2024-08-06T11:18:02.152766",
     "status": "completed"
    },
    "tags": []
   },
   "outputs": [],
   "source": [
    "X_new = np.linspace(0,3,1000).reshape(-1,1)\n",
    "y_proba = lg.predict_proba(X_new)\n",
    "decision_boundary = X_new[y_proba[:, 1] >= 0.5][0, 0]"
   ]
  },
  {
   "cell_type": "code",
   "execution_count": 58,
   "id": "8219a8e4",
   "metadata": {
    "execution": {
     "iopub.execute_input": "2024-08-06T11:18:02.248106Z",
     "iopub.status.busy": "2024-08-06T11:18:02.247717Z",
     "iopub.status.idle": "2024-08-06T11:18:02.517125Z",
     "shell.execute_reply": "2024-08-06T11:18:02.515842Z"
    },
    "papermill": {
     "duration": 0.297581,
     "end_time": "2024-08-06T11:18:02.519886",
     "exception": false,
     "start_time": "2024-08-06T11:18:02.222305",
     "status": "completed"
    },
    "tags": []
   },
   "outputs": [
    {
     "data": {
      "image/png": "[encoded data removed]",
      "text/plain": [
       "<Figure size 800x300 with 1 Axes>"
      ]
     },
     "metadata": {},
     "output_type": "display_data"
    }
   ],
   "source": [
    "plt.figure(figsize=(8, 3))  # extra code – not needed, just formatting\n",
    "plt.plot(X_new, y_proba[:, 0], \"b--\", linewidth=2,\n",
    "         label=\"Not Iris virginica proba\")\n",
    "plt.plot(X_new, y_proba[:, 1], \"g-\", linewidth=2, label=\"Iris virginica proba\")\n",
    "plt.plot([decision_boundary, decision_boundary], [0, 1], \"k:\", linewidth=2,\n",
    "         label=\"Decision boundary\")\n",
    "\n",
    "# extra code – this section beautifies and saves Figure 4–23\n",
    "plt.arrow(x=decision_boundary, y=0.08, dx=-0.3, dy=0,\n",
    "          head_width=0.05, head_length=0.1, fc=\"b\", ec=\"b\")\n",
    "plt.arrow(x=decision_boundary, y=0.92, dx=0.3, dy=0,\n",
    "          head_width=0.05, head_length=0.1, fc=\"g\", ec=\"g\")\n",
    "plt.plot(X_train[y_train == 0], y_train[y_train == 0], \"bs\")\n",
    "plt.plot(X_train[y_train == 1], y_train[y_train == 1], \"g^\")\n",
    "plt.xlabel(\"Petal width (cm)\")\n",
    "plt.ylabel(\"Probability\")\n",
    "plt.legend(loc=\"center left\")\n",
    "plt.axis([0, 3, -0.02, 1.02])\n",
    "plt.grid()\n",
    "\n",
    "plt.show()"
   ]
  },
  {
   "cell_type": "code",
   "execution_count": 59,
   "id": "c4d121ec",
   "metadata": {
    "execution": {
     "iopub.execute_input": "2024-08-06T11:18:02.573036Z",
     "iopub.status.busy": "2024-08-06T11:18:02.572640Z",
     "iopub.status.idle": "2024-08-06T11:18:02.579743Z",
     "shell.execute_reply": "2024-08-06T11:18:02.578603Z"
    },
    "papermill": {
     "duration": 0.036833,
     "end_time": "2024-08-06T11:18:02.581931",
     "exception": false,
     "start_time": "2024-08-06T11:18:02.545098",
     "status": "completed"
    },
    "tags": []
   },
   "outputs": [
    {
     "data": {
      "text/plain": [
       "1.6516516516516517"
      ]
     },
     "execution_count": 59,
     "metadata": {},
     "output_type": "execute_result"
    }
   ],
   "source": [
    "decision_boundary"
   ]
  },
  {
   "cell_type": "code",
   "execution_count": 60,
   "id": "90f26664",
   "metadata": {
    "execution": {
     "iopub.execute_input": "2024-08-06T11:18:02.635103Z",
     "iopub.status.busy": "2024-08-06T11:18:02.634539Z",
     "iopub.status.idle": "2024-08-06T11:18:02.642969Z",
     "shell.execute_reply": "2024-08-06T11:18:02.641677Z"
    },
    "papermill": {
     "duration": 0.038234,
     "end_time": "2024-08-06T11:18:02.645326",
     "exception": false,
     "start_time": "2024-08-06T11:18:02.607092",
     "status": "completed"
    },
    "tags": []
   },
   "outputs": [
    {
     "data": {
      "text/plain": [
       "array([ True, False])"
      ]
     },
     "execution_count": 60,
     "metadata": {},
     "output_type": "execute_result"
    }
   ],
   "source": [
    "lg.predict([[1.7], [1.5]])"
   ]
  },
  {
   "cell_type": "markdown",
   "id": "e4290b33",
   "metadata": {
    "papermill": {
     "duration": 0.025179,
     "end_time": "2024-08-06T11:18:02.696022",
     "exception": false,
     "start_time": "2024-08-06T11:18:02.670843",
     "status": "completed"
    },
    "tags": []
   },
   "source": [
    "# Softmax Regression"
   ]
  },
  {
   "cell_type": "code",
   "execution_count": 61,
   "id": "95156df1",
   "metadata": {
    "execution": {
     "iopub.execute_input": "2024-08-06T11:18:02.748815Z",
     "iopub.status.busy": "2024-08-06T11:18:02.748356Z",
     "iopub.status.idle": "2024-08-06T11:18:02.775785Z",
     "shell.execute_reply": "2024-08-06T11:18:02.774468Z"
    },
    "papermill": {
     "duration": 0.057423,
     "end_time": "2024-08-06T11:18:02.779007",
     "exception": false,
     "start_time": "2024-08-06T11:18:02.721584",
     "status": "completed"
    },
    "tags": []
   },
   "outputs": [
    {
     "data": {
      "text/html": [
       "<style>#sk-container-id-8 {color: black;background-color: white;}#sk-container-id-8 pre{padding: 0;}#sk-container-id-8 div.sk-toggleable {background-color: white;}#sk-container-id-8 label.sk-toggleable__label {cursor: pointer;display: block;width: 100%;margin-bottom: 0;padding: 0.3em;box-sizing: border-box;text-align: center;}#sk-container-id-8 label.sk-toggleable__label-arrow:before {content: \"▸\";float: left;margin-right: 0.25em;color: #696969;}#sk-container-id-8 label.sk-toggleable__label-arrow:hover:before {color: black;}#sk-container-id-8 div.sk-estimator:hover label.sk-toggleable__label-arrow:before {color: black;}#sk-container-id-8 div.sk-toggleable__content {max-height: 0;max-width: 0;overflow: hidden;text-align: left;background-color: #f0f8ff;}#sk-container-id-8 div.sk-toggleable__content pre {margin: 0.2em;color: black;border-radius: 0.25em;background-color: #f0f8ff;}#sk-container-id-8 input.sk-toggleable__control:checked~div.sk-toggleable__content {max-height: 200px;max-width: 100%;overflow: auto;}#sk-container-id-8 input.sk-toggleable__control:checked~label.sk-toggleable__label-arrow:before {content: \"▾\";}#sk-container-id-8 div.sk-estimator input.sk-toggleable__control:checked~label.sk-toggleable__label {background-color: #d4ebff;}#sk-container-id-8 div.sk-label input.sk-toggleable__control:checked~label.sk-toggleable__label {background-color: #d4ebff;}#sk-container-id-8 input.sk-hidden--visually {border: 0;clip: rect(1px 1px 1px 1px);clip: rect(1px, 1px, 1px, 1px);height: 1px;margin: -1px;overflow: hidden;padding: 0;position: absolute;width: 1px;}#sk-container-id-8 div.sk-estimator {font-family: monospace;background-color: #f0f8ff;border: 1px dotted black;border-radius: 0.25em;box-sizing: border-box;margin-bottom: 0.5em;}#sk-container-id-8 div.sk-estimator:hover {background-color: #d4ebff;}#sk-container-id-8 div.sk-parallel-item::after {content: \"\";width: 100%;border-bottom: 1px solid gray;flex-grow: 1;}#sk-container-id-8 div.sk-label:hover label.sk-toggleable__label {background-color: #d4ebff;}#sk-container-id-8 div.sk-serial::before {content: \"\";position: absolute;border-left: 1px solid gray;box-sizing: border-box;top: 0;bottom: 0;left: 50%;z-index: 0;}#sk-container-id-8 div.sk-serial {display: flex;flex-direction: column;align-items: center;background-color: white;padding-right: 0.2em;padding-left: 0.2em;position: relative;}#sk-container-id-8 div.sk-item {position: relative;z-index: 1;}#sk-container-id-8 div.sk-parallel {display: flex;align-items: stretch;justify-content: center;background-color: white;position: relative;}#sk-container-id-8 div.sk-item::before, #sk-container-id-8 div.sk-parallel-item::before {content: \"\";position: absolute;border-left: 1px solid gray;box-sizing: border-box;top: 0;bottom: 0;left: 50%;z-index: -1;}#sk-container-id-8 div.sk-parallel-item {display: flex;flex-direction: column;z-index: 1;position: relative;background-color: white;}#sk-container-id-8 div.sk-parallel-item:first-child::after {align-self: flex-end;width: 50%;}#sk-container-id-8 div.sk-parallel-item:last-child::after {align-self: flex-start;width: 50%;}#sk-container-id-8 div.sk-parallel-item:only-child::after {width: 0;}#sk-container-id-8 div.sk-dashed-wrapped {border: 1px dashed gray;margin: 0 0.4em 0.5em 0.4em;box-sizing: border-box;padding-bottom: 0.4em;background-color: white;}#sk-container-id-8 div.sk-label label {font-family: monospace;font-weight: bold;display: inline-block;line-height: 1.2em;}#sk-container-id-8 div.sk-label-container {text-align: center;}#sk-container-id-8 div.sk-container {/* jupyter's `normalize.less` sets `[hidden] { display: none; }` but bootstrap.min.css set `[hidden] { display: none !important; }` so we also need the `!important` here to be able to override the default hidden behavior on the sphinx rendered scikit-learn.org. See: https://github.com/scikit-learn/scikit-learn/issues/21755 */display: inline-block !important;position: relative;}#sk-container-id-8 div.sk-text-repr-fallback {display: none;}</style><div id=\"sk-container-id-8\" class=\"sk-top-container\"><div class=\"sk-text-repr-fallback\"><pre>LogisticRegression(C=30, random_state=42)</pre><b>In a Jupyter environment, please rerun this cell to show the HTML representation or trust the notebook. <br />On GitHub, the HTML representation is unable to render, please try loading this page with nbviewer.org.</b></div><div class=\"sk-container\" hidden><div class=\"sk-item\"><div class=\"sk-estimator sk-toggleable\"><input class=\"sk-toggleable__control sk-hidden--visually\" id=\"sk-estimator-id-8\" type=\"checkbox\" checked><label for=\"sk-estimator-id-8\" class=\"sk-toggleable__label sk-toggleable__label-arrow\">LogisticRegression</label><div class=\"sk-toggleable__content\"><pre>LogisticRegression(C=30, random_state=42)</pre></div></div></div></div></div>"
      ],
      "text/plain": [
       "LogisticRegression(C=30, random_state=42)"
      ]
     },
     "execution_count": 61,
     "metadata": {},
     "output_type": "execute_result"
    }
   ],
   "source": [
    "X = iris.data[[\"petal length (cm)\", \"petal width (cm)\"]].values\n",
    "y = iris[\"target\"]\n",
    "X_train, X_test, y_train, y_test = train_test_split(X, y, random_state=42)\n",
    "\n",
    "softmax_reg = LogisticRegression(C=30, random_state=42)\n",
    "softmax_reg.fit(X_train, y_train)"
   ]
  },
  {
   "cell_type": "code",
   "execution_count": 62,
   "id": "5e20e9e1",
   "metadata": {
    "execution": {
     "iopub.execute_input": "2024-08-06T11:18:02.832706Z",
     "iopub.status.busy": "2024-08-06T11:18:02.832250Z",
     "iopub.status.idle": "2024-08-06T11:18:02.840438Z",
     "shell.execute_reply": "2024-08-06T11:18:02.839288Z"
    },
    "papermill": {
     "duration": 0.037778,
     "end_time": "2024-08-06T11:18:02.842612",
     "exception": false,
     "start_time": "2024-08-06T11:18:02.804834",
     "status": "completed"
    },
    "tags": []
   },
   "outputs": [
    {
     "data": {
      "text/plain": [
       "array([2])"
      ]
     },
     "execution_count": 62,
     "metadata": {},
     "output_type": "execute_result"
    }
   ],
   "source": [
    "softmax_reg.predict([[5, 2]])"
   ]
  },
  {
   "cell_type": "code",
   "execution_count": 63,
   "id": "8dc047f3",
   "metadata": {
    "execution": {
     "iopub.execute_input": "2024-08-06T11:18:02.896703Z",
     "iopub.status.busy": "2024-08-06T11:18:02.895726Z",
     "iopub.status.idle": "2024-08-06T11:18:02.904397Z",
     "shell.execute_reply": "2024-08-06T11:18:02.903280Z"
    },
    "papermill": {
     "duration": 0.038538,
     "end_time": "2024-08-06T11:18:02.906712",
     "exception": false,
     "start_time": "2024-08-06T11:18:02.868174",
     "status": "completed"
    },
    "tags": []
   },
   "outputs": [
    {
     "data": {
      "text/plain": [
       "array([[0.  , 0.04, 0.96]])"
      ]
     },
     "execution_count": 63,
     "metadata": {},
     "output_type": "execute_result"
    }
   ],
   "source": [
    "softmax_reg.predict_proba([[5, 2]]).round(2)"
   ]
  },
  {
   "cell_type": "markdown",
   "id": "d28ae1d6",
   "metadata": {
    "papermill": {
     "duration": 0.025835,
     "end_time": "2024-08-06T11:18:02.958902",
     "exception": false,
     "start_time": "2024-08-06T11:18:02.933067",
     "status": "completed"
    },
    "tags": []
   },
   "source": [
    "# 12. Batch Gradient Descent with early stopping for Softmax Regression\n",
    "Exercise: _Implement Batch Gradient Descent with early stopping for Softmax Regression without using Scikit-Learn, only NumPy. Use it on a classification task such as the iris dataset._"
   ]
  },
  {
   "cell_type": "code",
   "execution_count": 64,
   "id": "4e459330",
   "metadata": {
    "execution": {
     "iopub.execute_input": "2024-08-06T11:18:03.012797Z",
     "iopub.status.busy": "2024-08-06T11:18:03.011803Z",
     "iopub.status.idle": "2024-08-06T11:18:03.018442Z",
     "shell.execute_reply": "2024-08-06T11:18:03.017367Z"
    },
    "papermill": {
     "duration": 0.03581,
     "end_time": "2024-08-06T11:18:03.020670",
     "exception": false,
     "start_time": "2024-08-06T11:18:02.984860",
     "status": "completed"
    },
    "tags": []
   },
   "outputs": [],
   "source": [
    "X = iris.data[[\"petal length (cm)\", \"petal width (cm)\"]].values\n",
    "y = iris[\"target\"].values"
   ]
  },
  {
   "cell_type": "code",
   "execution_count": 65,
   "id": "ecff9b2d",
   "metadata": {
    "execution": {
     "iopub.execute_input": "2024-08-06T11:18:03.077188Z",
     "iopub.status.busy": "2024-08-06T11:18:03.076452Z",
     "iopub.status.idle": "2024-08-06T11:18:03.081129Z",
     "shell.execute_reply": "2024-08-06T11:18:03.080227Z"
    },
    "papermill": {
     "duration": 0.036632,
     "end_time": "2024-08-06T11:18:03.083206",
     "exception": false,
     "start_time": "2024-08-06T11:18:03.046574",
     "status": "completed"
    },
    "tags": []
   },
   "outputs": [],
   "source": [
    "X_with_bias = np.c_[np.ones(len(X)), X]"
   ]
  },
  {
   "cell_type": "code",
   "execution_count": null,
   "id": "ff8c0524",
   "metadata": {
    "papermill": {
     "duration": 0.024867,
     "end_time": "2024-08-06T11:18:03.133043",
     "exception": false,
     "start_time": "2024-08-06T11:18:03.108176",
     "status": "completed"
    },
    "tags": []
   },
   "outputs": [],
   "source": []
  },
  {
   "cell_type": "code",
   "execution_count": null,
   "id": "b0873dca",
   "metadata": {
    "papermill": {
     "duration": 0.026289,
     "end_time": "2024-08-06T11:18:03.184787",
     "exception": false,
     "start_time": "2024-08-06T11:18:03.158498",
     "status": "completed"
    },
    "tags": []
   },
   "outputs": [],
   "source": []
  }
 ],
 "metadata": {
  "kaggle": {
   "accelerator": "none",
   "dataSources": [],
   "dockerImageVersionId": 30746,
   "isGpuEnabled": false,
   "isInternetEnabled": false,
   "language": "python",
   "sourceType": "notebook"
  },
  "kernelspec": {
   "display_name": "Python 3",
   "language": "python",
   "name": "python3"
  },
  "language_info": {
   "codemirror_mode": {
    "name": "ipython",
    "version": 3
   },
   "file_extension": ".py",
   "mimetype": "text/x-python",
   "name": "python",
   "nbconvert_exporter": "python",
   "pygments_lexer": "ipython3",
   "version": "3.10.13"
  },
  "papermill": {
   "default_parameters": {},
   "duration": 13.587322,
   "end_time": "2024-08-06T11:18:03.732996",
   "environment_variables": {},
   "exception": null,
   "input_path": "__notebook__.ipynb",
   "output_path": "__notebook__.ipynb",
   "parameters": {},
   "start_time": "2024-08-06T11:17:50.145674",
   "version": "2.5.0"
  }
 },
 "nbformat": 4,
 "nbformat_minor": 5
}
