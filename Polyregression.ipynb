{
 "cells": [
  {
   "cell_type": "code",
   "execution_count": 1,
   "id": "184ab14e",
   "metadata": {
    "_cell_guid": "b1076dfc-b9ad-4769-8c92-a6c4dae69d19",
    "_uuid": "8f2839f25d086af736a60e9eeb907d3b93b6e0e5",
    "execution": {
     "iopub.execute_input": "2024-07-17T13:09:31.825421Z",
     "iopub.status.busy": "2024-07-17T13:09:31.824400Z",
     "iopub.status.idle": "2024-07-17T13:09:32.607671Z",
     "shell.execute_reply": "2024-07-17T13:09:32.605953Z"
    },
    "papermill": {
     "duration": 0.795815,
     "end_time": "2024-07-17T13:09:32.610494",
     "exception": false,
     "start_time": "2024-07-17T13:09:31.814679",
     "status": "completed"
    },
    "tags": []
   },
   "outputs": [
    {
     "name": "stdout",
     "output_type": "stream",
     "text": [
      "/kaggle/input/manufacturing-data-for-polynomial-regression/manufacturing.csv\n"
     ]
    }
   ],
   "source": [
    "# This Python 3 environment comes with many helpful analytics libraries installed\n",
    "# It is defined by the kaggle/python Docker image: https://github.com/kaggle/docker-python\n",
    "# For example, here's several helpful packages to load\n",
    "\n",
    "import numpy as np # linear algebra\n",
    "import pandas as pd # data processing, CSV file I/O (e.g. pd.read_csv)\n",
    "\n",
    "# Input data files are available in the read-only \"../input/\" directory\n",
    "# For example, running this (by clicking run or pressing Shift+Enter) will list all files under the input directory\n",
    "\n",
    "import os\n",
    "for dirname, _, filenames in os.walk('/kaggle/input'):\n",
    "    for filename in filenames:\n",
    "        print(os.path.join(dirname, filename))\n",
    "\n",
    "# You can write up to 20GB to the current directory (/kaggle/working/) that gets preserved as output when you create a version using \"Save & Run All\" \n",
    "# You can also write temporary files to /kaggle/temp/, but they won't be saved outside of the current session"
   ]
  },
  {
   "cell_type": "code",
   "execution_count": 2,
   "id": "7642b1af",
   "metadata": {
    "execution": {
     "iopub.execute_input": "2024-07-17T13:09:32.627952Z",
     "iopub.status.busy": "2024-07-17T13:09:32.627438Z",
     "iopub.status.idle": "2024-07-17T13:09:34.295258Z",
     "shell.execute_reply": "2024-07-17T13:09:34.294173Z"
    },
    "papermill": {
     "duration": 1.679512,
     "end_time": "2024-07-17T13:09:34.297935",
     "exception": false,
     "start_time": "2024-07-17T13:09:32.618423",
     "status": "completed"
    },
    "tags": []
   },
   "outputs": [],
   "source": [
    "import numpy as np\n",
    "import pandas as pd\n",
    "import seaborn as sns\n",
    "import matplotlib.pyplot as plt\n",
    "from sklearn.linear_model import LinearRegression\n",
    "from sklearn.model_selection import train_test_split\n",
    "from sklearn.preprocessing import PolynomialFeatures\n",
    "from sklearn.metrics import mean_squared_error, r2_score"
   ]
  },
  {
   "cell_type": "code",
   "execution_count": 3,
   "id": "0517e074",
   "metadata": {
    "execution": {
     "iopub.execute_input": "2024-07-17T13:09:34.315625Z",
     "iopub.status.busy": "2024-07-17T13:09:34.314856Z",
     "iopub.status.idle": "2024-07-17T13:09:34.351636Z",
     "shell.execute_reply": "2024-07-17T13:09:34.350671Z"
    },
    "papermill": {
     "duration": 0.048489,
     "end_time": "2024-07-17T13:09:34.354305",
     "exception": false,
     "start_time": "2024-07-17T13:09:34.305816",
     "status": "completed"
    },
    "tags": []
   },
   "outputs": [],
   "source": [
    "df = pd.read_csv(\"/kaggle/input/manufacturing-data-for-polynomial-regression/manufacturing.csv\")"
   ]
  },
  {
   "cell_type": "code",
   "execution_count": 4,
   "id": "fa40842a",
   "metadata": {
    "execution": {
     "iopub.execute_input": "2024-07-17T13:09:34.371527Z",
     "iopub.status.busy": "2024-07-17T13:09:34.371149Z",
     "iopub.status.idle": "2024-07-17T13:09:34.396153Z",
     "shell.execute_reply": "2024-07-17T13:09:34.395069Z"
    },
    "papermill": {
     "duration": 0.036198,
     "end_time": "2024-07-17T13:09:34.398469",
     "exception": false,
     "start_time": "2024-07-17T13:09:34.362271",
     "status": "completed"
    },
    "tags": []
   },
   "outputs": [
    {
     "data": {
      "text/html": [
       "<div>\n",
       "<style scoped>\n",
       "    .dataframe tbody tr th:only-of-type {\n",
       "        vertical-align: middle;\n",
       "    }\n",
       "\n",
       "    .dataframe tbody tr th {\n",
       "        vertical-align: top;\n",
       "    }\n",
       "\n",
       "    .dataframe thead th {\n",
       "        text-align: right;\n",
       "    }\n",
       "</style>\n",
       "<table border=\"1\" class=\"dataframe\">\n",
       "  <thead>\n",
       "    <tr style=\"text-align: right;\">\n",
       "      <th></th>\n",
       "      <th>Temperature (°C)</th>\n",
       "      <th>Pressure (kPa)</th>\n",
       "      <th>Temperature x Pressure</th>\n",
       "      <th>Material Fusion Metric</th>\n",
       "      <th>Material Transformation Metric</th>\n",
       "      <th>Quality Rating</th>\n",
       "    </tr>\n",
       "  </thead>\n",
       "  <tbody>\n",
       "    <tr>\n",
       "      <th>0</th>\n",
       "      <td>209.762701</td>\n",
       "      <td>8.050855</td>\n",
       "      <td>1688.769167</td>\n",
       "      <td>44522.217074</td>\n",
       "      <td>9.229576e+06</td>\n",
       "      <td>99.999971</td>\n",
       "    </tr>\n",
       "    <tr>\n",
       "      <th>1</th>\n",
       "      <td>243.037873</td>\n",
       "      <td>15.812068</td>\n",
       "      <td>3842.931469</td>\n",
       "      <td>63020.764997</td>\n",
       "      <td>1.435537e+07</td>\n",
       "      <td>99.985703</td>\n",
       "    </tr>\n",
       "    <tr>\n",
       "      <th>2</th>\n",
       "      <td>220.552675</td>\n",
       "      <td>7.843130</td>\n",
       "      <td>1729.823314</td>\n",
       "      <td>49125.950249</td>\n",
       "      <td>1.072839e+07</td>\n",
       "      <td>99.999758</td>\n",
       "    </tr>\n",
       "    <tr>\n",
       "      <th>3</th>\n",
       "      <td>208.976637</td>\n",
       "      <td>23.786089</td>\n",
       "      <td>4970.736918</td>\n",
       "      <td>57128.881547</td>\n",
       "      <td>9.125702e+06</td>\n",
       "      <td>99.999975</td>\n",
       "    </tr>\n",
       "    <tr>\n",
       "      <th>4</th>\n",
       "      <td>184.730960</td>\n",
       "      <td>15.797812</td>\n",
       "      <td>2918.345014</td>\n",
       "      <td>38068.201283</td>\n",
       "      <td>6.303792e+06</td>\n",
       "      <td>100.000000</td>\n",
       "    </tr>\n",
       "  </tbody>\n",
       "</table>\n",
       "</div>"
      ],
      "text/plain": [
       "   Temperature (°C)  Pressure (kPa)  Temperature x Pressure  \\\n",
       "0        209.762701        8.050855             1688.769167   \n",
       "1        243.037873       15.812068             3842.931469   \n",
       "2        220.552675        7.843130             1729.823314   \n",
       "3        208.976637       23.786089             4970.736918   \n",
       "4        184.730960       15.797812             2918.345014   \n",
       "\n",
       "   Material Fusion Metric  Material Transformation Metric  Quality Rating  \n",
       "0            44522.217074                    9.229576e+06       99.999971  \n",
       "1            63020.764997                    1.435537e+07       99.985703  \n",
       "2            49125.950249                    1.072839e+07       99.999758  \n",
       "3            57128.881547                    9.125702e+06       99.999975  \n",
       "4            38068.201283                    6.303792e+06      100.000000  "
      ]
     },
     "execution_count": 4,
     "metadata": {},
     "output_type": "execute_result"
    }
   ],
   "source": [
    "df.head()"
   ]
  },
  {
   "cell_type": "code",
   "execution_count": 5,
   "id": "5d104222",
   "metadata": {
    "execution": {
     "iopub.execute_input": "2024-07-17T13:09:34.415701Z",
     "iopub.status.busy": "2024-07-17T13:09:34.415334Z",
     "iopub.status.idle": "2024-07-17T13:09:34.439782Z",
     "shell.execute_reply": "2024-07-17T13:09:34.438523Z"
    },
    "papermill": {
     "duration": 0.035722,
     "end_time": "2024-07-17T13:09:34.442143",
     "exception": false,
     "start_time": "2024-07-17T13:09:34.406421",
     "status": "completed"
    },
    "tags": []
   },
   "outputs": [
    {
     "name": "stdout",
     "output_type": "stream",
     "text": [
      "<class 'pandas.core.frame.DataFrame'>\n",
      "RangeIndex: 3957 entries, 0 to 3956\n",
      "Data columns (total 6 columns):\n",
      " #   Column                          Non-Null Count  Dtype  \n",
      "---  ------                          --------------  -----  \n",
      " 0   Temperature (°C)                3957 non-null   float64\n",
      " 1   Pressure (kPa)                  3957 non-null   float64\n",
      " 2   Temperature x Pressure          3957 non-null   float64\n",
      " 3   Material Fusion Metric          3957 non-null   float64\n",
      " 4   Material Transformation Metric  3957 non-null   float64\n",
      " 5   Quality Rating                  3957 non-null   float64\n",
      "dtypes: float64(6)\n",
      "memory usage: 185.6 KB\n"
     ]
    }
   ],
   "source": [
    "df.info()"
   ]
  },
  {
   "cell_type": "code",
   "execution_count": 6,
   "id": "e578b763",
   "metadata": {
    "execution": {
     "iopub.execute_input": "2024-07-17T13:09:34.459746Z",
     "iopub.status.busy": "2024-07-17T13:09:34.459382Z",
     "iopub.status.idle": "2024-07-17T13:09:34.487048Z",
     "shell.execute_reply": "2024-07-17T13:09:34.485941Z"
    },
    "papermill": {
     "duration": 0.039316,
     "end_time": "2024-07-17T13:09:34.489533",
     "exception": false,
     "start_time": "2024-07-17T13:09:34.450217",
     "status": "completed"
    },
    "tags": []
   },
   "outputs": [
    {
     "data": {
      "text/html": [
       "<div>\n",
       "<style scoped>\n",
       "    .dataframe tbody tr th:only-of-type {\n",
       "        vertical-align: middle;\n",
       "    }\n",
       "\n",
       "    .dataframe tbody tr th {\n",
       "        vertical-align: top;\n",
       "    }\n",
       "\n",
       "    .dataframe thead th {\n",
       "        text-align: right;\n",
       "    }\n",
       "</style>\n",
       "<table border=\"1\" class=\"dataframe\">\n",
       "  <thead>\n",
       "    <tr style=\"text-align: right;\">\n",
       "      <th></th>\n",
       "      <th>Temperature (°C)</th>\n",
       "      <th>Pressure (kPa)</th>\n",
       "      <th>Temperature x Pressure</th>\n",
       "      <th>Material Fusion Metric</th>\n",
       "      <th>Material Transformation Metric</th>\n",
       "      <th>Quality Rating</th>\n",
       "    </tr>\n",
       "  </thead>\n",
       "  <tbody>\n",
       "    <tr>\n",
       "      <th>count</th>\n",
       "      <td>3957.000000</td>\n",
       "      <td>3957.000000</td>\n",
       "      <td>3957.000000</td>\n",
       "      <td>3957.000000</td>\n",
       "      <td>3.957000e+03</td>\n",
       "      <td>3957.000000</td>\n",
       "    </tr>\n",
       "    <tr>\n",
       "      <th>mean</th>\n",
       "      <td>200.034704</td>\n",
       "      <td>14.815558</td>\n",
       "      <td>2955.321308</td>\n",
       "      <td>48127.183128</td>\n",
       "      <td>1.003645e+07</td>\n",
       "      <td>96.260179</td>\n",
       "    </tr>\n",
       "    <tr>\n",
       "      <th>std</th>\n",
       "      <td>58.135717</td>\n",
       "      <td>5.772040</td>\n",
       "      <td>1458.224940</td>\n",
       "      <td>23812.213513</td>\n",
       "      <td>7.599356e+06</td>\n",
       "      <td>12.992262</td>\n",
       "    </tr>\n",
       "    <tr>\n",
       "      <th>min</th>\n",
       "      <td>100.014490</td>\n",
       "      <td>5.003008</td>\n",
       "      <td>513.706875</td>\n",
       "      <td>10156.971955</td>\n",
       "      <td>9.999462e+05</td>\n",
       "      <td>1.000000</td>\n",
       "    </tr>\n",
       "    <tr>\n",
       "      <th>25%</th>\n",
       "      <td>150.871296</td>\n",
       "      <td>9.692984</td>\n",
       "      <td>1798.247303</td>\n",
       "      <td>27626.929091</td>\n",
       "      <td>3.433810e+06</td>\n",
       "      <td>99.941129</td>\n",
       "    </tr>\n",
       "    <tr>\n",
       "      <th>50%</th>\n",
       "      <td>198.603371</td>\n",
       "      <td>14.832557</td>\n",
       "      <td>2678.277782</td>\n",
       "      <td>44611.452164</td>\n",
       "      <td>7.833390e+06</td>\n",
       "      <td>99.999997</td>\n",
       "    </tr>\n",
       "    <tr>\n",
       "      <th>75%</th>\n",
       "      <td>251.366552</td>\n",
       "      <td>19.749680</td>\n",
       "      <td>3929.058261</td>\n",
       "      <td>67805.443846</td>\n",
       "      <td>1.588251e+07</td>\n",
       "      <td>100.000000</td>\n",
       "    </tr>\n",
       "    <tr>\n",
       "      <th>max</th>\n",
       "      <td>299.992804</td>\n",
       "      <td>24.999132</td>\n",
       "      <td>7365.018714</td>\n",
       "      <td>103756.181544</td>\n",
       "      <td>2.699783e+07</td>\n",
       "      <td>100.000000</td>\n",
       "    </tr>\n",
       "  </tbody>\n",
       "</table>\n",
       "</div>"
      ],
      "text/plain": [
       "       Temperature (°C)  Pressure (kPa)  Temperature x Pressure  \\\n",
       "count       3957.000000     3957.000000             3957.000000   \n",
       "mean         200.034704       14.815558             2955.321308   \n",
       "std           58.135717        5.772040             1458.224940   \n",
       "min          100.014490        5.003008              513.706875   \n",
       "25%          150.871296        9.692984             1798.247303   \n",
       "50%          198.603371       14.832557             2678.277782   \n",
       "75%          251.366552       19.749680             3929.058261   \n",
       "max          299.992804       24.999132             7365.018714   \n",
       "\n",
       "       Material Fusion Metric  Material Transformation Metric  Quality Rating  \n",
       "count             3957.000000                    3.957000e+03     3957.000000  \n",
       "mean             48127.183128                    1.003645e+07       96.260179  \n",
       "std              23812.213513                    7.599356e+06       12.992262  \n",
       "min              10156.971955                    9.999462e+05        1.000000  \n",
       "25%              27626.929091                    3.433810e+06       99.941129  \n",
       "50%              44611.452164                    7.833390e+06       99.999997  \n",
       "75%              67805.443846                    1.588251e+07      100.000000  \n",
       "max             103756.181544                    2.699783e+07      100.000000  "
      ]
     },
     "execution_count": 6,
     "metadata": {},
     "output_type": "execute_result"
    }
   ],
   "source": [
    "df.describe()"
   ]
  },
  {
   "cell_type": "code",
   "execution_count": 7,
   "id": "25059810",
   "metadata": {
    "execution": {
     "iopub.execute_input": "2024-07-17T13:09:34.508078Z",
     "iopub.status.busy": "2024-07-17T13:09:34.507240Z",
     "iopub.status.idle": "2024-07-17T13:09:34.515593Z",
     "shell.execute_reply": "2024-07-17T13:09:34.514573Z"
    },
    "papermill": {
     "duration": 0.019943,
     "end_time": "2024-07-17T13:09:34.517738",
     "exception": false,
     "start_time": "2024-07-17T13:09:34.497795",
     "status": "completed"
    },
    "tags": []
   },
   "outputs": [
    {
     "data": {
      "text/plain": [
       "Temperature (°C)                  0\n",
       "Pressure (kPa)                    0\n",
       "Temperature x Pressure            0\n",
       "Material Fusion Metric            0\n",
       "Material Transformation Metric    0\n",
       "Quality Rating                    0\n",
       "dtype: int64"
      ]
     },
     "execution_count": 7,
     "metadata": {},
     "output_type": "execute_result"
    }
   ],
   "source": [
    "df.isnull().sum()"
   ]
  },
  {
   "cell_type": "code",
   "execution_count": 8,
   "id": "c54aa452",
   "metadata": {
    "execution": {
     "iopub.execute_input": "2024-07-17T13:09:34.536857Z",
     "iopub.status.busy": "2024-07-17T13:09:34.536501Z",
     "iopub.status.idle": "2024-07-17T13:09:34.545712Z",
     "shell.execute_reply": "2024-07-17T13:09:34.544696Z"
    },
    "papermill": {
     "duration": 0.021054,
     "end_time": "2024-07-17T13:09:34.547942",
     "exception": false,
     "start_time": "2024-07-17T13:09:34.526888",
     "status": "completed"
    },
    "tags": []
   },
   "outputs": [
    {
     "data": {
      "text/plain": [
       "0"
      ]
     },
     "execution_count": 8,
     "metadata": {},
     "output_type": "execute_result"
    }
   ],
   "source": [
    "df.duplicated().sum()"
   ]
  },
  {
   "cell_type": "code",
   "execution_count": 9,
   "id": "19356084",
   "metadata": {
    "execution": {
     "iopub.execute_input": "2024-07-17T13:09:34.566538Z",
     "iopub.status.busy": "2024-07-17T13:09:34.566151Z",
     "iopub.status.idle": "2024-07-17T13:09:34.582287Z",
     "shell.execute_reply": "2024-07-17T13:09:34.581190Z"
    },
    "papermill": {
     "duration": 0.028119,
     "end_time": "2024-07-17T13:09:34.584550",
     "exception": false,
     "start_time": "2024-07-17T13:09:34.556431",
     "status": "completed"
    },
    "tags": []
   },
   "outputs": [
    {
     "data": {
      "text/html": [
       "<div>\n",
       "<style scoped>\n",
       "    .dataframe tbody tr th:only-of-type {\n",
       "        vertical-align: middle;\n",
       "    }\n",
       "\n",
       "    .dataframe tbody tr th {\n",
       "        vertical-align: top;\n",
       "    }\n",
       "\n",
       "    .dataframe thead th {\n",
       "        text-align: right;\n",
       "    }\n",
       "</style>\n",
       "<table border=\"1\" class=\"dataframe\">\n",
       "  <thead>\n",
       "    <tr style=\"text-align: right;\">\n",
       "      <th></th>\n",
       "      <th>Temperature (°C)</th>\n",
       "      <th>Pressure (kPa)</th>\n",
       "      <th>Temperature x Pressure</th>\n",
       "      <th>Material Fusion Metric</th>\n",
       "      <th>Material Transformation Metric</th>\n",
       "      <th>Quality Rating</th>\n",
       "    </tr>\n",
       "  </thead>\n",
       "  <tbody>\n",
       "    <tr>\n",
       "      <th>Temperature (°C)</th>\n",
       "      <td>1.000000</td>\n",
       "      <td>-0.024754</td>\n",
       "      <td>0.571743</td>\n",
       "      <td>0.974901</td>\n",
       "      <td>0.971210</td>\n",
       "      <td>-0.461279</td>\n",
       "    </tr>\n",
       "    <tr>\n",
       "      <th>Pressure (kPa)</th>\n",
       "      <td>-0.024754</td>\n",
       "      <td>1.000000</td>\n",
       "      <td>0.773572</td>\n",
       "      <td>0.151095</td>\n",
       "      <td>-0.022862</td>\n",
       "      <td>0.013129</td>\n",
       "    </tr>\n",
       "    <tr>\n",
       "      <th>Temperature x Pressure</th>\n",
       "      <td>0.571743</td>\n",
       "      <td>0.773572</td>\n",
       "      <td>1.000000</td>\n",
       "      <td>0.694733</td>\n",
       "      <td>0.555579</td>\n",
       "      <td>-0.258474</td>\n",
       "    </tr>\n",
       "    <tr>\n",
       "      <th>Material Fusion Metric</th>\n",
       "      <td>0.974901</td>\n",
       "      <td>0.151095</td>\n",
       "      <td>0.694733</td>\n",
       "      <td>1.000000</td>\n",
       "      <td>0.976708</td>\n",
       "      <td>-0.511972</td>\n",
       "    </tr>\n",
       "    <tr>\n",
       "      <th>Material Transformation Metric</th>\n",
       "      <td>0.971210</td>\n",
       "      <td>-0.022862</td>\n",
       "      <td>0.555579</td>\n",
       "      <td>0.976708</td>\n",
       "      <td>1.000000</td>\n",
       "      <td>-0.575756</td>\n",
       "    </tr>\n",
       "    <tr>\n",
       "      <th>Quality Rating</th>\n",
       "      <td>-0.461279</td>\n",
       "      <td>0.013129</td>\n",
       "      <td>-0.258474</td>\n",
       "      <td>-0.511972</td>\n",
       "      <td>-0.575756</td>\n",
       "      <td>1.000000</td>\n",
       "    </tr>\n",
       "  </tbody>\n",
       "</table>\n",
       "</div>"
      ],
      "text/plain": [
       "                                Temperature (°C)  Pressure (kPa)  \\\n",
       "Temperature (°C)                        1.000000       -0.024754   \n",
       "Pressure (kPa)                         -0.024754        1.000000   \n",
       "Temperature x Pressure                  0.571743        0.773572   \n",
       "Material Fusion Metric                  0.974901        0.151095   \n",
       "Material Transformation Metric          0.971210       -0.022862   \n",
       "Quality Rating                         -0.461279        0.013129   \n",
       "\n",
       "                                Temperature x Pressure  \\\n",
       "Temperature (°C)                              0.571743   \n",
       "Pressure (kPa)                                0.773572   \n",
       "Temperature x Pressure                        1.000000   \n",
       "Material Fusion Metric                        0.694733   \n",
       "Material Transformation Metric                0.555579   \n",
       "Quality Rating                               -0.258474   \n",
       "\n",
       "                                Material Fusion Metric  \\\n",
       "Temperature (°C)                              0.974901   \n",
       "Pressure (kPa)                                0.151095   \n",
       "Temperature x Pressure                        0.694733   \n",
       "Material Fusion Metric                        1.000000   \n",
       "Material Transformation Metric                0.976708   \n",
       "Quality Rating                               -0.511972   \n",
       "\n",
       "                                Material Transformation Metric  Quality Rating  \n",
       "Temperature (°C)                                      0.971210       -0.461279  \n",
       "Pressure (kPa)                                       -0.022862        0.013129  \n",
       "Temperature x Pressure                                0.555579       -0.258474  \n",
       "Material Fusion Metric                                0.976708       -0.511972  \n",
       "Material Transformation Metric                        1.000000       -0.575756  \n",
       "Quality Rating                                       -0.575756        1.000000  "
      ]
     },
     "execution_count": 9,
     "metadata": {},
     "output_type": "execute_result"
    }
   ],
   "source": [
    "df.corr()"
   ]
  },
  {
   "cell_type": "code",
   "execution_count": 10,
   "id": "03674580",
   "metadata": {
    "execution": {
     "iopub.execute_input": "2024-07-17T13:09:34.603524Z",
     "iopub.status.busy": "2024-07-17T13:09:34.603141Z",
     "iopub.status.idle": "2024-07-17T13:09:35.102118Z",
     "shell.execute_reply": "2024-07-17T13:09:35.100954Z"
    },
    "papermill": {
     "duration": 0.511361,
     "end_time": "2024-07-17T13:09:35.104575",
     "exception": false,
     "start_time": "2024-07-17T13:09:34.593214",
     "status": "completed"
    },
    "tags": []
   },
   "outputs": [
    {
     "data": {
      "text/plain": [
       "<Axes: >"
      ]
     },
     "execution_count": 10,
     "metadata": {},
     "output_type": "execute_result"
    },
    {
     "data": {
      "image/png": "[encoded data removed]",
      "text/plain": [
       "<Figure size 640x480 with 2 Axes>"
      ]
     },
     "metadata": {},
     "output_type": "display_data"
    }
   ],
   "source": [
    "sns.heatmap(df.corr(), annot=True, cmap=\"coolwarm\")"
   ]
  },
  {
   "cell_type": "code",
   "execution_count": 11,
   "id": "25fff38f",
   "metadata": {
    "execution": {
     "iopub.execute_input": "2024-07-17T13:09:35.126616Z",
     "iopub.status.busy": "2024-07-17T13:09:35.125637Z",
     "iopub.status.idle": "2024-07-17T13:09:35.404167Z",
     "shell.execute_reply": "2024-07-17T13:09:35.403162Z"
    },
    "papermill": {
     "duration": 0.291878,
     "end_time": "2024-07-17T13:09:35.406467",
     "exception": false,
     "start_time": "2024-07-17T13:09:35.114589",
     "status": "completed"
    },
    "tags": []
   },
   "outputs": [
    {
     "data": {
      "image/png": "[encoded data removed]",
      "text/plain": [
       "<Figure size 1000x600 with 1 Axes>"
      ]
     },
     "metadata": {},
     "output_type": "display_data"
    }
   ],
   "source": [
    "plt.figure(figsize=(10, 6))\n",
    "sns.scatterplot(x='Temperature (°C)', y='Quality Rating', data=df)\n",
    "plt.show()\n"
   ]
  },
  {
   "cell_type": "code",
   "execution_count": 12,
   "id": "febd403d",
   "metadata": {
    "execution": {
     "iopub.execute_input": "2024-07-17T13:09:35.429816Z",
     "iopub.status.busy": "2024-07-17T13:09:35.428859Z",
     "iopub.status.idle": "2024-07-17T13:09:35.435691Z",
     "shell.execute_reply": "2024-07-17T13:09:35.434674Z"
    },
    "papermill": {
     "duration": 0.020861,
     "end_time": "2024-07-17T13:09:35.437849",
     "exception": false,
     "start_time": "2024-07-17T13:09:35.416988",
     "status": "completed"
    },
    "tags": []
   },
   "outputs": [
    {
     "data": {
      "text/plain": [
       "Index(['Temperature (°C)', 'Pressure (kPa)', 'Temperature x Pressure',\n",
       "       'Material Fusion Metric', 'Material Transformation Metric',\n",
       "       'Quality Rating'],\n",
       "      dtype='object')"
      ]
     },
     "execution_count": 12,
     "metadata": {},
     "output_type": "execute_result"
    }
   ],
   "source": [
    "df.columns"
   ]
  },
  {
   "cell_type": "code",
   "execution_count": 13,
   "id": "79b5f9ff",
   "metadata": {
    "execution": {
     "iopub.execute_input": "2024-07-17T13:09:35.461093Z",
     "iopub.status.busy": "2024-07-17T13:09:35.460408Z",
     "iopub.status.idle": "2024-07-17T13:09:35.472089Z",
     "shell.execute_reply": "2024-07-17T13:09:35.471029Z"
    },
    "papermill": {
     "duration": 0.025768,
     "end_time": "2024-07-17T13:09:35.474337",
     "exception": false,
     "start_time": "2024-07-17T13:09:35.448569",
     "status": "completed"
    },
    "tags": []
   },
   "outputs": [
    {
     "data": {
      "text/html": [
       "<div>\n",
       "<style scoped>\n",
       "    .dataframe tbody tr th:only-of-type {\n",
       "        vertical-align: middle;\n",
       "    }\n",
       "\n",
       "    .dataframe tbody tr th {\n",
       "        vertical-align: top;\n",
       "    }\n",
       "\n",
       "    .dataframe thead th {\n",
       "        text-align: right;\n",
       "    }\n",
       "</style>\n",
       "<table border=\"1\" class=\"dataframe\">\n",
       "  <thead>\n",
       "    <tr style=\"text-align: right;\">\n",
       "      <th></th>\n",
       "      <th>Temperature (°C)</th>\n",
       "    </tr>\n",
       "  </thead>\n",
       "  <tbody>\n",
       "    <tr>\n",
       "      <th>0</th>\n",
       "      <td>209.762701</td>\n",
       "    </tr>\n",
       "    <tr>\n",
       "      <th>1</th>\n",
       "      <td>243.037873</td>\n",
       "    </tr>\n",
       "    <tr>\n",
       "      <th>2</th>\n",
       "      <td>220.552675</td>\n",
       "    </tr>\n",
       "    <tr>\n",
       "      <th>3</th>\n",
       "      <td>208.976637</td>\n",
       "    </tr>\n",
       "    <tr>\n",
       "      <th>4</th>\n",
       "      <td>184.730960</td>\n",
       "    </tr>\n",
       "    <tr>\n",
       "      <th>...</th>\n",
       "      <td>...</td>\n",
       "    </tr>\n",
       "    <tr>\n",
       "      <th>3952</th>\n",
       "      <td>156.811578</td>\n",
       "    </tr>\n",
       "    <tr>\n",
       "      <th>3953</th>\n",
       "      <td>197.850406</td>\n",
       "    </tr>\n",
       "    <tr>\n",
       "      <th>3954</th>\n",
       "      <td>241.357144</td>\n",
       "    </tr>\n",
       "    <tr>\n",
       "      <th>3955</th>\n",
       "      <td>209.040239</td>\n",
       "    </tr>\n",
       "    <tr>\n",
       "      <th>3956</th>\n",
       "      <td>163.359996</td>\n",
       "    </tr>\n",
       "  </tbody>\n",
       "</table>\n",
       "<p>3957 rows × 1 columns</p>\n",
       "</div>"
      ],
      "text/plain": [
       "      Temperature (°C)\n",
       "0           209.762701\n",
       "1           243.037873\n",
       "2           220.552675\n",
       "3           208.976637\n",
       "4           184.730960\n",
       "...                ...\n",
       "3952        156.811578\n",
       "3953        197.850406\n",
       "3954        241.357144\n",
       "3955        209.040239\n",
       "3956        163.359996\n",
       "\n",
       "[3957 rows x 1 columns]"
      ]
     },
     "execution_count": 13,
     "metadata": {},
     "output_type": "execute_result"
    }
   ],
   "source": [
    "X = df[['Temperature (°C)']]\n",
    "X"
   ]
  },
  {
   "cell_type": "code",
   "execution_count": 14,
   "id": "827e671e",
   "metadata": {
    "execution": {
     "iopub.execute_input": "2024-07-17T13:09:35.497874Z",
     "iopub.status.busy": "2024-07-17T13:09:35.497215Z",
     "iopub.status.idle": "2024-07-17T13:09:35.508967Z",
     "shell.execute_reply": "2024-07-17T13:09:35.507963Z"
    },
    "papermill": {
     "duration": 0.025927,
     "end_time": "2024-07-17T13:09:35.511202",
     "exception": false,
     "start_time": "2024-07-17T13:09:35.485275",
     "status": "completed"
    },
    "tags": []
   },
   "outputs": [
    {
     "data": {
      "text/html": [
       "<div>\n",
       "<style scoped>\n",
       "    .dataframe tbody tr th:only-of-type {\n",
       "        vertical-align: middle;\n",
       "    }\n",
       "\n",
       "    .dataframe tbody tr th {\n",
       "        vertical-align: top;\n",
       "    }\n",
       "\n",
       "    .dataframe thead th {\n",
       "        text-align: right;\n",
       "    }\n",
       "</style>\n",
       "<table border=\"1\" class=\"dataframe\">\n",
       "  <thead>\n",
       "    <tr style=\"text-align: right;\">\n",
       "      <th></th>\n",
       "      <th>Quality Rating</th>\n",
       "    </tr>\n",
       "  </thead>\n",
       "  <tbody>\n",
       "    <tr>\n",
       "      <th>0</th>\n",
       "      <td>99.999971</td>\n",
       "    </tr>\n",
       "    <tr>\n",
       "      <th>1</th>\n",
       "      <td>99.985703</td>\n",
       "    </tr>\n",
       "    <tr>\n",
       "      <th>2</th>\n",
       "      <td>99.999758</td>\n",
       "    </tr>\n",
       "    <tr>\n",
       "      <th>3</th>\n",
       "      <td>99.999975</td>\n",
       "    </tr>\n",
       "    <tr>\n",
       "      <th>4</th>\n",
       "      <td>100.000000</td>\n",
       "    </tr>\n",
       "    <tr>\n",
       "      <th>...</th>\n",
       "      <td>...</td>\n",
       "    </tr>\n",
       "    <tr>\n",
       "      <th>3952</th>\n",
       "      <td>100.000000</td>\n",
       "    </tr>\n",
       "    <tr>\n",
       "      <th>3953</th>\n",
       "      <td>99.999997</td>\n",
       "    </tr>\n",
       "    <tr>\n",
       "      <th>3954</th>\n",
       "      <td>99.989318</td>\n",
       "    </tr>\n",
       "    <tr>\n",
       "      <th>3955</th>\n",
       "      <td>99.999975</td>\n",
       "    </tr>\n",
       "    <tr>\n",
       "      <th>3956</th>\n",
       "      <td>100.000000</td>\n",
       "    </tr>\n",
       "  </tbody>\n",
       "</table>\n",
       "<p>3957 rows × 1 columns</p>\n",
       "</div>"
      ],
      "text/plain": [
       "      Quality Rating\n",
       "0          99.999971\n",
       "1          99.985703\n",
       "2          99.999758\n",
       "3          99.999975\n",
       "4         100.000000\n",
       "...              ...\n",
       "3952      100.000000\n",
       "3953       99.999997\n",
       "3954       99.989318\n",
       "3955       99.999975\n",
       "3956      100.000000\n",
       "\n",
       "[3957 rows x 1 columns]"
      ]
     },
     "execution_count": 14,
     "metadata": {},
     "output_type": "execute_result"
    }
   ],
   "source": [
    "y = df[[ 'Quality Rating']]\n",
    "y"
   ]
  },
  {
   "cell_type": "code",
   "execution_count": 15,
   "id": "d5a5b6a6",
   "metadata": {
    "execution": {
     "iopub.execute_input": "2024-07-17T13:09:35.535522Z",
     "iopub.status.busy": "2024-07-17T13:09:35.534616Z",
     "iopub.status.idle": "2024-07-17T13:09:35.542470Z",
     "shell.execute_reply": "2024-07-17T13:09:35.541455Z"
    },
    "papermill": {
     "duration": 0.022201,
     "end_time": "2024-07-17T13:09:35.544608",
     "exception": false,
     "start_time": "2024-07-17T13:09:35.522407",
     "status": "completed"
    },
    "tags": []
   },
   "outputs": [],
   "source": [
    "X_train, X_test, y_train, y_test = train_test_split(X,y,test_size=0.2, random_state=42 )"
   ]
  },
  {
   "cell_type": "code",
   "execution_count": 16,
   "id": "b1e97b62",
   "metadata": {
    "execution": {
     "iopub.execute_input": "2024-07-17T13:09:35.568705Z",
     "iopub.status.busy": "2024-07-17T13:09:35.567759Z",
     "iopub.status.idle": "2024-07-17T13:09:35.591283Z",
     "shell.execute_reply": "2024-07-17T13:09:35.590033Z"
    },
    "papermill": {
     "duration": 0.03802,
     "end_time": "2024-07-17T13:09:35.593635",
     "exception": false,
     "start_time": "2024-07-17T13:09:35.555615",
     "status": "completed"
    },
    "tags": []
   },
   "outputs": [
    {
     "data": {
      "text/html": [
       "<style>#sk-container-id-1 {color: black;background-color: white;}#sk-container-id-1 pre{padding: 0;}#sk-container-id-1 div.sk-toggleable {background-color: white;}#sk-container-id-1 label.sk-toggleable__label {cursor: pointer;display: block;width: 100%;margin-bottom: 0;padding: 0.3em;box-sizing: border-box;text-align: center;}#sk-container-id-1 label.sk-toggleable__label-arrow:before {content: \"▸\";float: left;margin-right: 0.25em;color: #696969;}#sk-container-id-1 label.sk-toggleable__label-arrow:hover:before {color: black;}#sk-container-id-1 div.sk-estimator:hover label.sk-toggleable__label-arrow:before {color: black;}#sk-container-id-1 div.sk-toggleable__content {max-height: 0;max-width: 0;overflow: hidden;text-align: left;background-color: #f0f8ff;}#sk-container-id-1 div.sk-toggleable__content pre {margin: 0.2em;color: black;border-radius: 0.25em;background-color: #f0f8ff;}#sk-container-id-1 input.sk-toggleable__control:checked~div.sk-toggleable__content {max-height: 200px;max-width: 100%;overflow: auto;}#sk-container-id-1 input.sk-toggleable__control:checked~label.sk-toggleable__label-arrow:before {content: \"▾\";}#sk-container-id-1 div.sk-estimator input.sk-toggleable__control:checked~label.sk-toggleable__label {background-color: #d4ebff;}#sk-container-id-1 div.sk-label input.sk-toggleable__control:checked~label.sk-toggleable__label {background-color: #d4ebff;}#sk-container-id-1 input.sk-hidden--visually {border: 0;clip: rect(1px 1px 1px 1px);clip: rect(1px, 1px, 1px, 1px);height: 1px;margin: -1px;overflow: hidden;padding: 0;position: absolute;width: 1px;}#sk-container-id-1 div.sk-estimator {font-family: monospace;background-color: #f0f8ff;border: 1px dotted black;border-radius: 0.25em;box-sizing: border-box;margin-bottom: 0.5em;}#sk-container-id-1 div.sk-estimator:hover {background-color: #d4ebff;}#sk-container-id-1 div.sk-parallel-item::after {content: \"\";width: 100%;border-bottom: 1px solid gray;flex-grow: 1;}#sk-container-id-1 div.sk-label:hover label.sk-toggleable__label {background-color: #d4ebff;}#sk-container-id-1 div.sk-serial::before {content: \"\";position: absolute;border-left: 1px solid gray;box-sizing: border-box;top: 0;bottom: 0;left: 50%;z-index: 0;}#sk-container-id-1 div.sk-serial {display: flex;flex-direction: column;align-items: center;background-color: white;padding-right: 0.2em;padding-left: 0.2em;position: relative;}#sk-container-id-1 div.sk-item {position: relative;z-index: 1;}#sk-container-id-1 div.sk-parallel {display: flex;align-items: stretch;justify-content: center;background-color: white;position: relative;}#sk-container-id-1 div.sk-item::before, #sk-container-id-1 div.sk-parallel-item::before {content: \"\";position: absolute;border-left: 1px solid gray;box-sizing: border-box;top: 0;bottom: 0;left: 50%;z-index: -1;}#sk-container-id-1 div.sk-parallel-item {display: flex;flex-direction: column;z-index: 1;position: relative;background-color: white;}#sk-container-id-1 div.sk-parallel-item:first-child::after {align-self: flex-end;width: 50%;}#sk-container-id-1 div.sk-parallel-item:last-child::after {align-self: flex-start;width: 50%;}#sk-container-id-1 div.sk-parallel-item:only-child::after {width: 0;}#sk-container-id-1 div.sk-dashed-wrapped {border: 1px dashed gray;margin: 0 0.4em 0.5em 0.4em;box-sizing: border-box;padding-bottom: 0.4em;background-color: white;}#sk-container-id-1 div.sk-label label {font-family: monospace;font-weight: bold;display: inline-block;line-height: 1.2em;}#sk-container-id-1 div.sk-label-container {text-align: center;}#sk-container-id-1 div.sk-container {/* jupyter's `normalize.less` sets `[hidden] { display: none; }` but bootstrap.min.css set `[hidden] { display: none !important; }` so we also need the `!important` here to be able to override the default hidden behavior on the sphinx rendered scikit-learn.org. See: https://github.com/scikit-learn/scikit-learn/issues/21755 */display: inline-block !important;position: relative;}#sk-container-id-1 div.sk-text-repr-fallback {display: none;}</style><div id=\"sk-container-id-1\" class=\"sk-top-container\"><div class=\"sk-text-repr-fallback\"><pre>LinearRegression()</pre><b>In a Jupyter environment, please rerun this cell to show the HTML representation or trust the notebook. <br />On GitHub, the HTML representation is unable to render, please try loading this page with nbviewer.org.</b></div><div class=\"sk-container\" hidden><div class=\"sk-item\"><div class=\"sk-estimator sk-toggleable\"><input class=\"sk-toggleable__control sk-hidden--visually\" id=\"sk-estimator-id-1\" type=\"checkbox\" checked><label for=\"sk-estimator-id-1\" class=\"sk-toggleable__label sk-toggleable__label-arrow\">LinearRegression</label><div class=\"sk-toggleable__content\"><pre>LinearRegression()</pre></div></div></div></div></div>"
      ],
      "text/plain": [
       "LinearRegression()"
      ]
     },
     "execution_count": 16,
     "metadata": {},
     "output_type": "execute_result"
    }
   ],
   "source": [
    "lr = LinearRegression()\n",
    "lr.fit(X_train, y_train)"
   ]
  },
  {
   "cell_type": "code",
   "execution_count": 17,
   "id": "779f379a",
   "metadata": {
    "execution": {
     "iopub.execute_input": "2024-07-17T13:09:35.618099Z",
     "iopub.status.busy": "2024-07-17T13:09:35.617691Z",
     "iopub.status.idle": "2024-07-17T13:09:35.625556Z",
     "shell.execute_reply": "2024-07-17T13:09:35.624388Z"
    },
    "papermill": {
     "duration": 0.022727,
     "end_time": "2024-07-17T13:09:35.627831",
     "exception": false,
     "start_time": "2024-07-17T13:09:35.605104",
     "status": "completed"
    },
    "tags": []
   },
   "outputs": [],
   "source": [
    "y_pred = lr.predict(X_train)"
   ]
  },
  {
   "cell_type": "code",
   "execution_count": 18,
   "id": "dec29487",
   "metadata": {
    "execution": {
     "iopub.execute_input": "2024-07-17T13:09:35.652434Z",
     "iopub.status.busy": "2024-07-17T13:09:35.651650Z",
     "iopub.status.idle": "2024-07-17T13:09:35.662548Z",
     "shell.execute_reply": "2024-07-17T13:09:35.661592Z"
    },
    "papermill": {
     "duration": 0.025445,
     "end_time": "2024-07-17T13:09:35.664712",
     "exception": false,
     "start_time": "2024-07-17T13:09:35.639267",
     "status": "completed"
    },
    "tags": []
   },
   "outputs": [
    {
     "data": {
      "text/html": [
       "<div>\n",
       "<style scoped>\n",
       "    .dataframe tbody tr th:only-of-type {\n",
       "        vertical-align: middle;\n",
       "    }\n",
       "\n",
       "    .dataframe tbody tr th {\n",
       "        vertical-align: top;\n",
       "    }\n",
       "\n",
       "    .dataframe thead th {\n",
       "        text-align: right;\n",
       "    }\n",
       "</style>\n",
       "<table border=\"1\" class=\"dataframe\">\n",
       "  <thead>\n",
       "    <tr style=\"text-align: right;\">\n",
       "      <th></th>\n",
       "      <th>Quality Rating</th>\n",
       "    </tr>\n",
       "  </thead>\n",
       "  <tbody>\n",
       "    <tr>\n",
       "      <th>0</th>\n",
       "      <td>99.999971</td>\n",
       "    </tr>\n",
       "    <tr>\n",
       "      <th>1</th>\n",
       "      <td>99.985703</td>\n",
       "    </tr>\n",
       "    <tr>\n",
       "      <th>2</th>\n",
       "      <td>99.999758</td>\n",
       "    </tr>\n",
       "    <tr>\n",
       "      <th>3</th>\n",
       "      <td>99.999975</td>\n",
       "    </tr>\n",
       "    <tr>\n",
       "      <th>4</th>\n",
       "      <td>100.000000</td>\n",
       "    </tr>\n",
       "    <tr>\n",
       "      <th>...</th>\n",
       "      <td>...</td>\n",
       "    </tr>\n",
       "    <tr>\n",
       "      <th>3952</th>\n",
       "      <td>100.000000</td>\n",
       "    </tr>\n",
       "    <tr>\n",
       "      <th>3953</th>\n",
       "      <td>99.999997</td>\n",
       "    </tr>\n",
       "    <tr>\n",
       "      <th>3954</th>\n",
       "      <td>99.989318</td>\n",
       "    </tr>\n",
       "    <tr>\n",
       "      <th>3955</th>\n",
       "      <td>99.999975</td>\n",
       "    </tr>\n",
       "    <tr>\n",
       "      <th>3956</th>\n",
       "      <td>100.000000</td>\n",
       "    </tr>\n",
       "  </tbody>\n",
       "</table>\n",
       "<p>3957 rows × 1 columns</p>\n",
       "</div>"
      ],
      "text/plain": [
       "      Quality Rating\n",
       "0          99.999971\n",
       "1          99.985703\n",
       "2          99.999758\n",
       "3          99.999975\n",
       "4         100.000000\n",
       "...              ...\n",
       "3952      100.000000\n",
       "3953       99.999997\n",
       "3954       99.989318\n",
       "3955       99.999975\n",
       "3956      100.000000\n",
       "\n",
       "[3957 rows x 1 columns]"
      ]
     },
     "execution_count": 18,
     "metadata": {},
     "output_type": "execute_result"
    }
   ],
   "source": [
    "y"
   ]
  },
  {
   "cell_type": "code",
   "execution_count": 19,
   "id": "32eb1e21",
   "metadata": {
    "execution": {
     "iopub.execute_input": "2024-07-17T13:09:35.689966Z",
     "iopub.status.busy": "2024-07-17T13:09:35.689100Z",
     "iopub.status.idle": "2024-07-17T13:09:35.695828Z",
     "shell.execute_reply": "2024-07-17T13:09:35.694840Z"
    },
    "papermill": {
     "duration": 0.021639,
     "end_time": "2024-07-17T13:09:35.697883",
     "exception": false,
     "start_time": "2024-07-17T13:09:35.676244",
     "status": "completed"
    },
    "tags": []
   },
   "outputs": [
    {
     "data": {
      "text/plain": [
       "array([[ 94.73949516],\n",
       "       [ 98.49980006],\n",
       "       [100.44117842]])"
      ]
     },
     "execution_count": 19,
     "metadata": {},
     "output_type": "execute_result"
    }
   ],
   "source": [
    "y_pred[:3]"
   ]
  },
  {
   "cell_type": "code",
   "execution_count": 20,
   "id": "423f50be",
   "metadata": {
    "execution": {
     "iopub.execute_input": "2024-07-17T13:09:35.722733Z",
     "iopub.status.busy": "2024-07-17T13:09:35.722374Z",
     "iopub.status.idle": "2024-07-17T13:09:35.728794Z",
     "shell.execute_reply": "2024-07-17T13:09:35.727621Z"
    },
    "papermill": {
     "duration": 0.021618,
     "end_time": "2024-07-17T13:09:35.731181",
     "exception": false,
     "start_time": "2024-07-17T13:09:35.709563",
     "status": "completed"
    },
    "tags": []
   },
   "outputs": [],
   "source": [
    "y_pred_test = lr.predict(X_test)"
   ]
  },
  {
   "cell_type": "code",
   "execution_count": 21,
   "id": "3ee7be7f",
   "metadata": {
    "execution": {
     "iopub.execute_input": "2024-07-17T13:09:35.756256Z",
     "iopub.status.busy": "2024-07-17T13:09:35.755819Z",
     "iopub.status.idle": "2024-07-17T13:09:35.763091Z",
     "shell.execute_reply": "2024-07-17T13:09:35.761910Z"
    },
    "papermill": {
     "duration": 0.022385,
     "end_time": "2024-07-17T13:09:35.765292",
     "exception": false,
     "start_time": "2024-07-17T13:09:35.742907",
     "status": "completed"
    },
    "tags": []
   },
   "outputs": [
    {
     "data": {
      "text/plain": [
       "array([[86.376162  ],\n",
       "       [89.38846926],\n",
       "       [88.73354832]])"
      ]
     },
     "execution_count": 21,
     "metadata": {},
     "output_type": "execute_result"
    }
   ],
   "source": [
    "y_pred_test[:3]"
   ]
  },
  {
   "cell_type": "code",
   "execution_count": 22,
   "id": "0e277858",
   "metadata": {
    "execution": {
     "iopub.execute_input": "2024-07-17T13:09:35.791725Z",
     "iopub.status.busy": "2024-07-17T13:09:35.791025Z",
     "iopub.status.idle": "2024-07-17T13:09:36.173131Z",
     "shell.execute_reply": "2024-07-17T13:09:36.172036Z"
    },
    "papermill": {
     "duration": 0.398212,
     "end_time": "2024-07-17T13:09:36.175749",
     "exception": false,
     "start_time": "2024-07-17T13:09:35.777537",
     "status": "completed"
    },
    "tags": []
   },
   "outputs": [
    {
     "data": {
      "image/png": "[encoded data removed]",
      "text/plain": [
       "<Figure size 1000x600 with 1 Axes>"
      ]
     },
     "metadata": {},
     "output_type": "display_data"
    }
   ],
   "source": [
    "plt.figure(figsize=(10,6))\n",
    "\n",
    "plt.scatter(X_train, y_train, color=\"b\", label=\"Train Actual\")\n",
    "plt.scatter(X_test, y_test, color=\"g\", label=\"Test Actual\")\n",
    "plt.plot(X_train, y_pred, color=\"r\", label=\"Linear Regression Train\")\n",
    "plt.plot(X_test, y_pred_test, color=\"orange\", label = \"Linear Regression Test\")\n",
    "plt.xlabel('Temperature (°C)')\n",
    "plt.ylabel('Quality Rating')\n",
    "plt.legend()\n",
    "plt.show()"
   ]
  },
  {
   "cell_type": "markdown",
   "id": "b356003b",
   "metadata": {
    "papermill": {
     "duration": 0.012013,
     "end_time": "2024-07-17T13:09:36.200355",
     "exception": false,
     "start_time": "2024-07-17T13:09:36.188342",
     "status": "completed"
    },
    "tags": []
   },
   "source": [
    "# Evaluation"
   ]
  },
  {
   "cell_type": "code",
   "execution_count": 23,
   "id": "dc0fb5e1",
   "metadata": {
    "execution": {
     "iopub.execute_input": "2024-07-17T13:09:36.226532Z",
     "iopub.status.busy": "2024-07-17T13:09:36.226172Z",
     "iopub.status.idle": "2024-07-17T13:09:36.234975Z",
     "shell.execute_reply": "2024-07-17T13:09:36.233897Z"
    },
    "papermill": {
     "duration": 0.024918,
     "end_time": "2024-07-17T13:09:36.237605",
     "exception": false,
     "start_time": "2024-07-17T13:09:36.212687",
     "status": "completed"
    },
    "tags": []
   },
   "outputs": [],
   "source": [
    "rmse_linear = np.sqrt(mean_squared_error(y_train,y_pred))\n",
    "r2_linear= r2_score(y_train,y_pred)\n"
   ]
  },
  {
   "cell_type": "code",
   "execution_count": 24,
   "id": "65465215",
   "metadata": {
    "execution": {
     "iopub.execute_input": "2024-07-17T13:09:36.264587Z",
     "iopub.status.busy": "2024-07-17T13:09:36.264189Z",
     "iopub.status.idle": "2024-07-17T13:09:36.269789Z",
     "shell.execute_reply": "2024-07-17T13:09:36.268710Z"
    },
    "papermill": {
     "duration": 0.021385,
     "end_time": "2024-07-17T13:09:36.271928",
     "exception": false,
     "start_time": "2024-07-17T13:09:36.250543",
     "status": "completed"
    },
    "tags": []
   },
   "outputs": [
    {
     "name": "stdout",
     "output_type": "stream",
     "text": [
      "RMSE Mean Square ERROR : 11.222800012623596\n",
      "R-Squared : 0.21210926738525981\n"
     ]
    }
   ],
   "source": [
    "print(f'RMSE Mean Square ERROR : {rmse_linear}')\n",
    "print(f'R-Squared : {r2_linear}')\n",
    "\n"
   ]
  },
  {
   "cell_type": "markdown",
   "id": "b139f3d3",
   "metadata": {
    "papermill": {
     "duration": 0.012408,
     "end_time": "2024-07-17T13:09:36.297141",
     "exception": false,
     "start_time": "2024-07-17T13:09:36.284733",
     "status": "completed"
    },
    "tags": []
   },
   "source": [
    "# Polynomial Regression"
   ]
  },
  {
   "cell_type": "code",
   "execution_count": 25,
   "id": "dc3eab05",
   "metadata": {
    "execution": {
     "iopub.execute_input": "2024-07-17T13:09:36.324435Z",
     "iopub.status.busy": "2024-07-17T13:09:36.323387Z",
     "iopub.status.idle": "2024-07-17T13:09:36.333570Z",
     "shell.execute_reply": "2024-07-17T13:09:36.332580Z"
    },
    "papermill": {
     "duration": 0.026198,
     "end_time": "2024-07-17T13:09:36.335918",
     "exception": false,
     "start_time": "2024-07-17T13:09:36.309720",
     "status": "completed"
    },
    "tags": []
   },
   "outputs": [
    {
     "data": {
      "text/plain": [
       "array([[1.00000000e+00, 2.09762701e+02, 4.40003906e+04],\n",
       "       [1.00000000e+00, 2.43037873e+02, 5.90674078e+04],\n",
       "       [1.00000000e+00, 2.20552675e+02, 4.86434825e+04],\n",
       "       ...,\n",
       "       [1.00000000e+00, 2.41357144e+02, 5.82532711e+04],\n",
       "       [1.00000000e+00, 2.09040239e+02, 4.36978217e+04],\n",
       "       [1.00000000e+00, 1.63359996e+02, 2.66864881e+04]])"
      ]
     },
     "execution_count": 25,
     "metadata": {},
     "output_type": "execute_result"
    }
   ],
   "source": [
    "polynomial_features = PolynomialFeatures(degree=2)\n",
    "x_poly = polynomial_features.fit_transform(X)\n",
    "x_poly"
   ]
  },
  {
   "cell_type": "code",
   "execution_count": 26,
   "id": "e7179043",
   "metadata": {
    "execution": {
     "iopub.execute_input": "2024-07-17T13:09:36.363599Z",
     "iopub.status.busy": "2024-07-17T13:09:36.362669Z",
     "iopub.status.idle": "2024-07-17T13:09:36.380376Z",
     "shell.execute_reply": "2024-07-17T13:09:36.379206Z"
    },
    "papermill": {
     "duration": 0.033953,
     "end_time": "2024-07-17T13:09:36.382705",
     "exception": false,
     "start_time": "2024-07-17T13:09:36.348752",
     "status": "completed"
    },
    "tags": []
   },
   "outputs": [
    {
     "data": {
      "text/html": [
       "<style>#sk-container-id-2 {color: black;background-color: white;}#sk-container-id-2 pre{padding: 0;}#sk-container-id-2 div.sk-toggleable {background-color: white;}#sk-container-id-2 label.sk-toggleable__label {cursor: pointer;display: block;width: 100%;margin-bottom: 0;padding: 0.3em;box-sizing: border-box;text-align: center;}#sk-container-id-2 label.sk-toggleable__label-arrow:before {content: \"▸\";float: left;margin-right: 0.25em;color: #696969;}#sk-container-id-2 label.sk-toggleable__label-arrow:hover:before {color: black;}#sk-container-id-2 div.sk-estimator:hover label.sk-toggleable__label-arrow:before {color: black;}#sk-container-id-2 div.sk-toggleable__content {max-height: 0;max-width: 0;overflow: hidden;text-align: left;background-color: #f0f8ff;}#sk-container-id-2 div.sk-toggleable__content pre {margin: 0.2em;color: black;border-radius: 0.25em;background-color: #f0f8ff;}#sk-container-id-2 input.sk-toggleable__control:checked~div.sk-toggleable__content {max-height: 200px;max-width: 100%;overflow: auto;}#sk-container-id-2 input.sk-toggleable__control:checked~label.sk-toggleable__label-arrow:before {content: \"▾\";}#sk-container-id-2 div.sk-estimator input.sk-toggleable__control:checked~label.sk-toggleable__label {background-color: #d4ebff;}#sk-container-id-2 div.sk-label input.sk-toggleable__control:checked~label.sk-toggleable__label {background-color: #d4ebff;}#sk-container-id-2 input.sk-hidden--visually {border: 0;clip: rect(1px 1px 1px 1px);clip: rect(1px, 1px, 1px, 1px);height: 1px;margin: -1px;overflow: hidden;padding: 0;position: absolute;width: 1px;}#sk-container-id-2 div.sk-estimator {font-family: monospace;background-color: #f0f8ff;border: 1px dotted black;border-radius: 0.25em;box-sizing: border-box;margin-bottom: 0.5em;}#sk-container-id-2 div.sk-estimator:hover {background-color: #d4ebff;}#sk-container-id-2 div.sk-parallel-item::after {content: \"\";width: 100%;border-bottom: 1px solid gray;flex-grow: 1;}#sk-container-id-2 div.sk-label:hover label.sk-toggleable__label {background-color: #d4ebff;}#sk-container-id-2 div.sk-serial::before {content: \"\";position: absolute;border-left: 1px solid gray;box-sizing: border-box;top: 0;bottom: 0;left: 50%;z-index: 0;}#sk-container-id-2 div.sk-serial {display: flex;flex-direction: column;align-items: center;background-color: white;padding-right: 0.2em;padding-left: 0.2em;position: relative;}#sk-container-id-2 div.sk-item {position: relative;z-index: 1;}#sk-container-id-2 div.sk-parallel {display: flex;align-items: stretch;justify-content: center;background-color: white;position: relative;}#sk-container-id-2 div.sk-item::before, #sk-container-id-2 div.sk-parallel-item::before {content: \"\";position: absolute;border-left: 1px solid gray;box-sizing: border-box;top: 0;bottom: 0;left: 50%;z-index: -1;}#sk-container-id-2 div.sk-parallel-item {display: flex;flex-direction: column;z-index: 1;position: relative;background-color: white;}#sk-container-id-2 div.sk-parallel-item:first-child::after {align-self: flex-end;width: 50%;}#sk-container-id-2 div.sk-parallel-item:last-child::after {align-self: flex-start;width: 50%;}#sk-container-id-2 div.sk-parallel-item:only-child::after {width: 0;}#sk-container-id-2 div.sk-dashed-wrapped {border: 1px dashed gray;margin: 0 0.4em 0.5em 0.4em;box-sizing: border-box;padding-bottom: 0.4em;background-color: white;}#sk-container-id-2 div.sk-label label {font-family: monospace;font-weight: bold;display: inline-block;line-height: 1.2em;}#sk-container-id-2 div.sk-label-container {text-align: center;}#sk-container-id-2 div.sk-container {/* jupyter's `normalize.less` sets `[hidden] { display: none; }` but bootstrap.min.css set `[hidden] { display: none !important; }` so we also need the `!important` here to be able to override the default hidden behavior on the sphinx rendered scikit-learn.org. See: https://github.com/scikit-learn/scikit-learn/issues/21755 */display: inline-block !important;position: relative;}#sk-container-id-2 div.sk-text-repr-fallback {display: none;}</style><div id=\"sk-container-id-2\" class=\"sk-top-container\"><div class=\"sk-text-repr-fallback\"><pre>LinearRegression()</pre><b>In a Jupyter environment, please rerun this cell to show the HTML representation or trust the notebook. <br />On GitHub, the HTML representation is unable to render, please try loading this page with nbviewer.org.</b></div><div class=\"sk-container\" hidden><div class=\"sk-item\"><div class=\"sk-estimator sk-toggleable\"><input class=\"sk-toggleable__control sk-hidden--visually\" id=\"sk-estimator-id-2\" type=\"checkbox\" checked><label for=\"sk-estimator-id-2\" class=\"sk-toggleable__label sk-toggleable__label-arrow\">LinearRegression</label><div class=\"sk-toggleable__content\"><pre>LinearRegression()</pre></div></div></div></div></div>"
      ],
      "text/plain": [
       "LinearRegression()"
      ]
     },
     "execution_count": 26,
     "metadata": {},
     "output_type": "execute_result"
    }
   ],
   "source": [
    "model = LinearRegression()\n",
    "model.fit(x_poly, y)"
   ]
  },
  {
   "cell_type": "code",
   "execution_count": 27,
   "id": "607cf8a8",
   "metadata": {
    "execution": {
     "iopub.execute_input": "2024-07-17T13:09:36.410049Z",
     "iopub.status.busy": "2024-07-17T13:09:36.409666Z",
     "iopub.status.idle": "2024-07-17T13:09:36.417879Z",
     "shell.execute_reply": "2024-07-17T13:09:36.416657Z"
    },
    "papermill": {
     "duration": 0.026237,
     "end_time": "2024-07-17T13:09:36.421909",
     "exception": false,
     "start_time": "2024-07-17T13:09:36.395672",
     "status": "completed"
    },
    "tags": []
   },
   "outputs": [],
   "source": [
    "y_poly_pred = model.predict(x_poly)"
   ]
  },
  {
   "cell_type": "code",
   "execution_count": 28,
   "id": "425b4b14",
   "metadata": {
    "execution": {
     "iopub.execute_input": "2024-07-17T13:09:36.467509Z",
     "iopub.status.busy": "2024-07-17T13:09:36.466088Z",
     "iopub.status.idle": "2024-07-17T13:09:36.480229Z",
     "shell.execute_reply": "2024-07-17T13:09:36.479122Z"
    },
    "papermill": {
     "duration": 0.039874,
     "end_time": "2024-07-17T13:09:36.483318",
     "exception": false,
     "start_time": "2024-07-17T13:09:36.443444",
     "status": "completed"
    },
    "tags": []
   },
   "outputs": [
    {
     "data": {
      "text/html": [
       "<div>\n",
       "<style scoped>\n",
       "    .dataframe tbody tr th:only-of-type {\n",
       "        vertical-align: middle;\n",
       "    }\n",
       "\n",
       "    .dataframe tbody tr th {\n",
       "        vertical-align: top;\n",
       "    }\n",
       "\n",
       "    .dataframe thead th {\n",
       "        text-align: right;\n",
       "    }\n",
       "</style>\n",
       "<table border=\"1\" class=\"dataframe\">\n",
       "  <thead>\n",
       "    <tr style=\"text-align: right;\">\n",
       "      <th></th>\n",
       "      <th>Quality Rating</th>\n",
       "    </tr>\n",
       "  </thead>\n",
       "  <tbody>\n",
       "    <tr>\n",
       "      <th>0</th>\n",
       "      <td>99.999971</td>\n",
       "    </tr>\n",
       "    <tr>\n",
       "      <th>1</th>\n",
       "      <td>99.985703</td>\n",
       "    </tr>\n",
       "    <tr>\n",
       "      <th>2</th>\n",
       "      <td>99.999758</td>\n",
       "    </tr>\n",
       "    <tr>\n",
       "      <th>3</th>\n",
       "      <td>99.999975</td>\n",
       "    </tr>\n",
       "    <tr>\n",
       "      <th>4</th>\n",
       "      <td>100.000000</td>\n",
       "    </tr>\n",
       "    <tr>\n",
       "      <th>...</th>\n",
       "      <td>...</td>\n",
       "    </tr>\n",
       "    <tr>\n",
       "      <th>3952</th>\n",
       "      <td>100.000000</td>\n",
       "    </tr>\n",
       "    <tr>\n",
       "      <th>3953</th>\n",
       "      <td>99.999997</td>\n",
       "    </tr>\n",
       "    <tr>\n",
       "      <th>3954</th>\n",
       "      <td>99.989318</td>\n",
       "    </tr>\n",
       "    <tr>\n",
       "      <th>3955</th>\n",
       "      <td>99.999975</td>\n",
       "    </tr>\n",
       "    <tr>\n",
       "      <th>3956</th>\n",
       "      <td>100.000000</td>\n",
       "    </tr>\n",
       "  </tbody>\n",
       "</table>\n",
       "<p>3957 rows × 1 columns</p>\n",
       "</div>"
      ],
      "text/plain": [
       "      Quality Rating\n",
       "0          99.999971\n",
       "1          99.985703\n",
       "2          99.999758\n",
       "3          99.999975\n",
       "4         100.000000\n",
       "...              ...\n",
       "3952      100.000000\n",
       "3953       99.999997\n",
       "3954       99.989318\n",
       "3955       99.999975\n",
       "3956      100.000000\n",
       "\n",
       "[3957 rows x 1 columns]"
      ]
     },
     "execution_count": 28,
     "metadata": {},
     "output_type": "execute_result"
    }
   ],
   "source": [
    "y"
   ]
  },
  {
   "cell_type": "code",
   "execution_count": 29,
   "id": "4a230fae",
   "metadata": {
    "execution": {
     "iopub.execute_input": "2024-07-17T13:09:36.528809Z",
     "iopub.status.busy": "2024-07-17T13:09:36.528290Z",
     "iopub.status.idle": "2024-07-17T13:09:36.536147Z",
     "shell.execute_reply": "2024-07-17T13:09:36.535357Z"
    },
    "papermill": {
     "duration": 0.032949,
     "end_time": "2024-07-17T13:09:36.538158",
     "exception": false,
     "start_time": "2024-07-17T13:09:36.505209",
     "status": "completed"
    },
    "tags": []
   },
   "outputs": [
    {
     "data": {
      "text/plain": [
       "array([[102.36738235],\n",
       "       [ 95.25748415],\n",
       "       [100.58489993],\n",
       "       ...,\n",
       "       [ 95.73107738],\n",
       "       [102.4688018 ],\n",
       "       [104.3119686 ]])"
      ]
     },
     "execution_count": 29,
     "metadata": {},
     "output_type": "execute_result"
    }
   ],
   "source": [
    "y_poly_pred"
   ]
  },
  {
   "cell_type": "code",
   "execution_count": 30,
   "id": "df5bc208",
   "metadata": {
    "execution": {
     "iopub.execute_input": "2024-07-17T13:09:36.566122Z",
     "iopub.status.busy": "2024-07-17T13:09:36.565679Z",
     "iopub.status.idle": "2024-07-17T13:09:36.575708Z",
     "shell.execute_reply": "2024-07-17T13:09:36.574646Z"
    },
    "papermill": {
     "duration": 0.026787,
     "end_time": "2024-07-17T13:09:36.578107",
     "exception": false,
     "start_time": "2024-07-17T13:09:36.551320",
     "status": "completed"
    },
    "tags": []
   },
   "outputs": [
    {
     "name": "stdout",
     "output_type": "stream",
     "text": [
      "Root MEAN SQUARED ERROR  : 9.534565374796065\n",
      "R-Squared : 0.4613061729741008\n"
     ]
    }
   ],
   "source": [
    "rmse = np.sqrt(mean_squared_error(y, y_poly_pred))\n",
    "r2 = r2_score(y,y_poly_pred)\n",
    "\n",
    "print(f\"Root MEAN SQUARED ERROR  : {rmse}\")\n",
    "print(f\"R-Squared : {r2}\")"
   ]
  },
  {
   "cell_type": "code",
   "execution_count": 31,
   "id": "0fde6a90",
   "metadata": {
    "execution": {
     "iopub.execute_input": "2024-07-17T13:09:36.606987Z",
     "iopub.status.busy": "2024-07-17T13:09:36.606616Z",
     "iopub.status.idle": "2024-07-17T13:09:37.146846Z",
     "shell.execute_reply": "2024-07-17T13:09:37.145705Z"
    },
    "papermill": {
     "duration": 0.55792,
     "end_time": "2024-07-17T13:09:37.149490",
     "exception": false,
     "start_time": "2024-07-17T13:09:36.591570",
     "status": "completed"
    },
    "tags": []
   },
   "outputs": [
    {
     "data": {
      "image/png": "[encoded data removed]",
      "text/plain": [
       "<Figure size 1000x600 with 1 Axes>"
      ]
     },
     "metadata": {},
     "output_type": "display_data"
    }
   ],
   "source": [
    "plt.figure(figsize=(10, 6))\n",
    "plt.scatter(X, y, color='b', label='Actual')\n",
    "plt.plot(X, y_poly_pred, color=\"r\", label='Polynomial Regression')\n",
    "plt.title(\"Polynomial Regression\")\n",
    "plt.xlabel(\"Temperature (°C)\")\n",
    "plt.ylabel(\"Quality Rating\")\n",
    "plt.legend()\n",
    "plt.show()\n"
   ]
  },
  {
   "cell_type": "code",
   "execution_count": null,
   "id": "57e1dd4a",
   "metadata": {
    "papermill": {
     "duration": 0.014586,
     "end_time": "2024-07-17T13:09:37.178685",
     "exception": false,
     "start_time": "2024-07-17T13:09:37.164099",
     "status": "completed"
    },
    "tags": []
   },
   "outputs": [],
   "source": []
  }
 ],
 "metadata": {
  "kaggle": {
   "accelerator": "none",
   "dataSources": [
    {
     "datasetId": 3772775,
     "sourceId": 6525725,
     "sourceType": "datasetVersion"
    }
   ],
   "dockerImageVersionId": 30746,
   "isGpuEnabled": false,
   "isInternetEnabled": false,
   "language": "python",
   "sourceType": "notebook"
  },
  "kernelspec": {
   "display_name": "Python 3",
   "language": "python",
   "name": "python3"
  },
  "language_info": {
   "codemirror_mode": {
    "name": "ipython",
    "version": 3
   },
   "file_extension": ".py",
   "mimetype": "text/x-python",
   "name": "python",
   "nbconvert_exporter": "python",
   "pygments_lexer": "ipython3",
   "version": "3.10.13"
  },
  "papermill": {
   "default_parameters": {},
   "duration": 8.739281,
   "end_time": "2024-07-17T13:09:37.815875",
   "environment_variables": {},
   "exception": null,
   "input_path": "__notebook__.ipynb",
   "output_path": "__notebook__.ipynb",
   "parameters": {},
   "start_time": "2024-07-17T13:09:29.076594",
   "version": "2.5.0"
  }
 },
 "nbformat": 4,
 "nbformat_minor": 5
}
